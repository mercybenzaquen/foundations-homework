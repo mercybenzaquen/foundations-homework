{
 "cells": [
  {
   "cell_type": "code",
   "execution_count": 1,
   "metadata": {
    "collapsed": true
   },
   "outputs": [],
   "source": [
    "import requests"
   ]
  },
  {
   "cell_type": "markdown",
   "metadata": {},
   "source": [
    "1) With \"Lil Wayne\" and \"Lil Kim\" there are a lot of \"Lil\" musicians. Do a search and print a list of 50 that are playable in the USA (or the country of your choice), along with their popularity score.\n"
   ]
  },
  {
   "cell_type": "code",
   "execution_count": 15,
   "metadata": {
    "collapsed": false
   },
   "outputs": [],
   "source": [
    "response = requests.get(\"https://api.spotify.com/v1/search?q=lil&type=artist&limit=50&market=US\")\n",
    "data = response.json()"
   ]
  },
  {
   "cell_type": "code",
   "execution_count": 16,
   "metadata": {
    "collapsed": false
   },
   "outputs": [
    {
     "data": {
      "text/plain": [
       "dict"
      ]
     },
     "execution_count": 16,
     "metadata": {},
     "output_type": "execute_result"
    }
   ],
   "source": [
    "type(data)"
   ]
  },
  {
   "cell_type": "code",
   "execution_count": 17,
   "metadata": {
    "collapsed": false
   },
   "outputs": [
    {
     "data": {
      "text/plain": [
       "dict_keys(['artists'])"
      ]
     },
     "execution_count": 17,
     "metadata": {},
     "output_type": "execute_result"
    }
   ],
   "source": [
    "data.keys()"
   ]
  },
  {
   "cell_type": "code",
   "execution_count": 18,
   "metadata": {
    "collapsed": false
   },
   "outputs": [
    {
     "data": {
      "text/plain": [
       "dict"
      ]
     },
     "execution_count": 18,
     "metadata": {},
     "output_type": "execute_result"
    }
   ],
   "source": [
    "type(data['artists'])"
   ]
  },
  {
   "cell_type": "code",
   "execution_count": 19,
   "metadata": {
    "collapsed": false
   },
   "outputs": [
    {
     "data": {
      "text/plain": [
       "dict_keys(['items', 'previous', 'href', 'limit', 'next', 'offset', 'total'])"
      ]
     },
     "execution_count": 19,
     "metadata": {},
     "output_type": "execute_result"
    }
   ],
   "source": [
    "data['artists'].keys()"
   ]
  },
  {
   "cell_type": "code",
   "execution_count": 20,
   "metadata": {
    "collapsed": false
   },
   "outputs": [],
   "source": [
    "artists = data['artists']['items']\n",
    "#artists"
   ]
  },
  {
   "cell_type": "code",
   "execution_count": 22,
   "metadata": {
    "collapsed": false
   },
   "outputs": [
    {
     "name": "stdout",
     "output_type": "stream",
     "text": [
      "Lil Wayne 86\n",
      "Lil Yachty 72\n",
      "Lil Uzi Vert 72\n",
      "Lil Dicky 68\n",
      "Boosie Badazz 67\n",
      "Lil Jon 72\n",
      "King Lil G 61\n",
      "Lil Durk 60\n",
      "Lil Jon & The East Side Boyz 60\n",
      "Lil Bibby 54\n",
      "G Herbo 53\n",
      "Lil Rob 50\n",
      "Lil Reese 50\n",
      "Lil Keke 48\n",
      "Bow Wow 57\n",
      "Lil Scrappy 48\n",
      "Lil Wyte 50\n",
      "Lil Blood 45\n",
      "Lil Snupe 45\n",
      "Lil Mama 45\n",
      "Lil B 44\n",
      "Lil' Kim 62\n",
      "Lil Cuete 40\n",
      "Lil Phat 39\n",
      "Lil Debbie 43\n",
      "Lil Twist 39\n",
      "Lil Trill 37\n",
      "Lil Twon 38\n",
      "Lil AJ 37\n",
      "Lil Lonnie 37\n",
      "Lil Boom 35\n",
      "Lil Goofy 35\n",
      "Mr. Lil One 36\n",
      "Lil Haiti 36\n",
      "Lil Flash 38\n",
      "Lil Kesh 39\n",
      "Lil Cray 35\n",
      "Lil Silva 43\n",
      "Lil Rue 34\n",
      "Lil Eddie 41\n",
      "Lil Yase 33\n",
      "Lil Wayne, DJ Drama 35\n",
      "Lil Suzy 34\n",
      "Lil Mouse 34\n",
      "Lil C 33\n",
      "Lil Rick 39\n",
      "Lil June 32\n",
      "Lil E 34\n",
      "Lil Fate 34\n",
      "Lil' Flip 49\n"
     ]
    }
   ],
   "source": [
    "for artist in artists:\n",
    "    print(artist['name'], artist['popularity'])"
   ]
  },
  {
   "cell_type": "code",
   "execution_count": null,
   "metadata": {
    "collapsed": true
   },
   "outputs": [],
   "source": []
  },
  {
   "cell_type": "markdown",
   "metadata": {},
   "source": [
    "2) What genres are most represented in the search results? Edit your previous printout to also display a list of their genres in the format \"GENRE_1, GENRE_2, GENRE_3\". If there are no genres, print \"No genres listed\".\n",
    "\n",
    "Tip: \"how to join a list Python\" might be a helpful search\n"
   ]
  },
  {
   "cell_type": "code",
   "execution_count": 32,
   "metadata": {
    "collapsed": false
   },
   "outputs": [
    {
     "name": "stdout",
     "output_type": "stream",
     "text": [
      "Lil Wayne 86\n",
      "Genre list:  dirty south rap, pop rap, southern hip hop, trap music\n",
      "Lil Yachty 72\n",
      "No genres listed\n",
      "Lil Uzi Vert 72\n",
      "No genres listed\n",
      "Lil Dicky 68\n",
      "No genres listed\n",
      "Boosie Badazz 67\n",
      "No genres listed\n",
      "Lil Jon 72\n",
      "Genre list:  crunk, dirty south rap, southern hip hop\n",
      "King Lil G 61\n",
      "No genres listed\n",
      "Lil Durk 60\n",
      "No genres listed\n",
      "Lil Jon & The East Side Boyz 60\n",
      "No genres listed\n",
      "Lil Bibby 54\n",
      "No genres listed\n",
      "G Herbo 53\n",
      "No genres listed\n",
      "Lil Rob 50\n",
      "Genre list:  chicano rap, latin hip hop\n",
      "Lil Reese 50\n",
      "No genres listed\n",
      "Lil Keke 48\n",
      "No genres listed\n",
      "Bow Wow 57\n",
      "Genre list:  hip pop, pop rap\n",
      "Lil Scrappy 48\n",
      "Genre list:  crunk, dirty south rap, southern hip hop, trap music\n",
      "Lil Wyte 50\n",
      "Genre list:  juggalo\n",
      "Lil Blood 45\n",
      "No genres listed\n",
      "Lil Snupe 45\n",
      "No genres listed\n",
      "Lil Mama 45\n",
      "Genre list:  hip pop\n",
      "Lil B 44\n",
      "No genres listed\n",
      "Lil' Kim 62\n",
      "Genre list:  hip pop\n",
      "Lil Cuete 40\n",
      "Genre list:  chicano rap\n",
      "Lil Phat 39\n",
      "No genres listed\n",
      "Lil Debbie 43\n",
      "No genres listed\n",
      "Lil Twist 39\n",
      "Genre list:  jerk\n",
      "Lil Trill 37\n",
      "Genre list:  deep trap\n",
      "Lil Twon 38\n",
      "No genres listed\n",
      "Lil AJ 37\n",
      "No genres listed\n",
      "Lil Lonnie 37\n",
      "No genres listed\n",
      "Lil Boom 35\n",
      "No genres listed\n",
      "Lil Goofy 35\n",
      "No genres listed\n",
      "Mr. Lil One 36\n",
      "Genre list:  chicano rap\n",
      "Lil Haiti 36\n",
      "No genres listed\n",
      "Lil Flash 38\n",
      "No genres listed\n",
      "Lil Kesh 39\n",
      "No genres listed\n",
      "Lil Cray 35\n",
      "No genres listed\n",
      "Lil Silva 43\n",
      "No genres listed\n",
      "Lil Rue 34\n",
      "No genres listed\n",
      "Lil Eddie 41\n",
      "No genres listed\n",
      "Lil Yase 33\n",
      "No genres listed\n",
      "Lil Wayne, DJ Drama 35\n",
      "No genres listed\n",
      "Lil Suzy 34\n",
      "Genre list:  freestyle\n",
      "Lil Mouse 34\n",
      "No genres listed\n",
      "Lil C 33\n",
      "No genres listed\n",
      "Lil Rick 39\n",
      "Genre list:  soca\n",
      "Lil June 32\n",
      "No genres listed\n",
      "Lil E 34\n",
      "No genres listed\n",
      "Lil Fate 34\n",
      "No genres listed\n",
      "Lil' Flip 49\n",
      "Genre list:  crunk, dirty south rap\n"
     ]
    }
   ],
   "source": [
    "for artist in artists:\n",
    "    print(artist['name'], artist['popularity'])\n",
    "    # YES dirty south rap, pop rap, southern hip hop, trap music\n",
    "    # NO ['dirty south rap', 'pop rap', 'southern hip hop', 'trap music']\n",
    "    if len(artist['genres']) == 0:\n",
    "        print(\"No genres listed\")\n",
    "    else:\n",
    "        genres = \", \".join(artist['genres'])\n",
    "        print(\"Genre list: \", genres)"
   ]
  },
  {
   "cell_type": "code",
   "execution_count": null,
   "metadata": {
    "collapsed": true
   },
   "outputs": [],
   "source": []
  },
  {
   "cell_type": "code",
   "execution_count": null,
   "metadata": {
    "collapsed": true
   },
   "outputs": [],
   "source": []
  },
  {
   "cell_type": "code",
   "execution_count": null,
   "metadata": {
    "collapsed": true
   },
   "outputs": [],
   "source": []
  },
  {
   "cell_type": "code",
   "execution_count": null,
   "metadata": {
    "collapsed": true
   },
   "outputs": [],
   "source": []
  },
  {
   "cell_type": "markdown",
   "metadata": {},
   "source": [
    "3) Use a for loop to determine who BESIDES Lil Wayne has the highest popularity rating. Is it the same artist who has the largest number of followers?"
   ]
  },
  {
   "cell_type": "code",
   "execution_count": 44,
   "metadata": {
    "collapsed": false,
    "scrolled": true
   },
   "outputs": [
    {
     "name": "stdout",
     "output_type": "stream",
     "text": [
      "Looking at Lil Wayne who has a popularity score of 86\n",
      "Comparing 86 to 0\n",
      "FOUND A NEW MOST POPULAR, checking to see if it's Lil Wayne trying to sneak through\n",
      "Nice try Lil Wayne, we don't care\n",
      "Looking at Lil Yachty who has a popularity score of 72\n",
      "Comparing 72 to 0\n",
      "FOUND A NEW MOST POPULAR, checking to see if it's Lil Wayne trying to sneak through\n",
      "Not Lil Wayne, updating our notebook\n",
      "Looking at Lil Uzi Vert who has a popularity score of 72\n",
      "Comparing 72 to 72\n",
      "Looking at Lil Dicky who has a popularity score of 68\n",
      "Comparing 68 to 72\n",
      "Looking at Boosie Badazz who has a popularity score of 67\n",
      "Comparing 67 to 72\n",
      "Looking at Lil Jon who has a popularity score of 72\n",
      "Comparing 72 to 72\n",
      "Looking at King Lil G who has a popularity score of 61\n",
      "Comparing 61 to 72\n",
      "Looking at Lil Durk who has a popularity score of 60\n",
      "Comparing 60 to 72\n",
      "Looking at Lil Jon & The East Side Boyz who has a popularity score of 60\n",
      "Comparing 60 to 72\n",
      "Looking at Lil Bibby who has a popularity score of 54\n",
      "Comparing 54 to 72\n",
      "Looking at G Herbo who has a popularity score of 53\n",
      "Comparing 53 to 72\n",
      "Looking at Lil Rob who has a popularity score of 50\n",
      "Comparing 50 to 72\n",
      "Looking at Lil Reese who has a popularity score of 50\n",
      "Comparing 50 to 72\n",
      "Looking at Lil Keke who has a popularity score of 48\n",
      "Comparing 48 to 72\n",
      "Looking at Bow Wow who has a popularity score of 57\n",
      "Comparing 57 to 72\n",
      "Looking at Lil Scrappy who has a popularity score of 48\n",
      "Comparing 48 to 72\n",
      "Looking at Lil Wyte who has a popularity score of 50\n",
      "Comparing 50 to 72\n",
      "Looking at Lil Blood who has a popularity score of 45\n",
      "Comparing 45 to 72\n",
      "Looking at Lil Snupe who has a popularity score of 45\n",
      "Comparing 45 to 72\n",
      "Looking at Lil Mama who has a popularity score of 45\n",
      "Comparing 45 to 72\n",
      "Looking at Lil B who has a popularity score of 44\n",
      "Comparing 44 to 72\n",
      "Looking at Lil' Kim who has a popularity score of 62\n",
      "Comparing 62 to 72\n",
      "Looking at Lil Cuete who has a popularity score of 40\n",
      "Comparing 40 to 72\n",
      "Looking at Lil Phat who has a popularity score of 39\n",
      "Comparing 39 to 72\n",
      "Looking at Lil Debbie who has a popularity score of 43\n",
      "Comparing 43 to 72\n",
      "Looking at Lil Twist who has a popularity score of 39\n",
      "Comparing 39 to 72\n",
      "Looking at Lil Trill who has a popularity score of 37\n",
      "Comparing 37 to 72\n",
      "Looking at Lil Twon who has a popularity score of 38\n",
      "Comparing 38 to 72\n",
      "Looking at Lil AJ who has a popularity score of 37\n",
      "Comparing 37 to 72\n",
      "Looking at Lil Lonnie who has a popularity score of 37\n",
      "Comparing 37 to 72\n",
      "Looking at Lil Boom who has a popularity score of 35\n",
      "Comparing 35 to 72\n",
      "Looking at Lil Goofy who has a popularity score of 35\n",
      "Comparing 35 to 72\n",
      "Looking at Mr. Lil One who has a popularity score of 36\n",
      "Comparing 36 to 72\n",
      "Looking at Lil Haiti who has a popularity score of 36\n",
      "Comparing 36 to 72\n",
      "Looking at Lil Flash who has a popularity score of 38\n",
      "Comparing 38 to 72\n",
      "Looking at Lil Kesh who has a popularity score of 39\n",
      "Comparing 39 to 72\n",
      "Looking at Lil Cray who has a popularity score of 35\n",
      "Comparing 35 to 72\n",
      "Looking at Lil Silva who has a popularity score of 43\n",
      "Comparing 43 to 72\n",
      "Looking at Lil Rue who has a popularity score of 34\n",
      "Comparing 34 to 72\n",
      "Looking at Lil Eddie who has a popularity score of 41\n",
      "Comparing 41 to 72\n",
      "Looking at Lil Yase who has a popularity score of 33\n",
      "Comparing 33 to 72\n",
      "Looking at Lil Wayne, DJ Drama who has a popularity score of 35\n",
      "Comparing 35 to 72\n",
      "Looking at Lil Suzy who has a popularity score of 34\n",
      "Comparing 34 to 72\n",
      "Looking at Lil Mouse who has a popularity score of 34\n",
      "Comparing 34 to 72\n",
      "Looking at Lil C who has a popularity score of 33\n",
      "Comparing 33 to 72\n",
      "Looking at Lil Rick who has a popularity score of 39\n",
      "Comparing 39 to 72\n",
      "Looking at Lil June who has a popularity score of 32\n",
      "Comparing 32 to 72\n",
      "Looking at Lil E who has a popularity score of 34\n",
      "Comparing 34 to 72\n",
      "Looking at Lil Fate who has a popularity score of 34\n",
      "Comparing 34 to 72\n",
      "Looking at Lil' Flip who has a popularity score of 49\n",
      "Comparing 49 to 72\n",
      "#########\n",
      "Lil Yachty 72\n"
     ]
    }
   ],
   "source": [
    "most_popular_name = \"\"\n",
    "most_popular_score = 0\n",
    "for artist in artists:\n",
    "    print(\"Looking at\", artist['name'], \"who has a popularity score of\", artist['popularity'])\n",
    "    # THE CONDITIONAL\n",
    "    # a.k.a. what you are testing\n",
    "    print(\"Comparing\", artist['popularity'], \"to\", most_popular_score)\n",
    "    # Seeing if the artist is more popular that what we've saved\n",
    "    if artist['popularity'] > most_popular_score:\n",
    "        print(\"FOUND A NEW MOST POPULAR, checking to see if it's Lil Wayne trying to sneak through\")\n",
    "        # Seeing if it's actually Lil Wayne\n",
    "        if artist['name'] == \"Lil Wayne\":\n",
    "            print(\"Nice try Lil Wayne, we don't care\")\n",
    "        else:\n",
    "            # THE CHANGE\n",
    "            # a.k.a. what you're keeping track of\n",
    "            print(\"Not Lil Wayne, updating our notebook\")\n",
    "            most_popular_name = artist['name']\n",
    "            most_popular_score = artist['popularity']\n",
    "print(\"#########\")\n",
    "print(most_popular_name, most_popular_score)\n"
   ]
  },
  {
   "cell_type": "code",
   "execution_count": 53,
   "metadata": {
    "collapsed": false
   },
   "outputs": [
    {
     "name": "stdout",
     "output_type": "stream",
     "text": [
      "Notebook is ['Lil Yachty']\n",
      "Looking at Lil Wayne who has a popularity of 86\n",
      "Notebook is ['Lil Yachty']\n",
      "Looking at Lil Yachty who has a popularity of 72\n",
      "!!!!!!!! The artist's popularity is 72\n",
      "Notebook is ['Lil Yachty', 'Lil Yachty']\n",
      "Looking at Lil Uzi Vert who has a popularity of 72\n",
      "!!!!!!!! The artist's popularity is 72\n",
      "Notebook is ['Lil Yachty', 'Lil Yachty', 'Lil Uzi Vert']\n",
      "Looking at Lil Dicky who has a popularity of 68\n",
      "Notebook is ['Lil Yachty', 'Lil Yachty', 'Lil Uzi Vert']\n",
      "Looking at Boosie Badazz who has a popularity of 67\n",
      "Notebook is ['Lil Yachty', 'Lil Yachty', 'Lil Uzi Vert']\n",
      "Looking at Lil Jon who has a popularity of 72\n",
      "!!!!!!!! The artist's popularity is 72\n",
      "Notebook is ['Lil Yachty', 'Lil Yachty', 'Lil Uzi Vert', 'Lil Jon']\n",
      "Looking at King Lil G who has a popularity of 61\n",
      "Notebook is ['Lil Yachty', 'Lil Yachty', 'Lil Uzi Vert', 'Lil Jon']\n",
      "Looking at Lil Durk who has a popularity of 60\n",
      "Notebook is ['Lil Yachty', 'Lil Yachty', 'Lil Uzi Vert', 'Lil Jon']\n",
      "Looking at Lil Jon & The East Side Boyz who has a popularity of 60\n",
      "Notebook is ['Lil Yachty', 'Lil Yachty', 'Lil Uzi Vert', 'Lil Jon']\n",
      "Looking at Lil Bibby who has a popularity of 54\n",
      "Notebook is ['Lil Yachty', 'Lil Yachty', 'Lil Uzi Vert', 'Lil Jon']\n",
      "Looking at G Herbo who has a popularity of 53\n",
      "Notebook is ['Lil Yachty', 'Lil Yachty', 'Lil Uzi Vert', 'Lil Jon']\n",
      "Looking at Lil Rob who has a popularity of 50\n",
      "Notebook is ['Lil Yachty', 'Lil Yachty', 'Lil Uzi Vert', 'Lil Jon']\n",
      "Looking at Lil Reese who has a popularity of 50\n",
      "Notebook is ['Lil Yachty', 'Lil Yachty', 'Lil Uzi Vert', 'Lil Jon']\n",
      "Looking at Lil Keke who has a popularity of 48\n",
      "Notebook is ['Lil Yachty', 'Lil Yachty', 'Lil Uzi Vert', 'Lil Jon']\n",
      "Looking at Bow Wow who has a popularity of 57\n",
      "Notebook is ['Lil Yachty', 'Lil Yachty', 'Lil Uzi Vert', 'Lil Jon']\n",
      "Looking at Lil Scrappy who has a popularity of 48\n",
      "Notebook is ['Lil Yachty', 'Lil Yachty', 'Lil Uzi Vert', 'Lil Jon']\n",
      "Looking at Lil Wyte who has a popularity of 50\n",
      "Notebook is ['Lil Yachty', 'Lil Yachty', 'Lil Uzi Vert', 'Lil Jon']\n",
      "Looking at Lil Blood who has a popularity of 45\n",
      "Notebook is ['Lil Yachty', 'Lil Yachty', 'Lil Uzi Vert', 'Lil Jon']\n",
      "Looking at Lil Snupe who has a popularity of 45\n",
      "Notebook is ['Lil Yachty', 'Lil Yachty', 'Lil Uzi Vert', 'Lil Jon']\n",
      "Looking at Lil Mama who has a popularity of 45\n",
      "Notebook is ['Lil Yachty', 'Lil Yachty', 'Lil Uzi Vert', 'Lil Jon']\n",
      "Looking at Lil B who has a popularity of 44\n",
      "Notebook is ['Lil Yachty', 'Lil Yachty', 'Lil Uzi Vert', 'Lil Jon']\n",
      "Looking at Lil' Kim who has a popularity of 62\n",
      "Notebook is ['Lil Yachty', 'Lil Yachty', 'Lil Uzi Vert', 'Lil Jon']\n",
      "Looking at Lil Cuete who has a popularity of 40\n",
      "Notebook is ['Lil Yachty', 'Lil Yachty', 'Lil Uzi Vert', 'Lil Jon']\n",
      "Looking at Lil Phat who has a popularity of 39\n",
      "Notebook is ['Lil Yachty', 'Lil Yachty', 'Lil Uzi Vert', 'Lil Jon']\n",
      "Looking at Lil Debbie who has a popularity of 43\n",
      "Notebook is ['Lil Yachty', 'Lil Yachty', 'Lil Uzi Vert', 'Lil Jon']\n",
      "Looking at Lil Twist who has a popularity of 39\n",
      "Notebook is ['Lil Yachty', 'Lil Yachty', 'Lil Uzi Vert', 'Lil Jon']\n",
      "Looking at Lil Trill who has a popularity of 37\n",
      "Notebook is ['Lil Yachty', 'Lil Yachty', 'Lil Uzi Vert', 'Lil Jon']\n",
      "Looking at Lil Twon who has a popularity of 38\n",
      "Notebook is ['Lil Yachty', 'Lil Yachty', 'Lil Uzi Vert', 'Lil Jon']\n",
      "Looking at Lil AJ who has a popularity of 37\n",
      "Notebook is ['Lil Yachty', 'Lil Yachty', 'Lil Uzi Vert', 'Lil Jon']\n",
      "Looking at Lil Lonnie who has a popularity of 37\n",
      "Notebook is ['Lil Yachty', 'Lil Yachty', 'Lil Uzi Vert', 'Lil Jon']\n",
      "Looking at Lil Boom who has a popularity of 35\n",
      "Notebook is ['Lil Yachty', 'Lil Yachty', 'Lil Uzi Vert', 'Lil Jon']\n",
      "Looking at Lil Goofy who has a popularity of 35\n",
      "Notebook is ['Lil Yachty', 'Lil Yachty', 'Lil Uzi Vert', 'Lil Jon']\n",
      "Looking at Mr. Lil One who has a popularity of 36\n",
      "Notebook is ['Lil Yachty', 'Lil Yachty', 'Lil Uzi Vert', 'Lil Jon']\n",
      "Looking at Lil Haiti who has a popularity of 36\n",
      "Notebook is ['Lil Yachty', 'Lil Yachty', 'Lil Uzi Vert', 'Lil Jon']\n",
      "Looking at Lil Flash who has a popularity of 38\n",
      "Notebook is ['Lil Yachty', 'Lil Yachty', 'Lil Uzi Vert', 'Lil Jon']\n",
      "Looking at Lil Kesh who has a popularity of 39\n",
      "Notebook is ['Lil Yachty', 'Lil Yachty', 'Lil Uzi Vert', 'Lil Jon']\n",
      "Looking at Lil Cray who has a popularity of 35\n",
      "Notebook is ['Lil Yachty', 'Lil Yachty', 'Lil Uzi Vert', 'Lil Jon']\n",
      "Looking at Lil Silva who has a popularity of 43\n",
      "Notebook is ['Lil Yachty', 'Lil Yachty', 'Lil Uzi Vert', 'Lil Jon']\n",
      "Looking at Lil Rue who has a popularity of 34\n",
      "Notebook is ['Lil Yachty', 'Lil Yachty', 'Lil Uzi Vert', 'Lil Jon']\n",
      "Looking at Lil Eddie who has a popularity of 41\n",
      "Notebook is ['Lil Yachty', 'Lil Yachty', 'Lil Uzi Vert', 'Lil Jon']\n",
      "Looking at Lil Yase who has a popularity of 33\n",
      "Notebook is ['Lil Yachty', 'Lil Yachty', 'Lil Uzi Vert', 'Lil Jon']\n",
      "Looking at Lil Wayne, DJ Drama who has a popularity of 35\n",
      "Notebook is ['Lil Yachty', 'Lil Yachty', 'Lil Uzi Vert', 'Lil Jon']\n",
      "Looking at Lil Suzy who has a popularity of 34\n",
      "Notebook is ['Lil Yachty', 'Lil Yachty', 'Lil Uzi Vert', 'Lil Jon']\n",
      "Looking at Lil Mouse who has a popularity of 34\n",
      "Notebook is ['Lil Yachty', 'Lil Yachty', 'Lil Uzi Vert', 'Lil Jon']\n",
      "Looking at Lil C who has a popularity of 33\n",
      "Notebook is ['Lil Yachty', 'Lil Yachty', 'Lil Uzi Vert', 'Lil Jon']\n",
      "Looking at Lil Rick who has a popularity of 39\n",
      "Notebook is ['Lil Yachty', 'Lil Yachty', 'Lil Uzi Vert', 'Lil Jon']\n",
      "Looking at Lil June who has a popularity of 32\n",
      "Notebook is ['Lil Yachty', 'Lil Yachty', 'Lil Uzi Vert', 'Lil Jon']\n",
      "Looking at Lil E who has a popularity of 34\n",
      "Notebook is ['Lil Yachty', 'Lil Yachty', 'Lil Uzi Vert', 'Lil Jon']\n",
      "Looking at Lil Fate who has a popularity of 34\n",
      "Notebook is ['Lil Yachty', 'Lil Yachty', 'Lil Uzi Vert', 'Lil Jon']\n",
      "Looking at Lil' Flip who has a popularity of 49\n",
      "OUR SECOND BEST ARTISTS ARE:\n",
      "Lil Yachty\n",
      "Lil Yachty\n",
      "Lil Uzi Vert\n",
      "Lil Jon\n"
     ]
    }
   ],
   "source": [
    "name = \"Lil Soma\"\n",
    "\n",
    "target_score = 72\n",
    "# 1: INITIAL CONDITION\n",
    "# We have no one who is in our list yet\n",
    "second_best_artists = []\n",
    "\n",
    "# AGGREGATION PROBLEM\n",
    "# When you're looping through a series of serious objects\n",
    "# and sometimes you want to add one of those objects\n",
    "# to a DIFFERENT list\n",
    "for artist in artists:\n",
    "    # Let's print out what's on our notebook\n",
    "    print(\"Notebook is\", second_best_artists)\n",
    "    print(\"Looking at\", artist['name'], \"who has a popularity of\", artist['popularity'])\n",
    "    # 2: CONDITIONAL\n",
    "    # when we want to add someone to our list\n",
    "    if artist['popularity'] == 72:\n",
    "        print(\"!!!!!!!! The artist's popularity is 72\")\n",
    "        # 3: THE CHANGE\n",
    "        # Add that artist to our list\n",
    "        # .append(newthing) is how we do that in Python\n",
    "        second_best_artists.append(artist['name'])\n",
    "\n",
    "print(\"OUR SECOND BEST ARTISTS ARE:\")\n",
    "for artist in second_best_artists:\n",
    "    print(artist)"
   ]
  },
  {
   "cell_type": "code",
   "execution_count": null,
   "metadata": {
    "collapsed": true
   },
   "outputs": [],
   "source": []
  },
  {
   "cell_type": "code",
   "execution_count": null,
   "metadata": {
    "collapsed": true
   },
   "outputs": [],
   "source": []
  },
  {
   "cell_type": "code",
   "execution_count": null,
   "metadata": {
    "collapsed": true
   },
   "outputs": [],
   "source": []
  },
  {
   "cell_type": "markdown",
   "metadata": {},
   "source": [
    "4) Print a list of Lil's that are more popular than Lil' Kim."
   ]
  },
  {
   "cell_type": "code",
   "execution_count": 62,
   "metadata": {
    "collapsed": false
   },
   "outputs": [
    {
     "name": "stdout",
     "output_type": "stream",
     "text": [
      "Found Lil Kim\n",
      "62\n"
     ]
    }
   ],
   "source": [
    "for artist in artists:\n",
    "    #print(\"Looking at\", artist['name'])\n",
    "    if artist['name'] == \"Lil' Kim\":\n",
    "        print(\"Found Lil Kim\")\n",
    "        print(artist['popularity'])\n",
    "    else:\n",
    "        pass\n",
    "        #print(\"Not Lil Kim\")"
   ]
  },
  {
   "cell_type": "code",
   "execution_count": 70,
   "metadata": {
    "collapsed": false
   },
   "outputs": [
    {
     "name": "stdout",
     "output_type": "stream",
     "text": [
      "Lil Wayne is MORE POPULAR with a score of 86\n",
      "Lil Yachty is MORE POPULAR with a score of 72\n",
      "Lil Uzi Vert is MORE POPULAR with a score of 72\n",
      "Lil Dicky is MORE POPULAR with a score of 68\n",
      "Boosie Badazz is MORE POPULAR with a score of 67\n",
      "Lil Jon is MORE POPULAR with a score of 72\n",
      "King Lil G is less popular with a score of 61\n",
      "Lil Durk is less popular with a score of 60\n",
      "Lil Jon & The East Side Boyz is less popular with a score of 60\n",
      "Lil Bibby is less popular with a score of 54\n",
      "G Herbo is less popular with a score of 53\n",
      "Lil Rob is less popular with a score of 50\n",
      "Lil Reese is less popular with a score of 50\n",
      "Lil Keke is less popular with a score of 48\n",
      "Bow Wow is less popular with a score of 57\n",
      "Lil Scrappy is less popular with a score of 48\n",
      "Lil Wyte is less popular with a score of 50\n",
      "Lil Blood is less popular with a score of 45\n",
      "Lil Snupe is less popular with a score of 45\n",
      "Lil Mama is less popular with a score of 45\n",
      "Lil B is less popular with a score of 44\n",
      "Lil' Kim is less popular with a score of 62\n",
      "Lil Cuete is less popular with a score of 40\n",
      "Lil Phat is less popular with a score of 39\n",
      "Lil Debbie is less popular with a score of 43\n",
      "Lil Twist is less popular with a score of 39\n",
      "Lil Trill is less popular with a score of 37\n",
      "Lil Twon is less popular with a score of 38\n",
      "Lil AJ is less popular with a score of 37\n",
      "Lil Lonnie is less popular with a score of 37\n",
      "Lil Boom is less popular with a score of 35\n",
      "Lil Goofy is less popular with a score of 35\n",
      "Mr. Lil One is less popular with a score of 36\n",
      "Lil Haiti is less popular with a score of 36\n",
      "Lil Flash is less popular with a score of 38\n",
      "Lil Kesh is less popular with a score of 39\n",
      "Lil Cray is less popular with a score of 35\n",
      "Lil Silva is less popular with a score of 43\n",
      "Lil Rue is less popular with a score of 34\n",
      "Lil Eddie is less popular with a score of 41\n",
      "Lil Yase is less popular with a score of 33\n",
      "Lil Wayne, DJ Drama is less popular with a score of 35\n",
      "Lil Suzy is less popular with a score of 34\n",
      "Lil Mouse is less popular with a score of 34\n",
      "Lil C is less popular with a score of 33\n",
      "Lil Rick is less popular with a score of 39\n",
      "Lil June is less popular with a score of 32\n",
      "Lil E is less popular with a score of 34\n",
      "Lil Fate is less popular with a score of 34\n",
      "Lil' Flip is less popular with a score of 49\n",
      "###### MORE POPULAR THAN LIL KIM #####\n",
      "Lil Wayne\n",
      "Lil Yachty\n",
      "Lil Uzi Vert\n",
      "Lil Dicky\n",
      "Boosie Badazz\n",
      "Lil Jon\n"
     ]
    }
   ],
   "source": [
    "lil_kim_popularity = 62\n",
    "\n",
    "# AGGREGATION PROBLEM\n",
    "more_popular_than_lil_kim = []\n",
    "\n",
    "# THE LOOP\n",
    "for artist in artists:\n",
    "    # THE CONDITIONAL! is the artist more popular than lil kim?\n",
    "    if artist['popularity'] > lil_kim_popularity:\n",
    "        # IF yes, let's add them to our list\n",
    "        print(artist['name'], \"is MORE POPULAR with a score of\", artist['popularity'])\n",
    "        more_popular_than_lil_kim.append(artist['name'])\n",
    "    else:\n",
    "        print(artist['name'], \"is less popular with a score of\", artist['popularity'])\n",
    "print(\"###### MORE POPULAR THAN LIL KIM #####\")\n",
    "for artist_name in more_popular_than_lil_kim:\n",
    "    print(artist_name)"
   ]
  },
  {
   "cell_type": "code",
   "execution_count": 72,
   "metadata": {
    "collapsed": false
   },
   "outputs": [
    {
     "name": "stdout",
     "output_type": "stream",
     "text": [
      "Lil Wayne\n",
      "Lil Yachty\n",
      "Lil Uzi Vert\n",
      "Lil Dicky\n",
      "Boosie Badazz\n",
      "Lil Jon\n",
      "Artists more popular than Lil' Kim are: Lil Wayne, Lil Yachty, Lil Uzi Vert, Lil Dicky, Boosie Badazz, Lil Jon\n"
     ]
    }
   ],
   "source": [
    "for artist_name in more_popular_than_lil_kim:\n",
    "    print(artist_name)\n",
    "\n",
    "more_popular_string = \", \".join(more_popular_than_lil_kim)\n",
    "print(\"Artists more popular than Lil' Kim are:\", more_popular_string)"
   ]
  },
  {
   "cell_type": "markdown",
   "metadata": {},
   "source": [
    "5) Pick two of your favorite Lils to fight it out, and use their IDs to print out their top tracks.\n",
    "Tip: You're going to be making two separate requests, be sure you DO NOT save them into the same variable."
   ]
  },
  {
   "cell_type": "code",
   "execution_count": null,
   "metadata": {
    "collapsed": true
   },
   "outputs": [],
   "source": []
  },
  {
   "cell_type": "code",
   "execution_count": null,
   "metadata": {
    "collapsed": true
   },
   "outputs": [],
   "source": []
  },
  {
   "cell_type": "code",
   "execution_count": null,
   "metadata": {
    "collapsed": true
   },
   "outputs": [],
   "source": []
  },
  {
   "cell_type": "markdown",
   "metadata": {},
   "source": [
    "## How to count the genres "
   ]
  },
  {
   "cell_type": "code",
   "execution_count": 78,
   "metadata": {
    "collapsed": false
   },
   "outputs": [
    {
     "name": "stdout",
     "output_type": "stream",
     "text": [
      "ALL GENRES WE'VE HEARD OF: []\n",
      "Current artist has: ['dirty south rap', 'pop rap', 'southern hip hop', 'trap music']\n",
      "ALL GENRES WE'VE HEARD OF: ['dirty south rap', 'pop rap', 'southern hip hop', 'trap music']\n",
      "Current artist has: []\n",
      "ALL GENRES WE'VE HEARD OF: ['dirty south rap', 'pop rap', 'southern hip hop', 'trap music']\n",
      "Current artist has: []\n",
      "ALL GENRES WE'VE HEARD OF: ['dirty south rap', 'pop rap', 'southern hip hop', 'trap music']\n",
      "Current artist has: []\n",
      "ALL GENRES WE'VE HEARD OF: ['dirty south rap', 'pop rap', 'southern hip hop', 'trap music']\n",
      "Current artist has: []\n",
      "ALL GENRES WE'VE HEARD OF: ['dirty south rap', 'pop rap', 'southern hip hop', 'trap music']\n",
      "Current artist has: ['crunk', 'dirty south rap', 'southern hip hop']\n",
      "ALL GENRES WE'VE HEARD OF: ['dirty south rap', 'pop rap', 'southern hip hop', 'trap music', 'crunk', 'dirty south rap', 'southern hip hop']\n",
      "Current artist has: []\n",
      "ALL GENRES WE'VE HEARD OF: ['dirty south rap', 'pop rap', 'southern hip hop', 'trap music', 'crunk', 'dirty south rap', 'southern hip hop']\n",
      "Current artist has: []\n",
      "ALL GENRES WE'VE HEARD OF: ['dirty south rap', 'pop rap', 'southern hip hop', 'trap music', 'crunk', 'dirty south rap', 'southern hip hop']\n",
      "Current artist has: []\n",
      "ALL GENRES WE'VE HEARD OF: ['dirty south rap', 'pop rap', 'southern hip hop', 'trap music', 'crunk', 'dirty south rap', 'southern hip hop']\n",
      "Current artist has: []\n",
      "ALL GENRES WE'VE HEARD OF: ['dirty south rap', 'pop rap', 'southern hip hop', 'trap music', 'crunk', 'dirty south rap', 'southern hip hop']\n",
      "Current artist has: []\n",
      "ALL GENRES WE'VE HEARD OF: ['dirty south rap', 'pop rap', 'southern hip hop', 'trap music', 'crunk', 'dirty south rap', 'southern hip hop']\n",
      "Current artist has: ['chicano rap', 'latin hip hop']\n",
      "ALL GENRES WE'VE HEARD OF: ['dirty south rap', 'pop rap', 'southern hip hop', 'trap music', 'crunk', 'dirty south rap', 'southern hip hop', 'chicano rap', 'latin hip hop']\n",
      "Current artist has: []\n",
      "ALL GENRES WE'VE HEARD OF: ['dirty south rap', 'pop rap', 'southern hip hop', 'trap music', 'crunk', 'dirty south rap', 'southern hip hop', 'chicano rap', 'latin hip hop']\n",
      "Current artist has: []\n",
      "ALL GENRES WE'VE HEARD OF: ['dirty south rap', 'pop rap', 'southern hip hop', 'trap music', 'crunk', 'dirty south rap', 'southern hip hop', 'chicano rap', 'latin hip hop']\n",
      "Current artist has: ['hip pop', 'pop rap']\n",
      "ALL GENRES WE'VE HEARD OF: ['dirty south rap', 'pop rap', 'southern hip hop', 'trap music', 'crunk', 'dirty south rap', 'southern hip hop', 'chicano rap', 'latin hip hop', 'hip pop', 'pop rap']\n",
      "Current artist has: ['crunk', 'dirty south rap', 'southern hip hop', 'trap music']\n",
      "ALL GENRES WE'VE HEARD OF: ['dirty south rap', 'pop rap', 'southern hip hop', 'trap music', 'crunk', 'dirty south rap', 'southern hip hop', 'chicano rap', 'latin hip hop', 'hip pop', 'pop rap', 'crunk', 'dirty south rap', 'southern hip hop', 'trap music']\n",
      "Current artist has: ['juggalo']\n",
      "ALL GENRES WE'VE HEARD OF: ['dirty south rap', 'pop rap', 'southern hip hop', 'trap music', 'crunk', 'dirty south rap', 'southern hip hop', 'chicano rap', 'latin hip hop', 'hip pop', 'pop rap', 'crunk', 'dirty south rap', 'southern hip hop', 'trap music', 'juggalo']\n",
      "Current artist has: []\n",
      "ALL GENRES WE'VE HEARD OF: ['dirty south rap', 'pop rap', 'southern hip hop', 'trap music', 'crunk', 'dirty south rap', 'southern hip hop', 'chicano rap', 'latin hip hop', 'hip pop', 'pop rap', 'crunk', 'dirty south rap', 'southern hip hop', 'trap music', 'juggalo']\n",
      "Current artist has: []\n",
      "ALL GENRES WE'VE HEARD OF: ['dirty south rap', 'pop rap', 'southern hip hop', 'trap music', 'crunk', 'dirty south rap', 'southern hip hop', 'chicano rap', 'latin hip hop', 'hip pop', 'pop rap', 'crunk', 'dirty south rap', 'southern hip hop', 'trap music', 'juggalo']\n",
      "Current artist has: ['hip pop']\n",
      "ALL GENRES WE'VE HEARD OF: ['dirty south rap', 'pop rap', 'southern hip hop', 'trap music', 'crunk', 'dirty south rap', 'southern hip hop', 'chicano rap', 'latin hip hop', 'hip pop', 'pop rap', 'crunk', 'dirty south rap', 'southern hip hop', 'trap music', 'juggalo', 'hip pop']\n",
      "Current artist has: []\n",
      "ALL GENRES WE'VE HEARD OF: ['dirty south rap', 'pop rap', 'southern hip hop', 'trap music', 'crunk', 'dirty south rap', 'southern hip hop', 'chicano rap', 'latin hip hop', 'hip pop', 'pop rap', 'crunk', 'dirty south rap', 'southern hip hop', 'trap music', 'juggalo', 'hip pop']\n",
      "Current artist has: ['hip pop']\n",
      "ALL GENRES WE'VE HEARD OF: ['dirty south rap', 'pop rap', 'southern hip hop', 'trap music', 'crunk', 'dirty south rap', 'southern hip hop', 'chicano rap', 'latin hip hop', 'hip pop', 'pop rap', 'crunk', 'dirty south rap', 'southern hip hop', 'trap music', 'juggalo', 'hip pop', 'hip pop']\n",
      "Current artist has: ['chicano rap']\n",
      "ALL GENRES WE'VE HEARD OF: ['dirty south rap', 'pop rap', 'southern hip hop', 'trap music', 'crunk', 'dirty south rap', 'southern hip hop', 'chicano rap', 'latin hip hop', 'hip pop', 'pop rap', 'crunk', 'dirty south rap', 'southern hip hop', 'trap music', 'juggalo', 'hip pop', 'hip pop', 'chicano rap']\n",
      "Current artist has: []\n",
      "ALL GENRES WE'VE HEARD OF: ['dirty south rap', 'pop rap', 'southern hip hop', 'trap music', 'crunk', 'dirty south rap', 'southern hip hop', 'chicano rap', 'latin hip hop', 'hip pop', 'pop rap', 'crunk', 'dirty south rap', 'southern hip hop', 'trap music', 'juggalo', 'hip pop', 'hip pop', 'chicano rap']\n",
      "Current artist has: []\n",
      "ALL GENRES WE'VE HEARD OF: ['dirty south rap', 'pop rap', 'southern hip hop', 'trap music', 'crunk', 'dirty south rap', 'southern hip hop', 'chicano rap', 'latin hip hop', 'hip pop', 'pop rap', 'crunk', 'dirty south rap', 'southern hip hop', 'trap music', 'juggalo', 'hip pop', 'hip pop', 'chicano rap']\n",
      "Current artist has: ['jerk']\n",
      "ALL GENRES WE'VE HEARD OF: ['dirty south rap', 'pop rap', 'southern hip hop', 'trap music', 'crunk', 'dirty south rap', 'southern hip hop', 'chicano rap', 'latin hip hop', 'hip pop', 'pop rap', 'crunk', 'dirty south rap', 'southern hip hop', 'trap music', 'juggalo', 'hip pop', 'hip pop', 'chicano rap', 'jerk']\n",
      "Current artist has: ['deep trap']\n",
      "ALL GENRES WE'VE HEARD OF: ['dirty south rap', 'pop rap', 'southern hip hop', 'trap music', 'crunk', 'dirty south rap', 'southern hip hop', 'chicano rap', 'latin hip hop', 'hip pop', 'pop rap', 'crunk', 'dirty south rap', 'southern hip hop', 'trap music', 'juggalo', 'hip pop', 'hip pop', 'chicano rap', 'jerk', 'deep trap']\n",
      "Current artist has: []\n",
      "ALL GENRES WE'VE HEARD OF: ['dirty south rap', 'pop rap', 'southern hip hop', 'trap music', 'crunk', 'dirty south rap', 'southern hip hop', 'chicano rap', 'latin hip hop', 'hip pop', 'pop rap', 'crunk', 'dirty south rap', 'southern hip hop', 'trap music', 'juggalo', 'hip pop', 'hip pop', 'chicano rap', 'jerk', 'deep trap']\n",
      "Current artist has: []\n",
      "ALL GENRES WE'VE HEARD OF: ['dirty south rap', 'pop rap', 'southern hip hop', 'trap music', 'crunk', 'dirty south rap', 'southern hip hop', 'chicano rap', 'latin hip hop', 'hip pop', 'pop rap', 'crunk', 'dirty south rap', 'southern hip hop', 'trap music', 'juggalo', 'hip pop', 'hip pop', 'chicano rap', 'jerk', 'deep trap']\n",
      "Current artist has: []\n",
      "ALL GENRES WE'VE HEARD OF: ['dirty south rap', 'pop rap', 'southern hip hop', 'trap music', 'crunk', 'dirty south rap', 'southern hip hop', 'chicano rap', 'latin hip hop', 'hip pop', 'pop rap', 'crunk', 'dirty south rap', 'southern hip hop', 'trap music', 'juggalo', 'hip pop', 'hip pop', 'chicano rap', 'jerk', 'deep trap']\n",
      "Current artist has: []\n",
      "ALL GENRES WE'VE HEARD OF: ['dirty south rap', 'pop rap', 'southern hip hop', 'trap music', 'crunk', 'dirty south rap', 'southern hip hop', 'chicano rap', 'latin hip hop', 'hip pop', 'pop rap', 'crunk', 'dirty south rap', 'southern hip hop', 'trap music', 'juggalo', 'hip pop', 'hip pop', 'chicano rap', 'jerk', 'deep trap']\n",
      "Current artist has: []\n",
      "ALL GENRES WE'VE HEARD OF: ['dirty south rap', 'pop rap', 'southern hip hop', 'trap music', 'crunk', 'dirty south rap', 'southern hip hop', 'chicano rap', 'latin hip hop', 'hip pop', 'pop rap', 'crunk', 'dirty south rap', 'southern hip hop', 'trap music', 'juggalo', 'hip pop', 'hip pop', 'chicano rap', 'jerk', 'deep trap']\n",
      "Current artist has: ['chicano rap']\n",
      "ALL GENRES WE'VE HEARD OF: ['dirty south rap', 'pop rap', 'southern hip hop', 'trap music', 'crunk', 'dirty south rap', 'southern hip hop', 'chicano rap', 'latin hip hop', 'hip pop', 'pop rap', 'crunk', 'dirty south rap', 'southern hip hop', 'trap music', 'juggalo', 'hip pop', 'hip pop', 'chicano rap', 'jerk', 'deep trap', 'chicano rap']\n",
      "Current artist has: []\n",
      "ALL GENRES WE'VE HEARD OF: ['dirty south rap', 'pop rap', 'southern hip hop', 'trap music', 'crunk', 'dirty south rap', 'southern hip hop', 'chicano rap', 'latin hip hop', 'hip pop', 'pop rap', 'crunk', 'dirty south rap', 'southern hip hop', 'trap music', 'juggalo', 'hip pop', 'hip pop', 'chicano rap', 'jerk', 'deep trap', 'chicano rap']\n",
      "Current artist has: []\n",
      "ALL GENRES WE'VE HEARD OF: ['dirty south rap', 'pop rap', 'southern hip hop', 'trap music', 'crunk', 'dirty south rap', 'southern hip hop', 'chicano rap', 'latin hip hop', 'hip pop', 'pop rap', 'crunk', 'dirty south rap', 'southern hip hop', 'trap music', 'juggalo', 'hip pop', 'hip pop', 'chicano rap', 'jerk', 'deep trap', 'chicano rap']\n",
      "Current artist has: []\n",
      "ALL GENRES WE'VE HEARD OF: ['dirty south rap', 'pop rap', 'southern hip hop', 'trap music', 'crunk', 'dirty south rap', 'southern hip hop', 'chicano rap', 'latin hip hop', 'hip pop', 'pop rap', 'crunk', 'dirty south rap', 'southern hip hop', 'trap music', 'juggalo', 'hip pop', 'hip pop', 'chicano rap', 'jerk', 'deep trap', 'chicano rap']\n",
      "Current artist has: []\n",
      "ALL GENRES WE'VE HEARD OF: ['dirty south rap', 'pop rap', 'southern hip hop', 'trap music', 'crunk', 'dirty south rap', 'southern hip hop', 'chicano rap', 'latin hip hop', 'hip pop', 'pop rap', 'crunk', 'dirty south rap', 'southern hip hop', 'trap music', 'juggalo', 'hip pop', 'hip pop', 'chicano rap', 'jerk', 'deep trap', 'chicano rap']\n",
      "Current artist has: []\n",
      "ALL GENRES WE'VE HEARD OF: ['dirty south rap', 'pop rap', 'southern hip hop', 'trap music', 'crunk', 'dirty south rap', 'southern hip hop', 'chicano rap', 'latin hip hop', 'hip pop', 'pop rap', 'crunk', 'dirty south rap', 'southern hip hop', 'trap music', 'juggalo', 'hip pop', 'hip pop', 'chicano rap', 'jerk', 'deep trap', 'chicano rap']\n",
      "Current artist has: []\n",
      "ALL GENRES WE'VE HEARD OF: ['dirty south rap', 'pop rap', 'southern hip hop', 'trap music', 'crunk', 'dirty south rap', 'southern hip hop', 'chicano rap', 'latin hip hop', 'hip pop', 'pop rap', 'crunk', 'dirty south rap', 'southern hip hop', 'trap music', 'juggalo', 'hip pop', 'hip pop', 'chicano rap', 'jerk', 'deep trap', 'chicano rap']\n",
      "Current artist has: []\n",
      "ALL GENRES WE'VE HEARD OF: ['dirty south rap', 'pop rap', 'southern hip hop', 'trap music', 'crunk', 'dirty south rap', 'southern hip hop', 'chicano rap', 'latin hip hop', 'hip pop', 'pop rap', 'crunk', 'dirty south rap', 'southern hip hop', 'trap music', 'juggalo', 'hip pop', 'hip pop', 'chicano rap', 'jerk', 'deep trap', 'chicano rap']\n",
      "Current artist has: []\n",
      "ALL GENRES WE'VE HEARD OF: ['dirty south rap', 'pop rap', 'southern hip hop', 'trap music', 'crunk', 'dirty south rap', 'southern hip hop', 'chicano rap', 'latin hip hop', 'hip pop', 'pop rap', 'crunk', 'dirty south rap', 'southern hip hop', 'trap music', 'juggalo', 'hip pop', 'hip pop', 'chicano rap', 'jerk', 'deep trap', 'chicano rap']\n",
      "Current artist has: []\n",
      "ALL GENRES WE'VE HEARD OF: ['dirty south rap', 'pop rap', 'southern hip hop', 'trap music', 'crunk', 'dirty south rap', 'southern hip hop', 'chicano rap', 'latin hip hop', 'hip pop', 'pop rap', 'crunk', 'dirty south rap', 'southern hip hop', 'trap music', 'juggalo', 'hip pop', 'hip pop', 'chicano rap', 'jerk', 'deep trap', 'chicano rap']\n",
      "Current artist has: ['freestyle']\n",
      "ALL GENRES WE'VE HEARD OF: ['dirty south rap', 'pop rap', 'southern hip hop', 'trap music', 'crunk', 'dirty south rap', 'southern hip hop', 'chicano rap', 'latin hip hop', 'hip pop', 'pop rap', 'crunk', 'dirty south rap', 'southern hip hop', 'trap music', 'juggalo', 'hip pop', 'hip pop', 'chicano rap', 'jerk', 'deep trap', 'chicano rap', 'freestyle']\n",
      "Current artist has: []\n",
      "ALL GENRES WE'VE HEARD OF: ['dirty south rap', 'pop rap', 'southern hip hop', 'trap music', 'crunk', 'dirty south rap', 'southern hip hop', 'chicano rap', 'latin hip hop', 'hip pop', 'pop rap', 'crunk', 'dirty south rap', 'southern hip hop', 'trap music', 'juggalo', 'hip pop', 'hip pop', 'chicano rap', 'jerk', 'deep trap', 'chicano rap', 'freestyle']\n",
      "Current artist has: []\n",
      "ALL GENRES WE'VE HEARD OF: ['dirty south rap', 'pop rap', 'southern hip hop', 'trap music', 'crunk', 'dirty south rap', 'southern hip hop', 'chicano rap', 'latin hip hop', 'hip pop', 'pop rap', 'crunk', 'dirty south rap', 'southern hip hop', 'trap music', 'juggalo', 'hip pop', 'hip pop', 'chicano rap', 'jerk', 'deep trap', 'chicano rap', 'freestyle']\n",
      "Current artist has: ['soca']\n",
      "ALL GENRES WE'VE HEARD OF: ['dirty south rap', 'pop rap', 'southern hip hop', 'trap music', 'crunk', 'dirty south rap', 'southern hip hop', 'chicano rap', 'latin hip hop', 'hip pop', 'pop rap', 'crunk', 'dirty south rap', 'southern hip hop', 'trap music', 'juggalo', 'hip pop', 'hip pop', 'chicano rap', 'jerk', 'deep trap', 'chicano rap', 'freestyle', 'soca']\n",
      "Current artist has: []\n",
      "ALL GENRES WE'VE HEARD OF: ['dirty south rap', 'pop rap', 'southern hip hop', 'trap music', 'crunk', 'dirty south rap', 'southern hip hop', 'chicano rap', 'latin hip hop', 'hip pop', 'pop rap', 'crunk', 'dirty south rap', 'southern hip hop', 'trap music', 'juggalo', 'hip pop', 'hip pop', 'chicano rap', 'jerk', 'deep trap', 'chicano rap', 'freestyle', 'soca']\n",
      "Current artist has: []\n",
      "ALL GENRES WE'VE HEARD OF: ['dirty south rap', 'pop rap', 'southern hip hop', 'trap music', 'crunk', 'dirty south rap', 'southern hip hop', 'chicano rap', 'latin hip hop', 'hip pop', 'pop rap', 'crunk', 'dirty south rap', 'southern hip hop', 'trap music', 'juggalo', 'hip pop', 'hip pop', 'chicano rap', 'jerk', 'deep trap', 'chicano rap', 'freestyle', 'soca']\n",
      "Current artist has: []\n",
      "ALL GENRES WE'VE HEARD OF: ['dirty south rap', 'pop rap', 'southern hip hop', 'trap music', 'crunk', 'dirty south rap', 'southern hip hop', 'chicano rap', 'latin hip hop', 'hip pop', 'pop rap', 'crunk', 'dirty south rap', 'southern hip hop', 'trap music', 'juggalo', 'hip pop', 'hip pop', 'chicano rap', 'jerk', 'deep trap', 'chicano rap', 'freestyle', 'soca']\n",
      "Current artist has: ['crunk', 'dirty south rap']\n",
      "########\n",
      "ALL THE GENRES WE'VE HEARD OF, FINALLY, AT THE END:\n",
      "['dirty south rap', 'pop rap', 'southern hip hop', 'trap music', 'crunk', 'dirty south rap', 'southern hip hop', 'chicano rap', 'latin hip hop', 'hip pop', 'pop rap', 'crunk', 'dirty south rap', 'southern hip hop', 'trap music', 'juggalo', 'hip pop', 'hip pop', 'chicano rap', 'jerk', 'deep trap', 'chicano rap', 'freestyle', 'soca', 'crunk', 'dirty south rap']\n"
     ]
    }
   ],
   "source": [
    "# AGGREGATION PROBLEM\n",
    "all_genres = []\n",
    "\n",
    "# THE LOOP\n",
    "for artist in artists:\n",
    "    print(\"ALL GENRES WE'VE HEARD OF:\", all_genres)\n",
    "    # THE CONDITIONAL: none\n",
    "    print(\"Current artist has:\", artist['genres'])\n",
    "    all_genres = all_genres + artist['genres']\n",
    "\n",
    "# \"Hello\" + \"world\" => \"Helloworld\"   \n",
    "# [1, 2, 3] + [4, 5, 6] => [1, 2, 3, 4, 5, 6]\n",
    "# [1, 2, 3] + 4 => DOES NOT WORK\n",
    "# [1, 2, 3].append(4) => [1, 2, 3, 4]\n",
    "\n",
    "print(\"########\")\n",
    "print(\"ALL THE GENRES WE'VE HEARD OF, FINALLY, AT THE END:\")\n",
    "# Has repeats\n",
    "print(all_genres)\n",
    "\n",
    "# your_list = ['a', 'b', 'c', 'd', 'c', 'b', 'c']\n",
    "# your_list.count('c') => 3\n",
    "# your_list.count('a') => 1\n",
    "# your_list.count('d') => 1"
   ]
  },
  {
   "cell_type": "code",
   "execution_count": 79,
   "metadata": {
    "collapsed": false
   },
   "outputs": [
    {
     "data": {
      "text/plain": [
       "4"
      ]
     },
     "execution_count": 79,
     "metadata": {},
     "output_type": "execute_result"
    }
   ],
   "source": [
    "all_genres.count('dirty south rap')"
   ]
  },
  {
   "cell_type": "code",
   "execution_count": 80,
   "metadata": {
    "collapsed": false
   },
   "outputs": [
    {
     "data": {
      "text/plain": [
       "3"
      ]
     },
     "execution_count": 80,
     "metadata": {},
     "output_type": "execute_result"
    }
   ],
   "source": [
    "all_genres.count('crunk')"
   ]
  },
  {
   "cell_type": "code",
   "execution_count": 82,
   "metadata": {
    "collapsed": false
   },
   "outputs": [
    {
     "name": "stdout",
     "output_type": "stream",
     "text": [
      "dirty south rap shows up 4 times\n",
      "pop rap shows up 2 times\n",
      "southern hip hop shows up 3 times\n",
      "trap music shows up 2 times\n",
      "crunk shows up 3 times\n",
      "dirty south rap shows up 4 times\n",
      "southern hip hop shows up 3 times\n",
      "chicano rap shows up 3 times\n",
      "latin hip hop shows up 1 times\n",
      "hip pop shows up 3 times\n",
      "pop rap shows up 2 times\n",
      "crunk shows up 3 times\n",
      "dirty south rap shows up 4 times\n",
      "southern hip hop shows up 3 times\n",
      "trap music shows up 2 times\n",
      "juggalo shows up 1 times\n",
      "hip pop shows up 3 times\n",
      "hip pop shows up 3 times\n",
      "chicano rap shows up 3 times\n",
      "jerk shows up 1 times\n",
      "deep trap shows up 1 times\n",
      "chicano rap shows up 3 times\n",
      "freestyle shows up 1 times\n",
      "soca shows up 1 times\n",
      "crunk shows up 3 times\n",
      "dirty south rap shows up 4 times\n"
     ]
    }
   ],
   "source": [
    "# This is bad because of the duplicates in all_genres\n",
    "# It keeps repeating \"dirty south rap shows up 4 times\"\n",
    "for genre in all_genres:\n",
    "    genre_count = all_genres.count(genre)\n",
    "    print(genre, \"shows up\", genre_count, \"times\")"
   ]
  },
  {
   "cell_type": "code",
   "execution_count": 84,
   "metadata": {
    "collapsed": false
   },
   "outputs": [
    {
     "name": "stdout",
     "output_type": "stream",
     "text": [
      "pop rap shows up 2 times\n",
      "deep trap shows up 1 times\n",
      "dirty south rap shows up 4 times\n",
      "jerk shows up 1 times\n",
      "soca shows up 1 times\n",
      "chicano rap shows up 3 times\n",
      "southern hip hop shows up 3 times\n",
      "hip pop shows up 3 times\n",
      "freestyle shows up 1 times\n",
      "crunk shows up 3 times\n",
      "trap music shows up 2 times\n",
      "latin hip hop shows up 1 times\n",
      "juggalo shows up 1 times\n"
     ]
    }
   ],
   "source": [
    "# We need a UNIQUE list of all_genres, a.k.a. a list\n",
    "# with all duplicates removed\n",
    "# unique_list = set(list_with_duplicates)\n",
    "unique_genres = set(all_genres)\n",
    "for genre in unique_genres:\n",
    "    genre_count = all_genres.count(genre)\n",
    "    print(genre, \"shows up\", genre_count, \"times\")"
   ]
  },
  {
   "cell_type": "code",
   "execution_count": 101,
   "metadata": {
    "collapsed": false
   },
   "outputs": [
    {
     "name": "stdout",
     "output_type": "stream",
     "text": [
      "crunk shows up 3 times\n",
      "dirty south rap shows up 4 times\n"
     ]
    },
    {
     "data": {
      "text/plain": [
       "[('dirty south rap', 4),\n",
       " ('chicano rap', 3),\n",
       " ('southern hip hop', 3),\n",
       " ('hip pop', 3)]"
      ]
     },
     "execution_count": 101,
     "metadata": {},
     "output_type": "execute_result"
    }
   ],
   "source": [
    "# There is a library that comes with Python called COLLECTIONS!!!\n",
    "# Inside of it is a magic thing called Counter.\n",
    "\n",
    "#import collections\n",
    "from collections import Counter\n",
    "\n",
    "# all_genres = [ 'southern hip hop', 'southern hip hop', 'crunk', ]\n",
    "# a list of strings of genres, with duplicates\n",
    "#counts = collections.Counter(all_genres)\n",
    "counts = Counter(all_genres)\n",
    "print('crunk shows up', counts['crunk'], 'times')\n",
    "print('dirty south rap shows up', counts['dirty south rap'], 'times')\n",
    "counts.most_common(4)"
   ]
  },
  {
   "cell_type": "code",
   "execution_count": null,
   "metadata": {
    "collapsed": true
   },
   "outputs": [],
   "source": []
  },
  {
   "cell_type": "markdown",
   "metadata": {},
   "source": [
    "## How to automate getting all of the results"
   ]
  },
  {
   "cell_type": "code",
   "execution_count": 109,
   "metadata": {
    "collapsed": false
   },
   "outputs": [
    {
     "name": "stdout",
     "output_type": "stream",
     "text": [
      "50\n",
      "4502\n"
     ]
    }
   ],
   "source": [
    "data['artists']\n",
    "print(len(data['artists']['items'])) # We only get 10 artists\n",
    "print(data['artists']['total'])\n"
   ]
  },
  {
   "cell_type": "code",
   "execution_count": 124,
   "metadata": {
    "collapsed": false
   },
   "outputs": [
    {
     "data": {
      "text/plain": [
       "91"
      ]
     },
     "execution_count": 124,
     "metadata": {},
     "output_type": "execute_result"
    }
   ],
   "source": [
    "import math\n",
    "\n",
    "#response = requests.get(\"https://api.spotify.com/v1/search?q=lil&type=artist&limit=50&market=US\")\n",
    "#data = response.json()\n",
    "# math.ceil rounds up\n",
    "page_count = math.ceil(4502 / 50)\n",
    "page_count"
   ]
  },
  {
   "cell_type": "code",
   "execution_count": 128,
   "metadata": {
    "collapsed": false
   },
   "outputs": [
    {
     "data": {
      "text/plain": [
       "range(0, 91)"
      ]
     },
     "execution_count": 128,
     "metadata": {},
     "output_type": "execute_result"
    }
   ],
   "source": [
    "range(91) # gives us a list of 0 through 90\n",
    "#list(range(91))"
   ]
  },
  {
   "cell_type": "code",
   "execution_count": 132,
   "metadata": {
    "collapsed": false
   },
   "outputs": [
    {
     "name": "stdout",
     "output_type": "stream",
     "text": [
      "We are on page 0 with an offset of 0\n",
      "Requesting https://api.spotify.com/v1/search?q=lil&type=artist&limit=50&offset=0\n",
      "Found 50 new artists\n",
      "Total count of artists: 50\n",
      "We are on page 1 with an offset of 50\n",
      "Requesting https://api.spotify.com/v1/search?q=lil&type=artist&limit=50&offset=50\n",
      "Found 50 new artists\n",
      "Total count of artists: 100\n",
      "We are on page 2 with an offset of 100\n",
      "Requesting https://api.spotify.com/v1/search?q=lil&type=artist&limit=50&offset=100\n",
      "Found 50 new artists\n",
      "Total count of artists: 150\n",
      "We are on page 3 with an offset of 150\n",
      "Requesting https://api.spotify.com/v1/search?q=lil&type=artist&limit=50&offset=150\n",
      "Found 50 new artists\n",
      "Total count of artists: 200\n",
      "We are on page 4 with an offset of 200\n",
      "Requesting https://api.spotify.com/v1/search?q=lil&type=artist&limit=50&offset=200\n",
      "Found 50 new artists\n",
      "Total count of artists: 250\n",
      "We are on page 5 with an offset of 250\n",
      "Requesting https://api.spotify.com/v1/search?q=lil&type=artist&limit=50&offset=250\n",
      "Found 50 new artists\n",
      "Total count of artists: 300\n",
      "We are on page 6 with an offset of 300\n",
      "Requesting https://api.spotify.com/v1/search?q=lil&type=artist&limit=50&offset=300\n",
      "Found 50 new artists\n",
      "Total count of artists: 350\n",
      "We are on page 7 with an offset of 350\n",
      "Requesting https://api.spotify.com/v1/search?q=lil&type=artist&limit=50&offset=350\n",
      "Found 50 new artists\n",
      "Total count of artists: 400\n",
      "We are on page 8 with an offset of 400\n",
      "Requesting https://api.spotify.com/v1/search?q=lil&type=artist&limit=50&offset=400\n",
      "Found 50 new artists\n",
      "Total count of artists: 450\n",
      "We are on page 9 with an offset of 450\n",
      "Requesting https://api.spotify.com/v1/search?q=lil&type=artist&limit=50&offset=450\n",
      "Found 50 new artists\n",
      "Total count of artists: 500\n",
      "We are on page 10 with an offset of 500\n",
      "Requesting https://api.spotify.com/v1/search?q=lil&type=artist&limit=50&offset=500\n",
      "Found 50 new artists\n",
      "Total count of artists: 550\n",
      "We are on page 11 with an offset of 550\n",
      "Requesting https://api.spotify.com/v1/search?q=lil&type=artist&limit=50&offset=550\n",
      "Found 50 new artists\n",
      "Total count of artists: 600\n",
      "We are on page 12 with an offset of 600\n",
      "Requesting https://api.spotify.com/v1/search?q=lil&type=artist&limit=50&offset=600\n",
      "Found 50 new artists\n",
      "Total count of artists: 650\n",
      "We are on page 13 with an offset of 650\n",
      "Requesting https://api.spotify.com/v1/search?q=lil&type=artist&limit=50&offset=650\n",
      "Found 50 new artists\n",
      "Total count of artists: 700\n",
      "We are on page 14 with an offset of 700\n",
      "Requesting https://api.spotify.com/v1/search?q=lil&type=artist&limit=50&offset=700\n",
      "Found 50 new artists\n",
      "Total count of artists: 750\n",
      "We are on page 15 with an offset of 750\n",
      "Requesting https://api.spotify.com/v1/search?q=lil&type=artist&limit=50&offset=750\n",
      "Found 50 new artists\n",
      "Total count of artists: 800\n",
      "We are on page 16 with an offset of 800\n",
      "Requesting https://api.spotify.com/v1/search?q=lil&type=artist&limit=50&offset=800\n",
      "Found 50 new artists\n",
      "Total count of artists: 850\n",
      "We are on page 17 with an offset of 850\n",
      "Requesting https://api.spotify.com/v1/search?q=lil&type=artist&limit=50&offset=850\n",
      "Found 50 new artists\n",
      "Total count of artists: 900\n",
      "We are on page 18 with an offset of 900\n",
      "Requesting https://api.spotify.com/v1/search?q=lil&type=artist&limit=50&offset=900\n",
      "Found 50 new artists\n",
      "Total count of artists: 950\n",
      "We are on page 19 with an offset of 950\n",
      "Requesting https://api.spotify.com/v1/search?q=lil&type=artist&limit=50&offset=950\n",
      "Found 50 new artists\n",
      "Total count of artists: 1000\n",
      "We are on page 20 with an offset of 1000\n",
      "Requesting https://api.spotify.com/v1/search?q=lil&type=artist&limit=50&offset=1000\n",
      "Found 50 new artists\n",
      "Total count of artists: 1050\n",
      "We are on page 21 with an offset of 1050\n",
      "Requesting https://api.spotify.com/v1/search?q=lil&type=artist&limit=50&offset=1050\n",
      "Found 50 new artists\n",
      "Total count of artists: 1100\n",
      "We are on page 22 with an offset of 1100\n",
      "Requesting https://api.spotify.com/v1/search?q=lil&type=artist&limit=50&offset=1100\n",
      "Found 50 new artists\n",
      "Total count of artists: 1150\n",
      "We are on page 23 with an offset of 1150\n",
      "Requesting https://api.spotify.com/v1/search?q=lil&type=artist&limit=50&offset=1150\n",
      "Found 50 new artists\n",
      "Total count of artists: 1200\n",
      "We are on page 24 with an offset of 1200\n",
      "Requesting https://api.spotify.com/v1/search?q=lil&type=artist&limit=50&offset=1200\n",
      "Found 50 new artists\n",
      "Total count of artists: 1250\n",
      "We are on page 25 with an offset of 1250\n",
      "Requesting https://api.spotify.com/v1/search?q=lil&type=artist&limit=50&offset=1250\n",
      "Found 50 new artists\n",
      "Total count of artists: 1300\n",
      "We are on page 26 with an offset of 1300\n",
      "Requesting https://api.spotify.com/v1/search?q=lil&type=artist&limit=50&offset=1300\n",
      "Found 50 new artists\n",
      "Total count of artists: 1350\n",
      "We are on page 27 with an offset of 1350\n",
      "Requesting https://api.spotify.com/v1/search?q=lil&type=artist&limit=50&offset=1350\n",
      "Found 50 new artists\n",
      "Total count of artists: 1400\n",
      "We are on page 28 with an offset of 1400\n",
      "Requesting https://api.spotify.com/v1/search?q=lil&type=artist&limit=50&offset=1400\n",
      "Found 50 new artists\n",
      "Total count of artists: 1450\n",
      "We are on page 29 with an offset of 1450\n",
      "Requesting https://api.spotify.com/v1/search?q=lil&type=artist&limit=50&offset=1450\n",
      "Found 50 new artists\n",
      "Total count of artists: 1500\n",
      "We are on page 30 with an offset of 1500\n",
      "Requesting https://api.spotify.com/v1/search?q=lil&type=artist&limit=50&offset=1500\n",
      "Found 50 new artists\n",
      "Total count of artists: 1550\n",
      "We are on page 31 with an offset of 1550\n",
      "Requesting https://api.spotify.com/v1/search?q=lil&type=artist&limit=50&offset=1550\n",
      "Found 50 new artists\n",
      "Total count of artists: 1600\n",
      "We are on page 32 with an offset of 1600\n",
      "Requesting https://api.spotify.com/v1/search?q=lil&type=artist&limit=50&offset=1600\n",
      "Found 50 new artists\n",
      "Total count of artists: 1650\n",
      "We are on page 33 with an offset of 1650\n",
      "Requesting https://api.spotify.com/v1/search?q=lil&type=artist&limit=50&offset=1650\n",
      "Found 50 new artists\n",
      "Total count of artists: 1700\n",
      "We are on page 34 with an offset of 1700\n",
      "Requesting https://api.spotify.com/v1/search?q=lil&type=artist&limit=50&offset=1700\n",
      "Found 50 new artists\n",
      "Total count of artists: 1750\n",
      "We are on page 35 with an offset of 1750\n",
      "Requesting https://api.spotify.com/v1/search?q=lil&type=artist&limit=50&offset=1750\n",
      "Found 50 new artists\n",
      "Total count of artists: 1800\n",
      "We are on page 36 with an offset of 1800\n",
      "Requesting https://api.spotify.com/v1/search?q=lil&type=artist&limit=50&offset=1800\n",
      "Found 50 new artists\n",
      "Total count of artists: 1850\n",
      "We are on page 37 with an offset of 1850\n",
      "Requesting https://api.spotify.com/v1/search?q=lil&type=artist&limit=50&offset=1850\n",
      "Found 50 new artists\n",
      "Total count of artists: 1900\n",
      "We are on page 38 with an offset of 1900\n",
      "Requesting https://api.spotify.com/v1/search?q=lil&type=artist&limit=50&offset=1900\n",
      "Found 50 new artists\n",
      "Total count of artists: 1950\n",
      "We are on page 39 with an offset of 1950\n",
      "Requesting https://api.spotify.com/v1/search?q=lil&type=artist&limit=50&offset=1950\n",
      "Found 50 new artists\n",
      "Total count of artists: 2000\n",
      "We are on page 40 with an offset of 2000\n",
      "Requesting https://api.spotify.com/v1/search?q=lil&type=artist&limit=50&offset=2000\n",
      "Found 50 new artists\n",
      "Total count of artists: 2050\n",
      "We are on page 41 with an offset of 2050\n",
      "Requesting https://api.spotify.com/v1/search?q=lil&type=artist&limit=50&offset=2050\n",
      "Found 50 new artists\n",
      "Total count of artists: 2100\n",
      "We are on page 42 with an offset of 2100\n",
      "Requesting https://api.spotify.com/v1/search?q=lil&type=artist&limit=50&offset=2100\n",
      "Found 50 new artists\n",
      "Total count of artists: 2150\n",
      "We are on page 43 with an offset of 2150\n",
      "Requesting https://api.spotify.com/v1/search?q=lil&type=artist&limit=50&offset=2150\n",
      "Found 50 new artists\n",
      "Total count of artists: 2200\n",
      "We are on page 44 with an offset of 2200\n",
      "Requesting https://api.spotify.com/v1/search?q=lil&type=artist&limit=50&offset=2200\n",
      "Found 50 new artists\n",
      "Total count of artists: 2250\n",
      "We are on page 45 with an offset of 2250\n",
      "Requesting https://api.spotify.com/v1/search?q=lil&type=artist&limit=50&offset=2250\n",
      "Found 50 new artists\n",
      "Total count of artists: 2300\n",
      "We are on page 46 with an offset of 2300\n",
      "Requesting https://api.spotify.com/v1/search?q=lil&type=artist&limit=50&offset=2300\n",
      "Found 50 new artists\n",
      "Total count of artists: 2350\n",
      "We are on page 47 with an offset of 2350\n",
      "Requesting https://api.spotify.com/v1/search?q=lil&type=artist&limit=50&offset=2350\n",
      "Found 50 new artists\n",
      "Total count of artists: 2400\n",
      "We are on page 48 with an offset of 2400\n",
      "Requesting https://api.spotify.com/v1/search?q=lil&type=artist&limit=50&offset=2400\n",
      "Found 50 new artists\n",
      "Total count of artists: 2450\n",
      "We are on page 49 with an offset of 2450\n",
      "Requesting https://api.spotify.com/v1/search?q=lil&type=artist&limit=50&offset=2450\n",
      "Found 50 new artists\n",
      "Total count of artists: 2500\n",
      "We are on page 50 with an offset of 2500\n",
      "Requesting https://api.spotify.com/v1/search?q=lil&type=artist&limit=50&offset=2500\n",
      "Found 50 new artists\n",
      "Total count of artists: 2550\n",
      "We are on page 51 with an offset of 2550\n",
      "Requesting https://api.spotify.com/v1/search?q=lil&type=artist&limit=50&offset=2550\n",
      "Found 50 new artists\n",
      "Total count of artists: 2600\n",
      "We are on page 52 with an offset of 2600\n",
      "Requesting https://api.spotify.com/v1/search?q=lil&type=artist&limit=50&offset=2600\n",
      "Found 50 new artists\n",
      "Total count of artists: 2650\n",
      "We are on page 53 with an offset of 2650\n",
      "Requesting https://api.spotify.com/v1/search?q=lil&type=artist&limit=50&offset=2650\n",
      "Found 50 new artists\n",
      "Total count of artists: 2700\n",
      "We are on page 54 with an offset of 2700\n",
      "Requesting https://api.spotify.com/v1/search?q=lil&type=artist&limit=50&offset=2700\n",
      "Found 50 new artists\n",
      "Total count of artists: 2750\n",
      "We are on page 55 with an offset of 2750\n",
      "Requesting https://api.spotify.com/v1/search?q=lil&type=artist&limit=50&offset=2750\n",
      "Found 50 new artists\n",
      "Total count of artists: 2800\n",
      "We are on page 56 with an offset of 2800\n",
      "Requesting https://api.spotify.com/v1/search?q=lil&type=artist&limit=50&offset=2800\n",
      "Found 50 new artists\n",
      "Total count of artists: 2850\n",
      "We are on page 57 with an offset of 2850\n",
      "Requesting https://api.spotify.com/v1/search?q=lil&type=artist&limit=50&offset=2850\n",
      "Found 50 new artists\n",
      "Total count of artists: 2900\n",
      "We are on page 58 with an offset of 2900\n",
      "Requesting https://api.spotify.com/v1/search?q=lil&type=artist&limit=50&offset=2900\n",
      "Found 50 new artists\n",
      "Total count of artists: 2950\n",
      "We are on page 59 with an offset of 2950\n",
      "Requesting https://api.spotify.com/v1/search?q=lil&type=artist&limit=50&offset=2950\n",
      "Found 50 new artists\n",
      "Total count of artists: 3000\n",
      "We are on page 60 with an offset of 3000\n",
      "Requesting https://api.spotify.com/v1/search?q=lil&type=artist&limit=50&offset=3000\n",
      "Found 50 new artists\n",
      "Total count of artists: 3050\n",
      "We are on page 61 with an offset of 3050\n",
      "Requesting https://api.spotify.com/v1/search?q=lil&type=artist&limit=50&offset=3050\n",
      "Found 50 new artists\n",
      "Total count of artists: 3100\n",
      "We are on page 62 with an offset of 3100\n",
      "Requesting https://api.spotify.com/v1/search?q=lil&type=artist&limit=50&offset=3100\n",
      "Found 50 new artists\n",
      "Total count of artists: 3150\n",
      "We are on page 63 with an offset of 3150\n",
      "Requesting https://api.spotify.com/v1/search?q=lil&type=artist&limit=50&offset=3150\n",
      "Found 50 new artists\n",
      "Total count of artists: 3200\n",
      "We are on page 64 with an offset of 3200\n",
      "Requesting https://api.spotify.com/v1/search?q=lil&type=artist&limit=50&offset=3200\n",
      "Found 50 new artists\n",
      "Total count of artists: 3250\n",
      "We are on page 65 with an offset of 3250\n",
      "Requesting https://api.spotify.com/v1/search?q=lil&type=artist&limit=50&offset=3250\n",
      "Found 50 new artists\n",
      "Total count of artists: 3300\n",
      "We are on page 66 with an offset of 3300\n",
      "Requesting https://api.spotify.com/v1/search?q=lil&type=artist&limit=50&offset=3300\n",
      "Found 50 new artists\n",
      "Total count of artists: 3350\n",
      "We are on page 67 with an offset of 3350\n",
      "Requesting https://api.spotify.com/v1/search?q=lil&type=artist&limit=50&offset=3350\n",
      "Found 50 new artists\n",
      "Total count of artists: 3400\n",
      "We are on page 68 with an offset of 3400\n",
      "Requesting https://api.spotify.com/v1/search?q=lil&type=artist&limit=50&offset=3400\n",
      "Found 50 new artists\n",
      "Total count of artists: 3450\n",
      "We are on page 69 with an offset of 3450\n",
      "Requesting https://api.spotify.com/v1/search?q=lil&type=artist&limit=50&offset=3450\n",
      "Found 50 new artists\n",
      "Total count of artists: 3500\n",
      "We are on page 70 with an offset of 3500\n",
      "Requesting https://api.spotify.com/v1/search?q=lil&type=artist&limit=50&offset=3500\n",
      "Found 50 new artists\n",
      "Total count of artists: 3550\n",
      "We are on page 71 with an offset of 3550\n",
      "Requesting https://api.spotify.com/v1/search?q=lil&type=artist&limit=50&offset=3550\n",
      "Found 50 new artists\n",
      "Total count of artists: 3600\n",
      "We are on page 72 with an offset of 3600\n",
      "Requesting https://api.spotify.com/v1/search?q=lil&type=artist&limit=50&offset=3600\n",
      "Found 50 new artists\n",
      "Total count of artists: 3650\n",
      "We are on page 73 with an offset of 3650\n",
      "Requesting https://api.spotify.com/v1/search?q=lil&type=artist&limit=50&offset=3650\n",
      "Found 50 new artists\n",
      "Total count of artists: 3700\n",
      "We are on page 74 with an offset of 3700\n",
      "Requesting https://api.spotify.com/v1/search?q=lil&type=artist&limit=50&offset=3700\n",
      "Found 50 new artists\n",
      "Total count of artists: 3750\n",
      "We are on page 75 with an offset of 3750\n",
      "Requesting https://api.spotify.com/v1/search?q=lil&type=artist&limit=50&offset=3750\n",
      "Found 50 new artists\n",
      "Total count of artists: 3800\n",
      "We are on page 76 with an offset of 3800\n",
      "Requesting https://api.spotify.com/v1/search?q=lil&type=artist&limit=50&offset=3800\n",
      "Found 50 new artists\n",
      "Total count of artists: 3850\n",
      "We are on page 77 with an offset of 3850\n",
      "Requesting https://api.spotify.com/v1/search?q=lil&type=artist&limit=50&offset=3850\n",
      "Found 50 new artists\n",
      "Total count of artists: 3900\n",
      "We are on page 78 with an offset of 3900\n",
      "Requesting https://api.spotify.com/v1/search?q=lil&type=artist&limit=50&offset=3900\n",
      "Found 50 new artists\n",
      "Total count of artists: 3950\n",
      "We are on page 79 with an offset of 3950\n",
      "Requesting https://api.spotify.com/v1/search?q=lil&type=artist&limit=50&offset=3950\n",
      "Found 50 new artists\n",
      "Total count of artists: 4000\n",
      "We are on page 80 with an offset of 4000\n",
      "Requesting https://api.spotify.com/v1/search?q=lil&type=artist&limit=50&offset=4000\n",
      "Found 50 new artists\n",
      "Total count of artists: 4050\n",
      "We are on page 81 with an offset of 4050\n",
      "Requesting https://api.spotify.com/v1/search?q=lil&type=artist&limit=50&offset=4050\n",
      "Found 50 new artists\n",
      "Total count of artists: 4100\n",
      "We are on page 82 with an offset of 4100\n",
      "Requesting https://api.spotify.com/v1/search?q=lil&type=artist&limit=50&offset=4100\n",
      "Found 50 new artists\n",
      "Total count of artists: 4150\n",
      "We are on page 83 with an offset of 4150\n",
      "Requesting https://api.spotify.com/v1/search?q=lil&type=artist&limit=50&offset=4150\n",
      "Found 50 new artists\n",
      "Total count of artists: 4200\n",
      "We are on page 84 with an offset of 4200\n",
      "Requesting https://api.spotify.com/v1/search?q=lil&type=artist&limit=50&offset=4200\n",
      "Found 50 new artists\n",
      "Total count of artists: 4250\n",
      "We are on page 85 with an offset of 4250\n",
      "Requesting https://api.spotify.com/v1/search?q=lil&type=artist&limit=50&offset=4250\n",
      "Found 50 new artists\n",
      "Total count of artists: 4300\n",
      "We are on page 86 with an offset of 4300\n",
      "Requesting https://api.spotify.com/v1/search?q=lil&type=artist&limit=50&offset=4300\n",
      "Found 50 new artists\n",
      "Total count of artists: 4350\n",
      "We are on page 87 with an offset of 4350\n",
      "Requesting https://api.spotify.com/v1/search?q=lil&type=artist&limit=50&offset=4350\n",
      "Found 50 new artists\n",
      "Total count of artists: 4400\n",
      "We are on page 88 with an offset of 4400\n",
      "Requesting https://api.spotify.com/v1/search?q=lil&type=artist&limit=50&offset=4400\n",
      "Found 50 new artists\n",
      "Total count of artists: 4450\n",
      "We are on page 89 with an offset of 4450\n",
      "Requesting https://api.spotify.com/v1/search?q=lil&type=artist&limit=50&offset=4450\n",
      "Found 50 new artists\n",
      "Total count of artists: 4500\n",
      "We are on page 90 with an offset of 4500\n",
      "Requesting https://api.spotify.com/v1/search?q=lil&type=artist&limit=50&offset=4500\n",
      "Found 2 new artists\n",
      "Total count of artists: 4502\n",
      "Successfully retrieved 4502 artists\n"
     ]
    }
   ],
   "source": [
    "# FIRST PAGE: artists 1-50, offset of 0\n",
    "# https://api.spotify.com/v1/search?q=lil&type=artist&limit=50\n",
    "# SECOND PAGE: artists 51-100, offset of 50\n",
    "# https://api.spotify.com/v1/search?q=lil&type=artist&limit=50&offset=50\n",
    "# THIRD PAGE: artists 101-150, offset of 100\n",
    "# https://api.spotify.com/v1/search?q=lil&type=artist&limit=50&offset=100\n",
    "# FOURTH PAGE: artists 151-200, offset of 150\n",
    "# https://api.spotify.com/v1/search?q=lil&type=artist&limit=50&offset=100\n",
    "# AGGREGATE\n",
    "all_artists = []\n",
    "for page in range(91):\n",
    "    offset = page * 50\n",
    "    print(\"We are on page\", page, \"with an offset of\", offset)\n",
    "    \n",
    "    # Make the request with a changed offset ?offset={offset}\n",
    "    url = \"https://api.spotify.com/v1/search?q=lil&type=artist&limit=50&offset=\" + str(offset)\n",
    "    print(\"Requesting\", url)\n",
    "    response = requests.get(url)\n",
    "    data = response.json()\n",
    "    # add our new artists to our list of existing artists\n",
    "    print(\"Found\", len(data['artists']['items']), \"new artists\")\n",
    "    all_artists = all_artists + data['artists']['items']\n",
    "    print(\"Total count of artists:\", len(all_artists))\n",
    "    \n",
    "print(\"Successfully retrieved\", len(all_artists), \"artists\")"
   ]
  },
  {
   "cell_type": "code",
   "execution_count": 133,
   "metadata": {
    "collapsed": false
   },
   "outputs": [
    {
     "data": {
      "text/plain": [
       "4502"
      ]
     },
     "execution_count": 133,
     "metadata": {},
     "output_type": "execute_result"
    }
   ],
   "source": [
    "len(all_artists)"
   ]
  },
  {
   "cell_type": "code",
   "execution_count": 136,
   "metadata": {
    "collapsed": false
   },
   "outputs": [
    {
     "data": {
      "text/plain": [
       "{'external_urls': {'spotify': 'https://open.spotify.com/artist/2s1nWxRrM0pPD4QeVeTwwK'},\n",
       " 'followers': {'href': None, 'total': 1},\n",
       " 'genres': [],\n",
       " 'href': 'https://api.spotify.com/v1/artists/2s1nWxRrM0pPD4QeVeTwwK',\n",
       " 'id': '2s1nWxRrM0pPD4QeVeTwwK',\n",
       " 'images': [],\n",
       " 'name': \"P.K.O. featuring Lil' Sin\",\n",
       " 'popularity': 0,\n",
       " 'type': 'artist',\n",
       " 'uri': 'spotify:artist:2s1nWxRrM0pPD4QeVeTwwK'}"
      ]
     },
     "execution_count": 136,
     "metadata": {},
     "output_type": "execute_result"
    }
   ],
   "source": [
    "all_artists[4200]"
   ]
  },
  {
   "cell_type": "code",
   "execution_count": null,
   "metadata": {
    "collapsed": true
   },
   "outputs": [],
   "source": []
  },
  {
   "cell_type": "code",
   "execution_count": null,
   "metadata": {
    "collapsed": true
   },
   "outputs": [],
   "source": []
  },
  {
   "cell_type": "code",
   "execution_count": null,
   "metadata": {
    "collapsed": true
   },
   "outputs": [],
   "source": []
  },
  {
   "cell_type": "code",
   "execution_count": null,
   "metadata": {
    "collapsed": true
   },
   "outputs": [],
   "source": []
  },
  {
   "cell_type": "code",
   "execution_count": null,
   "metadata": {
    "collapsed": true
   },
   "outputs": [],
   "source": []
  },
  {
   "cell_type": "code",
   "execution_count": 137,
   "metadata": {
    "collapsed": true
   },
   "outputs": [],
   "source": [
    "response = requests.get(\"http://earthquake.usgs.gov/earthquakes/feed/v1.0/summary/all_day.geojson\")\n",
    "data = response.json()"
   ]
  },
  {
   "cell_type": "code",
   "execution_count": 138,
   "metadata": {
    "collapsed": false
   },
   "outputs": [
    {
     "data": {
      "text/plain": [
       "dict"
      ]
     },
     "execution_count": 138,
     "metadata": {},
     "output_type": "execute_result"
    }
   ],
   "source": [
    "type(data)"
   ]
  },
  {
   "cell_type": "code",
   "execution_count": 139,
   "metadata": {
    "collapsed": false
   },
   "outputs": [
    {
     "data": {
      "text/plain": [
       "dict_keys(['type', 'metadata', 'features', 'bbox'])"
      ]
     },
     "execution_count": 139,
     "metadata": {},
     "output_type": "execute_result"
    }
   ],
   "source": [
    "data.keys()"
   ]
  },
  {
   "cell_type": "code",
   "execution_count": 140,
   "metadata": {
    "collapsed": false
   },
   "outputs": [
    {
     "data": {
      "text/plain": [
       "list"
      ]
     },
     "execution_count": 140,
     "metadata": {},
     "output_type": "execute_result"
    }
   ],
   "source": [
    "type(data['features'])"
   ]
  },
  {
   "cell_type": "code",
   "execution_count": 142,
   "metadata": {
    "collapsed": false
   },
   "outputs": [
    {
     "data": {
      "text/plain": [
       "171"
      ]
     },
     "execution_count": 142,
     "metadata": {},
     "output_type": "execute_result"
    }
   ],
   "source": [
    "# How many earthquakes in the past day?\n",
    "len(data['features'])"
   ]
  },
  {
   "cell_type": "code",
   "execution_count": 144,
   "metadata": {
    "collapsed": false
   },
   "outputs": [
    {
     "data": {
      "text/plain": [
       "{'geometry': {'coordinates': [-122.8119965, 38.8148346, 1.35],\n",
       "  'type': 'Point'},\n",
       " 'id': 'nc72647876',\n",
       " 'properties': {'alert': None,\n",
       "  'cdi': None,\n",
       "  'code': '72647876',\n",
       "  'detail': 'http://earthquake.usgs.gov/earthquakes/feed/v1.0/detail/nc72647876.geojson',\n",
       "  'dmin': 0.008679,\n",
       "  'felt': None,\n",
       "  'gap': 89,\n",
       "  'ids': ',nc72647876,',\n",
       "  'mag': None,\n",
       "  'magType': None,\n",
       "  'mmi': None,\n",
       "  'net': 'nc',\n",
       "  'nst': 22,\n",
       "  'place': '6km NW of The Geysers, California',\n",
       "  'rms': 0.03,\n",
       "  'sig': 0,\n",
       "  'sources': ',nc,',\n",
       "  'status': 'automatic',\n",
       "  'time': 1465403381010,\n",
       "  'title': 'M ? - 6km NW of The Geysers, California',\n",
       "  'tsunami': 0,\n",
       "  'type': 'earthquake',\n",
       "  'types': ',general-link,geoserve,nearby-cities,origin,phase-data,',\n",
       "  'tz': -420,\n",
       "  'updated': 1465403394371,\n",
       "  'url': 'http://earthquake.usgs.gov/earthquakes/eventpage/nc72647876'},\n",
       " 'type': 'Feature'}"
      ]
     },
     "execution_count": 144,
     "metadata": {},
     "output_type": "execute_result"
    }
   ],
   "source": [
    "# Taking a look at the first one\n",
    "data['features'][0]"
   ]
  },
  {
   "cell_type": "code",
   "execution_count": 146,
   "metadata": {
    "collapsed": false
   },
   "outputs": [
    {
     "data": {
      "text/plain": [
       "dict_keys(['type', 'geometry', 'properties', 'id'])"
      ]
     },
     "execution_count": 146,
     "metadata": {},
     "output_type": "execute_result"
    }
   ],
   "source": [
    "data['features'][0].keys()"
   ]
  },
  {
   "cell_type": "code",
   "execution_count": 148,
   "metadata": {
    "collapsed": false
   },
   "outputs": [
    {
     "data": {
      "text/plain": [
       "dict_keys(['dmin', 'nst', 'time', 'updated', 'gap', 'place', 'title', 'tsunami', 'sources', 'net', 'rms', 'status', 'code', 'types', 'ids', 'mmi', 'sig', 'cdi', 'alert', 'tz', 'url', 'mag', 'detail', 'magType', 'type', 'felt'])"
      ]
     },
     "execution_count": 148,
     "metadata": {},
     "output_type": "execute_result"
    }
   ],
   "source": [
    "data['features'][0]['properties'].keys()"
   ]
  },
  {
   "cell_type": "code",
   "execution_count": 149,
   "metadata": {
    "collapsed": false
   },
   "outputs": [
    {
     "data": {
      "text/plain": [
       "'6km NW of The Geysers, California'"
      ]
     },
     "execution_count": 149,
     "metadata": {},
     "output_type": "execute_result"
    }
   ],
   "source": [
    "data['features'][0]['properties']['place']"
   ]
  },
  {
   "cell_type": "code",
   "execution_count": 151,
   "metadata": {
    "collapsed": false
   },
   "outputs": [
    {
     "name": "stdout",
     "output_type": "stream",
     "text": [
      "6km NW of The Geysers, California\n",
      "10km SSW of Alamo, Nevada\n",
      "6km W of Cobb, California\n",
      "27km SSE of Medford, Oklahoma\n",
      "18km ESE of Anza, CA\n",
      "11km NE of Cabazon, CA\n",
      "6km WNW of The Geysers, California\n",
      "117km W of Cantwell, Alaska\n",
      "78km NE of Cape Yakataga, Alaska\n",
      "3km WSW of Cobb, California\n",
      "8km SSW of Ridgemark, California\n",
      "8km SSW of Ridgemark, California\n",
      "69km N of Charlotte Amalie, U.S. Virgin Islands\n",
      "63km ENE of Cape Yakataga, Alaska\n",
      "51km ENE of Mammoth Lakes, California\n",
      "3km SSE of The Geysers, California\n",
      "6km NW of The Geysers, California\n",
      "15km ESE of Cohoe, Alaska\n",
      "25km E of Little Lake, CA\n",
      "Southern Mid-Atlantic Ridge\n",
      "14km N of Ocotillo, CA\n",
      "9km WNW of The Geysers, California\n",
      "17km ESE of Anza, CA\n",
      "20km ESE of Anza, CA\n",
      "13km ENE of Willow, Alaska\n",
      "24km NNE of Cape Yakataga, Alaska\n",
      "25km SSW of Coalinga, California\n",
      "50km SSE of Korsakov, Russia\n",
      "16km W of Ocotillo, CA\n",
      "9km NNW of Anza, CA\n",
      "Mid-Indian Ridge\n",
      "21km SSE of Waimea, Hawaii\n",
      "9km WNW of Cobb, California\n",
      "38km S of Puerto San Jose, Guatemala\n",
      "8km SW of Alamo, Nevada\n",
      "11km W of Pablo, Montana\n",
      "56km SW of Tok, Alaska\n",
      "13km SSW of Talkeetna, Alaska\n",
      "9km WNW of Cobb, California\n",
      "78km SW of Puerto El Triunfo, El Salvador\n",
      "26km N of Cape Yakataga, Alaska\n",
      "33km SSE of Redoubt Volcano, Alaska\n",
      "8km WNW of Broadmoor, California\n",
      "142km SE of McGrath, Alaska\n",
      "23km SW of Coalinga, California\n",
      "10km NNE of Borrego Springs, CA\n",
      "45km E of Cape Yakataga, Alaska\n",
      "3km NNE of Murrieta Hot Springs, CA\n",
      "Central East Pacific Rise\n",
      "8km ENE of Anza, CA\n",
      "64km ENE of Cantwell, Alaska\n",
      "6km NW of The Geysers, California\n",
      "78km NW of Yakutat, Alaska\n",
      "5km WNW of Cobb, California\n",
      "44km ENE of Cape Yakataga, Alaska\n",
      "22km ESE of Hawthorne, Nevada\n",
      "66km NNE of Sutton-Alpine, Alaska\n",
      "80km NW of Yakutat, Alaska\n",
      "68km NNW of Road Town, British Virgin Islands\n",
      "19km NNW of North Nenana, Alaska\n",
      "44km W of Big Lake, Alaska\n",
      "62km N of Charlotte Amalie, U.S. Virgin Islands\n",
      "4km NE of Colwood, Canada\n",
      "80km NW of Yakutat, Alaska\n",
      "35km E of Sutton-Alpine, Alaska\n",
      "81km NW of Yakutat, Alaska\n",
      "29km W of Ferndale, California\n",
      "4km S of Idyllwild, CA\n",
      "32km NW of Redoubt Volcano, Alaska\n",
      "14km WNW of Anza, CA\n",
      "14km WNW of Anza, CA\n",
      "77km NW of Yakutat, Alaska\n",
      "1km WNW of Bonney Lake, Washington\n",
      "20km NNW of North Nenana, Alaska\n",
      "23km N of North Nenana, Alaska\n",
      "13km SE of Mammoth Lakes, California\n",
      "65km WSW of Cape Yakataga, Alaska\n",
      "125km SSE of Old Iliamna, Alaska\n",
      "24km WNW of Puerto Real, Puerto Rico\n",
      "8km N of Anza, CA\n",
      "2km NNE of The Geysers, California\n",
      "6km NW of West Bishop, California\n",
      "11km NW of Rancho Cucamonga, CA\n",
      "6km WSW of Huntington Beach, CA\n",
      "58km E of Cape Yakataga, Alaska\n",
      "39km SE of Hawthorne, Nevada\n",
      "36km N of Tierras Nuevas Poniente, Puerto Rico\n",
      "6km WNW of Cobb, California\n",
      "12km ENE of Cloverdale, California\n",
      "1km ENE of Captain Cook, Hawaii\n",
      "175km SSE of Naze, Japan\n",
      "147km SSE of Naze, Japan\n",
      "7km WNW of Cobb, California\n",
      "5km S of Volcano, Hawaii\n",
      "5km S of Volcano, Hawaii\n",
      "44km SSW of Ashkasham, Afghanistan\n",
      "22km W of Pole Ojea, Puerto Rico\n",
      "74km W of Cantwell, Alaska\n",
      "8km S of Gabbs, Nevada\n",
      "57km N of Valdez, Alaska\n",
      "28km ESE of Redoubt Volcano, Alaska\n",
      "94km ESE of Old Iliamna, Alaska\n",
      "87km S of Nishinoomote, Japan\n",
      "9km SSW of Idyllwild, CA\n",
      "14km WNW of Anza, CA\n",
      "19km ENE of Polson, Montana\n",
      "22km NW of West Yellowstone, Montana\n",
      "22km ESE of Anza, CA\n",
      "12km NNE of Borrego Springs, CA\n",
      "6km N of Cloverdale, California\n",
      "62km E of Sutton-Alpine, Alaska\n",
      "4km S of Encino, CA\n",
      "102km N of San Juan, Puerto Rico\n",
      "6km S of Salcha, Alaska\n",
      "47km S of Redoubt Volcano, Alaska\n",
      "17km SE of Medford, Oklahoma\n",
      "18km ESE of Anza, CA\n",
      "15km SE of Volcano, Hawaii\n",
      "2km ENE of Choctaw, Oklahoma\n",
      "2km ESE of El Centro, CA\n",
      "3km SE of El Centro, CA\n",
      "13km ESE of Anza, CA\n",
      "162km S of Cape Yakataga, Alaska\n",
      "20km NNE of Badger, Alaska\n",
      "0km N of Quarry near Portola Valley, CA\n",
      "28km E of Hawthorne, Nevada\n",
      "42km WNW of Nikiski, Alaska\n",
      "1km SW of Bonney Lake, Washington\n",
      "0km NW of Entiat, Washington\n",
      "4km SSE of Big Bear City, CA\n",
      "14km N of Ocotillo Wells, CA\n",
      "5km SE of Kelso, Washington\n",
      "8km NW of Broadmoor, California\n",
      "30km NNE of Charlotte Amalie, U.S. Virgin Islands\n",
      "118km W of Cantwell, Alaska\n",
      "9km ESE of Mammoth Lakes, California\n",
      "6km S of Princeton, Canada\n",
      "18km ENE of Talkeetna, Alaska\n",
      "61km NW of Nikiski, Alaska\n",
      "2km E of The Geysers, California\n",
      "2km E of The Geysers, California\n",
      "37km NNE of Amboy, Washington\n",
      "9km NNW of Anza, CA\n",
      "4km WNW of The Geysers, California\n",
      "6km W of Cobb, California\n",
      "13km ESE of Anza, CA\n",
      "32km E of Shady Cove, Oregon\n",
      "126km WNW of Kota Ternate, Indonesia\n",
      "25km ENE of Honaunau-Napoopoo, Hawaii\n",
      "5km S of Volcano, Hawaii\n",
      "22km S of Neah Bay, Washington\n",
      "29km N of Nikiski, Alaska\n",
      "77km NE of Diego de Almagro, Chile\n",
      "3km NNW of The Geysers, California\n",
      "17km E of Santa Margarita, California\n",
      "33km NW of Fairview, Oklahoma\n",
      "8km NW of The Geysers, California\n",
      "12km NNW of Caliente, Nevada\n",
      "14km SE of El Valle, Dominican Republic\n",
      "22km ESE of Anza, CA\n",
      "84km WNW of Talkeetna, Alaska\n",
      "20km ESE of Anza, CA\n",
      "26km ENE of Soledad, California\n",
      "252km NE of Kuril'sk, Russia\n",
      "8km W of Townsend, Montana\n",
      "18km ESE of Anza, CA\n",
      "10km W of Volcano, Hawaii\n",
      "5km NE of Edmond, Oklahoma\n",
      "2km SSE of Aguanga, CA\n",
      "3km W of Cobb, California\n",
      "85km W of Willow, Alaska\n"
     ]
    }
   ],
   "source": [
    "for earthquake in data['features']:\n",
    "    print(earthquake['properties']['place'])"
   ]
  },
  {
   "cell_type": "code",
   "execution_count": 166,
   "metadata": {
    "collapsed": false
   },
   "outputs": [
    {
     "data": {
      "text/plain": [
       "[('California', 71), ('Alaska', 45), ('Hawaii', 8)]"
      ]
     },
     "execution_count": 166,
     "metadata": {},
     "output_type": "execute_result"
    }
   ],
   "source": [
    "states = []\n",
    "for earthquake in data['features']:\n",
    "    place = earthquake['properties']['place']\n",
    "    # Split on comma space, otherwise we have\n",
    "    # extra whitespace (a.k.a. spaces)\n",
    "    edited_place = place.replace(\" CA\", \" California\")\n",
    "    results = edited_place.split(\", \")\n",
    "    #print(results)\n",
    "    # Make sure it has two segments\n",
    "    if len(results) > 1:\n",
    "        state_name = results[1]\n",
    "        #if state_name == \"CA\":\n",
    "        #    states.append(\"California\")\n",
    "        #else:\n",
    "        #    states.append(state_name)\n",
    "        states.append(state_name)\n",
    "        #print(results[1])\n",
    "#    states.append(place)\n",
    "    #print(earthquake['properties']['place'])\n",
    "states\n",
    "from collections import Counter\n",
    "counts = Counter(states)\n",
    "counts.most_common(3)"
   ]
  },
  {
   "cell_type": "code",
   "execution_count": null,
   "metadata": {
    "collapsed": false
   },
   "outputs": [],
   "source": []
  },
  {
   "cell_type": "code",
   "execution_count": null,
   "metadata": {
    "collapsed": true
   },
   "outputs": [],
   "source": []
  }
 ],
 "metadata": {
  "kernelspec": {
   "display_name": "Python 3",
   "language": "python",
   "name": "python3"
  },
  "language_info": {
   "codemirror_mode": {
    "name": "ipython",
    "version": 3
   },
   "file_extension": ".py",
   "mimetype": "text/x-python",
   "name": "python",
   "nbconvert_exporter": "python",
   "pygments_lexer": "ipython3",
   "version": "3.5.1"
  }
 },
 "nbformat": 4,
 "nbformat_minor": 0
}
