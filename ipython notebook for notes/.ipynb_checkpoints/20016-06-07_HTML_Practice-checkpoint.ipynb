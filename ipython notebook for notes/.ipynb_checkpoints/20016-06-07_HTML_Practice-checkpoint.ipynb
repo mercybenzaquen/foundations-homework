{
 "cells": [
  {
   "cell_type": "markdown",
   "metadata": {},
   "source": [
    "# HTML PRACTICE\n"
   ]
  },
  {
   "cell_type": "code",
   "execution_count": 275,
   "metadata": {
    "collapsed": false
   },
   "outputs": [
    {
     "name": "stdout",
     "output_type": "stream",
     "text": [
      "Requirement already satisfied (use --upgrade to upgrade): bs4 in ./.virtualenvs/Dataclass/lib/python3.5/site-packages\n",
      "Requirement already satisfied (use --upgrade to upgrade): beautifulsoup4 in ./.virtualenvs/Dataclass/lib/python3.5/site-packages (from bs4)\n"
     ]
    }
   ],
   "source": [
    "!pip3 install bs4"
   ]
  },
  {
   "cell_type": "code",
   "execution_count": 276,
   "metadata": {
    "collapsed": true
   },
   "outputs": [],
   "source": [
    "from bs4 import BeautifulSoup"
   ]
  },
  {
   "cell_type": "code",
   "execution_count": 277,
   "metadata": {
    "collapsed": true
   },
   "outputs": [],
   "source": [
    "from urllib.request import urlopen\n",
    "html_str = urlopen('http://static.decontextualize.com/kittens.html').read()"
   ]
  },
  {
   "cell_type": "code",
   "execution_count": 278,
   "metadata": {
    "collapsed": false
   },
   "outputs": [
    {
     "name": "stdout",
     "output_type": "stream",
     "text": [
      "b'<!doctype html>\\n<html>\\n\\t<head>\\n\\t\\t<title>Kittens!</title>\\n\\t\\t<style type=\"text/css\">\\n\\t\\t\\tspan.lastcheckup { font-family: \"Courier\", fixed; font-size: 11px; }\\n\\t\\t</style>\\n\\t</head>\\n\\t<body>\\n\\t\\t<h1>Kittens and the TV Shows They Love</h1>\\n\\t\\t<div class=\"kitten\">\\n\\t\\t\\t<h2>Fluffy</h2>\\n\\t\\t\\t<div><img src=\"http://placekitten.com/120/120\"></div>\\n\\t\\t\\t<ul class=\"tvshows\">\\n\\t\\t\\t\\t<li>\\n\\t\\t\\t\\t\\t<a href=\"http://www.imdb.com/title/tt0106145/\">Deep Space Nine</a>\\n\\t\\t\\t\\t</li>\\n\\t\\t\\t\\t<li>\\n\\t\\t\\t\\t\\t<a href=\"http://www.imdb.com/title/tt0088576/\">Mr. Belvedere</a>\\n\\t\\t\\t\\t</li>\\n\\t\\t\\t</ul>\\n\\t\\t\\tLast check-up: <span class=\"lastcheckup\">2014-01-17</span>\\n\\t\\t</div>\\n\\t\\t<div class=\"kitten\">\\n\\t\\t\\t<h2>Monsieur Whiskeurs</h2>\\n\\t\\t\\t<div><img src=\"http://placekitten.com/110/110\"></div>\\n\\t\\t\\t<ul class=\"tvshows\">\\n\\t\\t\\t\\t<li>\\n\\t\\t\\t\\t\\t<a href=\"http://www.imdb.com/title/tt0106179/\">The X-Files</a>\\n\\t\\t\\t\\t</li>\\n\\t\\t\\t\\t<li>\\n\\t\\t\\t\\t\\t<a href=\"http://www.imdb.com/title/tt0098800/\">Fresh Prince</a>\\n\\t\\t\\t\\t</li>\\n\\t\\t\\t</ul>\\n\\t\\t\\tLast check-up: <span class=\"lastcheckup\">2013-11-02</span>\\n\\t\\t</div>\\n\\t</body>\\n</html>\\n\\n'\n"
     ]
    }
   ],
   "source": [
    "print(html_str)"
   ]
  },
  {
   "cell_type": "code",
   "execution_count": 279,
   "metadata": {
    "collapsed": true
   },
   "outputs": [],
   "source": [
    "document = BeautifulSoup(html_str, \"html.parser\")"
   ]
  },
  {
   "cell_type": "code",
   "execution_count": 280,
   "metadata": {
    "collapsed": false
   },
   "outputs": [
    {
     "data": {
      "text/plain": [
       "bs4.BeautifulSoup"
      ]
     },
     "execution_count": 280,
     "metadata": {},
     "output_type": "execute_result"
    }
   ],
   "source": [
    "type(document)"
   ]
  },
  {
   "cell_type": "code",
   "execution_count": 281,
   "metadata": {
    "collapsed": true
   },
   "outputs": [],
   "source": [
    "h1_tag = document.find(\"h1\")"
   ]
  },
  {
   "cell_type": "code",
   "execution_count": 282,
   "metadata": {
    "collapsed": false
   },
   "outputs": [
    {
     "name": "stdout",
     "output_type": "stream",
     "text": [
      "Kittens and the TV Shows They Love\n"
     ]
    }
   ],
   "source": [
    "h1_tag.string\n",
    "print(h1_tag.string)"
   ]
  },
  {
   "cell_type": "code",
   "execution_count": 283,
   "metadata": {
    "collapsed": true
   },
   "outputs": [],
   "source": [
    "img_tag = document.find('img')"
   ]
  },
  {
   "cell_type": "code",
   "execution_count": 284,
   "metadata": {
    "collapsed": true
   },
   "outputs": [],
   "source": [
    "img_tag.string #no sale nada por que el string es lo que esta in between tags y el image tag no tiene closing tab"
   ]
  },
  {
   "cell_type": "code",
   "execution_count": 285,
   "metadata": {
    "collapsed": false
   },
   "outputs": [
    {
     "data": {
      "text/plain": [
       "'http://placekitten.com/120/120'"
      ]
     },
     "execution_count": 285,
     "metadata": {},
     "output_type": "execute_result"
    }
   ],
   "source": [
    "img_tag['src'] #entonces you treat the tag as if it were a dictionary and put in brackets the name of the attribute that you want. "
   ]
  },
  {
   "cell_type": "code",
   "execution_count": 286,
   "metadata": {
    "collapsed": true
   },
   "outputs": [],
   "source": [
    "img_tags = document.find_all('img')"
   ]
  },
  {
   "cell_type": "code",
   "execution_count": 287,
   "metadata": {
    "collapsed": false
   },
   "outputs": [
    {
     "data": {
      "text/plain": [
       "bs4.element.ResultSet"
      ]
     },
     "execution_count": 287,
     "metadata": {},
     "output_type": "execute_result"
    }
   ],
   "source": [
    "type(img_tags)"
   ]
  },
  {
   "cell_type": "code",
   "execution_count": 288,
   "metadata": {
    "collapsed": false
   },
   "outputs": [
    {
     "data": {
      "text/plain": [
       "<img src=\"http://placekitten.com/120/120\"/>"
      ]
     },
     "execution_count": 288,
     "metadata": {},
     "output_type": "execute_result"
    }
   ],
   "source": [
    "img_tags[0]"
   ]
  },
  {
   "cell_type": "code",
   "execution_count": 289,
   "metadata": {
    "collapsed": false
   },
   "outputs": [],
   "source": [
    "first_image = img_tags[0]"
   ]
  },
  {
   "cell_type": "code",
   "execution_count": 290,
   "metadata": {
    "collapsed": false
   },
   "outputs": [
    {
     "data": {
      "text/plain": [
       "'http://placekitten.com/120/120'"
      ]
     },
     "execution_count": 290,
     "metadata": {},
     "output_type": "execute_result"
    }
   ],
   "source": [
    "first_image['src']"
   ]
  },
  {
   "cell_type": "code",
   "execution_count": 291,
   "metadata": {
    "collapsed": false
   },
   "outputs": [
    {
     "name": "stdout",
     "output_type": "stream",
     "text": [
      "http://placekitten.com/120/120\n",
      "http://placekitten.com/110/110\n"
     ]
    }
   ],
   "source": [
    "for item in img_tags:\n",
    "    print(item['src'])"
   ]
  },
  {
   "cell_type": "code",
   "execution_count": 292,
   "metadata": {
    "collapsed": false
   },
   "outputs": [
    {
     "data": {
      "text/plain": [
       "[<h2>Fluffy</h2>, <h2>Monsieur Whiskeurs</h2>]"
      ]
     },
     "execution_count": 292,
     "metadata": {},
     "output_type": "execute_result"
    }
   ],
   "source": [
    "document.find_all('h2')"
   ]
  },
  {
   "cell_type": "code",
   "execution_count": 293,
   "metadata": {
    "collapsed": true
   },
   "outputs": [],
   "source": [
    "h2_tags = document.find_all('h2')"
   ]
  },
  {
   "cell_type": "code",
   "execution_count": 294,
   "metadata": {
    "collapsed": false
   },
   "outputs": [
    {
     "name": "stdout",
     "output_type": "stream",
     "text": [
      "Fluffy\n",
      "Monsieur Whiskeurs\n"
     ]
    }
   ],
   "source": [
    "for item in h2_tags:\n",
    "    print(item.string)"
   ]
  },
  {
   "cell_type": "code",
   "execution_count": 295,
   "metadata": {
    "collapsed": true
   },
   "outputs": [],
   "source": [
    "checkups = document.find_all('span', {'class': 'lastcheckup'})"
   ]
  },
  {
   "cell_type": "code",
   "execution_count": 296,
   "metadata": {
    "collapsed": false
   },
   "outputs": [
    {
     "name": "stdout",
     "output_type": "stream",
     "text": [
      "2014-01-17\n",
      "2013-11-02\n"
     ]
    }
   ],
   "source": [
    "for items in checkups:\n",
    "    print(items.string)"
   ]
  },
  {
   "cell_type": "markdown",
   "metadata": {},
   "source": [
    "### Output --> name of kitten along with kitten last checkup date"
   ]
  },
  {
   "cell_type": "code",
   "execution_count": 297,
   "metadata": {
    "collapsed": true
   },
   "outputs": [],
   "source": [
    "div_tags = document.find_all('div', {'class': 'kitten'})"
   ]
  },
  {
   "cell_type": "code",
   "execution_count": 298,
   "metadata": {
    "collapsed": false
   },
   "outputs": [
    {
     "name": "stdout",
     "output_type": "stream",
     "text": [
      "Fluffy\n",
      "2014-01-17\n",
      "Fluffy\n",
      "2014-01-17\n"
     ]
    }
   ],
   "source": [
    "kittens = document.find_all('div', {'class': 'kitten'})\n",
    "for item in kittens:\n",
    "    h2_tag = document.find('h2')\n",
    "    print(h2_tag.string)\n",
    "    checkup = document.find('span')\n",
    "    print(checkup.string)\n",
    "#esto NO SIRVE!!!!!! no es la manera de hacerlo"
   ]
  },
  {
   "cell_type": "code",
   "execution_count": 299,
   "metadata": {
    "collapsed": false
   },
   "outputs": [
    {
     "name": "stdout",
     "output_type": "stream",
     "text": [
      "Fluffy: 2014-01-17\n",
      "Monsieur Whiskeurs: 2013-11-02\n"
     ]
    }
   ],
   "source": [
    "kittens = document.find_all('div', {'class': 'kitten'})\n",
    "for item in kittens:\n",
    "    h2_tag = item.find('h2')\n",
    "    checkup = item.find('span')\n",
    "    print(h2_tag.string + \": \" + checkup.string )\n",
    "    \n",
    "   \n",
    "    \n",
    "#aqui estamos usando el find method solo para buscar los descendants of the item tag which in this case is div class kitten."
   ]
  },
  {
   "cell_type": "code",
   "execution_count": 300,
   "metadata": {
    "collapsed": false
   },
   "outputs": [
    {
     "name": "stdout",
     "output_type": "stream",
     "text": [
      "Fluffy\n"
     ]
    }
   ],
   "source": [
    "first_kitten = kittens[0]\n",
    "first_kitten_h2 = first_kitten.find('h2')\n",
    "print(first_kitten_h2.string)"
   ]
  },
  {
   "cell_type": "code",
   "execution_count": 301,
   "metadata": {
    "collapsed": false
   },
   "outputs": [
    {
     "name": "stdout",
     "output_type": "stream",
     "text": [
      "Monsieur Whiskeurs\n"
     ]
    }
   ],
   "source": [
    "second_kitten = kittens[1]\n",
    "second_kitten_h2 = second_kitten.find('h2')\n",
    "print(second_kitten_h2.string)"
   ]
  },
  {
   "cell_type": "markdown",
   "metadata": {},
   "source": [
    "### ejemplo de joining lists "
   ]
  },
  {
   "cell_type": "code",
   "execution_count": 302,
   "metadata": {
    "collapsed": false
   },
   "outputs": [
    {
     "data": {
      "text/plain": [
       "'mercury,venus,earth'"
      ]
     },
     "execution_count": 302,
     "metadata": {},
     "output_type": "execute_result"
    }
   ],
   "source": [
    "planets = ['mercury', 'venus', 'earth']\n",
    "separator = ','\n",
    "separator.join(planets)\n",
    "\n",
    "#or without variable you can do\n",
    "\n",
    "','.join(planets)"
   ]
  },
  {
   "cell_type": "code",
   "execution_count": 303,
   "metadata": {
    "collapsed": false
   },
   "outputs": [
    {
     "name": "stdout",
     "output_type": "stream",
     "text": [
      "mercury&\n",
      "venus&\n",
      "earth\n"
     ]
    }
   ],
   "source": [
    "print('&\\n'.join(planets))"
   ]
  },
  {
   "cell_type": "code",
   "execution_count": 304,
   "metadata": {
    "collapsed": false
   },
   "outputs": [
    {
     "name": "stdout",
     "output_type": "stream",
     "text": [
      "mercury&\n",
      "venus\n"
     ]
    }
   ],
   "source": [
    "print('&\\n'.join(planets[:2]))"
   ]
  },
  {
   "cell_type": "markdown",
   "metadata": {},
   "source": [
    "### Output --> name of kitten along with name of favorite tv shows"
   ]
  },
  {
   "cell_type": "code",
   "execution_count": 305,
   "metadata": {
    "collapsed": false
   },
   "outputs": [
    {
     "name": "stdout",
     "output_type": "stream",
     "text": [
      "Fluffy :  [<a href=\"http://www.imdb.com/title/tt0106145/\">Deep Space Nine</a>, <a href=\"http://www.imdb.com/title/tt0088576/\">Mr. Belvedere</a>]\n",
      "Monsieur Whiskeurs :  [<a href=\"http://www.imdb.com/title/tt0106179/\">The X-Files</a>, <a href=\"http://www.imdb.com/title/tt0098800/\">Fresh Prince</a>]\n"
     ]
    }
   ],
   "source": [
    "kittens = document.find_all('div', {'class': 'kitten'})\n",
    "for item in kittens:\n",
    "    h2_tag = item.find('h2')\n",
    "    a_tags = item.find_all('a') #this is now going to find all a as a list\n",
    "    print(h2_tag.string, \": \", a_tags)\n",
    "    \n",
    "   #no esta bien, no que queremos es el contenido dentro de las a osea \"deep space nine\", \"the x-files\""
   ]
  },
  {
   "cell_type": "code",
   "execution_count": 306,
   "metadata": {
    "collapsed": false
   },
   "outputs": [
    {
     "name": "stdout",
     "output_type": "stream",
     "text": [
      "Fluffy\n",
      "- Deep Space Nine\n",
      "- Mr. Belvedere\n",
      "Monsieur Whiskeurs\n",
      "- The X-Files\n",
      "- Fresh Prince\n"
     ]
    }
   ],
   "source": [
    "kittens = document.find_all('div', {'class': 'kitten'})\n",
    "for item in kittens:\n",
    "    h2_tag = item.find('h2')\n",
    "    a_tags = item.find_all('a') \n",
    "    print(h2_tag.string)\n",
    "    for a_tag_item in a_tags:\n",
    "        print(\"-\", a_tag_item.string)\n",
    "    \n",
    "    #not quite"
   ]
  },
  {
   "cell_type": "markdown",
   "metadata": {},
   "source": [
    "# append explanation"
   ]
  },
  {
   "cell_type": "code",
   "execution_count": 307,
   "metadata": {
    "collapsed": false
   },
   "outputs": [
    {
     "data": {
      "text/plain": [
       "'a'"
      ]
     },
     "execution_count": 307,
     "metadata": {},
     "output_type": "execute_result"
    }
   ],
   "source": [
    "x = ['a', 'b', 'c']\n",
    "x[0]\n"
   ]
  },
  {
   "cell_type": "code",
   "execution_count": 308,
   "metadata": {
    "collapsed": true
   },
   "outputs": [],
   "source": [
    "x.append('e')"
   ]
  },
  {
   "cell_type": "code",
   "execution_count": 309,
   "metadata": {
    "collapsed": false
   },
   "outputs": [
    {
     "data": {
      "text/plain": [
       "4"
      ]
     },
     "execution_count": 309,
     "metadata": {},
     "output_type": "execute_result"
    }
   ],
   "source": [
    "len(x)"
   ]
  },
  {
   "cell_type": "code",
   "execution_count": 310,
   "metadata": {
    "collapsed": false
   },
   "outputs": [
    {
     "ename": "IndexError",
     "evalue": "list index out of range",
     "output_type": "error",
     "traceback": [
      "\u001b[0;31m---------------------------------------------------------------------------\u001b[0m",
      "\u001b[0;31mIndexError\u001b[0m                                Traceback (most recent call last)",
      "\u001b[0;32m<ipython-input-310-183d92e7b696>\u001b[0m in \u001b[0;36m<module>\u001b[0;34m()\u001b[0m\n\u001b[0;32m----> 1\u001b[0;31m \u001b[0mx\u001b[0m\u001b[0;34m[\u001b[0m\u001b[0;36m4\u001b[0m\u001b[0;34m]\u001b[0m\u001b[0;34m\u001b[0m\u001b[0m\n\u001b[0m",
      "\u001b[0;31mIndexError\u001b[0m: list index out of range"
     ]
    }
   ],
   "source": [
    "x[4]"
   ]
  },
  {
   "cell_type": "code",
   "execution_count": null,
   "metadata": {
    "collapsed": true
   },
   "outputs": [],
   "source": [
    "numbers = [1,2,3,4,5,6]\n",
    "# end up with: [1,4,9,16,25,36]"
   ]
  },
  {
   "cell_type": "code",
   "execution_count": null,
   "metadata": {
    "collapsed": false
   },
   "outputs": [],
   "source": [
    "squared = []\n",
    "for item in numbers:\n",
    "    s = item * item\n",
    "    squared.append(s)\n"
   ]
  },
  {
   "cell_type": "code",
   "execution_count": null,
   "metadata": {
    "collapsed": false
   },
   "outputs": [],
   "source": [
    "squared"
   ]
  },
  {
   "cell_type": "code",
   "execution_count": 320,
   "metadata": {
    "collapsed": false
   },
   "outputs": [
    {
     "name": "stdout",
     "output_type": "stream",
     "text": [
      "Fluffy: Deep Space Nine, Mr. Belvedere\n",
      "Monsieur Whiskeurs: The X-Files, Fresh Prince\n"
     ]
    }
   ],
   "source": [
    "kittens = document.find_all('div', {'class': 'kitten'}) #we found all div tags in the documents with the class of kitten.\n",
    "for item in kittens:\n",
    "    h2_tag = item.find('h2')\n",
    "    a_tags = item.find_all('a') \n",
    "    all_shows_str = []#we created a new list that is filled with the strings inside the anchor tab\n",
    "    for a_tag_item in a_tags:\n",
    "        tag_str = a_tag_item.string\n",
    "        all_shows_str.append(tag_str)\n",
    "    string_with_all_show_names = \", \".join(all_shows_str) \n",
    "    print(h2_tag.string + \":\", string_with_all_show_names)    \n"
   ]
  },
  {
   "cell_type": "markdown",
   "metadata": {
    "collapsed": true
   },
   "source": [
    "Create a data structure that looks like this:\n",
    "    [\n",
    "        {'name': 'fluffy', 'tvshows': ['Deep Space Nine', 'Mr.Beldevedere']},\n",
    "        {'name': 'Monsieur Whiskeurs', 'tvshows': ['The X-Files', 'Fresh Prince']}\n",
    "    ]\n",
    "each of the dictionaries iss going to represent a single entry\n",
    "instead of printing out the data we have to create a new data structure"
   ]
  },
  {
   "cell_type": "code",
   "execution_count": 321,
   "metadata": {
    "collapsed": false
   },
   "outputs": [
    {
     "data": {
      "text/plain": [
       "[{'name': 'Fluffy', 'tvshows': ['Deep Space Nine', 'Mr. Belvedere']},\n",
       " {'name': 'Monsieur Whiskeurs', 'tvshows': ['The X-Files', 'Fresh Prince']}]"
      ]
     },
     "execution_count": 321,
     "metadata": {},
     "output_type": "execute_result"
    }
   ],
   "source": [
    "kittens_data = []\n",
    "kittens = document.find_all('div', {'class': 'kitten'}) \n",
    "for item in kittens:\n",
    "    h2_tag = item.find('h2') \n",
    "    a_tags = item.find_all('a') \n",
    "    all_shows_str = [] \n",
    "    for a_tag_item in a_tags:\n",
    "        tag_str = a_tag_item.string\n",
    "        all_shows_str.append(tag_str)\n",
    "    # 1)we need to create a dictionary and add to it the relevant key/value\n",
    "    kitten_map = {}\n",
    "    kitten_map['name'] = h2_tag.string\n",
    "    kitten_map['tvshows'] = all_shows_str\n",
    "   \n",
    "    # 2)append that dictionary \n",
    "    kittens_data.append(kitten_map)\n",
    "kittens_data\n",
    "     \n",
    "    #print(h2_tag.string + \":\", string_with_all_show_names)"
   ]
  },
  {
   "cell_type": "code",
   "execution_count": 322,
   "metadata": {
    "collapsed": true
   },
   "outputs": [],
   "source": [
    "#other option is to put a single variable with all the info in it."
   ]
  },
  {
   "cell_type": "code",
   "execution_count": 323,
   "metadata": {
    "collapsed": false
   },
   "outputs": [
    {
     "data": {
      "text/plain": [
       "[{'name': 'Fluffy', 'tvshows': ['Deep Space Nine', 'Mr. Belvedere']},\n",
       " {'name': 'Monsieur Whiskeurs', 'tvshows': ['The X-Files', 'Fresh Prince']}]"
      ]
     },
     "execution_count": 323,
     "metadata": {},
     "output_type": "execute_result"
    }
   ],
   "source": [
    "kittens_data = []\n",
    "kittens = document.find_all('div', {'class': 'kitten'}) \n",
    "for item in kittens:\n",
    "    h2_tag = item.find('h2') \n",
    "    a_tags = item.find_all('a') \n",
    "    all_shows_str = [] \n",
    "    for a_tag_item in a_tags:\n",
    "        tag_str = a_tag_item.string\n",
    "        all_shows_str.append(tag_str)\n",
    "    # 1)we need to create a dictionary and add to it the relevant key/value\n",
    "    kitten_map = {'name': h2_tag.string,'tvshows': all_shows_str}\n",
    "   \n",
    "    # 2)append that dictionary \n",
    "    kittens_data.append(kitten_map)\n",
    "    \n",
    "kittens_data\n",
    "     \n",
    "    #print(h2_tag.string + \":\", string_with_all_show_names)"
   ]
  },
  {
   "cell_type": "code",
   "execution_count": 324,
   "metadata": {
    "collapsed": true
   },
   "outputs": [],
   "source": [
    "#now we are doing the same thing but we want to include in the dictionary the kitten's last check-up date\n",
    "#[{'name': 'Fluffy', 'tvshows': ['Deep Space Nine', 'Mr. Belvedere'], 'last_checkup': 2014-01-07},\n",
    "#{'name': 'Monsieur Whiskeurs', 'tvshows': ['The X-Files', 'Fresh Prince'], 'last_checkup': 2014-01-07 }]"
   ]
  },
  {
   "cell_type": "code",
   "execution_count": 325,
   "metadata": {
    "collapsed": false
   },
   "outputs": [
    {
     "name": "stdout",
     "output_type": "stream",
     "text": [
      "[{'name': 'Fluffy', 'tvshows': ['Deep Space Nine', 'Mr. Belvedere'], 'checkup': '2014-01-17'}, {'name': 'Monsieur Whiskeurs', 'tvshows': ['The X-Files', 'Fresh Prince'], 'checkup': '2013-11-02'}]\n"
     ]
    },
    {
     "data": {
      "text/plain": [
       "[{'checkup': '2014-01-17',\n",
       "  'name': 'Fluffy',\n",
       "  'tvshows': ['Deep Space Nine', 'Mr. Belvedere']},\n",
       " {'checkup': '2013-11-02',\n",
       "  'name': 'Monsieur Whiskeurs',\n",
       "  'tvshows': ['The X-Files', 'Fresh Prince']}]"
      ]
     },
     "execution_count": 325,
     "metadata": {},
     "output_type": "execute_result"
    }
   ],
   "source": [
    "kittens_data = []\n",
    "kittens = document.find_all('div', {'class': 'kitten'}) \n",
    "for item in kittens:\n",
    "    h2_tag = item.find('h2') \n",
    "    a_tags = item.find_all('a') \n",
    "    all_shows_str = [] \n",
    "    for a_tag_item in a_tags:\n",
    "        tag_str = a_tag_item.string\n",
    "        all_shows_str.append(tag_str)\n",
    "    checkup = item.find('span')\n",
    "    kittens_data.append({'name': h2_tag.string,'tvshows': all_shows_str, 'checkup': checkup.string})\n",
    "\n",
    "print(kittens_data)\n",
    "\n",
    "kittens_data\n",
    "\n",
    "     "
   ]
  },
  {
   "cell_type": "markdown",
   "metadata": {},
   "source": [
    "# Making Dictionaries"
   ]
  },
  {
   "cell_type": "code",
   "execution_count": 326,
   "metadata": {
    "collapsed": false
   },
   "outputs": [
    {
     "data": {
      "text/plain": [
       "1"
      ]
     },
     "execution_count": 326,
     "metadata": {},
     "output_type": "execute_result"
    }
   ],
   "source": [
    "x = {'a': 1, 'b':2, 'c':3} #three keys and three values\n",
    "#to get a value out:\n",
    "x['a']"
   ]
  },
  {
   "cell_type": "code",
   "execution_count": 327,
   "metadata": {
    "collapsed": false
   },
   "outputs": [
    {
     "data": {
      "text/plain": [
       "dict_keys(['c', 'b', 'a'])"
      ]
     },
     "execution_count": 327,
     "metadata": {},
     "output_type": "execute_result"
    }
   ],
   "source": [
    "x.keys()"
   ]
  },
  {
   "cell_type": "code",
   "execution_count": 328,
   "metadata": {
    "collapsed": false
   },
   "outputs": [
    {
     "name": "stdout",
     "output_type": "stream",
     "text": [
      "c\n",
      "b\n",
      "a\n"
     ]
    }
   ],
   "source": [
    "for k in x.keys():\n",
    "    print(k)\n",
    "#si loopeas un dictionario no te van a salir con un especifico orden"
   ]
  },
  {
   "cell_type": "code",
   "execution_count": 329,
   "metadata": {
    "collapsed": false
   },
   "outputs": [
    {
     "data": {
      "text/plain": [
       "{1: 1, 2: 4, 3: 9, 4: 16, 5: 25, 6: 36, 7: 49, 8: 64, 9: 81, 10: 100}"
      ]
     },
     "execution_count": 329,
     "metadata": {},
     "output_type": "execute_result"
    }
   ],
   "source": [
    "#target : {1: 1, 2: 4, 3: 9, 4: 16, 5: 25}\n",
    "squares = {}\n",
    "for n in range(1, 11):\n",
    "    squares[n] = n * n\n",
    "squares\n"
   ]
  },
  {
   "cell_type": "code",
   "execution_count": 330,
   "metadata": {
    "collapsed": false
   },
   "outputs": [
    {
     "data": {
      "text/plain": [
       "49"
      ]
     },
     "execution_count": 330,
     "metadata": {},
     "output_type": "execute_result"
    }
   ],
   "source": [
    "squares[7]"
   ]
  },
  {
   "cell_type": "code",
   "execution_count": 331,
   "metadata": {
    "collapsed": false
   },
   "outputs": [
    {
     "data": {
      "text/plain": [
       "{'Aaron': 5, 'Bob': 3, 'Lucy': 4, 'Mercy': 5}"
      ]
     },
     "execution_count": 331,
     "metadata": {},
     "output_type": "execute_result"
    }
   ],
   "source": [
    "names = ['Aaron', 'Bob', 'Lucy', 'Mercy']\n",
    "#target = dictionary that has {'Aaron': 5, \"Bob\": 3}\n",
    "\n",
    "name_length_map = {}\n",
    "for item in names:\n",
    "    name_length_map[item] = len(item)\n",
    "name_length_map"
   ]
  },
  {
   "cell_type": "code",
   "execution_count": 332,
   "metadata": {
    "collapsed": false
   },
   "outputs": [
    {
     "data": {
      "text/plain": [
       "5"
      ]
     },
     "execution_count": 332,
     "metadata": {},
     "output_type": "execute_result"
    }
   ],
   "source": [
    "name_length_map['Mercy']"
   ]
  },
  {
   "cell_type": "code",
   "execution_count": 333,
   "metadata": {
    "collapsed": true
   },
   "outputs": [],
   "source": [
    "#ESTO ME SIRVE PARA ARRIBA... LO DE LOS GATOS"
   ]
  },
  {
   "cell_type": "markdown",
   "metadata": {},
   "source": [
    "# SCRAPPING THE FACULTY\n",
    "cuantos son adjunct?\n",
    "\n",
    "*FIND ALL THE <li>\n",
    "    *find the <h4> inside the <li>\n",
    "        *inside the <h4> the name is the content of an <a>\n",
    "    *inside the <li> tags, find the <p> with class description\n",
    "        *the tile of the proffesor is the content of that tag.\n"
   ]
  },
  {
   "cell_type": "code",
   "execution_count": 334,
   "metadata": {
    "collapsed": true
   },
   "outputs": [],
   "source": [
    "from urllib.request import urlopen\n",
    "faculty_html = urlopen('http://www.journalism.columbia.edu/page/10/10?category_ids%5B%5D=2&category_ids%5B%5D=3&category_ids%5B%5D=37').read()"
   ]
  },
  {
   "cell_type": "code",
   "execution_count": 335,
   "metadata": {
    "collapsed": false
   },
   "outputs": [
    {
     "name": "stdout",
     "output_type": "stream",
     "text": [
      "b'<!doctype html>\\n<!--[if IE 7]>\\n<html class=\"ie ie7\" lang=\"en-US\">\\n<![endif]-->\\n<!--[if IE 8]>\\n<html class=\"ie ie8\" lang=\"en-US\">\\n<![endif]-->\\n<!--[if IE 9]>\\n<html class=\"ie ie9\" lang=\"en-US\">\\n<![endif]-->\\n<!--[if !(IE 7) | !(IE 8) | !(IE 9)  ]><!-->\\n<html lang=\"en-US\">\\n<!--<![endif]-->\\n<head>\\n\\t<meta charset=\"utf-8\" />\\n\\t<title> Full-Time, Adjunct & Visiting Faculty - Columbia University Graduate School of Journalism</title>\\n\\t<meta name=\"description\" content=\\'\\'>\\n\\t<meta name=\"keywords\" content=\\'\\'>\\n\\t<meta name=\"viewport\" content=\"width=device-width, initial-scale=1.0\">\\n\\t<link rel=\"shortcut icon\" href=\"/images/theme_images/mike1/favicon.ico\"/>\\n\\t\\n\\t<link type=\"text/css\" rel=\"stylesheet\" href=\"/stylesheets/theme_stylesheets/mike1/style.css\" media=\"all\">\\n\\t<link type=\"text/css\" rel=\"stylesheet\" href=\"/stylesheets/theme_stylesheets/mike1/flexslider.css\" media=\"all\">\\n\\t<link type=\"text/css\" rel=\"stylesheet\" href=\"/stylesheets/theme_stylesheets/mike1/colorbox.css\" media=\"all\">\\n\\t<!--[if lte IE 8]>\\n\\t\\t<script type=\"text/javascript\" src=\"/javascripts/theme_scripts/mike1/html5.js\"></script>\\n\\t<![endif]-->\\n\\t<script type=\"text/javascript\" src=\"/javascripts/theme_scripts/mike1/jquery.js\"></script>\\n\\t<script type=\"text/javascript\" src=\"/javascripts/theme_scripts/mike1/jquery.flexslider.js\"></script>\\n\\t<script type=\"text/javascript\" src=\"/javascripts/theme_scripts/mike1/jquery.colorbox.js\"></script>\\n\\t<script type=\"text/javascript\" src=\"/javascripts/theme_scripts/mike1/jquery.ui.tumblr.rss.js\"></script>\\n\\t<script type=\"text/javascript\" src=\"/javascripts/theme_scripts/mike1/jquery.tablesorter.min.js\"></script>\\n\\t<script type=\"text/javascript\" src=\"/javascripts/theme_scripts/mike1/main.js\"></script>\\t\\n\\t<script type=\"text/javascript\"  src=\"/javascripts/theme_scripts/mike1/moment.min.js\"></script>\\n\\t<script type=\"text/javascript\"  src=\"/javascripts/theme_scripts/mike1/underscore-min.js\"></script>\\n\\t<script type=\"text/javascript\"  src=\"/javascripts/theme_scripts/mike1/clndr.min.js\"></script>\\n\\n\\n<script type=\"text/javascript\">\\n<!-- this hides script from old browsers\\nfunction openVideo() {\\n        window.open(\\'video.asp\\', \\'popup\\', \\'scrollbars=no,status=no,toolbar=no,location=no,menubar=no,resizable=no,width=350,height=285,top=150,left=150\\');\\n}\\nfunction openVideo3() {\\n        window.open(\\'video3.asp\\', \\'popup\\', \\'scrollbars=no,status=no,toolbar=no,location=no,menubar=no,resizable=no,width=350,height=285,top=150,left=150\\');\\n}\\nfunction openVideo4() {\\n        window.open(\\'video4.asp\\', \\'popup\\', \\'scrollbars=no,status=no,toolbar=no,location=no,menubar=no,resizable=no,width=350,height=285,top=150,left=150\\');\\n}\\nfunction MM_openBrWindow(theURL,winName,features) { \\n  window.open(theURL,winName,features);\\n}\\n// This ends hiding scripr from old browsers -->\\n</script>\\n\\n\\n\\n<link rel=\"alternate\" type=\"application/rss+xml\" \\n      title=\"RSS\" href=\"/feed/10.rss\">\\n\\n\\n\\n\\n</head>\\n\\t\\n\\n\\n\\n\\n\\n\\n\\n\\n \\n <!-- if page is not protected -->\\n\\n<body>\\n\\t\\t<div id=\"small-screen-nav\">\\n\\t<div id=\"logo-small\"><a href=\"/\" title=\"Home\"><img src=\"/images/theme_images/mike1/logo-horizontal-2.png\" alt=\"Columbia Journalism School\"/></a></div>\\n<input type=\"checkbox\" id=\"menu\">\\n<label for=\"menu\" onclick></label>\\n<form action=\"http://www.journalism.columbia.edu/sites/search\" method=\"get\" id=\"header-search-form2\">\\n\\t<label for=\"query\" class=\"hidden\">Site Search:</label>\\n\\t<input type=\"text\" class=\"text\" name=\"query\" id=\"query\" placeholder=\"Site Search\" />\\n\\t<input type=\"submit\" class=\"submit\" name=\"go\" value=\"Go\" />\\n</form>\\n<nav id=\"mobileMenu\" role=\"off-canvas\">\\n\\t<ul>\\n\\t\\t\\n\\t\\t\\n\\t\\t\\n\\t\\t\\n\\t\\t  \\n\\n\\t\\t\\t\\t\\n\\t\\t\\t\\t\\t\\n\\t\\t\\t\\t\\t\\n\\n\\t\\t\\t\\t\\t\\t\\n\\n\\t\\t\\t\\t\\t\\n\\t\\t\\t\\t\\t\\t\\n\\t\\t\\t\\t\\t\\t\\t\\n\\t\\t\\t\\t\\t\\t\\t\\t<li><a href=\"/page/1-about-the-school/1\">About the School</a> </li>\\n\\t\\t\\t\\t\\t\\t\\t\\n\\t\\t\\t\\t\\t\\t\\n\\n\\t\\t\\t\\t\\t\\n\\n\\t\\t\\t\\n\\t\\t  \\n\\t\\t\\n\\t\\t\\n\\t\\t  \\n\\n\\t\\t\\t\\t\\n\\t\\t\\t\\t\\t\\n\\t\\t\\t\\t\\t\\n\\n\\t\\t\\t\\t\\t\\t\\n\\n\\t\\t\\t\\t\\t\\n\\t\\t\\t\\t\\t\\t\\n\\t\\t\\t\\t\\t\\t\\t\\n\\t\\t\\t\\t\\t\\t\\t\\t<li><a href=\"/page/7-our-programs/7\">Academic Programs</a> </li>\\n\\t\\t\\t\\t\\t\\t\\t\\n\\t\\t\\t\\t\\t\\t\\n\\n\\t\\t\\t\\t\\t\\n\\n\\t\\t\\t\\n\\t\\t  \\n\\t\\t\\n\\t\\t\\n\\t\\t  \\n\\n\\t\\t\\t\\t\\n\\t\\t\\t\\t\\t\\n\\t\\t\\t\\t\\t\\n\\n\\t\\t\\t\\t\\t\\t\\n\\n\\t\\t\\t\\t\\t\\n\\t\\t\\t\\t\\t\\t\\n\\t\\t\\t\\t\\t\\t\\t\\n\\t\\t\\t\\t\\t\\t\\t\\t<li><a href=\"/page/13-career-development/13\">Career Development</a> </li>\\n\\t\\t\\t\\t\\t\\t\\t\\n\\t\\t\\t\\t\\t\\t\\n\\n\\t\\t\\t\\t\\t\\n\\n\\t\\t\\t\\n\\t\\t  \\n\\t\\t\\n\\t\\t\\n\\t\\t  \\n\\n\\t\\t\\t\\t\\n\\t\\t\\t\\t\\t\\n\\t\\t\\t\\t\\t\\n\\n\\t\\t\\t\\t\\t\\t\\n\\n\\t\\t\\t\\t\\t\\n\\t\\t\\t\\t\\t\\t\\n\\t\\t\\t\\t\\t\\t\\t\\n\\t\\t\\t\\t\\t\\t\\t\\t<li><a href=\"/page/14-events-calendar/14\">Events</a> </li>\\n\\t\\t\\t\\t\\t\\t\\t\\n\\t\\t\\t\\t\\t\\t\\n\\n\\t\\t\\t\\t\\t\\n\\n\\t\\t\\t\\n\\t\\t  \\n\\t\\t\\n\\t\\t\\n\\t\\t  \\n\\n\\t\\t\\t\\t\\n\\t\\t\\t\\t\\t\\n\\t\\t\\t\\t\\t\\n\\n\\t\\t\\t\\t\\t\\t\\n\\t\\t\\t\\t\\t\\t\\t\\n\\t\\t\\t\\t\\t\\t\\n\\n\\t\\t\\t\\t\\t\\n\\t\\t\\t\\t\\t\\t\\n\\n\\t\\t\\t\\t\\t\\t<li><a href=\"/page/10-full-time-adjunct-visiting-faculty/10\" class=\"active\">Faculty</a></li>\\n\\t\\t\\t\\t\\t\\t\\n\\n\\t\\t\\t\\t\\t\\t\\n\\n\\t\\t\\t\\t\\t\\n\\n\\t\\t\\t\\n\\t\\t  \\n\\t\\t\\n\\t\\t\\n\\t\\t  \\n\\n\\t\\t\\t\\t\\n\\t\\t\\t\\t\\t\\n\\t\\t\\t\\t\\t\\n\\n\\t\\t\\t\\t\\t\\t\\n\\n\\t\\t\\t\\t\\t\\n\\t\\t\\t\\t\\t\\t\\n\\t\\t\\t\\t\\t\\t\\t\\n\\t\\t\\t\\t\\t\\t\\t\\t<li><a href=\"/page/430-press-room/2\">Press Room</a> </li>\\n\\t\\t\\t\\t\\t\\t\\t\\n\\t\\t\\t\\t\\t\\t\\n\\n\\t\\t\\t\\t\\t\\n\\n\\t\\t\\t\\n\\t\\t  \\n\\t\\t\\n\\t\\t\\n\\t\\t  \\n\\n\\t\\t\\t\\t\\n\\t\\t\\t\\t\\t\\n\\t\\t\\t\\t\\t\\n\\n\\t\\t\\t\\t\\t\\t\\n\\n\\t\\t\\t\\t\\t\\n\\t\\t\\t\\t\\t\\t\\n\\t\\t\\t\\t\\t\\t\\t\\n\\t\\t\\t\\t\\t\\t\\t\\t<li><a href=\"/page/162-student-work/748\">Student Work</a> </li>\\n\\t\\t\\t\\t\\t\\t\\t\\n\\t\\t\\t\\t\\t\\t\\n\\n\\t\\t\\t\\t\\t\\n\\n\\t\\t\\t\\n\\t\\t  \\n\\t\\t\\n\\t\\t\\n\\t\\t  \\n\\n\\t\\t\\t\\t\\n\\t\\t\\t\\t\\t\\n\\t\\t\\t\\t\\t\\n\\n\\t\\t\\t\\t\\t\\t\\n\\n\\t\\t\\t\\t\\t\\n\\t\\t\\t\\t\\t\\t\\n\\t\\t\\t\\t\\t\\t\\t\\n\\t\\t\\t\\t\\t\\t\\t\\t<li><a href=\"/page/4-prospective-students/4\">Prospective  Students</a> </li>\\n\\t\\t\\t\\t\\t\\t\\t\\n\\t\\t\\t\\t\\t\\t\\n\\n\\t\\t\\t\\t\\t\\n\\n\\t\\t\\t\\n\\t\\t  \\n\\t\\t\\n\\t\\t\\n\\t\\t  \\n\\n\\t\\t\\t\\t\\n\\t\\t\\t\\t\\t\\n\\t\\t\\t\\t\\t\\n\\n\\t\\t\\t\\t\\t\\t\\n\\n\\t\\t\\t\\t\\t\\n\\t\\t\\t\\t\\t\\t\\n\\t\\t\\t\\t\\t\\t\\t\\n\\t\\t\\t\\t\\t\\t\\t\\t<li><a href=\"/page/11-current-students/11\">Current Students</a> </li>\\n\\t\\t\\t\\t\\t\\t\\t\\n\\t\\t\\t\\t\\t\\t\\n\\n\\t\\t\\t\\t\\t\\n\\n\\t\\t\\t\\n\\t\\t  \\n\\t\\t\\n\\t\\t\\n\\t\\t  \\n\\n\\t\\t\\t\\t\\n\\t\\t\\t\\t\\t\\n\\t\\t\\t\\t\\t\\n\\n\\t\\t\\t\\t\\t\\t\\n\\n\\t\\t\\t\\t\\t\\n\\t\\t\\t\\t\\t\\t\\n\\t\\t\\t\\t\\t\\t\\t\\n\\t\\t\\t\\t\\t\\t\\t\\t<li><a href=\"/page/8-training-programs/8\">Professional Programs</a> </li>\\n\\t\\t\\t\\t\\t\\t\\t\\n\\t\\t\\t\\t\\t\\t\\n\\n\\t\\t\\t\\t\\t\\n\\n\\t\\t\\t\\n\\t\\t  \\n\\t\\t\\n\\t\\t\\n\\t\\t  \\n\\n\\t\\t\\t\\t\\n\\t\\t\\t\\t\\t\\n\\t\\t\\t\\t\\t\\n\\n\\t\\t\\t\\t\\t\\t\\n\\n\\t\\t\\t\\t\\t\\n\\t\\t\\t\\t\\t\\t\\n\\t\\t\\t\\t\\t\\t\\t\\n\\t\\t\\t\\t\\t\\t\\t\\t<li><a href=\"/page/12-alumni-and-friends/12\">Alumni & Friends</a> </li>\\n\\t\\t\\t\\t\\t\\t\\t\\n\\t\\t\\t\\t\\t\\t\\n\\n\\t\\t\\t\\t\\t\\n\\n\\t\\t\\t\\n\\t\\t  \\n\\t\\t\\n\\t\\t\\n\\t\\t  \\n\\n\\t\\t\\t\\t\\n\\t\\t\\t\\t\\t\\n\\t\\t\\t\\t\\t\\n\\n\\t\\t\\t\\t\\t\\t\\n\\n\\t\\t\\t\\t\\t\\n\\t\\t\\t\\t\\t\\t\\n\\t\\t\\t\\t\\t\\t\\t\\n\\t\\t\\t\\t\\t\\t\\t\\t<li><a href=\"/page/9-journalism-awards/9\">Journalism Awards</a> </li>\\n\\t\\t\\t\\t\\t\\t\\t\\n\\t\\t\\t\\t\\t\\t\\n\\n\\t\\t\\t\\t\\t\\n\\n\\t\\t\\t\\n\\t\\t  \\n\\t\\t\\n\\t\\t\\n\\t\\t  \\n\\n\\t\\t\\t\\t\\n\\t\\t\\t\\t\\t\\n\\t\\t\\t\\t\\t\\n\\n\\t\\t\\t\\t\\t\\t\\n\\n\\t\\t\\t\\t\\t\\n\\t\\t\\t\\t\\t\\t\\n\\t\\t\\t\\t\\t\\t\\t\\n\\t\\t\\t\\t\\t\\t\\t\\t<li><a href=\"/page/16-the-annual-fund/16\">Support the School</a> </li>\\n\\t\\t\\t\\t\\t\\t\\t\\n\\t\\t\\t\\t\\t\\t\\n\\n\\t\\t\\t\\t\\t\\n\\n\\t\\t\\t\\n\\n\\t\\t\\t\\t\\n\\t\\t\\t\\t\\t\\n\\t\\t\\t\\t\\t\\n\\n\\t\\t\\t\\t\\t\\t\\n\\n\\t\\t\\t\\t\\t\\n\\t\\t\\t\\t\\t\\t\\n\\n\\t\\t\\t\\t\\t\\n\\n\\t\\t\\t\\n\\t\\t  \\n\\t\\t\\n\\t\\t\\n\\t\\t  \\n\\n\\t\\t\\t\\t\\n\\t\\t\\t\\t\\t\\n\\t\\t\\t\\t\\t\\n\\n\\t\\t\\t\\t\\t\\t\\n\\n\\t\\t\\t\\t\\t\\n\\t\\t\\t\\t\\t\\t\\n\\t\\t\\t\\t\\t\\t\\t\\n\\t\\t\\t\\t\\t\\t\\t\\t<li><a href=\"/page/15-administrative-affairs/15\">Administrative Affairs</a> </li>\\n\\t\\t\\t\\t\\t\\t\\t\\n\\t\\t\\t\\t\\t\\t\\n\\n\\t\\t\\t\\t\\t\\n\\n\\t\\t\\t\\n\\t\\t  \\n\\t\\t\\n\\t\\t\\n\\t\\t  \\n\\n\\t\\t\\t\\t\\n\\t\\t\\t\\t\\t\\n\\t\\t\\t\\t\\t\\n\\n\\t\\t\\t\\t\\t\\t\\n\\n\\t\\t\\t\\t\\t\\n\\t\\t\\t\\t\\t\\t\\n\\t\\t\\t\\t\\t\\t\\t\\n\\t\\t\\t\\t\\t\\t\\t\\t<li><a href=\"/page/17-technology/17\">Technology</a> </li>\\n\\t\\t\\t\\t\\t\\t\\t\\n\\t\\t\\t\\t\\t\\t\\n\\n\\t\\t\\t\\t\\t\\n\\n\\t\\t\\t\\n\\t\\t  \\n\\t\\t\\n\\t\\t\\n\\t\\t  \\n\\n\\t\\t\\t\\t\\n\\t\\t\\t\\t\\t\\n\\t\\t\\t\\t\\t\\n\\n\\t\\t\\t\\t\\t\\t\\n\\n\\t\\t\\t\\t\\t\\n\\t\\t\\t\\t\\t\\t\\n\\t\\t\\t\\t\\t\\t\\t\\n\\t\\t\\t\\t\\t\\t\\t\\t<li><a href=\"/page/277-contacts/281\">Contacts</a> </li>\\n\\t\\t\\t\\t\\t\\t\\t\\n\\t\\t\\t\\t\\t\\t\\n\\n\\t\\t\\t\\t\\t\\n\\n\\t\\t\\t\\n\\t\\t  \\n\\t\\t\\n\\t\\t\\n\\t\\t\\n\\t</ul>\\n\\n\\n</nav>\\n</div>\\n\\t\\t\\n\\n\\t<div id=\"wrapper\">\\t\\t\\n\\t\\t<div id=\"body-shadow\">\\n\\t\\t\\t\\n\\t\\t\\t<nav id=\"top-menu\">\\n\\t<ul>\\n\\t\\t\\n\\n  \\n\\t\\n\\t\\t\\n\\t\\t\\t\\n\\t\\t\\t\\n\\n\\t\\t\\t\\t\\n\\n\\t\\t\\t\\n\\t\\t\\t\\t\\n\\t\\t\\t\\t\\t\\n\\t\\t\\t\\t\\t\\t<li><a href=\"/page/1-about-the-school/1\">About the School</a> </li>\\n\\t\\t\\t\\t\\t\\n\\t\\t\\t\\t\\n\\n\\t\\t\\t\\n\\n\\t\\n  \\n\\n\\n  \\n\\t\\n\\t\\t\\n\\t\\t\\t\\n\\t\\t\\t\\n\\n\\t\\t\\t\\t\\n\\n\\t\\t\\t\\n\\t\\t\\t\\t\\n\\t\\t\\t\\t\\t\\n\\t\\t\\t\\t\\t\\t<li><a href=\"/page/7-our-programs/7\">Academic Programs</a> </li>\\n\\t\\t\\t\\t\\t\\n\\t\\t\\t\\t\\n\\n\\t\\t\\t\\n\\n\\t\\n  \\n\\n\\n  \\n\\t\\n\\t\\t\\n\\t\\t\\t\\n\\t\\t\\t\\n\\n\\t\\t\\t\\t\\n\\n\\t\\t\\t\\n\\t\\t\\t\\t\\n\\t\\t\\t\\t\\t\\n\\t\\t\\t\\t\\t\\t<li><a href=\"/page/13-career-development/13\">Career Development</a> </li>\\n\\t\\t\\t\\t\\t\\n\\t\\t\\t\\t\\n\\n\\t\\t\\t\\n\\n\\t\\n  \\n\\n\\n  \\n\\t\\n\\t\\t\\n\\t\\t\\t\\n\\t\\t\\t\\n\\n\\t\\t\\t\\t\\n\\n\\t\\t\\t\\n\\t\\t\\t\\t\\n\\t\\t\\t\\t\\t\\n\\t\\t\\t\\t\\t\\t<li><a href=\"/page/14-events-calendar/14\">Events</a> </li>\\n\\t\\t\\t\\t\\t\\n\\t\\t\\t\\t\\n\\n\\t\\t\\t\\n\\n\\t\\n  \\n\\n\\n  \\n\\t\\n\\t\\t\\n\\t\\t\\t\\n\\t\\t\\t\\n\\n\\t\\t\\t\\t\\n\\t\\t\\t\\t\\t\\n\\t\\t\\t\\t\\n\\n\\t\\t\\t\\n\\t\\t\\t\\t\\n\\n\\t\\t\\t\\t<li><a href=\"/page/10-full-time-adjunct-visiting-faculty/10\" class=\"active\">Faculty</a></li>\\n\\t\\t\\t\\t\\n\\n\\t\\t\\t\\t\\n\\n\\t\\t\\t\\n\\n\\t\\n  \\n\\n\\n\\n  \\n\\t\\n\\t\\t\\n\\t\\t\\t\\n\\t\\t\\t\\n\\n\\t\\t\\t\\t\\n\\n\\t\\t\\t\\n\\t\\t\\t\\t\\n\\t\\t\\t\\t\\t\\n\\t\\t\\t\\t\\t\\t<li><a href=\"/page/162-student-work/748\">Student Work</a> </li>\\n\\t\\t\\t\\t\\t\\n\\t\\t\\t\\t\\n\\n\\t\\t\\t\\n\\n\\t\\n  \\n\\n\\n\\n\\n\\n\\n\\n\\n\\n\\n  \\n\\t\\n\\t\\t\\n\\t\\t\\t\\n\\t\\t\\t\\n\\n\\t\\t\\t\\t\\n\\n\\t\\t\\t\\n\\t\\t\\t\\t\\n\\t\\t\\t\\t\\t\\n\\t\\t\\t\\t\\t\\t<li><a href=\"/page/277-contacts/281\">Contacts</a> </li>\\n\\t\\t\\t\\t\\t\\n\\t\\t\\t\\t\\n\\n\\t\\t\\t\\n\\n\\t\\n  \\n\\n\\n\\n\\t</ul>\\n</nav>\\n\\n<header id=\"header\">\\n\\t\\n\\t<h1 id=\"logo\"><a href=\"/\" title=\"Home\">Columbia University Graduate School of Journalism</a></h1>\\n\\t\\n\\t<div class=\"content\">\\n\\t\\t\\n\\t\\t\\n\\t\\n\\n\\t\\t\\n\\t\\t<p id=\"header-donate\"><a href=\"https://giving.columbia.edu/giveonline/index.jsp?schoolstyle=180\" >Donate</a></p>\\n\\t\\t<p id=\"header-apply\"><a href=\"http://www.journalism.columbia.edu/page/72-apply/72\" >Apply</a></p>\\n\\t\\t<p id=\"header-subscribe\"><a id=\"subscribe-link\" href=\"http://eepurl.com/DD5sD\">Sign&nbsp;up</a></p>\\n\\t\\t\\n\\t\\t\\n\\t\\t\\n\\t\\n\\t\\t\\n\\t\\n\\t\\t\\n\\t\\n\\t\\t\\n\\t\\t\\n\\t\\t<form action=\"/sites/search\" method=\"get\" id=\"header-search-form\">\\n\\t\\t\\t<label for=\"query\" class=\"hidden\">Site Search:</label>\\n\\t\\t\\t<input type=\"text\" class=\"text\" name=\"query\" id=\"query\" placeholder=\"Site Search\" />\\n\\t\\t\\t<input type=\"submit\" class=\"submit\" name=\"go\" value=\"Go\" />\\n\\t\\t</form>\\n\\t\\t\\n\\t\\t<nav id=\"main-menu\">\\n\\t\\t\\t<ul>\\n\\t\\t\\t\\t\\n\\n\\n\\n\\n\\n\\n\\n\\n  \\n\\t\\n\\t\\t\\n\\t\\t\\t\\n\\t\\t\\t\\n\\n\\t\\t\\t\\t\\n\\n\\t\\t\\t\\n\\t\\t\\t\\t\\n\\t\\t\\t\\t\\t\\n\\t\\t\\t\\t\\t\\t<li><a href=\"/page/4-prospective-students/4\"><span>Prospective <br /> Students</span></a> </li>\\n\\t\\t\\t\\t\\t\\n\\t\\t\\t\\t\\n\\n\\t\\t\\t\\n\\n\\t\\n  \\n\\n\\n  \\n\\t\\n\\t\\t\\n\\t\\t\\t\\n\\t\\t\\t\\n\\n\\t\\t\\t\\t\\n\\n\\t\\t\\t\\n\\t\\t\\t\\t\\n\\t\\t\\t\\t\\t\\n\\t\\t\\t\\t\\t\\t<li><a href=\"/page/11-current-students/11\"><span>Current <br />Students</span></a> </li>\\n\\t\\t\\t\\t\\t\\n\\t\\t\\t\\t\\n\\n\\t\\t\\t\\n\\n\\t\\n  \\n\\n\\n  \\n\\t\\n\\t\\t\\n\\t\\t\\t\\n\\t\\t\\t\\n\\n\\t\\t\\t\\t\\n\\n\\t\\t\\t\\n\\t\\t\\t\\t\\n\\t\\t\\t\\t\\t\\n\\t\\t\\t\\t\\t\\t<li><a href=\"/page/8-training-programs/8\"><span>Professional <br />Programs</span></a> </li>\\n\\t\\t\\t\\t\\t\\n\\t\\t\\t\\t\\n\\n\\t\\t\\t\\n\\n\\t\\n  \\n\\n\\n  \\n\\t\\n\\t\\t\\n\\t\\t\\t\\n\\t\\t\\t\\n\\n\\t\\t\\t\\t\\n\\n\\t\\t\\t\\n\\t\\t\\t\\t\\n\\t\\t\\t\\t\\t\\n\\t\\t\\t\\t\\t\\t<li><a href=\"/page/12-alumni-and-friends/12\"><span>Alumni <br/>& Friends</span></a> </li>\\n\\t\\t\\t\\t\\t\\n\\t\\t\\t\\t\\n\\n\\t\\t\\t\\n\\n\\t\\n  \\n\\n\\n  \\n\\t\\n\\t\\t\\n\\t\\t\\t\\n\\t\\t\\t\\n\\n\\t\\t\\t\\t\\n\\n\\t\\t\\t\\n\\t\\t\\t\\t\\n\\t\\t\\t\\t\\t\\n\\t\\t\\t\\t\\t\\t<li><a href=\"/page/9-journalism-awards/9\"><span>Journalism <br />Awards</span></a> </li>\\n\\t\\t\\t\\t\\t\\n\\t\\t\\t\\t\\n\\n\\t\\t\\t\\n\\n\\t\\n  \\n\\n\\n  \\n\\t\\n\\t\\t\\n\\t\\t\\t\\n\\t\\t\\t\\n\\n\\t\\t\\t\\t\\n\\n\\t\\t\\t\\n\\t\\t\\t\\t\\n\\t\\t\\t\\t\\t\\n\\t\\t\\t\\t\\t\\t<li><a href=\"/page/16-the-annual-fund/16\"><span>Support <br />the School</span></a> </li>\\n\\t\\t\\t\\t\\t\\n\\t\\t\\t\\t\\n\\n\\t\\t\\t\\n\\n\\t\\n  \\n\\t\\n\\t\\t\\n\\t\\t\\t\\n\\t\\t\\t\\n\\n\\t\\t\\t\\t\\n\\n\\t\\t\\t\\n\\t\\t\\t\\t\\n\\n\\t\\t\\t\\n\\n\\t\\n  \\n\\n\\n\\n\\n\\n\\n\\t\\t\\t</ul>\\n\\t\\t</nav>\\t\\t\\t\\t\\t\\n\\t\\t\\n\\t</div>\\n\\t\\n</header>\\n\\n\\n\\n<nav id=\"sub-menu\">\\n\\t<ul>\\n\\t\\t\\n\\t\\t\\n\\t\\t\\n\\t\\t\\n\\t\\t\\n\\n\\t\\t\\t\\n\\t\\t\\t\\t\\t\\n\\t\\t\\t\\t\\t\\t<li><a href=\"/page/163-adjunct-faculty/1125\">Adjunct Faculty</a></li>\\t\\n\\t\\t\\t\\n\\n\\n\\n\\t</ul>\\n</nav>\\n\\t\\t\\n\\t\\t\\t\\n\\t\\t\\t<div id=\"content\">\\n\\t\\t\\t\\t\\n\\t\\t\\t\\t<div id=\"main\" class=\"full\">\\n\\t\\t\\t\\t\\t\\n\\t\\t\\t\\t\\t\\n\\t\\t\\t\\t\\t\\n\\n\\n\\n\\t\\t\\t\\t\\n\\n\\t\\t\\t\\t\\t\\n\\t\\t\\t\\t\\t<div id=\"page-content\">\\n\\t\\t\\t\\t\\t\\t\\n\\t\\t\\t\\t\\t\\t\\n\\t\\t\\t\\t\\t\\t\\n\\n\\t\\t\\t\\t\\t\\t\\n\\t\\t\\t\\t\\t\\t\\t\\t\\t\\t\\t\\t\\t\\t\\n\\t\\t\\t\\t\\n\\t\\t\\t\\t\\t\\t\\n\\t\\t\\t\\t\\t\\t<div class=\"page-heading\">\\t\\t\\t\\t\\t\\t\\t\\n\\t\\t\\t\\t\\t\\t\\t<h2> Full-Time, Adjunct &amp; Visiting Faculty</h2>\\n\\t\\t\\t\\t\\t\\t\\t\\n\\t\\t\\t\\t\\t\\t\\t\\t<div class=\"share\">\\n\\t\\t\\t\\t\\t\\t\\t\\t\\t<!-- AddThis Button BEGIN -->\\n\\t\\t\\t\\t\\t\\t\\t\\t\\t<div class=\"addthis_toolbox addthis_default_style\">\\n\\t\\t\\t\\t\\t\\t\\t\\t\\t\\t<a class=\"addthis_button_print\">Print</a>\\n\\t\\t\\t\\t\\t\\t\\t\\t\\t\\t<a class=\"addthis_button_compact\">Share</a>\\n\\t\\t\\t\\t\\t\\t\\t\\t\\t</div>\\n\\t\\t\\t\\t\\t\\t\\t\\t\\t<script type=\"text/javascript\" src=\"http://s7.addthis.com/js/300/addthis_widget.js#pubid=ra-4ecbcfc32957d28f\"></script>\\n\\t\\t\\t\\t\\t\\t\\t\\t\\t<!-- AddThis Button END -->\\t\\t\\n\\t\\t\\t\\t\\t\\t\\t\\t</div>\\n\\t\\t\\t\\t\\t\\t\\t\\n\\t\\t\\t\\t\\t\\t</div>\\n\\t\\t\\t\\t\\t\\t\\n\\t\\t\\t\\t\\t\\t<div class=\"page-text\">\\n\\t\\t\\t\\t\\t\\t\\t  <p class=\"left\">\\r\\n\\t&raquo; See the list of <strong><a href=\"http://www.journalism.columbia.edu/page/532-faculty-experts/10\">J-School faculty experts</a>&nbsp;&nbsp;</strong>&raquo; <strong><a href=\"http://fs12.formsite.com/jschoolacademics/adjunctapplication/\">A</a><a href=\"http://fs12.formsite.com/jschoolacademics/adjunctapplication/\">pply</a></strong> to join our adjunct faculty</p>\\r\\n<p>\\r\\n\\t&nbsp;</p>\\r\\n\\n\\n\\t\\t\\t\\t\\t\\t\\t\\n\\t\\t\\t\\t\\t\\t\\t  \\n\\n\\n\\n\\n\\t\\t\\t\\t\\t\\t\\t\\n\\t\\t\\t\\t\\t\\t\\t<p></p>\\n\\t\\t\\t\\t\\t\\t\\t\\n\\t\\t\\t\\t\\t\\t\\t\\n\\t\\t\\t\\t\\t\\t\\t\\t\\t\\t\\t\\t\\n\\t\\t\\t\\t\\t\\t</div>\\t\\n\\t\\t\\t\\t\\t\\t\\n\\t\\t\\t\\t\\t\\t\\n\\t\\t\\t\\t\\t\\t\\t\\t\\t\\t\\n\\t\\t\\t\\t\\t\\t\\n\\t\\t\\t\\t\\t\\n\\t\\t\\t\\t\\t\\t\\n\\t\\t\\t\\t\\t\\t<div id=\"faculty-actions\">\\n\\t\\n\\t\\t<div class=\"action\">\\n\\t\\t\\t<h3>View faculty</h3>\\n\\t\\t\\t<form action=\"/page/10/10\" method=\"get\">\\n\\t\\t\\t\\t\\n\\t\\t\\t\\t\\t\\n\\t\\t\\t\\t\\t\\t<div class=\"field\">\\n\\t\\t\\t\\t\\t\\t\\t<input checked=\"checked\" id=\"category_ids_\" name=\"category_ids[]\" onclick=\"submit()\" type=\"checkbox\" value=\"2\" />\\n\\t\\t\\t\\t\\t\\t\\t<label for=\"2\">Full-Time Faculty</label>\\n\\t\\t\\t\\t\\t\\t</div>\\n\\t\\t\\t\\t\\t\\n\\n\\t\\t\\t\\t\\n\\t\\t\\t\\t\\t\\n\\t\\t\\t\\t\\t\\t<div class=\"field\">\\n\\t\\t\\t\\t\\t\\t\\t<input checked=\"checked\" id=\"category_ids_\" name=\"category_ids[]\" onclick=\"submit()\" type=\"checkbox\" value=\"3\" />\\n\\t\\t\\t\\t\\t\\t\\t<label for=\"3\">Adjunct Faculty</label>\\n\\t\\t\\t\\t\\t\\t</div>\\n\\t\\t\\t\\t\\t\\n\\n\\t\\t\\t\\t\\n\\t\\t\\t\\t\\t\\n\\t\\t\\t\\t\\t\\t<div class=\"field\">\\n\\t\\t\\t\\t\\t\\t\\t<input checked=\"checked\" id=\"category_ids_\" name=\"category_ids[]\" onclick=\"submit()\" type=\"checkbox\" value=\"37\" />\\n\\t\\t\\t\\t\\t\\t\\t<label for=\"37\">Faculty Emeriti</label>\\n\\t\\t\\t\\t\\t\\t</div>\\n\\t\\t\\t\\t\\t\\n\\n\\t\\t\\t\\t\\t\\t\\t\\t\\t\\t\\t\\t\\t\\t\\t\\t\\t\\t\\t\\t\\t\\t\\n\\t\\t\\t</form>\\n\\t\\t</div>\\n\\t\\n\\t<div class=\"action\">\\n\\t\\t<h3>View Full-time Faculty by Expertise</h3>\\n\\t\\t<ul class=\"categories\">\\n\\t\\t<li><a href=\"/page/10/10?category_ids%5B%5D=2&amp;category_ids%5B%5D=3&amp;category_ids%5B%5D=37\">All</a></li>\\n\\t\\t\\n\\t\\t\\t\\n\\t\\t\\t<li><a href=\"/page/10/10?category_ids%5B%5D=2&amp;category_ids%5B%5D=3&amp;category_ids%5B%5D=37&amp;tags=ARTS%2FCULTURE\">ARTS/CULTURE</a></li>\\n\\t\\t\\n\\t\\t\\t\\n\\t\\t\\t<li><a href=\"/page/10/10?category_ids%5B%5D=2&amp;category_ids%5B%5D=3&amp;category_ids%5B%5D=37&amp;tags=BROADCAST\">BROADCAST</a></li>\\n\\t\\t\\n\\t\\t\\t\\n\\t\\t\\t<li><a href=\"/page/10/10?category_ids%5B%5D=2&amp;category_ids%5B%5D=3&amp;category_ids%5B%5D=37&amp;tags=BUSINESS%2FECONOMICS\">BUSINESS/ECONOMICS</a></li>\\n\\t\\t\\n\\t\\t\\t\\n\\t\\t\\t<li><a href=\"/page/10/10?category_ids%5B%5D=2&amp;category_ids%5B%5D=3&amp;category_ids%5B%5D=37&amp;tags=Computational+Journalism\">Computational Journalism</a></li>\\n\\t\\t\\n\\t\\t\\t\\n\\t\\t\\t<li><a href=\"/page/10/10?category_ids%5B%5D=2&amp;category_ids%5B%5D=3&amp;category_ids%5B%5D=37&amp;tags=DATA\">DATA</a></li>\\n\\t\\t\\n\\t\\t\\t\\n\\t\\t\\t</ul>\\n\\t\\t\\t<ul class=\"categories\">\\n\\t\\t\\t\\n\\t\\t\\t<li><a href=\"/page/10/10?category_ids%5B%5D=2&amp;category_ids%5B%5D=3&amp;category_ids%5B%5D=37&amp;tags=DIGITAL+MEDIA\">DIGITAL MEDIA</a></li>\\n\\t\\t\\n\\t\\t\\t\\n\\t\\t\\t<li><a href=\"/page/10/10?category_ids%5B%5D=2&amp;category_ids%5B%5D=3&amp;category_ids%5B%5D=37&amp;tags=Data+Visualization+and+Statistics\">Data Visualization and Statistics</a></li>\\n\\t\\t\\n\\t\\t\\t\\n\\t\\t\\t<li><a href=\"/page/10/10?category_ids%5B%5D=2&amp;category_ids%5B%5D=3&amp;category_ids%5B%5D=37&amp;tags=EDUCATION\">EDUCATION</a></li>\\n\\t\\t\\n\\t\\t\\t\\n\\t\\t\\t<li><a href=\"/page/10/10?category_ids%5B%5D=2&amp;category_ids%5B%5D=3&amp;category_ids%5B%5D=37&amp;tags=ETHICS\">ETHICS</a></li>\\n\\t\\t\\n\\t\\t\\t\\n\\t\\t\\t<li><a href=\"/page/10/10?category_ids%5B%5D=2&amp;category_ids%5B%5D=3&amp;category_ids%5B%5D=37&amp;tags=Entrepreneurship\">Entrepreneurship</a></li>\\n\\t\\t\\n\\t\\t\\t\\n\\t\\t\\t<li><a href=\"/page/10/10?category_ids%5B%5D=2&amp;category_ids%5B%5D=3&amp;category_ids%5B%5D=37&amp;tags=HISTORY+OF+COMMUNICATIONS\">HISTORY OF COMMUNICATIONS</a></li>\\n\\t\\t\\n\\t\\t\\t\\n\\t\\t\\t</ul>\\n\\t\\t\\t<ul class=\"categories\">\\n\\t\\t\\t\\n\\t\\t\\t<li><a href=\"/page/10/10?category_ids%5B%5D=2&amp;category_ids%5B%5D=3&amp;category_ids%5B%5D=37&amp;tags=IMMIGRATION\">IMMIGRATION</a></li>\\n\\t\\t\\n\\t\\t\\t\\n\\t\\t\\t<li><a href=\"/page/10/10?category_ids%5B%5D=2&amp;category_ids%5B%5D=3&amp;category_ids%5B%5D=37&amp;tags=INTERNATIONAL+AFFAIRS\">INTERNATIONAL AFFAIRS</a></li>\\n\\t\\t\\n\\t\\t\\t\\n\\t\\t\\t<li><a href=\"/page/10/10?category_ids%5B%5D=2&amp;category_ids%5B%5D=3&amp;category_ids%5B%5D=37&amp;tags=INVESTIGATIVE+REPORTING\">INVESTIGATIVE REPORTING</a></li>\\n\\t\\t\\n\\t\\t\\t\\n\\t\\t\\t<li><a href=\"/page/10/10?category_ids%5B%5D=2&amp;category_ids%5B%5D=3&amp;category_ids%5B%5D=37&amp;tags=PHOTOJOURNALISM\">PHOTOJOURNALISM</a></li>\\n\\t\\t\\n\\t\\t\\t\\n\\t\\t\\t<li><a href=\"/page/10/10?category_ids%5B%5D=2&amp;category_ids%5B%5D=3&amp;category_ids%5B%5D=37&amp;tags=Politics\">Politics</a></li>\\n\\t\\t\\n\\t\\t\\t\\n\\t\\t\\t<li><a href=\"/page/10/10?category_ids%5B%5D=2&amp;category_ids%5B%5D=3&amp;category_ids%5B%5D=37&amp;tags=RELIGION\">RELIGION</a></li>\\n\\t\\t\\n\\t\\t\\t\\n\\t\\t\\t</ul>\\n\\t\\t\\t<ul class=\"categories\">\\n\\t\\t\\t\\n\\t\\t\\t<li><a href=\"/page/10/10?category_ids%5B%5D=2&amp;category_ids%5B%5D=3&amp;category_ids%5B%5D=37&amp;tags=SCIENCE%2FENVIRONMENT\">SCIENCE/ENVIRONMENT</a></li>\\n\\t\\t\\n\\t\\t\\t\\n\\t\\t\\t<li><a href=\"/page/10/10?category_ids%5B%5D=2&amp;category_ids%5B%5D=3&amp;category_ids%5B%5D=37&amp;tags=SOCIAL+ISSUES\">SOCIAL ISSUES</a></li>\\n\\t\\t\\n\\t\\t\\t\\n\\t\\t\\t<li><a href=\"/page/10/10?category_ids%5B%5D=2&amp;category_ids%5B%5D=3&amp;category_ids%5B%5D=37&amp;tags=TRENDS+IN+JOURNALISM\">TRENDS IN JOURNALISM</a></li>\\n\\t\\t\\n\\t\\t\\n\\t\\t\\n\\t\\t\\n\\t\\t\\n\\t</div>\\n\\t\\n\\t\\t<div class=\"action\">\\n\\t\\t\\t<h3>Jump to Last Name</h3>\\n\\t\\t\\t<ul class=\"alphabet\">\\n\\t\\t\\t\\t\\n\\t\\t\\t\\t\\n\\t\\t\\t\\t\\t\\n\\t\\t\\t\\t\\t\\t<li><a href=\"#goto-a\">A</a></li>\\n\\t\\t\\t\\t\\t\\n\\t\\t\\t\\t\\n\\t\\t\\t\\t\\t\\n\\t\\t\\t\\t\\t\\t<li><a href=\"#goto-b\">B</a></li>\\n\\t\\t\\t\\t\\t\\n\\t\\t\\t\\t\\n\\t\\t\\t\\t\\t\\n\\t\\t\\t\\t\\t\\t<li><a href=\"#goto-c\">C</a></li>\\n\\t\\t\\t\\t\\t\\n\\t\\t\\t\\t\\n\\t\\t\\t\\t\\t\\n\\t\\t\\t\\t\\t\\t<li><a href=\"#goto-d\">D</a></li>\\n\\t\\t\\t\\t\\t\\n\\t\\t\\t\\t\\n\\t\\t\\t\\t\\t\\n\\t\\t\\t\\t\\t\\t<li><a href=\"#goto-e\">E</a></li>\\n\\t\\t\\t\\t\\t\\n\\t\\t\\t\\t\\n\\t\\t\\t\\t\\t\\n\\t\\t\\t\\t\\t\\t<li><a href=\"#goto-f\">F</a></li>\\n\\t\\t\\t\\t\\t\\n\\t\\t\\t\\t\\n\\t\\t\\t\\t\\t\\n\\t\\t\\t\\t\\t\\t<li><a href=\"#goto-g\">G</a></li>\\n\\t\\t\\t\\t\\t\\n\\t\\t\\t\\t\\n\\t\\t\\t\\t\\t\\n\\t\\t\\t\\t\\t\\t<li><a href=\"#goto-h\">H</a></li>\\n\\t\\t\\t\\t\\t\\n\\t\\t\\t\\t\\n\\t\\t\\t\\t\\t\\n\\t\\t\\t\\t\\t\\t<li><a href=\"#goto-i\">I</a></li>\\n\\t\\t\\t\\t\\t\\n\\t\\t\\t\\t\\n\\t\\t\\t\\t\\t\\n\\t\\t\\t\\t\\t\\t<li><a href=\"#goto-j\">J</a></li>\\n\\t\\t\\t\\t\\t\\n\\t\\t\\t\\t\\n\\t\\t\\t\\t\\t\\n\\t\\t\\t\\t\\t\\t<li><a href=\"#goto-k\">K</a></li>\\n\\t\\t\\t\\t\\t\\n\\t\\t\\t\\t\\n\\t\\t\\t\\t\\t\\n\\t\\t\\t\\t\\t\\t<li><a href=\"#goto-l\">L</a></li>\\n\\t\\t\\t\\t\\t\\n\\t\\t\\t\\t\\n\\t\\t\\t\\t\\t\\n\\t\\t\\t\\t\\t\\t<li><a href=\"#goto-m\">M</a></li>\\n\\t\\t\\t\\t\\t\\n\\t\\t\\t\\t\\n\\t\\t\\t\\t\\t\\n\\t\\t\\t\\t\\t\\t<li><a href=\"#goto-n\">N</a></li>\\n\\t\\t\\t\\t\\t\\n\\t\\t\\t\\t\\n\\t\\t\\t\\t\\t\\n\\t\\t\\t\\t\\t\\t<li><a href=\"#goto-o\">O</a></li>\\n\\t\\t\\t\\t\\t\\n\\t\\t\\t\\t\\n\\t\\t\\t\\t\\t\\n\\t\\t\\t\\t\\t\\t<li><a href=\"#goto-p\">P</a></li>\\n\\t\\t\\t\\t\\t\\n\\t\\t\\t\\t\\n\\t\\t\\t\\t\\t\\n\\t\\t\\t\\t\\t\\t<li><a href=\"#goto-q\">Q</a></li>\\n\\t\\t\\t\\t\\t\\n\\t\\t\\t\\t\\n\\t\\t\\t\\t\\t\\n\\t\\t\\t\\t\\t\\t<li><a href=\"#goto-r\">R</a></li>\\n\\t\\t\\t\\t\\t\\n\\t\\t\\t\\t\\n\\t\\t\\t\\t\\t\\n\\t\\t\\t\\t\\t\\t<li><a href=\"#goto-s\">S</a></li>\\n\\t\\t\\t\\t\\t\\n\\t\\t\\t\\t\\n\\t\\t\\t\\t\\t\\n\\t\\t\\t\\t\\t\\t<li><a href=\"#goto-t\">T</a></li>\\n\\t\\t\\t\\t\\t\\n\\t\\t\\t\\t\\n\\t\\t\\t\\t\\t\\n\\t\\t\\t\\t\\t\\t<li>U</li>\\n\\t\\t\\t\\t\\t\\n\\t\\t\\t\\t\\n\\t\\t\\t\\t\\t\\n\\t\\t\\t\\t\\t\\t<li><a href=\"#goto-v\">V</a></li>\\n\\t\\t\\t\\t\\t\\n\\t\\t\\t\\t\\n\\t\\t\\t\\t\\t\\n\\t\\t\\t\\t\\t\\t<li><a href=\"#goto-w\">W</a></li>\\n\\t\\t\\t\\t\\t\\n\\t\\t\\t\\t\\n\\t\\t\\t\\t\\t\\n\\t\\t\\t\\t\\t\\t<li>X</li>\\n\\t\\t\\t\\t\\t\\n\\t\\t\\t\\t\\n\\t\\t\\t\\t\\t\\n\\t\\t\\t\\t\\t\\t<li><a href=\"#goto-y\">Y</a></li>\\n\\t\\t\\t\\t\\t\\n\\t\\t\\t\\t\\n\\t\\t\\t\\t\\t\\n\\t\\t\\t\\t\\t\\t<li><a href=\"#goto-z\">Z</a></li>\\n\\t\\t\\t\\t\\t\\n\\t\\t\\t\\t\\n\\n\\t\\t\\t</ul>\\n\\t\\t</div>\\n\\n\\n\\n</div>\\n\\n\\n\\n\\n<ul class=\"experts-list\">\\n\\n\\n\\n\\t\\n\\t\\n\\t\\t<li class=\"label\" id=\"goto-a\"></li>\\n\\t\\t \\n\\t\\n\\t<li>\\n\\t\\t\\n\\t\\t\\n\\t\\t<div class=\"content\">\\n\\t\\t\\t<h4><a href=\"/profile/228-abbey-adkison/10\">Adkison, Abbey </a></h4>\\n\\t\\t\\t<p class=\"description\">Assistant Director, Multi-Media Journalism</p>\\n\\t\\t\\t\\n\\t\\t</div>\\n\\t</li>\\n\\n\\n\\n\\t\\n\\t\\n\\t<li>\\n\\t\\t<a href=\"/profile/536-daniel-alarcon/10\"><img alt=\"Daniel_a\" border=\"1\" height=\"90\" src=\"/system/photos/3771/default/daniel_a.jpg?1408652577\" width=\"110\" /></a>\\n\\t\\t\\n\\t\\t<div class=\"content\">\\n\\t\\t\\t<h4><a href=\"/profile/536-daniel-alarcon/10\">Alarc\\xc3\\xb3n, Daniel</a></h4>\\n\\t\\t\\t<p class=\"description\">Assistant Professor of Broadcast Journalism</p>\\n\\t\\t\\t<p class=\"expertise\">Expertise: BROADCAST</p>\\n\\t\\t</div>\\n\\t</li>\\n\\n\\n\\n\\t\\n\\t\\n\\t\\t<li class=\"label\" id=\"goto-b\"></li>\\n\\t\\t \\n\\t\\n\\t<li>\\n\\t\\t<a href=\"/profile/387-dolores-barclay/10\"><img alt=\"Dolores-barclay\" border=\"1\" height=\"90\" src=\"/system/photos/1943/default/Dolores-Barclay.gif?1365711292\" width=\"110\" /></a>\\n\\t\\t\\n\\t\\t<div class=\"content\">\\n\\t\\t\\t<h4><a href=\"/profile/387-dolores-barclay/10\">Barclay, Dolores </a></h4>\\n\\t\\t\\t<p class=\"description\">Adjunct Faculty</p>\\n\\t\\t\\t\\n\\t\\t</div>\\n\\t</li>\\n\\n\\n\\n\\t\\n\\t\\n\\t<li>\\n\\t\\t\\n\\t\\t\\n\\t\\t<div class=\"content\">\\n\\t\\t\\t<h4><a href=\"/profile/341-geraldine-baum/10\">Baum, Geraldine</a></h4>\\n\\t\\t\\t<p class=\"description\">Adjunct Faculty</p>\\n\\t\\t\\t\\n\\t\\t</div>\\n\\t</li>\\n\\n\\n\\n\\t\\n\\t\\n\\t<li>\\n\\t\\t<a href=\"/profile/304-emily-bell/10\"><img alt=\"Ebell_112811\" border=\"1\" height=\"90\" src=\"/system/photos/2056/default/EBell_112811.jpg?1322508884\" width=\"110\" /></a>\\n\\t\\t\\n\\t\\t<div class=\"content\">\\n\\t\\t\\t<h4><a href=\"/profile/304-emily-bell/10\">Bell, Emily</a></h4>\\n\\t\\t\\t<p class=\"description\">Professor of Professional Practice & Director, Tow Center for Digital Journalism</p>\\n\\t\\t\\t<p class=\"expertise\">Expertise: DIGITAL MEDIA, TRENDS IN JOURNALISM, DATA</p>\\n\\t\\t</div>\\n\\t</li>\\n\\n\\n\\n\\t\\n\\t\\n\\t<li>\\n\\t\\t<a href=\"/profile/29-helen-benedict/10\"><img alt=\"Hbenedict_112811\" border=\"1\" height=\"90\" src=\"/system/photos/2057/default/HBenedict_112811.jpg?1322509591\" width=\"110\" /></a>\\n\\t\\t\\n\\t\\t<div class=\"content\">\\n\\t\\t\\t<h4><a href=\"/profile/29-helen-benedict/10\">Benedict, Helen </a></h4>\\n\\t\\t\\t<p class=\"description\">Professor</p>\\n\\t\\t\\t<p class=\"expertise\">Expertise: SOCIAL ISSUES, INTERNATIONAL AFFAIRS</p>\\n\\t\\t</div>\\n\\t</li>\\n\\n\\n\\n\\t\\n\\t\\n\\t<li>\\n\\t\\t<a href=\"/profile/96-john-bennet/10\"><img alt=\"Bennet_john\" border=\"1\" height=\"90\" src=\"/system/photos/2982/default/Bennet_John.gif?1365697019\" width=\"110\" /></a>\\n\\t\\t\\n\\t\\t<div class=\"content\">\\n\\t\\t\\t<h4><a href=\"/profile/96-john-bennet/10\">Bennet, John </a></h4>\\n\\t\\t\\t<p class=\"description\">Adjunct Faculty</p>\\n\\t\\t\\t\\n\\t\\t</div>\\n\\t</li>\\n\\n\\n\\n\\t\\n\\t\\n\\t<li>\\n\\t\\t<a href=\"/profile/307-rob-bennett/10\"><img alt=\"Bennett_rob\" border=\"1\" height=\"90\" src=\"/system/photos/2984/default/Bennett_Rob.gif?1365706134\" width=\"110\" /></a>\\n\\t\\t\\n\\t\\t<div class=\"content\">\\n\\t\\t\\t<h4><a href=\"/profile/307-rob-bennett/10\">Bennett, Rob</a></h4>\\n\\t\\t\\t<p class=\"description\">Adjunct Faculty</p>\\n\\t\\t\\t\\n\\t\\t</div>\\n\\t</li>\\n\\n\\n\\n\\t\\n\\t\\n\\t<li>\\n\\t\\t<a href=\"/profile/427-nina-berman/10\"><img alt=\"Nina-berman\" border=\"1\" height=\"90\" src=\"/system/photos/2725/default/Nina-Berman.gif?1365711635\" width=\"110\" /></a>\\n\\t\\t\\n\\t\\t<div class=\"content\">\\n\\t\\t\\t<h4><a href=\"/profile/427-nina-berman/10\">Berman, Nina</a></h4>\\n\\t\\t\\t<p class=\"description\">Associate Professor</p>\\n\\t\\t\\t<p class=\"expertise\">Expertise: PHOTOJOURNALISM</p>\\n\\t\\t</div>\\n\\t</li>\\n\\n\\n\\n\\t\\n\\t\\n\\t<li>\\n\\t\\t\\n\\t\\t\\n\\t\\t<div class=\"content\">\\n\\t\\t\\t<h4><a href=\"/profile/165-gwenda-blair/10\">Blair, Gwenda </a></h4>\\n\\t\\t\\t<p class=\"description\">Adjunct Faculty</p>\\n\\t\\t\\t\\n\\t\\t</div>\\n\\t</li>\\n\\n\\n\\n\\t\\n\\t\\n\\t<li>\\n\\t\\t<a href=\"/profile/95-david-blum/10\"><img alt=\"Blum_david\" border=\"1\" height=\"90\" src=\"/system/photos/2985/default/Blum_David.gif?1365706164\" width=\"110\" /></a>\\n\\t\\t\\n\\t\\t<div class=\"content\">\\n\\t\\t\\t<h4><a href=\"/profile/95-david-blum/10\">Blum, David </a></h4>\\n\\t\\t\\t<p class=\"description\">Adjunct Faculty</p>\\n\\t\\t\\t\\n\\t\\t</div>\\n\\t</li>\\n\\n\\n\\n\\t\\n\\t\\n\\t<li>\\n\\t\\t<a href=\"/profile/577-matt-bockelman/10\"><img alt=\"Matt\" border=\"1\" height=\"90\" src=\"/system/photos/4502/default/MATT.JPG?1452269654\" width=\"110\" /></a>\\n\\t\\t\\n\\t\\t<div class=\"content\">\\n\\t\\t\\t<h4><a href=\"/profile/577-matt-bockelman/10\">Bockelman, Matt</a></h4>\\n\\t\\t\\t<p class=\"description\"></p>\\n\\t\\t\\t\\n\\t\\t</div>\\n\\t</li>\\n\\n\\n\\n\\t\\n\\t\\n\\t<li>\\n\\t\\t<a href=\"/profile/438-george-bodarky/10\"><img alt=\"Georgebodarky\" border=\"1\" height=\"90\" src=\"/system/photos/2692/default/GeorgeBodarky.gif?1365714064\" width=\"110\" /></a>\\n\\t\\t\\n\\t\\t<div class=\"content\">\\n\\t\\t\\t<h4><a href=\"/profile/438-george-bodarky/10\">Bodarky, George</a></h4>\\n\\t\\t\\t<p class=\"description\">Adjunct Assistant Professor </p>\\n\\t\\t\\t\\n\\t\\t</div>\\n\\t</li>\\n\\n\\n\\n\\t\\n\\t\\n\\t<li>\\n\\t\\t<a href=\"/profile/79-walt-bogdanich/10\"><img alt=\"Walt-bogdanich\" border=\"1\" height=\"90\" src=\"/system/photos/150/default/Walt-Bogdanich.gif?1365714085\" width=\"110\" /></a>\\n\\t\\t\\n\\t\\t<div class=\"content\">\\n\\t\\t\\t<h4><a href=\"/profile/79-walt-bogdanich/10\">Bogdanich, Walt </a></h4>\\n\\t\\t\\t<p class=\"description\">Adjunct Faculty</p>\\n\\t\\t\\t\\n\\t\\t</div>\\n\\t</li>\\n\\n\\n\\n\\t\\n\\t\\n\\t<li>\\n\\t\\t<a href=\"/profile/184-lennart-bourin/10\"><img alt=\"Lennart-bourin\" border=\"1\" height=\"90\" src=\"/system/photos/3055/default/Lennart-Bourin.jpg?1368456160\" width=\"110\" /></a>\\n\\t\\t\\n\\t\\t<div class=\"content\">\\n\\t\\t\\t<h4><a href=\"/profile/184-lennart-bourin/10\">Bourin, Lennart</a></h4>\\n\\t\\t\\t<p class=\"description\">Adjunct Faculty</p>\\n\\t\\t\\t\\n\\t\\t</div>\\n\\t</li>\\n\\n\\n\\n\\t\\n\\t\\n\\t<li>\\n\\t\\t<a href=\"/profile/510-theresa-bradley/10\"><img alt=\"Tbradley\" border=\"1\" height=\"90\" src=\"/system/photos/4506/default/tbradley.jpg?1453748798\" width=\"110\" /></a>\\n\\t\\t\\n\\t\\t<div class=\"content\">\\n\\t\\t\\t<h4><a href=\"/profile/510-theresa-bradley/10\">Bradley, Theresa</a></h4>\\n\\t\\t\\t<p class=\"description\">Adjunct Faculty</p>\\n\\t\\t\\t\\n\\t\\t</div>\\n\\t</li>\\n\\n\\n\\n\\t\\n\\t\\n\\t<li>\\n\\t\\t<a href=\"/profile/293-curtis-brainard/10\"><img alt=\"Curtisbrainard\" border=\"1\" height=\"90\" src=\"/system/photos/1912/default/CurtisBrainard.gif?1365714245\" width=\"110\" /></a>\\n\\t\\t\\n\\t\\t<div class=\"content\">\\n\\t\\t\\t<h4><a href=\"/profile/293-curtis-brainard/10\">Brainard, Curtis </a></h4>\\n\\t\\t\\t<p class=\"description\">Staff Writer</p>\\n\\t\\t\\t\\n\\t\\t</div>\\n\\t</li>\\n\\n\\n\\n\\t\\n\\t\\n\\t<li>\\n\\t\\t<a href=\"/profile/141-jessica-bruder/10\"><img alt=\"Bruder\" border=\"1\" height=\"90\" src=\"/system/photos/842/default/bruder.jpg?1392672045\" width=\"110\" /></a>\\n\\t\\t\\n\\t\\t<div class=\"content\">\\n\\t\\t\\t<h4><a href=\"/profile/141-jessica-bruder/10\">Bruder, Jessica</a></h4>\\n\\t\\t\\t<p class=\"description\">Adjunct Faculty</p>\\n\\t\\t\\t\\n\\t\\t</div>\\n\\t</li>\\n\\n\\n\\n\\t\\n\\t\\n\\t<li>\\n\\t\\t<a href=\"/profile/163-melanie-burford/10\"><img alt=\"Burford\" border=\"1\" height=\"90\" src=\"/system/photos/864/default/burford.jpg?1392672030\" width=\"110\" /></a>\\n\\t\\t\\n\\t\\t<div class=\"content\">\\n\\t\\t\\t<h4><a href=\"/profile/163-melanie-burford/10\">Burford, Melanie </a></h4>\\n\\t\\t\\t<p class=\"description\">Adjunct Faculty</p>\\n\\t\\t\\t\\n\\t\\t</div>\\n\\t</li>\\n\\n\\n\\n\\t\\n\\t\\n\\t<li>\\n\\t\\t<a href=\"/profile/140-nina-burleigh/10\"><img alt=\"Burleigh_nina\" border=\"1\" height=\"90\" src=\"/system/photos/2986/default/Burleigh_Nina.gif?1365706179\" width=\"110\" /></a>\\n\\t\\t\\n\\t\\t<div class=\"content\">\\n\\t\\t\\t<h4><a href=\"/profile/140-nina-burleigh/10\">Burleigh, Nina </a></h4>\\n\\t\\t\\t<p class=\"description\">Adjunct Faculty</p>\\n\\t\\t\\t\\n\\t\\t</div>\\n\\t</li>\\n\\n\\n\\n\\t\\n\\t\\n\\t\\t<li class=\"label\" id=\"goto-c\"></li>\\n\\t\\t \\n\\t\\n\\t<li>\\n\\t\\t<a href=\"/profile/440-heather-cabot/10\"><img alt=\"Heathercabot\" border=\"1\" height=\"90\" src=\"/system/photos/2713/default/HeatherCabot.gif?1365714437\" width=\"110\" /></a>\\n\\t\\t\\n\\t\\t<div class=\"content\">\\n\\t\\t\\t<h4><a href=\"/profile/440-heather-cabot/10\">Cabot, Heather</a></h4>\\n\\t\\t\\t<p class=\"description\">Adjunct Professor</p>\\n\\t\\t\\t\\n\\t\\t</div>\\n\\t</li>\\n\\n\\n\\n\\t\\n\\t\\n\\t<li>\\n\\t\\t<a href=\"/profile/186-elena-cabral/10\"><img alt=\"Elena\" border=\"1\" height=\"90\" src=\"/system/photos/3203/default/Elena.gif?1375217143\" width=\"110\" /></a>\\n\\t\\t\\n\\t\\t<div class=\"content\">\\n\\t\\t\\t<h4><a href=\"/profile/186-elena-cabral/10\">Cabral, Elena </a></h4>\\n\\t\\t\\t<p class=\"description\">Adjunct Faculty & Assistant Director, Student Services</p>\\n\\t\\t\\t\\n\\t\\t</div>\\n\\t</li>\\n\\n\\n\\n\\t\\n\\t\\n\\t<li>\\n\\t\\t<a href=\"/profile/459-chris-canipe/10\"><img alt=\"Canipe_chris\" border=\"1\" height=\"90\" src=\"/system/photos/2987/default/Canipe_Chris.gif?1365706198\" width=\"110\" /></a>\\n\\t\\t\\n\\t\\t<div class=\"content\">\\n\\t\\t\\t<h4><a href=\"/profile/459-chris-canipe/10\">Canipe, Chris</a></h4>\\n\\t\\t\\t<p class=\"description\"></p>\\n\\t\\t\\t\\n\\t\\t</div>\\n\\t</li>\\n\\n\\n\\n\\t\\n\\t\\n\\t<li>\\n\\t\\t<a href=\"/profile/591-tom-casciato/10\"><img alt=\"Tom_casciato\" border=\"1\" height=\"90\" src=\"/system/photos/4613/default/Tom_Casciato.jpg?1461768358\" width=\"110\" /></a>\\n\\t\\t\\n\\t\\t<div class=\"content\">\\n\\t\\t\\t<h4><a href=\"/profile/591-tom-casciato/10\">Casciato, Tom</a></h4>\\n\\t\\t\\t<p class=\"description\">Adjunct Faculty</p>\\n\\t\\t\\t\\n\\t\\t</div>\\n\\t</li>\\n\\n\\n\\n\\t\\n\\n\\t\\n\\t\\n\\t<li>\\n\\t\\t<a href=\"/profile/496-julie-cohen/10\"><img alt=\"Cohen_julie\" border=\"1\" height=\"90\" src=\"/system/photos/3412/default/Cohen_Julie.jpg?1384536342\" width=\"110\" /></a>\\n\\t\\t\\n\\t\\t<div class=\"content\">\\n\\t\\t\\t<h4><a href=\"/profile/496-julie-cohen/10\">Cohen, Julie</a></h4>\\n\\t\\t\\t<p class=\"description\">Adjunct Faculty</p>\\n\\t\\t\\t\\n\\t\\t</div>\\n\\t</li>\\n\\n\\n\\n\\t\\n\\t\\n\\t<li>\\n\\t\\t<a href=\"/profile/113-lisa-r-cohen/10\"><img alt=\"Lisarcohenpic\" border=\"1\" height=\"90\" src=\"/system/photos/3262/default/LIsaRCohenPic.jpg?1425311022\" width=\"110\" /></a>\\n\\t\\t\\n\\t\\t<div class=\"content\">\\n\\t\\t\\t<h4><a href=\"/profile/113-lisa-r-cohen/10\">Cohen, Lisa R.</a></h4>\\n\\t\\t\\t<p class=\"description\">Director, duPont/Professional Prizes; Adjunct Associate Professor</p>\\n\\t\\t\\t\\n\\t\\t</div>\\n\\t</li>\\n\\n\\n\\n\\t\\n\\t\\n\\t<li>\\n\\t\\t<a href=\"/profile/466-sarah-cohen/10\"><img alt=\"Cohen_sarah\" border=\"1\" height=\"90\" src=\"/system/photos/2989/default/Cohen_Sarah.gif?1365706228\" width=\"110\" /></a>\\n\\t\\t\\n\\t\\t<div class=\"content\">\\n\\t\\t\\t<h4><a href=\"/profile/466-sarah-cohen/10\">Cohen, Sarah</a></h4>\\n\\t\\t\\t<p class=\"description\">Adjunct Faculty</p>\\n\\t\\t\\t\\n\\t\\t</div>\\n\\t</li>\\n\\n\\n\\n\\t\\n\\t\\n\\t<li>\\n\\t\\t<a href=\"/profile/485-steve-coll/10\"><img alt=\"Coll-web\" border=\"1\" height=\"90\" src=\"/system/photos/3278/default/Coll-web.gif?1377281425\" width=\"110\" /></a>\\n\\t\\t\\n\\t\\t<div class=\"content\">\\n\\t\\t\\t<h4><a href=\"/profile/485-steve-coll/10\">Coll, Steve</a></h4>\\n\\t\\t\\t<p class=\"description\">Dean & Henry R. Luce Professor of Journalism</p>\\n\\t\\t\\t\\n\\t\\t</div>\\n\\t</li>\\n\\n\\n\\n\\t\\n\\t\\n\\t<li>\\n\\t\\t<a href=\"/profile/30-ann-cooper/10\"><img alt=\"Anncooper2\" border=\"1\" height=\"90\" src=\"/system/photos/147/default/AnnCooper2.jpg?1276009818\" width=\"110\" /></a>\\n\\t\\t\\n\\t\\t<div class=\"content\">\\n\\t\\t\\t<h4><a href=\"/profile/30-ann-cooper/10\">Cooper, Ann</a></h4>\\n\\t\\t\\t<p class=\"description\">CBS Professor of Professional Practice in International Journalism</p>\\n\\t\\t\\t<p class=\"expertise\">Expertise: INTERNATIONAL AFFAIRS, BROADCAST</p>\\n\\t\\t</div>\\n\\t</li>\\n\\n\\n\\n\\t\\n\\t\\n\\t<li>\\n\\t\\t<a href=\"/profile/31-sheila-coronel/10\"><img alt=\"Coronel_sheila\" border=\"1\" height=\"90\" src=\"/system/photos/2990/default/Coronel_Sheila.gif?1365706241\" width=\"110\" /></a>\\n\\t\\t\\n\\t\\t<div class=\"content\">\\n\\t\\t\\t<h4><a href=\"/profile/31-sheila-coronel/10\">Coronel, Sheila </a></h4>\\n\\t\\t\\t<p class=\"description\">Toni Stabile Professor of Professional Practice in Investigative Journalism; Director, Toni Stabile Center for Investigative Journalism, and Dean of Academic Affairs</p>\\n\\t\\t\\t<p class=\"expertise\">Expertise: INTERNATIONAL AFFAIRS, INVESTIGATIVE REPORTING</p>\\n\\t\\t</div>\\n\\t</li>\\n\\n\\n\\n\\t\\n\\t\\n\\t<li>\\n\\t\\t<a href=\"/profile/90-kevin-coyne/10\"><img alt=\"Unknown-1\" border=\"1\" height=\"90\" src=\"/system/photos/160/default/Unknown-1.jpeg?1378227266\" width=\"110\" /></a>\\n\\t\\t\\n\\t\\t<div class=\"content\">\\n\\t\\t\\t<h4><a href=\"/profile/90-kevin-coyne/10\">Coyne , Kevin </a></h4>\\n\\t\\t\\t<p class=\"description\">Adjunct Faculty</p>\\n\\t\\t\\t\\n\\t\\t</div>\\n\\t</li>\\n\\n\\n\\n\\t\\n\\n\\t\\n\\t\\n\\t<li>\\n\\t\\t<a href=\"/profile/32-june-cross/10\"><img alt=\"Jcross_112811\" border=\"1\" height=\"90\" src=\"/system/photos/2059/default/JCross_112811.jpg?1322510850\" width=\"110\" /></a>\\n\\t\\t\\n\\t\\t<div class=\"content\">\\n\\t\\t\\t<h4><a href=\"/profile/32-june-cross/10\">Cross, June </a></h4>\\n\\t\\t\\t<p class=\"description\">Professor </p>\\n\\t\\t\\t<p class=\"expertise\">Expertise: BROADCAST</p>\\n\\t\\t</div>\\n\\t</li>\\n\\n\\n\\n\\t\\n\\t\\n\\t<li>\\n\\t\\t<a href=\"/profile/160-brent-cunningham/10\"><img alt=\"Brent-cunningham\" border=\"1\" height=\"90\" src=\"/system/photos/861/default/Brent-Cunningham.gif?1365714937\" width=\"110\" /></a>\\n\\t\\t\\n\\t\\t<div class=\"content\">\\n\\t\\t\\t<h4><a href=\"/profile/160-brent-cunningham/10\">Cunningham, Brent </a></h4>\\n\\t\\t\\t<p class=\"description\">Deputy Editor</p>\\n\\t\\t\\t\\n\\t\\t</div>\\n\\t</li>\\n\\n\\n\\n\\t\\n\\t\\n\\t\\t<li class=\"label\" id=\"goto-d\"></li>\\n\\t\\t \\n\\t\\n\\t<li>\\n\\t\\t<a href=\"/profile/311-anthony-depalma/10\"><img alt=\"Adepalma\" border=\"1\" height=\"90\" src=\"/system/photos/1265/default/ADepalma.jpg?1291223442\" width=\"110\" /></a>\\n\\t\\t\\n\\t\\t<div class=\"content\">\\n\\t\\t\\t<h4><a href=\"/profile/311-anthony-depalma/10\">DePalma, Anthony</a></h4>\\n\\t\\t\\t<p class=\"description\">Adjunct Faculty</p>\\n\\t\\t\\t\\n\\t\\t</div>\\n\\t</li>\\n\\n\\n\\n\\t\\n\\n\\t\\n\\t\\n\\t<li>\\n\\t\\t<a href=\"/profile/357-richard-deitsch/10\"><img alt=\"Deitsch_\" border=\"1\" height=\"90\" src=\"/system/photos/3256/default/deitsch_.jpg?1376325514\" width=\"110\" /></a>\\n\\t\\t\\n\\t\\t<div class=\"content\">\\n\\t\\t\\t<h4><a href=\"/profile/357-richard-deitsch/10\">Deitsch, Richard</a></h4>\\n\\t\\t\\t<p class=\"description\">Adjunct Faculty</p>\\n\\t\\t\\t\\n\\t\\t</div>\\n\\t</li>\\n\\n\\n\\n\\t\\n\\t\\n\\t<li>\\n\\t\\t<a href=\"/profile/550-becky-diamond/10\"><img alt=\"Img_1046\" border=\"1\" height=\"90\" src=\"/system/photos/3998/default/IMG_1046.JPG?1416323809\" width=\"110\" /></a>\\n\\t\\t\\n\\t\\t<div class=\"content\">\\n\\t\\t\\t<h4><a href=\"/profile/550-becky-diamond/10\">Diamond, Becky</a></h4>\\n\\t\\t\\t<p class=\"description\"></p>\\n\\t\\t\\t\\n\\t\\t</div>\\n\\t</li>\\n\\n\\n\\n\\t\\n\\t\\n\\t<li>\\n\\t\\t<a href=\"/profile/34-john-dinges/10\"><img alt=\"Jdinges_112811\" border=\"1\" height=\"90\" src=\"/system/photos/2060/default/JDinges_112811.jpg?1322511090\" width=\"110\" /></a>\\n\\t\\t\\n\\t\\t<div class=\"content\">\\n\\t\\t\\t<h4><a href=\"/profile/34-john-dinges/10\">Dinges, John</a></h4>\\n\\t\\t\\t<p class=\"description\">Godfrey Lowell Cabot Professor Emeritus</p>\\n\\t\\t\\t<p class=\"expertise\">Expertise: BROADCAST</p>\\n\\t\\t</div>\\n\\t</li>\\n\\n\\n\\n\\t\\n\\n\\t\\n\\t\\n\\t<li>\\n\\t\\t<a href=\"/profile/368-kerry-donahue/10\"><img alt=\"Donahue03\" border=\"1\" height=\"90\" src=\"/system/photos/1811/default/Donahue03.jpg?1413472417\" width=\"110\" /></a>\\n\\t\\t\\n\\t\\t<div class=\"content\">\\n\\t\\t\\t<h4><a href=\"/profile/368-kerry-donahue/10\">Donahue, Kerry </a></h4>\\n\\t\\t\\t<p class=\"description\">Adjunct Faculty & Director, Radio Program</p>\\n\\t\\t\\t\\n\\t\\t</div>\\n\\t</li>\\n\\n\\n\\n\\t\\n\\t\\n\\t<li>\\n\\t\\t\\n\\t\\t\\n\\t\\t<div class=\"content\">\\n\\t\\t\\t<h4><a href=\"/profile/213-christopher-drew/10\">Drew, Christopher </a></h4>\\n\\t\\t\\t<p class=\"description\">Adjunct Faculty</p>\\n\\t\\t\\t\\n\\t\\t</div>\\n\\t</li>\\n\\n\\n\\n\\t\\n\\t\\n\\t\\t<li class=\"label\" id=\"goto-e\"></li>\\n\\t\\t \\n\\t\\n\\t<li>\\n\\t\\t<a href=\"/profile/35-thomas-b-edsall/10\"><img alt=\"Edsall\" border=\"1\" height=\"90\" src=\"/system/photos/936/default/edsall.jpg?1304373008\" width=\"110\" /></a>\\n\\t\\t\\n\\t\\t<div class=\"content\">\\n\\t\\t\\t<h4><a href=\"/profile/35-thomas-b-edsall/10\">Edsall, Thomas B. </a></h4>\\n\\t\\t\\t<p class=\"description\"></p>\\n\\t\\t\\t<p class=\"expertise\">Expertise: Politics, SOCIAL ISSUES</p>\\n\\t\\t</div>\\n\\t</li>\\n\\n\\n\\n\\t\\n\\t\\n\\t<li>\\n\\t\\t<a href=\"/profile/551-cheryl-einhorn/10\"><img alt=\"Cheryl_einhorn\" border=\"1\" height=\"90\" src=\"/system/photos/4036/default/Cheryl_Einhorn.jpg?1417630376\" width=\"110\" /></a>\\n\\t\\t\\n\\t\\t<div class=\"content\">\\n\\t\\t\\t<h4><a href=\"/profile/551-cheryl-einhorn/10\">Einhorn, Cheryl</a></h4>\\n\\t\\t\\t<p class=\"description\">Adjunct Faculty</p>\\n\\t\\t\\t\\n\\t\\t</div>\\n\\t</li>\\n\\n\\n\\n\\t\\n\\t\\n\\t<li>\\n\\t\\t<a href=\"/profile/533-justin-elliott/10\"><img alt=\"Justin_elliott\" border=\"1\" height=\"90\" src=\"/system/photos/3746/default/Justin_Elliott.png?1407529630\" width=\"110\" /></a>\\n\\t\\t\\n\\t\\t<div class=\"content\">\\n\\t\\t\\t<h4><a href=\"/profile/533-justin-elliott/10\">Elliott, Justin </a></h4>\\n\\t\\t\\t<p class=\"description\">Adjunct Assistant Professor</p>\\n\\t\\t\\t\\n\\t\\t</div>\\n\\t</li>\\n\\n\\n\\n\\t\\n\\t\\n\\t<li>\\n\\t\\t<a href=\"/profile/181-randi-hutter-epstein/10\"><img alt=\"Epstein\" border=\"1\" height=\"90\" src=\"/system/photos/882/default/Epstein.jpg?1280954937\" width=\"110\" /></a>\\n\\t\\t\\n\\t\\t<div class=\"content\">\\n\\t\\t\\t<h4><a href=\"/profile/181-randi-hutter-epstein/10\">Epstein, Randi Hutter </a></h4>\\n\\t\\t\\t<p class=\"description\">Adjunct Faculty </p>\\n\\t\\t\\t\\n\\t\\t</div>\\n\\t</li>\\n\\n\\n\\n\\t\\n\\t\\n\\t<li>\\n\\t\\t\\n\\t\\t\\n\\t\\t<div class=\"content\">\\n\\t\\t\\t<h4><a href=\"/profile/139-farrell-evans/10\">Evans, Farrell </a></h4>\\n\\t\\t\\t<p class=\"description\">Adjunct Faculty</p>\\n\\t\\t\\t\\n\\t\\t</div>\\n\\t</li>\\n\\n\\n\\n\\t\\n\\n\\t\\n\\t\\n\\t\\t<li class=\"label\" id=\"goto-f\"></li>\\n\\t\\t \\n\\t\\n\\t<li>\\n\\t\\t<a href=\"/profile/337-constance-mitchell-ford/10\"><img alt=\"Ford\" border=\"1\" height=\"90\" src=\"/system/photos/3488/default/ford.jpg?1392672068\" width=\"110\" /></a>\\n\\t\\t\\n\\t\\t<div class=\"content\">\\n\\t\\t\\t<h4><a href=\"/profile/337-constance-mitchell-ford/10\">Ford, Constance Mitchell </a></h4>\\n\\t\\t\\t<p class=\"description\">Adjunct Faculty</p>\\n\\t\\t\\t\\n\\t\\t</div>\\n\\t</li>\\n\\n\\n\\n\\t\\n\\n\\t\\n\\t\\n\\t<li>\\n\\t\\t<a href=\"/profile/36-samuel-freedman/10\"><img alt=\"Sfreedman_112811\" border=\"1\" height=\"90\" src=\"/system/photos/2061/default/SFreedman_112811.jpg?1322511767\" width=\"110\" /></a>\\n\\t\\t\\n\\t\\t<div class=\"content\">\\n\\t\\t\\t<h4><a href=\"/profile/36-samuel-freedman/10\">Freedman, Samuel </a></h4>\\n\\t\\t\\t<p class=\"description\">Professor</p>\\n\\t\\t\\t<p class=\"expertise\">Expertise: RELIGION, ETHICS, EDUCATION</p>\\n\\t\\t</div>\\n\\t</li>\\n\\n\\n\\n\\t\\n\\t\\n\\t<li>\\n\\t\\t<a href=\"/profile/109-george-freeman/10\"><img alt=\"Freeman\" border=\"1\" height=\"90\" src=\"/system/photos/645/default/Freeman.jpg?1279731376\" width=\"110\" /></a>\\n\\t\\t\\n\\t\\t<div class=\"content\">\\n\\t\\t\\t<h4><a href=\"/profile/109-george-freeman/10\">Freeman, George </a></h4>\\n\\t\\t\\t<p class=\"description\">Adjunct Faculty</p>\\n\\t\\t\\t\\n\\t\\t</div>\\n\\t</li>\\n\\n\\n\\n\\t\\n\\n\\t\\n\\t\\n\\t<li>\\n\\t\\t<a href=\"/profile/37-howard-french/10\"><img alt=\"Hfrench\" border=\"1\" height=\"90\" src=\"/system/photos/93/default/HFrench.jpg?1291237303\" width=\"110\" /></a>\\n\\t\\t\\n\\t\\t<div class=\"content\">\\n\\t\\t\\t<h4><a href=\"/profile/37-howard-french/10\">French, Howard </a></h4>\\n\\t\\t\\t<p class=\"description\">Associate Professor</p>\\n\\t\\t\\t<p class=\"expertise\">Expertise: INTERNATIONAL AFFAIRS, PHOTOJOURNALISM</p>\\n\\t\\t</div>\\n\\t</li>\\n\\n\\n\\n\\t\\n\\t\\n\\t<li>\\n\\t\\t<a href=\"/profile/97-stephen-fried/10\"><img alt=\"Stephen_fried\" border=\"1\" height=\"90\" src=\"/system/photos/162/default/Stephen_Fried.gif?1365716551\" width=\"110\" /></a>\\n\\t\\t\\n\\t\\t<div class=\"content\">\\n\\t\\t\\t<h4><a href=\"/profile/97-stephen-fried/10\">Fried, Stephen </a></h4>\\n\\t\\t\\t<p class=\"description\">Adjunct Faculty</p>\\n\\t\\t\\t\\n\\t\\t</div>\\n\\t</li>\\n\\n\\n\\n\\t\\n\\t\\n\\t\\t<li class=\"label\" id=\"goto-g\"></li>\\n\\t\\t \\n\\t\\n\\t<li>\\n\\t\\t<a href=\"/profile/501-mario-garcia/10\"><img alt=\"Mario2015b\" border=\"1\" height=\"90\" src=\"/system/photos/3489/default/mario2015b.jpg?1420472366\" width=\"110\" /></a>\\n\\t\\t\\n\\t\\t<div class=\"content\">\\n\\t\\t\\t<h4><a href=\"/profile/501-mario-garcia/10\">Garcia, Mario</a></h4>\\n\\t\\t\\t<p class=\"description\">Senior Adviser on News Design/Adjunct Professor</p>\\n\\t\\t\\t\\n\\t\\t</div>\\n\\t</li>\\n\\n\\n\\n\\t\\n\\t\\n\\t<li>\\n\\t\\t<a href=\"/profile/470-vanessa-gezari/10\"><img alt=\"Vanessa\" border=\"1\" height=\"90\" src=\"/system/photos/3119/default/Vanessa.gif?1371498827\" width=\"110\" /></a>\\n\\t\\t\\n\\t\\t<div class=\"content\">\\n\\t\\t\\t<h4><a href=\"/profile/470-vanessa-gezari/10\">Gezari, Vanessa</a></h4>\\n\\t\\t\\t<p class=\"description\"></p>\\n\\t\\t\\t\\n\\t\\t</div>\\n\\t</li>\\n\\n\\n\\n\\t\\n\\t\\n\\t<li>\\n\\t\\t\\n\\t\\t\\n\\t\\t<div class=\"content\">\\n\\t\\t\\t<h4><a href=\"/profile/322-greg-gilderman/10\">Gilderman, Greg</a></h4>\\n\\t\\t\\t<p class=\"description\">Adjunct Faculty</p>\\n\\t\\t\\t\\n\\t\\t</div>\\n\\t</li>\\n\\n\\n\\n\\t\\n\\t\\n\\t<li>\\n\\t\\t<a href=\"/profile/38-todd-gitlin/10\"><img alt=\"Tgitlin\" border=\"1\" height=\"90\" src=\"/system/photos/113/default/TGitlin.jpg?1291237356\" width=\"110\" /></a>\\n\\t\\t\\n\\t\\t<div class=\"content\">\\n\\t\\t\\t<h4><a href=\"/profile/38-todd-gitlin/10\">Gitlin, Todd</a></h4>\\n\\t\\t\\t<p class=\"description\">Professor & Chair, Ph.D. Program</p>\\n\\t\\t\\t<p class=\"expertise\">Expertise: Politics, SOCIAL ISSUES</p>\\n\\t\\t</div>\\n\\t</li>\\n\\n\\n\\n\\t\\n\\t\\n\\t<li>\\n\\t\\t\\n\\t\\t\\n\\t\\t<div class=\"content\">\\n\\t\\t\\t<h4><a href=\"/profile/190-barbara-giudice/10\">Giudice, Barbara </a></h4>\\n\\t\\t\\t<p class=\"description\">Adjunct Faculty</p>\\n\\t\\t\\t\\n\\t\\t</div>\\n\\t</li>\\n\\n\\n\\n\\t\\n\\t\\n\\t<li>\\n\\t\\t<a href=\"/profile/135-marty-goldensohn/10\"><img alt=\"Martygoldensohn\" border=\"1\" height=\"90\" src=\"/system/photos/836/default/MartyGoldensohn.gif?1365716789\" width=\"110\" /></a>\\n\\t\\t\\n\\t\\t<div class=\"content\">\\n\\t\\t\\t<h4><a href=\"/profile/135-marty-goldensohn/10\">Goldensohn, Marty</a></h4>\\n\\t\\t\\t<p class=\"description\">Adjunct Faculty</p>\\n\\t\\t\\t\\n\\t\\t</div>\\n\\t</li>\\n\\n\\n\\n\\t\\n\\t\\n\\t<li>\\n\\t\\t<a href=\"/profile/39-ari-goldman/10\"><img alt=\"Agoldman\" border=\"1\" height=\"90\" src=\"/system/photos/86/default/AGoldman.jpg?1291237401\" width=\"110\" /></a>\\n\\t\\t\\n\\t\\t<div class=\"content\">\\n\\t\\t\\t<h4><a href=\"/profile/39-ari-goldman/10\">Goldman, Ari </a></h4>\\n\\t\\t\\t<p class=\"description\">Professor</p>\\n\\t\\t\\t<p class=\"expertise\">Expertise: RELIGION</p>\\n\\t\\t</div>\\n\\t</li>\\n\\n\\n\\n\\t\\n\\t\\n\\t<li>\\n\\t\\t\\n\\t\\t\\n\\t\\t<div class=\"content\">\\n\\t\\t\\t<h4><a href=\"/profile/490-jacob-goldstein/10\">Goldstein, Jacob</a></h4>\\n\\t\\t\\t<p class=\"description\">Adjunct Professor</p>\\n\\t\\t\\t\\n\\t\\t</div>\\n\\t</li>\\n\\n\\n\\n\\t\\n\\t\\n\\t<li>\\n\\t\\t<a href=\"/profile/40-bill-grueskin/10\"><img alt=\"Wgrueskin\" border=\"1\" height=\"90\" src=\"/system/photos/88/default/WGrueskin.jpg?1291236298\" width=\"110\" /></a>\\n\\t\\t\\n\\t\\t<div class=\"content\">\\n\\t\\t\\t<h4><a href=\"/profile/40-bill-grueskin/10\">Grueskin, Bill</a></h4>\\n\\t\\t\\t<p class=\"description\">Professor of Professional Practice </p>\\n\\t\\t\\t<p class=\"expertise\">Expertise: TRENDS IN JOURNALISM, DIGITAL MEDIA</p>\\n\\t\\t</div>\\n\\t</li>\\n\\n\\n\\n\\t\\n\\t\\n\\t\\t<li class=\"label\" id=\"goto-h\"></li>\\n\\t\\t \\n\\t\\n\\t<li>\\n\\t\\t<a href=\"/profile/315-alan-haburchak/10\"><img alt=\"Ahaburchak\" border=\"1\" height=\"90\" src=\"/system/photos/1512/default/AHaburchak.gif?1365716878\" width=\"110\" /></a>\\n\\t\\t\\n\\t\\t<div class=\"content\">\\n\\t\\t\\t<h4><a href=\"/profile/315-alan-haburchak/10\">Haburchak, Alan</a></h4>\\n\\t\\t\\t<p class=\"description\">Adjunct Faculty</p>\\n\\t\\t\\t\\n\\t\\t</div>\\n\\t</li>\\n\\n\\n\\n\\t\\n\\t\\n\\t<li>\\n\\t\\t<a href=\"/profile/41-david-hajdu/10\"><img alt=\"Hajdu_david\" border=\"1\" height=\"90\" src=\"/system/photos/2992/default/Hajdu_David.gif?1365706270\" width=\"110\" /></a>\\n\\t\\t\\n\\t\\t<div class=\"content\">\\n\\t\\t\\t<h4><a href=\"/profile/41-david-hajdu/10\">Hajdu, David </a></h4>\\n\\t\\t\\t<p class=\"description\">Associate Professor </p>\\n\\t\\t\\t<p class=\"expertise\">Expertise: ARTS/CULTURE</p>\\n\\t\\t</div>\\n\\t</li>\\n\\n\\n\\n\\t\\n\\n\\t\\n\\t\\n\\t<li>\\n\\t\\t<a href=\"/profile/42-lynnell-hancock/10\"><img alt=\"Lynnell-faculty\" border=\"1\" height=\"90\" src=\"/system/photos/97/default/LynNell-faculty.jpg?1368455738\" width=\"110\" /></a>\\n\\t\\t\\n\\t\\t<div class=\"content\">\\n\\t\\t\\t<h4><a href=\"/profile/42-lynnell-hancock/10\">Hancock, LynNell</a></h4>\\n\\t\\t\\t<p class=\"description\">H. Gordon Garbedian Professor of Journalism & Director, Spencer Fellowship Program</p>\\n\\t\\t\\t<p class=\"expertise\">Expertise: EDUCATION</p>\\n\\t\\t</div>\\n\\t</li>\\n\\n\\n\\n\\t\\n\\t\\n\\t<li>\\n\\t\\t<a href=\"/profile/428-mark-hansen/10\"><img alt=\"Hansen\" border=\"1\" height=\"90\" src=\"/system/photos/3545/default/hansen.jpg?1392670367\" width=\"110\" /></a>\\n\\t\\t\\n\\t\\t<div class=\"content\">\\n\\t\\t\\t<h4><a href=\"/profile/428-mark-hansen/10\">Hansen, Mark</a></h4>\\n\\t\\t\\t<p class=\"description\">Director, David and Helen Gurley Brown Institute for Media Innovation & Professor of Journalism </p>\\n\\t\\t\\t<p class=\"expertise\">Expertise: Computational Journalism, Data Visualization and Statistics</p>\\n\\t\\t</div>\\n\\t</li>\\n\\n\\n\\n\\t\\n\\t\\n\\t<li>\\n\\t\\t\\n\\t\\t\\n\\t\\t<div class=\"content\">\\n\\t\\t\\t<h4><a href=\"/profile/347-mark-harris/10\">Harris, Mark</a></h4>\\n\\t\\t\\t<p class=\"description\">Adjunct Faculty</p>\\n\\t\\t\\t\\n\\t\\t</div>\\n\\t</li>\\n\\n\\n\\n\\t\\n\\t\\n\\t<li>\\n\\t\\t<a href=\"/profile/134-julie-hartenstein/10\"><img alt=\"Julie\" border=\"1\" height=\"90\" src=\"/system/photos/3210/default/Julie.gif?1375217224\" width=\"110\" /></a>\\n\\t\\t\\n\\t\\t<div class=\"content\">\\n\\t\\t\\t<h4><a href=\"/profile/134-julie-hartenstein/10\">Hartenstein, Julie</a></h4>\\n\\t\\t\\t<p class=\"description\">Associate Dean</p>\\n\\t\\t\\t\\n\\t\\t</div>\\n\\t</li>\\n\\n\\n\\n\\t\\n\\t\\n\\t<li>\\n\\t\\t<a href=\"/profile/340-larry-heinzerling/10\"><img alt=\"Larryheinzerling\" border=\"1\" height=\"90\" src=\"/system/photos/1530/default/LarryHeinzerling.gif?1365717071\" width=\"110\" /></a>\\n\\t\\t\\n\\t\\t<div class=\"content\">\\n\\t\\t\\t<h4><a href=\"/profile/340-larry-heinzerling/10\">Heinzerling, Larry</a></h4>\\n\\t\\t\\t<p class=\"description\">Adjunct Faculty</p>\\n\\t\\t\\t\\n\\t\\t</div>\\n\\t</li>\\n\\n\\n\\n\\t\\n\\t\\n\\t<li>\\n\\t\\t<a href=\"/profile/84-tom-herman/10\"><img alt=\"Tomherman\" border=\"1\" height=\"90\" src=\"/system/photos/154/default/TomHerman.gif?1365718880\" width=\"110\" /></a>\\n\\t\\t\\n\\t\\t<div class=\"content\">\\n\\t\\t\\t<h4><a href=\"/profile/84-tom-herman/10\">Herman, Tom </a></h4>\\n\\t\\t\\t<p class=\"description\">Adjunct Faculty</p>\\n\\t\\t\\t\\n\\t\\t</div>\\n\\t</li>\\n\\n\\n\\n\\t\\n\\t\\n\\t<li>\\n\\t\\t\\n\\t\\t\\n\\t\\t<div class=\"content\">\\n\\t\\t\\t<h4><a href=\"/profile/133-neil-hickey/10\">Hickey, Neil </a></h4>\\n\\t\\t\\t<p class=\"description\">Adjunct Faculty</p>\\n\\t\\t\\t\\n\\t\\t</div>\\n\\t</li>\\n\\n\\n\\n\\t\\n\\t\\n\\t<li>\\n\\t\\t<a href=\"/profile/192-lars-hoel/10\"><img alt=\"Lars-head-shot-v2\" border=\"1\" height=\"90\" src=\"/system/photos/3059/default/Lars-head-shot-v2.jpg?1368463497\" width=\"110\" /></a>\\n\\t\\t\\n\\t\\t<div class=\"content\">\\n\\t\\t\\t<h4><a href=\"/profile/192-lars-hoel/10\">Hoel, Lars </a></h4>\\n\\t\\t\\t<p class=\"description\"></p>\\n\\t\\t\\t\\n\\t\\t</div>\\n\\t</li>\\n\\n\\n\\n\\t\\n\\t\\n\\t<li>\\n\\t\\t<a href=\"/profile/504-pamela-hogan/10\"><img alt=\"Hogan\" border=\"1\" height=\"90\" src=\"/system/photos/3529/default/hogan.jpg?1392672092\" width=\"110\" /></a>\\n\\t\\t\\n\\t\\t<div class=\"content\">\\n\\t\\t\\t<h4><a href=\"/profile/504-pamela-hogan/10\">Hogan, Pamela</a></h4>\\n\\t\\t\\t<p class=\"description\">Adjunct Faculty</p>\\n\\t\\t\\t\\n\\t\\t</div>\\n\\t</li>\\n\\n\\n\\n\\t\\n\\t\\n\\t<li>\\n\\t\\t<a href=\"/profile/43-marguerite-holloway/10\"><img alt=\"Mholloway2015\" border=\"1\" height=\"90\" src=\"/system/photos/155/default/mholloway2015.jpg?1438353363\" width=\"110\" /></a>\\n\\t\\t\\n\\t\\t<div class=\"content\">\\n\\t\\t\\t<h4><a href=\"/profile/43-marguerite-holloway/10\">Holloway, Marguerite </a></h4>\\n\\t\\t\\t<p class=\"description\">Associate Professor of Professional Practice and Director, Science & Environmental Journalism</p>\\n\\t\\t\\t<p class=\"expertise\">Expertise: SCIENCE/ENVIRONMENT</p>\\n\\t\\t</div>\\n\\t</li>\\n\\n\\n\\n\\t\\n\\t\\n\\t<li>\\n\\t\\t<a href=\"/profile/103-michael-hoyt/10\"><img alt=\"Hoyt_-mike\" border=\"1\" height=\"90\" src=\"/system/photos/2994/default/Hoyt_-Mike.gif?1365706301\" width=\"110\" /></a>\\n\\t\\t\\n\\t\\t<div class=\"content\">\\n\\t\\t\\t<h4><a href=\"/profile/103-michael-hoyt/10\">Hoyt, Michael </a></h4>\\n\\t\\t\\t<p class=\"description\">Adjunct Faculty</p>\\n\\t\\t\\t\\n\\t\\t</div>\\n\\t</li>\\n\\n\\n\\n\\t\\n\\t\\n\\t\\t<li class=\"label\" id=\"goto-i\"></li>\\n\\t\\t \\n\\t\\n\\t<li>\\n\\t\\t<a href=\"/profile/568-lonnie-isabel/10\"><img alt=\"1510387_10153315953497491_8182635685450076815_n\" border=\"1\" height=\"90\" src=\"/system/photos/4397/default/1510387_10153315953497491_8182635685450076815_n.jpg?1441053100\" width=\"110\" /></a>\\n\\t\\t\\n\\t\\t<div class=\"content\">\\n\\t\\t\\t<h4><a href=\"/profile/568-lonnie-isabel/10\">Isabel, Lonnie</a></h4>\\n\\t\\t\\t<p class=\"description\">Senior Lecturer in Discipline</p>\\n\\t\\t\\t<p class=\"expertise\">Expertise: Politics, ETHICS, INTERNATIONAL AFFAIRS</p>\\n\\t\\t</div>\\n\\t</li>\\n\\n\\n\\n\\t\\n\\t\\n\\t\\t<li class=\"label\" id=\"goto-j\"></li>\\n\\t\\t \\n\\t\\n\\t<li>\\n\\t\\t<a href=\"/profile/590-tom-jennings/10\"><img alt=\"Tom_jennings\" border=\"1\" height=\"90\" src=\"/system/photos/4612/default/Tom_Jennings.jpg?1461762367\" width=\"110\" /></a>\\n\\t\\t\\n\\t\\t<div class=\"content\">\\n\\t\\t\\t<h4><a href=\"/profile/590-tom-jennings/10\">Jennings, Tom</a></h4>\\n\\t\\t\\t<p class=\"description\">Adjunct Faculty</p>\\n\\t\\t\\t\\n\\t\\t</div>\\n\\t</li>\\n\\n\\n\\n\\t\\n\\t\\n\\t<li>\\n\\t\\t<a href=\"/profile/47-richard-r-john/10\"><img alt=\"Rjohn\" border=\"1\" height=\"90\" src=\"/system/photos/101/default/RJohn.jpg?1291236478\" width=\"110\" /></a>\\n\\t\\t\\n\\t\\t<div class=\"content\">\\n\\t\\t\\t<h4><a href=\"/profile/47-richard-r-john/10\">John, Richard R. </a></h4>\\n\\t\\t\\t<p class=\"description\">Professor of History and Communications</p>\\n\\t\\t\\t<p class=\"expertise\">Expertise: HISTORY OF COMMUNICATIONS</p>\\n\\t\\t</div>\\n\\t</li>\\n\\n\\n\\n\\t\\n\\t\\n\\t<li>\\n\\t\\t\\n\\t\\t\\n\\t\\t<div class=\"content\">\\n\\t\\t\\t<h4><a href=\"/profile/514-matthew-l-jones/10\">Jones, Matthew L. </a></h4>\\n\\t\\t\\t<p class=\"description\">Instructor, The Lede Program</p>\\n\\t\\t\\t\\n\\t\\t</div>\\n\\t</li>\\n\\n\\n\\n\\t\\n\\n\\t\\n\\t\\n\\t\\t<li class=\"label\" id=\"goto-k\"></li>\\n\\t\\t \\n\\t\\n\\t<li>\\n\\t\\t\\n\\t\\t\\n\\t\\t<div class=\"content\">\\n\\t\\t\\t<h4><a href=\"/profile/202-peter-r-kann/10\">Kann, Peter R. </a></h4>\\n\\t\\t\\t<p class=\"description\">Adjunct Faculty</p>\\n\\t\\t\\t\\n\\t\\t</div>\\n\\t</li>\\n\\n\\n\\n\\t\\n\\t\\n\\t<li>\\n\\t\\t<a href=\"/profile/567-barbara-kantrowitz/10\"><img alt=\"Kantrowitz\" border=\"1\" height=\"90\" src=\"/system/photos/4372/default/KANTROWITZ.jpg?1439496827\" width=\"110\" /></a>\\n\\t\\t\\n\\t\\t<div class=\"content\">\\n\\t\\t\\t<h4><a href=\"/profile/567-barbara-kantrowitz/10\">Kantrowitz, Barbara </a></h4>\\n\\t\\t\\t<p class=\"description\">Adjunct Professor</p>\\n\\t\\t\\t\\n\\t\\t</div>\\n\\t</li>\\n\\n\\n\\n\\t\\n\\t\\n\\t<li>\\n\\t\\t<a href=\"/profile/110-stuart-karle/10\"><img alt=\"Karle_-stuart\" border=\"1\" height=\"90\" src=\"/system/photos/2995/default/Karle_-Stuart.gif?1365706445\" width=\"110\" /></a>\\n\\t\\t\\n\\t\\t<div class=\"content\">\\n\\t\\t\\t<h4><a href=\"/profile/110-stuart-karle/10\">Karle, Stuart</a></h4>\\n\\t\\t\\t<p class=\"description\">Adjunct Faculty; William J. Brennan Jr. Visiting Professor of First Amendment Issues</p>\\n\\t\\t\\t\\n\\t\\t</div>\\n\\t</li>\\n\\n\\n\\n\\t\\n\\t\\n\\t<li>\\n\\t\\t<a href=\"/profile/157-rick-karr/10\"><img alt=\"Rickkarr\" border=\"1\" height=\"90\" src=\"/system/photos/858/default/RickKArr.gif?1365717241\" width=\"110\" /></a>\\n\\t\\t\\n\\t\\t<div class=\"content\">\\n\\t\\t\\t<h4><a href=\"/profile/157-rick-karr/10\">Karr, Rick</a></h4>\\n\\t\\t\\t<p class=\"description\">Adjunct Faculty</p>\\n\\t\\t\\t\\n\\t\\t</div>\\n\\t</li>\\n\\n\\n\\n\\t\\n\\t\\n\\t<li>\\n\\t\\t\\n\\t\\t\\n\\t\\t<div class=\"content\">\\n\\t\\t\\t<h4><a href=\"/profile/534-david-kellogg/10\">Kellogg, David</a></h4>\\n\\t\\t\\t<p class=\"description\">Adjunct Faculty</p>\\n\\t\\t\\t\\n\\t\\t</div>\\n\\t</li>\\n\\n\\n\\n\\t\\n\\t\\n\\t<li>\\n\\t\\t<a href=\"/profile/592-lucy-kennedy/10\"><img alt=\"Lucykennedy\" border=\"1\" height=\"90\" src=\"/system/photos/4614/default/lucykennedy.jpg?1461769581\" width=\"110\" /></a>\\n\\t\\t\\n\\t\\t<div class=\"content\">\\n\\t\\t\\t<h4><a href=\"/profile/592-lucy-kennedy/10\">Kennedy, Lucy</a></h4>\\n\\t\\t\\t<p class=\"description\">Adjunct Faculty</p>\\n\\t\\t\\t\\n\\t\\t</div>\\n\\t</li>\\n\\n\\n\\n\\t\\n\\t\\n\\t<li>\\n\\t\\t<a href=\"/profile/88-thomas-kent/10\"><img alt=\"Thomaskent\" border=\"1\" height=\"90\" src=\"/system/photos/158/default/ThomasKent.gif?1365717319\" width=\"110\" /></a>\\n\\t\\t\\n\\t\\t<div class=\"content\">\\n\\t\\t\\t<h4><a href=\"/profile/88-thomas-kent/10\">Kent, Thomas </a></h4>\\n\\t\\t\\t<p class=\"description\">Adjunct Faculty</p>\\n\\t\\t\\t\\n\\t\\t</div>\\n\\t</li>\\n\\n\\n\\n\\t\\n\\t\\n\\t<li>\\n\\t\\t<a href=\"/profile/48-david-klatell/10\"><img alt=\"Dklatell\" border=\"1\" height=\"90\" src=\"/system/photos/1259/default/DKlatell.jpg?1291217138\" width=\"110\" /></a>\\n\\t\\t\\n\\t\\t<div class=\"content\">\\n\\t\\t\\t<h4><a href=\"/profile/48-david-klatell/10\">Klatell, David</a></h4>\\n\\t\\t\\t<p class=\"description\">Professor of Professional Practice & Chair, International Studies</p>\\n\\t\\t\\t<p class=\"expertise\">Expertise: ETHICS, INTERNATIONAL AFFAIRS</p>\\n\\t\\t</div>\\n\\t</li>\\n\\n\\n\\n\\t\\n\\t\\n\\t<li>\\n\\t\\t\\n\\t\\t\\n\\t\\t<div class=\"content\">\\n\\t\\t\\t<h4><a href=\"/profile/112-adam-klein/10\">Klein, Adam</a></h4>\\n\\t\\t\\t<p class=\"description\">Adjunct Professor</p>\\n\\t\\t\\t\\n\\t\\t</div>\\n\\t</li>\\n\\n\\n\\n\\t\\n\\t\\n\\t<li>\\n\\t\\t<a href=\"/profile/203-kim-kleman/10\"><img alt=\"Kim-kleman-1\" border=\"1\" height=\"90\" src=\"/system/photos/3056/default/Kim-Kleman-1.jpg?1368463019\" width=\"110\" /></a>\\n\\t\\t\\n\\t\\t<div class=\"content\">\\n\\t\\t\\t<h4><a href=\"/profile/203-kim-kleman/10\">Kleman, Kim </a></h4>\\n\\t\\t\\t<p class=\"description\">Adjunct Faculty</p>\\n\\t\\t\\t\\n\\t\\t</div>\\n\\t</li>\\n\\n\\n\\n\\t\\n\\t\\n\\t<li>\\n\\t\\t<a href=\"/profile/131-jonathan-knee/10\"><img alt=\"Knee\" border=\"1\" height=\"90\" src=\"/system/photos/832/default/knee.jpg?1392672119\" width=\"110\" /></a>\\n\\t\\t\\n\\t\\t<div class=\"content\">\\n\\t\\t\\t<h4><a href=\"/profile/131-jonathan-knee/10\">Knee, Jonathan</a></h4>\\n\\t\\t\\t<p class=\"description\">Adjunct Professor</p>\\n\\t\\t\\t\\n\\t\\t</div>\\n\\t</li>\\n\\n\\n\\n\\t\\n\\t\\n\\t<li>\\n\\t\\t\\n\\t\\t\\n\\t\\t<div class=\"content\">\\n\\t\\t\\t<h4><a href=\"/profile/331-joan-konner/10\">Konner, Joan</a></h4>\\n\\t\\t\\t<p class=\"description\">Dean Emerita</p>\\n\\t\\t\\t\\n\\t\\t</div>\\n\\t</li>\\n\\n\\n\\n\\t\\n\\n\\t\\n\\t\\n\\t<li>\\n\\t\\t<a href=\"/profile/561-matt-kozar/10\"><img alt=\"Matt_kozar\" border=\"1\" height=\"90\" src=\"/system/photos/4171/default/Matt_Kozar.jpg?1425569363\" width=\"110\" /></a>\\n\\t\\t\\n\\t\\t<div class=\"content\">\\n\\t\\t\\t<h4><a href=\"/profile/561-matt-kozar/10\">Kozar, Matt</a></h4>\\n\\t\\t\\t<p class=\"description\">Adjunct Faculty</p>\\n\\t\\t\\t\\n\\t\\t</div>\\n\\t</li>\\n\\n\\n\\n\\t\\n\\n\\t\\n\\n\\t\\n\\t\\n\\t\\t<li class=\"label\" id=\"goto-l\"></li>\\n\\t\\t \\n\\t\\n\\t<li>\\n\\t\\t<a href=\"/profile/86-christopher-lehmann-haupt/10\"><img alt=\"Haupt\" border=\"1\" height=\"90\" src=\"/system/photos/156/default/haupt.jpg?1392672140\" width=\"110\" /></a>\\n\\t\\t\\n\\t\\t<div class=\"content\">\\n\\t\\t\\t<h4><a href=\"/profile/86-christopher-lehmann-haupt/10\">Lehmann-Haupt, Christopher </a></h4>\\n\\t\\t\\t<p class=\"description\">Adjunct Faculty</p>\\n\\t\\t\\t\\n\\t\\t</div>\\n\\t</li>\\n\\n\\n\\n\\t\\n\\t\\n\\t<li>\\n\\t\\t<a href=\"/profile/50-nicholas-lemann/10\"><img alt=\"Nlemann_112811\" border=\"1\" height=\"90\" src=\"/system/photos/2065/default/NLemann_112811.jpg?1322513292\" width=\"110\" /></a>\\n\\t\\t\\n\\t\\t<div class=\"content\">\\n\\t\\t\\t<h4><a href=\"/profile/50-nicholas-lemann/10\">Lemann, Nicholas</a></h4>\\n\\t\\t\\t<p class=\"description\">Joseph Pulitzer II and Edith Pulitzer Moore Professor of Journalism; Dean Emeritus</p>\\n\\t\\t\\t<p class=\"expertise\">Expertise: ETHICS, TRENDS IN JOURNALISM, HISTORY OF COMMUNICATIONS</p>\\n\\t\\t</div>\\n\\t</li>\\n\\n\\n\\n\\t\\n\\t\\n\\t<li>\\n\\t\\t\\n\\t\\t\\n\\t\\t<div class=\"content\">\\n\\t\\t\\t<h4><a href=\"/profile/204-jacob-levenson/10\">Levenson, Jacob </a></h4>\\n\\t\\t\\t<p class=\"description\">Adjunct Faculty</p>\\n\\t\\t\\t\\n\\t\\t</div>\\n\\t</li>\\n\\n\\n\\n\\t\\n\\t\\n\\t<li>\\n\\t\\t<a href=\"/profile/87-seth-lipsky/10\"><img alt=\"Sethlipsky\" border=\"1\" height=\"90\" src=\"/system/photos/157/default/SethLipsky.gif?1365717822\" width=\"110\" /></a>\\n\\t\\t\\n\\t\\t<div class=\"content\">\\n\\t\\t\\t<h4><a href=\"/profile/87-seth-lipsky/10\">Lipsky, Seth </a></h4>\\n\\t\\t\\t<p class=\"description\">Adjunct Faculty</p>\\n\\t\\t\\t\\n\\t\\t</div>\\n\\t</li>\\n\\n\\n\\n\\t\\n\\t\\n\\t<li>\\n\\t\\t\\n\\t\\t\\n\\t\\t<div class=\"content\">\\n\\t\\t\\t<h4><a href=\"/profile/344-kristen-lombardi/10\">Lombardi, Kristen</a></h4>\\n\\t\\t\\t<p class=\"description\">Adjunct Faculty</p>\\n\\t\\t\\t\\n\\t\\t</div>\\n\\t</li>\\n\\n\\n\\n\\t\\n\\t\\n\\t<li>\\n\\t\\t<a href=\"/profile/130-tami-luhby/10\"><img alt=\"Tamiluhby\" border=\"1\" height=\"90\" src=\"/system/photos/1391/default/TamiLuhby.gif?1365717895\" width=\"110\" /></a>\\n\\t\\t\\n\\t\\t<div class=\"content\">\\n\\t\\t\\t<h4><a href=\"/profile/130-tami-luhby/10\">Luhby, Tami</a></h4>\\n\\t\\t\\t<p class=\"description\">Adjunct Faculty</p>\\n\\t\\t\\t\\n\\t\\t</div>\\n\\t</li>\\n\\n\\n\\n\\t\\n\\t\\n\\t\\t<li class=\"label\" id=\"goto-m\"></li>\\n\\t\\t \\n\\t\\n\\t<li>\\n\\t\\t<a href=\"/profile/401-tony-maciulis/10\"><img alt=\"Tony-maciulius\" border=\"1\" height=\"90\" src=\"/system/photos/3263/default/Tony-Maciulius.gif?1376424088\" width=\"110\" /></a>\\n\\t\\t\\n\\t\\t<div class=\"content\">\\n\\t\\t\\t<h4><a href=\"/profile/401-tony-maciulis/10\">Maciulis, Tony</a></h4>\\n\\t\\t\\t<p class=\"description\">Adjunct Faculty</p>\\n\\t\\t\\t\\n\\t\\t</div>\\n\\t</li>\\n\\n\\n\\n\\t\\n\\t\\n\\t<li>\\n\\t\\t<a href=\"/profile/53-dale-maharidge/10\"><img alt=\"Maharidge_-dale\" border=\"1\" height=\"90\" src=\"/system/photos/2996/default/Maharidge_-Dale.gif?1365706460\" width=\"110\" /></a>\\n\\t\\t\\n\\t\\t<div class=\"content\">\\n\\t\\t\\t<h4><a href=\"/profile/53-dale-maharidge/10\">Maharidge, Dale </a></h4>\\n\\t\\t\\t<p class=\"description\">Professor </p>\\n\\t\\t\\t<p class=\"expertise\">Expertise: SOCIAL ISSUES</p>\\n\\t\\t</div>\\n\\t</li>\\n\\n\\n\\n\\t\\n\\t\\n\\t<li>\\n\\t\\t<a href=\"/profile/437-tom-mason/10\"><img alt=\"Tommason\" border=\"1\" height=\"90\" src=\"/system/photos/2690/default/TomMason.gif?1365718118\" width=\"110\" /></a>\\n\\t\\t\\n\\t\\t<div class=\"content\">\\n\\t\\t\\t<h4><a href=\"/profile/437-tom-mason/10\">Mason, Tom</a></h4>\\n\\t\\t\\t<p class=\"description\"></p>\\n\\t\\t\\t\\n\\t\\t</div>\\n\\t</li>\\n\\n\\n\\n\\t\\n\\t\\n\\t<li>\\n\\t\\t<a href=\"/profile/114-judith-matloff/10\"><img alt=\"Matloff_-judith\" border=\"1\" height=\"90\" src=\"/system/photos/2997/default/Matloff_-Judith.gif?1365706478\" width=\"110\" /></a>\\n\\t\\t\\n\\t\\t<div class=\"content\">\\n\\t\\t\\t<h4><a href=\"/profile/114-judith-matloff/10\">Matloff, Judith </a></h4>\\n\\t\\t\\t<p class=\"description\">Adjunct faculty</p>\\n\\t\\t\\t\\n\\t\\t</div>\\n\\t</li>\\n\\n\\n\\n\\t\\n\\t\\n\\t<li>\\n\\t\\t\\n\\t\\t\\n\\t\\t<div class=\"content\">\\n\\t\\t\\t<h4><a href=\"/profile/323-itai-maytal/10\">Maytal, Itai</a></h4>\\n\\t\\t\\t<p class=\"description\">Adjunct Faculty</p>\\n\\t\\t\\t\\n\\t\\t</div>\\n\\t</li>\\n\\n\\n\\n\\t\\n\\t\\n\\t<li>\\n\\t\\t\\n\\t\\t\\n\\t\\t<div class=\"content\">\\n\\t\\t\\t<h4><a href=\"/profile/205-david-mccormick/10\">McCormick, David </a></h4>\\n\\t\\t\\t<p class=\"description\">Adjunct Faculty</p>\\n\\t\\t\\t\\n\\t\\t</div>\\n\\t</li>\\n\\n\\n\\n\\t\\n\\t\\n\\t<li>\\n\\t\\t\\n\\t\\t\\n\\t\\t<div class=\"content\">\\n\\t\\t\\t<h4><a href=\"/profile/128-melvin-mccray/10\">McCray, Melvin</a></h4>\\n\\t\\t\\t<p class=\"description\">Adjunct Faculty</p>\\n\\t\\t\\t\\n\\t\\t</div>\\n\\t</li>\\n\\n\\n\\n\\t\\n\\t\\n\\t<li>\\n\\t\\t<a href=\"/profile/461-erica-mcdonald/10\"><img alt=\"Mcdonald_-erica\" border=\"1\" height=\"90\" src=\"/system/photos/2998/default/McDonald_-Erica.gif?1365706494\" width=\"110\" /></a>\\n\\t\\t\\n\\t\\t<div class=\"content\">\\n\\t\\t\\t<h4><a href=\"/profile/461-erica-mcdonald/10\">McDonald, Erica</a></h4>\\n\\t\\t\\t<p class=\"description\"></p>\\n\\t\\t\\t\\n\\t\\t</div>\\n\\t</li>\\n\\n\\n\\n\\t\\n\\t\\n\\t<li>\\n\\t\\t<a href=\"/profile/365-susan-e-mcgregor/10\"><img alt=\"Susan_mcgregor\" border=\"1\" height=\"90\" src=\"/system/photos/1805/default/Susan_McGregor.png?1442594937\" width=\"110\" /></a>\\n\\t\\t\\n\\t\\t<div class=\"content\">\\n\\t\\t\\t<h4><a href=\"/profile/365-susan-e-mcgregor/10\">McGregor, Susan E.</a></h4>\\n\\t\\t\\t<p class=\"description\">Assistant Professor & Assistant Director, Tow Center for Digital Journalism</p>\\n\\t\\t\\t<p class=\"expertise\">Expertise: DIGITAL MEDIA, TRENDS IN JOURNALISM, DATA</p>\\n\\t\\t</div>\\n\\t</li>\\n\\n\\n\\n\\t\\n\\n\\t\\n\\t\\n\\t<li>\\n\\t\\t\\n\\t\\t\\n\\t\\t<div class=\"content\">\\n\\t\\t\\t<h4><a href=\"/profile/333-melvin-mencher/10\">Mencher, Melvin</a></h4>\\n\\t\\t\\t<p class=\"description\">Professor Emeritus</p>\\n\\t\\t\\t\\n\\t\\t</div>\\n\\t</li>\\n\\n\\n\\n\\t\\n\\t\\n\\t<li>\\n\\t\\t<a href=\"/profile/462-preston-merchant/10\"><img alt=\"Merchant_-preston\" border=\"1\" height=\"90\" src=\"/system/photos/2999/default/Merchant_-Preston.gif?1365706509\" width=\"110\" /></a>\\n\\t\\t\\n\\t\\t<div class=\"content\">\\n\\t\\t\\t<h4><a href=\"/profile/462-preston-merchant/10\">Merchant, Preston</a></h4>\\n\\t\\t\\t<p class=\"description\"></p>\\n\\t\\t\\t\\n\\t\\t</div>\\n\\t</li>\\n\\n\\n\\n\\t\\n\\n\\t\\n\\t\\n\\t<li>\\n\\t\\t<a href=\"/profile/324-james-mintz/10\"><img alt=\"Mintz_-jim\" border=\"1\" height=\"90\" src=\"/system/photos/3000/default/Mintz_-Jim.gif?1365706529\" width=\"110\" /></a>\\n\\t\\t\\n\\t\\t<div class=\"content\">\\n\\t\\t\\t<h4><a href=\"/profile/324-james-mintz/10\">Mintz, James</a></h4>\\n\\t\\t\\t<p class=\"description\">Adjunct Faculty</p>\\n\\t\\t\\t\\n\\t\\t</div>\\n\\t</li>\\n\\n\\n\\n\\t\\n\\t\\n\\t<li>\\n\\t\\t\\n\\t\\t\\n\\t\\t<div class=\"content\">\\n\\t\\t\\t<h4><a href=\"/profile/554-betsy-morais/10\">Morais, Betsy</a></h4>\\n\\t\\t\\t<p class=\"description\">Adjunct Faculty</p>\\n\\t\\t\\t\\n\\t\\t</div>\\n\\t</li>\\n\\n\\n\\n\\t\\n\\t\\n\\t\\t<li class=\"label\" id=\"goto-n\"></li>\\n\\t\\t \\n\\t\\n\\t<li>\\n\\t\\t<a href=\"/profile/56-sylvia-nasar/10\"><img alt=\"Snasar_112811\" border=\"1\" height=\"90\" src=\"/system/photos/2069/default/SNasar_112811.jpg?1322514324\" width=\"110\" /></a>\\n\\t\\t\\n\\t\\t<div class=\"content\">\\n\\t\\t\\t<h4><a href=\"/profile/56-sylvia-nasar/10\">Nasar, Sylvia </a></h4>\\n\\t\\t\\t<p class=\"description\">John S. and James L. Knight Professor of Business Journalism</p>\\n\\t\\t\\t<p class=\"expertise\">Expertise: BUSINESS/ECONOMICS</p>\\n\\t\\t</div>\\n\\t</li>\\n\\n\\n\\n\\t\\n\\t\\n\\t<li>\\n\\t\\t<a href=\"/profile/580-victor-navasky/10\"><img alt=\"Victor_navasky\" border=\"1\" height=\"90\" src=\"/system/photos/114/default/Victor_Navasky.jpg?1275575842\" width=\"110\" /></a>\\n\\t\\t\\n\\t\\t<div class=\"content\">\\n\\t\\t\\t<h4><a href=\"/profile/580-victor-navasky/10\">Navasky, Victor</a></h4>\\n\\t\\t\\t<p class=\"description\">George T. Delacorte Professor in Magazine Journalism Emeritus</p>\\n\\t\\t\\t\\n\\t\\t</div>\\n\\t</li>\\n\\n\\n\\n\\t\\n\\t\\n\\t<li>\\n\\t\\t\\n\\t\\t\\n\\t\\t<div class=\"content\">\\n\\t\\t\\t<h4><a href=\"/profile/382-maria-newman/10\">Newman, Maria</a></h4>\\n\\t\\t\\t<p class=\"description\">Adjunct Faculty</p>\\n\\t\\t\\t\\n\\t\\t</div>\\n\\t</li>\\n\\n\\n\\n\\t\\n\\t\\n\\t<li>\\n\\t\\t<a href=\"/profile/441-martin-nisenholtz/10\"><img alt=\"Nisenholtz\" border=\"1\" height=\"90\" src=\"/system/photos/2714/default/nisenholtz.jpg?1392672182\" width=\"110\" /></a>\\n\\t\\t\\n\\t\\t<div class=\"content\">\\n\\t\\t\\t<h4><a href=\"/profile/441-martin-nisenholtz/10\">Nisenholtz, Martin</a></h4>\\n\\t\\t\\t<p class=\"description\">Adjunct Professor </p>\\n\\t\\t\\t\\n\\t\\t</div>\\n\\t</li>\\n\\n\\n\\n\\t\\n\\n\\t\\n\\t\\n\\t<li>\\n\\t\\t<a href=\"/profile/432-rob-norton/10\"><img alt=\"Rnorton\" border=\"1\" height=\"90\" src=\"/system/photos/2659/default/RNorton.jpg?1345495471\" width=\"110\" /></a>\\n\\t\\t\\n\\t\\t<div class=\"content\">\\n\\t\\t\\t<h4><a href=\"/profile/432-rob-norton/10\">Norton, Rob</a></h4>\\n\\t\\t\\t<p class=\"description\">Adjunct Faculty</p>\\n\\t\\t\\t\\n\\t\\t</div>\\n\\t</li>\\n\\n\\n\\n\\t\\n\\t\\n\\t<li>\\n\\t\\t<a href=\"/profile/492-habiba-nosheen/10\"><img alt=\"Habibanosheen2\" border=\"1\" height=\"90\" src=\"/system/photos/3288/default/habibanosheen2.jpg?1378324386\" width=\"110\" /></a>\\n\\t\\t\\n\\t\\t<div class=\"content\">\\n\\t\\t\\t<h4><a href=\"/profile/492-habiba-nosheen/10\">Nosheen, Habiba</a></h4>\\n\\t\\t\\t<p class=\"description\">Adjunct Professor</p>\\n\\t\\t\\t\\n\\t\\t</div>\\n\\t</li>\\n\\n\\n\\n\\t\\n\\n\\t\\n\\n\\t\\n\\t\\n\\t\\t<li class=\"label\" id=\"goto-o\"></li>\\n\\t\\t \\n\\t\\n\\t<li>\\n\\t\\t<a href=\"/profile/345-charles-ornstein/10\"><img alt=\"Charlesornstein\" border=\"1\" height=\"90\" src=\"/system/photos/1993/default/CharlesOrnstein.gif?1365718296\" width=\"110\" /></a>\\n\\t\\t\\n\\t\\t<div class=\"content\">\\n\\t\\t\\t<h4><a href=\"/profile/345-charles-ornstein/10\">Ornstein, Charles</a></h4>\\n\\t\\t\\t<p class=\"description\">Adjunct Faculty</p>\\n\\t\\t\\t\\n\\t\\t</div>\\n\\t</li>\\n\\n\\n\\n\\t\\n\\t\\n\\t\\t<li class=\"label\" id=\"goto-p\"></li>\\n\\t\\t \\n\\t\\n\\t<li>\\n\\t\\t<a href=\"/profile/125-ruth-padawer/10\"><img alt=\"Padawer\" border=\"1\" height=\"90\" src=\"/system/photos/826/default/padawer.jpg?1392672201\" width=\"110\" /></a>\\n\\t\\t\\n\\t\\t<div class=\"content\">\\n\\t\\t\\t<h4><a href=\"/profile/125-ruth-padawer/10\">Padawer , Ruth</a></h4>\\n\\t\\t\\t<p class=\"description\">Adjunct Professor</p>\\n\\t\\t\\t\\n\\t\\t</div>\\n\\t</li>\\n\\n\\n\\n\\t\\n\\n\\t\\n\\t\\n\\t<li>\\n\\t\\t<a href=\"/profile/193-diantha-parker/10\"><img alt=\"Diantha_parker\" border=\"1\" height=\"90\" src=\"/system/photos/3706/default/Diantha_Parker.jpg?1404750842\" width=\"110\" /></a>\\n\\t\\t\\n\\t\\t<div class=\"content\">\\n\\t\\t\\t<h4><a href=\"/profile/193-diantha-parker/10\">Parker, Diantha</a></h4>\\n\\t\\t\\t<p class=\"description\">Adjunct Faculty</p>\\n\\t\\t\\t\\n\\t\\t</div>\\n\\t</li>\\n\\n\\n\\n\\t\\n\\t\\n\\t<li>\\n\\t\\t\\n\\t\\t\\n\\t\\t<div class=\"content\">\\n\\t\\t\\t<h4><a href=\"/profile/515-allison-parrish/10\">Parrish, Allison </a></h4>\\n\\t\\t\\t<p class=\"description\">Instructor, The Lede Program</p>\\n\\t\\t\\t\\n\\t\\t</div>\\n\\t</li>\\n\\n\\n\\n\\t\\n\\t\\n\\t<li>\\n\\t\\t<a href=\"/profile/380-samir-s-patel/10\"><img alt=\"Patel_headshot2\" border=\"1\" height=\"90\" src=\"/system/photos/1914/default/Patel_Headshot2.jpg?1319040513\" width=\"110\" /></a>\\n\\t\\t\\n\\t\\t<div class=\"content\">\\n\\t\\t\\t<h4><a href=\"/profile/380-samir-s-patel/10\">Patel, Samir S.</a></h4>\\n\\t\\t\\t<p class=\"description\">Adjunct Faculty</p>\\n\\t\\t\\t\\n\\t\\t</div>\\n\\t</li>\\n\\n\\n\\n\\t\\n\\t\\n\\t<li>\\n\\t\\t\\n\\t\\t\\n\\t\\t<div class=\"content\">\\n\\t\\t\\t<h4><a href=\"/profile/587-delia-paunescu/10\">Paunescu, Delia </a></h4>\\n\\t\\t\\t<p class=\"description\"></p>\\n\\t\\t\\t\\n\\t\\t</div>\\n\\t</li>\\n\\n\\n\\n\\t\\n\\t\\n\\t<li>\\n\\t\\t<a href=\"/profile/207-merrill-perlman/10\"><img alt=\"Perlman_-merrill\" border=\"1\" height=\"90\" src=\"/system/photos/3001/default/Perlman_-Merrill.gif?1365706552\" width=\"110\" /></a>\\n\\t\\t\\n\\t\\t<div class=\"content\">\\n\\t\\t\\t<h4><a href=\"/profile/207-merrill-perlman/10\">Perlman, Merrill</a></h4>\\n\\t\\t\\t<p class=\"description\">Adjunct Faculty</p>\\n\\t\\t\\t\\n\\t\\t</div>\\n\\t</li>\\n\\n\\n\\n\\t\\n\\t\\n\\t<li>\\n\\t\\t<a href=\"/profile/520-lisa-pollak/10\"><img alt=\"Lisa_pollak_photo\" border=\"1\" height=\"90\" src=\"/system/photos/3708/default/Lisa_Pollak_Photo.jpg?1405027267\" width=\"110\" /></a>\\n\\t\\t\\n\\t\\t<div class=\"content\">\\n\\t\\t\\t<h4><a href=\"/profile/520-lisa-pollak/10\">Pollak, Lisa</a></h4>\\n\\t\\t\\t<p class=\"description\">Adjunct Faculty</p>\\n\\t\\t\\t\\n\\t\\t</div>\\n\\t</li>\\n\\n\\n\\n\\t\\n\\t\\n\\t<li>\\n\\t\\t<a href=\"/profile/151-marquita-pool-eckert/10\"><img alt=\"Pool-eckert\" border=\"1\" height=\"90\" src=\"/system/photos/852/default/pool-eckert.jpg?1392672210\" width=\"110\" /></a>\\n\\t\\t\\n\\t\\t<div class=\"content\">\\n\\t\\t\\t<h4><a href=\"/profile/151-marquita-pool-eckert/10\">Pool-Eckert, Marquita</a></h4>\\n\\t\\t\\t<p class=\"description\">Adjunct Faculty</p>\\n\\t\\t\\t\\n\\t\\t</div>\\n\\t</li>\\n\\n\\n\\n\\t\\n\\n\\t\\n\\n\\t\\n\\t\\n\\t<li>\\n\\t\\t\\n\\t\\t\\n\\t\\t<div class=\"content\">\\n\\t\\t\\t<h4><a href=\"/profile/209-lynda-richardson/10\">Richardson, Lynda </a></h4>\\n\\t\\t\\t<p class=\"description\">Adjunct Faculty</p>\\n\\t\\t\\t\\n\\t\\t</div>\\n\\t</li>\\n\\n\\n\\n\\t\\n\\t\\n\\t<li>\\n\\t\\t<a href=\"/profile/569-whitney-richardson/10\"><img alt=\"Whitney_richardson_headshot\" border=\"1\" height=\"90\" src=\"/system/photos/4398/default/Whitney_Richardson_headshot.jpg?1441069694\" width=\"110\" /></a>\\n\\t\\t\\n\\t\\t<div class=\"content\">\\n\\t\\t\\t<h4><a href=\"/profile/569-whitney-richardson/10\">Richardson, Whitney </a></h4>\\n\\t\\t\\t<p class=\"description\">Adjunct Professor</p>\\n\\t\\t\\t<p class=\"expertise\">Expertise: PHOTOJOURNALISM</p>\\n\\t\\t</div>\\n\\t</li>\\n\\n\\n\\n\\t\\n\\t\\n\\t<li>\\n\\t\\t<a href=\"/profile/394-joe-richman/10\"><img alt=\"Richmn\" border=\"1\" height=\"90\" src=\"/system/photos/824/default/richmn.jpg?1392672219\" width=\"110\" /></a>\\n\\t\\t\\n\\t\\t<div class=\"content\">\\n\\t\\t\\t<h4><a href=\"/profile/394-joe-richman/10\">Richman, Joe</a></h4>\\n\\t\\t\\t<p class=\"description\">Adjunct Faculty</p>\\n\\t\\t\\t\\n\\t\\t</div>\\n\\t</li>\\n\\n\\n\\n\\t\\n\\t\\n\\t<li>\\n\\t\\t<a href=\"/profile/493-ed-robbins/10\"><img alt=\"Robbins\" border=\"1\" height=\"90\" src=\"/system/photos/3377/default/robbins.jpg?1392672228\" width=\"110\" /></a>\\n\\t\\t\\n\\t\\t<div class=\"content\">\\n\\t\\t\\t<h4><a href=\"/profile/493-ed-robbins/10\">Robbins, Ed</a></h4>\\n\\t\\t\\t<p class=\"description\">Adjunct Faculty</p>\\n\\t\\t\\t\\n\\t\\t</div>\\n\\t</li>\\n\\n\\n\\n\\t\\n\\t\\n\\t<li>\\n\\t\\t\\n\\t\\t\\n\\t\\t<div class=\"content\">\\n\\t\\t\\t<h4><a href=\"/profile/346-fletcher-roberts/10\">Roberts, Fletcher</a></h4>\\n\\t\\t\\t<p class=\"description\">Adjunct Faculty</p>\\n\\t\\t\\t\\n\\t\\t</div>\\n\\t</li>\\n\\n\\n\\n\\t\\n\\n\\t\\n\\t\\n\\t<li>\\n\\t\\t<a href=\"/profile/150-bob-sacha/10\"><img alt=\"Sacha\" border=\"1\" height=\"90\" src=\"/system/photos/851/default/Sacha.jpg?1280952529\" width=\"110\" /></a>\\n\\t\\t\\n\\t\\t<div class=\"content\">\\n\\t\\t\\t<h4><a href=\"/profile/150-bob-sacha/10\">Sacha, Bob </a></h4>\\n\\t\\t\\t<p class=\"description\">Adjunct Faculty</p>\\n\\t\\t\\t\\n\\t\\t</div>\\n\\t</li>\\n\\n\\n\\n\\t\\n\\t\\n\\t<li>\\n\\t\\t<a href=\"/profile/570-suzanne-sataline/10\"><img alt=\"Sataline\" border=\"1\" height=\"90\" src=\"/system/photos/4394/default/sataline.jpg?1441036959\" width=\"110\" /></a>\\n\\t\\t\\n\\t\\t<div class=\"content\">\\n\\t\\t\\t<h4><a href=\"/profile/570-suzanne-sataline/10\">Sataline, Suzanne</a></h4>\\n\\t\\t\\t<p class=\"description\">Adjunct Faculty</p>\\n\\t\\t\\t\\n\\t\\t</div>\\n\\t</li>\\n\\n\\n\\n\\t\\n\\t\\n\\t<li>\\n\\t\\t<a href=\"/profile/122-rich-schapiro/10\"><img alt=\"Richschapiro\" border=\"1\" height=\"90\" src=\"/system/photos/823/default/RichSchapiro.gif?1365718608\" width=\"110\" /></a>\\n\\t\\t\\n\\t\\t<div class=\"content\">\\n\\t\\t\\t<h4><a href=\"/profile/122-rich-schapiro/10\">Schapiro, Rich</a></h4>\\n\\t\\t\\t<p class=\"description\">Adjunct Faculty</p>\\n\\t\\t\\t\\n\\t\\t</div>\\n\\t</li>\\n\\n\\n\\n\\t\\n\\t\\n\\t<li>\\n\\t\\t\\n\\t\\t\\n\\t\\t<div class=\"content\">\\n\\t\\t\\t<h4><a href=\"/profile/197-robin-schatz/10\">Schatz, Robin</a></h4>\\n\\t\\t\\t<p class=\"description\">Adjunct Faculty</p>\\n\\t\\t\\t\\n\\t\\t</div>\\n\\t</li>\\n\\n\\n\\n\\t\\n\\t\\n\\t<li>\\n\\t\\t<a href=\"/profile/384-b-j-schecter/10\"><img alt=\"Bjschechter\" border=\"1\" height=\"90\" src=\"/system/photos/1913/default/BJSchechter.gif?1365718488\" width=\"110\" /></a>\\n\\t\\t\\n\\t\\t<div class=\"content\">\\n\\t\\t\\t<h4><a href=\"/profile/384-b-j-schecter/10\">Schecter, B.J.</a></h4>\\n\\t\\t\\t<p class=\"description\">Adjunct Faculty</p>\\n\\t\\t\\t\\n\\t\\t</div>\\n\\t</li>\\n\\n\\n\\n\\t\\n\\t\\n\\t<li>\\n\\t\\t<a href=\"/profile/495-hilke-schellmann/10\"><img alt=\"Hilkeschellmann_final\" border=\"1\" height=\"90\" src=\"/system/photos/3584/default/HilkeSchellmann_final.jpg?1395348920\" width=\"110\" /></a>\\n\\t\\t\\n\\t\\t<div class=\"content\">\\n\\t\\t\\t<h4><a href=\"/profile/495-hilke-schellmann/10\">Schellmann, Hilke</a></h4>\\n\\t\\t\\t<p class=\"description\">Adjunct Faculty</p>\\n\\t\\t\\t\\n\\t\\t</div>\\n\\t</li>\\n\\n\\n\\n\\t\\n\\t\\n\\t<li>\\n\\t\\t<a href=\"/profile/498-john-schoen/10\"><img alt=\"Schoen\" border=\"1\" height=\"90\" src=\"/system/photos/3432/default/schoen.jpg?1392672237\" width=\"110\" /></a>\\n\\t\\t\\n\\t\\t<div class=\"content\">\\n\\t\\t\\t<h4><a href=\"/profile/498-john-schoen/10\">Schoen, John</a></h4>\\n\\t\\t\\t<p class=\"description\">Adjunct Faculty</p>\\n\\t\\t\\t\\n\\t\\t</div>\\n\\t</li>\\n\\n\\n\\n\\t\\n\\t\\n\\t<li>\\n\\t\\t\\n\\t\\t\\n\\t\\t<div class=\"content\">\\n\\t\\t\\t<h4><a href=\"/profile/383-mary-ellen-schoonmaker/10\">Schoonmaker, Mary Ellen</a></h4>\\n\\t\\t\\t<p class=\"description\">Adjunct Faculty</p>\\n\\t\\t\\t\\n\\t\\t</div>\\n\\t</li>\\n\\n\\n\\n\\t\\n\\t\\n\\t<li>\\n\\t\\t<a href=\"/profile/62-michael-schudson/10\"><img alt=\"Mschudson_112811\" border=\"1\" height=\"90\" src=\"/system/photos/2075/default/MSchudson_112811.jpg?1322517107\" width=\"110\" /></a>\\n\\t\\t\\n\\t\\t<div class=\"content\">\\n\\t\\t\\t<h4><a href=\"/profile/62-michael-schudson/10\">Schudson, Michael </a></h4>\\n\\t\\t\\t<p class=\"description\">Professor </p>\\n\\t\\t\\t<p class=\"expertise\">Expertise: TRENDS IN JOURNALISM, HISTORY OF COMMUNICATIONS</p>\\n\\t\\t</div>\\n\\t</li>\\n\\n\\n\\n\\t\\n\\t\\n\\t<li>\\n\\t\\t<a href=\"/profile/366-ed-schumacher-matos/10\"><img alt=\"Eschumacher_112811\" border=\"1\" height=\"90\" src=\"/system/photos/2076/default/ESchumacher_112811.jpg?1322517858\" width=\"110\" /></a>\\n\\t\\t\\n\\t\\t<div class=\"content\">\\n\\t\\t\\t<h4><a href=\"/profile/366-ed-schumacher-matos/10\">Schumacher-Matos, Ed </a></h4>\\n\\t\\t\\t<p class=\"description\">Adjunct Faculty</p>\\n\\t\\t\\t<p class=\"expertise\">Expertise: ETHICS, SOCIAL ISSUES, IMMIGRATION</p>\\n\\t\\t</div>\\n\\t</li>\\n\\n\\n\\n\\t\\n\\t\\n\\t<li>\\n\\t\\t\\n\\t\\t\\n\\t\\t<div class=\"content\">\\n\\t\\t\\t<h4><a href=\"/profile/381-jack-schwartz/10\">Schwartz, Jack </a></h4>\\n\\t\\t\\t<p class=\"description\"></p>\\n\\t\\t\\t\\n\\t\\t</div>\\n\\t</li>\\n\\n\\n\\n\\t\\n\\t\\n\\t<li>\\n\\t\\t<a href=\"/profile/171-ava-seave/10\"><img alt=\"Seave\" border=\"1\" height=\"90\" src=\"/system/photos/872/default/Seave.jpg?1280954557\" width=\"110\" /></a>\\n\\t\\t\\n\\t\\t<div class=\"content\">\\n\\t\\t\\t<h4><a href=\"/profile/171-ava-seave/10\">Seave, Ava </a></h4>\\n\\t\\t\\t<p class=\"description\">Adjunct Faculty</p>\\n\\t\\t\\t\\n\\t\\t</div>\\n\\t</li>\\n\\n\\n\\n\\t\\n\\t\\n\\t<li>\\n\\t\\t<a href=\"/profile/523-giannina-segnini/10\"><img alt=\"Bio_segnini\" border=\"1\" height=\"90\" src=\"/system/photos/4583/default/bio_segnini.jpg?1460492540\" width=\"110\" /></a>\\n\\t\\t\\n\\t\\t<div class=\"content\">\\n\\t\\t\\t<h4><a href=\"/profile/523-giannina-segnini/10\">Segnini, Giannina </a></h4>\\n\\t\\t\\t<p class=\"description\">Director of the Data Concentration Program</p>\\n\\t\\t\\t<p class=\"expertise\">Expertise: INVESTIGATIVE REPORTING, DATA</p>\\n\\t\\t</div>\\n\\t</li>\\n\\n\\n\\n\\t\\n\\n\\t\\n\\t\\n\\t<li>\\n\\t\\t\\n\\t\\t\\n\\t\\t<div class=\"content\">\\n\\t\\t\\t<h4><a href=\"/profile/353-donald-shanor/10\">Shanor, Donald</a></h4>\\n\\t\\t\\t<p class=\"description\">G. L. Cabot Professor Emeritus </p>\\n\\t\\t\\t\\n\\t\\t</div>\\n\\t</li>\\n\\n\\n\\n\\t\\n\\t\\n\\t<li>\\n\\t\\t<a href=\"/profile/236-bruce-shapiro/10\"><img alt=\"Shapiro_-bruce\" border=\"1\" height=\"90\" src=\"/system/photos/3003/default/Shapiro_-Bruce.gif?1365706590\" width=\"110\" /></a>\\n\\t\\t\\n\\t\\t<div class=\"content\">\\n\\t\\t\\t<h4><a href=\"/profile/236-bruce-shapiro/10\">Shapiro, Bruce</a></h4>\\n\\t\\t\\t<p class=\"description\">Executive Director, Dart Center for Journalism and Trauma and Senior Advisor for Academic Affairs</p>\\n\\t\\t\\t\\n\\t\\t</div>\\n\\t</li>\\n\\n\\n\\n\\t\\n\\t\\n\\t<li>\\n\\t\\t<a href=\"/profile/63-michael-shapiro/10\"><img alt=\"Mshapiro_112811\" border=\"1\" height=\"90\" src=\"/system/photos/2077/default/MShapiro_112811.jpg?1322518042\" width=\"110\" /></a>\\n\\t\\t\\n\\t\\t<div class=\"content\">\\n\\t\\t\\t<h4><a href=\"/profile/63-michael-shapiro/10\">Shapiro, Michael </a></h4>\\n\\t\\t\\t<p class=\"description\">Professor </p>\\n\\t\\t\\t<p class=\"expertise\">Expertise: Entrepreneurship, DIGITAL MEDIA</p>\\n\\t\\t</div>\\n\\t</li>\\n\\n\\n\\n\\t\\n\\t\\n\\t<li>\\n\\t\\t<a href=\"/profile/434-ahmed-shihab-eldin/10\"><img alt=\"Ahmed-shihab-eldin\" border=\"1\" height=\"90\" src=\"/system/photos/2682/default/ahmed-shihab-eldin.gif?1365717716\" width=\"110\" /></a>\\n\\t\\t\\n\\t\\t<div class=\"content\">\\n\\t\\t\\t<h4><a href=\"/profile/434-ahmed-shihab-eldin/10\">Shihab-Eldin, Ahmed </a></h4>\\n\\t\\t\\t<p class=\"description\">Adjunct Assistant Professor </p>\\n\\t\\t\\t\\n\\t\\t</div>\\n\\t</li>\\n\\n\\n\\n\\t\\n\\t\\n\\t<li>\\n\\t\\t<a href=\"/profile/552-choire-sicha/10\"><img alt=\"Sicha_headshot\" border=\"1\" height=\"90\" src=\"/system/photos/4039/default/SICHA_headshot.jpg?1417546936\" width=\"110\" /></a>\\n\\t\\t\\n\\t\\t<div class=\"content\">\\n\\t\\t\\t<h4><a href=\"/profile/552-choire-sicha/10\">Sicha, Choire</a></h4>\\n\\t\\t\\t<p class=\"description\">Adjunct Professor</p>\\n\\t\\t\\t\\n\\t\\t</div>\\n\\t</li>\\n\\n\\n\\n\\t\\n\\t\\n\\t<li>\\n\\t\\t<a href=\"/profile/327-lloyd-siegel/10\"><img alt=\"Siegel_-lloyd-2012\" border=\"1\" height=\"90\" src=\"/system/photos/3235/default/Siegel_-Lloyd-2012.jpg?1375710566\" width=\"110\" /></a>\\n\\t\\t\\n\\t\\t<div class=\"content\">\\n\\t\\t\\t<h4><a href=\"/profile/327-lloyd-siegel/10\">Siegel, Lloyd</a></h4>\\n\\t\\t\\t<p class=\"description\">Adjunct Faculty</p>\\n\\t\\t\\t\\n\\t\\t</div>\\n\\t</li>\\n\\n\\n\\n\\t\\n\\t\\n\\t<li>\\n\\t\\t<a href=\"/profile/170-amy-singer/10\"><img alt=\"Singer\" border=\"1\" height=\"90\" src=\"/system/photos/871/default/singer.jpg?1392672245\" width=\"110\" /></a>\\n\\t\\t\\n\\t\\t<div class=\"content\">\\n\\t\\t\\t<h4><a href=\"/profile/170-amy-singer/10\">Singer, Amy </a></h4>\\n\\t\\t\\t<p class=\"description\">Adjunct Faculty</p>\\n\\t\\t\\t\\n\\t\\t</div>\\n\\t</li>\\n\\n\\n\\n\\t\\n\\t\\n\\t<li>\\n\\t\\t<a href=\"/profile/389-maria-sliwa/10\"><img alt=\"Mariasliwa\" border=\"1\" height=\"90\" src=\"/system/photos/1953/default/MariaSliwa.gif?1365717479\" width=\"110\" /></a>\\n\\t\\t\\n\\t\\t<div class=\"content\">\\n\\t\\t\\t<h4><a href=\"/profile/389-maria-sliwa/10\">Sliwa, Maria</a></h4>\\n\\t\\t\\t<p class=\"description\">Adjunct Faculty</p>\\n\\t\\t\\t\\n\\t\\t</div>\\n\\t</li>\\n\\n\\n\\n\\t\\n\\t\\n\\t<li>\\n\\t\\t<a href=\"/profile/64-alisa-solomon/10\"><img alt=\"Solomon_-alisa\" border=\"1\" height=\"90\" src=\"/system/photos/3004/default/Solomon_-Alisa.gif?1365706611\" width=\"110\" /></a>\\n\\t\\t\\n\\t\\t<div class=\"content\">\\n\\t\\t\\t<h4><a href=\"/profile/64-alisa-solomon/10\">Solomon, Alisa</a></h4>\\n\\t\\t\\t<p class=\"description\">Professor & Director, Arts Concentration, M.A. Program</p>\\n\\t\\t\\t<p class=\"expertise\">Expertise: ARTS/CULTURE, SOCIAL ISSUES</p>\\n\\t\\t</div>\\n\\t</li>\\n\\n\\n\\n\\t\\n\\t\\n\\t<li>\\n\\t\\t<a href=\"/profile/517-jonathan-soma/10\"><img alt=\"Jonathan-soma\" border=\"1\" height=\"90\" src=\"/system/photos/3664/default/jonathan-soma.jpg?1399473825\" width=\"110\" /></a>\\n\\t\\t\\n\\t\\t<div class=\"content\">\\n\\t\\t\\t<h4><a href=\"/profile/517-jonathan-soma/10\">Soma, Jonathan</a></h4>\\n\\t\\t\\t<p class=\"description\">Director, The Lede Program</p>\\n\\t\\t\\t\\n\\t\\t</div>\\n\\t</li>\\n\\n\\n\\n\\t\\n\\t\\n\\t<li>\\n\\t\\t<a href=\"/profile/287-ernest-sotomayor/10\"><img alt=\"Ernie_sotomayor\" border=\"1\" height=\"90\" src=\"/system/photos/1270/default/Ernie_Sotomayor.gif?1365717548\" width=\"110\" /></a>\\n\\t\\t\\n\\t\\t<div class=\"content\">\\n\\t\\t\\t<h4><a href=\"/profile/287-ernest-sotomayor/10\">Sotomayor, Ernest</a></h4>\\n\\t\\t\\t<p class=\"description\">Dean of Student Affairs & Director, Latin American Initiatives</p>\\n\\t\\t\\t\\n\\t\\t</div>\\n\\t</li>\\n\\n\\n\\n\\t\\n\\t\\n\\t<li>\\n\\t\\t<a href=\"/profile/147-paula-span/10\"><img alt=\"Paulaspan\" border=\"1\" height=\"90\" src=\"/system/photos/848/default/PaulaSpan.gif?1365717399\" width=\"110\" /></a>\\n\\t\\t\\n\\t\\t<div class=\"content\">\\n\\t\\t\\t<h4><a href=\"/profile/147-paula-span/10\">Span, Paula </a></h4>\\n\\t\\t\\t<p class=\"description\">Adjunct Professor</p>\\n\\t\\t\\t\\n\\t\\t</div>\\n\\t</li>\\n\\n\\n\\n\\t\\n\\t\\n\\t<li>\\n\\t\\t<a href=\"/profile/589-martha-spanninger/10\"><img alt=\"Spanninger\" border=\"1\" height=\"90\" src=\"/system/photos/4611/default/spanninger.jpg?1461762200\" width=\"110\" /></a>\\n\\t\\t\\n\\t\\t<div class=\"content\">\\n\\t\\t\\t<h4><a href=\"/profile/589-martha-spanninger/10\">Spanninger, Martha</a></h4>\\n\\t\\t\\t<p class=\"description\">Adjunct Faculty</p>\\n\\t\\t\\t\\n\\t\\t</div>\\n\\t</li>\\n\\n\\n\\n\\t\\n\\t\\n\\t<li>\\n\\t\\t<a href=\"/profile/120-karen-stabiner/10\"><img alt=\"Karen-stabiner\" border=\"1\" height=\"90\" src=\"/system/photos/3236/default/Karen-Stabiner.jpg?1375717512\" width=\"110\" /></a>\\n\\t\\t\\n\\t\\t<div class=\"content\">\\n\\t\\t\\t<h4><a href=\"/profile/120-karen-stabiner/10\">Stabiner, Karen</a></h4>\\n\\t\\t\\t<p class=\"description\">Adjunct Faculty</p>\\n\\t\\t\\t\\n\\t\\t</div>\\n\\t</li>\\n\\n\\n\\n\\t\\n\\t\\n\\t<li>\\n\\t\\t<a href=\"/profile/66-james-stewart/10\"><img alt=\"Jstewart_112811\" border=\"1\" height=\"90\" src=\"/system/photos/2080/default/JStewart_112811.jpg?1322518368\" width=\"110\" /></a>\\n\\t\\t\\n\\t\\t<div class=\"content\">\\n\\t\\t\\t<h4><a href=\"/profile/66-james-stewart/10\">Stewart, James</a></h4>\\n\\t\\t\\t<p class=\"description\">Bloomberg Professor of Business Journalism</p>\\n\\t\\t\\t<p class=\"expertise\">Expertise: BUSINESS/ECONOMICS</p>\\n\\t\\t</div>\\n\\t</li>\\n\\n\\n\\n\\t\\n\\t\\n\\t<li>\\n\\t\\t<a href=\"/profile/68-alexander-stille/10\"><img alt=\"Stille\" border=\"1\" height=\"90\" src=\"/system/photos/82/default/Stille.gif?1365718788\" width=\"110\" /></a>\\n\\t\\t\\n\\t\\t<div class=\"content\">\\n\\t\\t\\t<h4><a href=\"/profile/68-alexander-stille/10\">Stille, Alexander</a></h4>\\n\\t\\t\\t<p class=\"description\">San Paolo Professor of International Journalism</p>\\n\\t\\t\\t<p class=\"expertise\">Expertise: Politics, INTERNATIONAL AFFAIRS</p>\\n\\t\\t</div>\\n\\t</li>\\n\\n\\n\\n\\t\\n\\n\\t\\n\\t\\n\\t<li>\\n\\t\\t<a href=\"/profile/463-sushma-subramanian/10\"><img alt=\"Subramanian_-sushma\" border=\"1\" height=\"90\" src=\"/system/photos/3005/default/Subramanian_-Sushma.gif?1365706634\" width=\"110\" /></a>\\n\\t\\t\\n\\t\\t<div class=\"content\">\\n\\t\\t\\t<h4><a href=\"/profile/463-sushma-subramanian/10\">Subramanian, Sushma</a></h4>\\n\\t\\t\\t<p class=\"description\">Adjunct Faculty</p>\\n\\t\\t\\t\\n\\t\\t</div>\\n\\t</li>\\n\\n\\n\\n\\t\\n\\t\\n\\t<li>\\n\\t\\t<a href=\"/profile/146-simon-surowicz/10\"><img alt=\"Surowicz\" border=\"1\" height=\"90\" src=\"/system/photos/847/default/Surowicz.jpg?1280952446\" width=\"110\" /></a>\\n\\t\\t\\n\\t\\t<div class=\"content\">\\n\\t\\t\\t<h4><a href=\"/profile/146-simon-surowicz/10\">Surowicz, Simon</a></h4>\\n\\t\\t\\t<p class=\"description\"></p>\\n\\t\\t\\t\\n\\t\\t</div>\\n\\t</li>\\n\\n\\n\\n\\t\\n\\n\\t\\n\\t\\n\\t<li>\\n\\t\\t<a href=\"/profile/576-jacob-templin/10\"><img alt=\"Jacob\" border=\"1\" height=\"90\" src=\"/system/photos/4501/default/jacob.jpg?1452200850\" width=\"110\" /></a>\\n\\t\\t\\n\\t\\t<div class=\"content\">\\n\\t\\t\\t<h4><a href=\"/profile/576-jacob-templin/10\">Templin, Jacob</a></h4>\\n\\t\\t\\t<p class=\"description\"></p>\\n\\t\\t\\t\\n\\t\\t</div>\\n\\t</li>\\n\\n\\n\\n\\t\\n\\t\\n\\t<li>\\n\\t\\t\\n\\t\\t\\n\\t\\t<div class=\"content\">\\n\\t\\t\\t<h4><a href=\"/profile/516-dennis-tenen/10\">Tenen, Dennis</a></h4>\\n\\t\\t\\t<p class=\"description\">Instructor, The Lede Program</p>\\n\\t\\t\\t\\n\\t\\t</div>\\n\\t</li>\\n\\n\\n\\n\\t\\n\\t\\n\\t<li>\\n\\t\\t<a href=\"/profile/332-seymour-topping/10\"><img alt=\"Topping\" border=\"1\" height=\"90\" src=\"/system/photos/105/default/topping.jpg?1392672489\" width=\"110\" /></a>\\n\\t\\t\\n\\t\\t<div class=\"content\">\\n\\t\\t\\t<h4><a href=\"/profile/332-seymour-topping/10\">Topping, Seymour  </a></h4>\\n\\t\\t\\t<p class=\"description\">San Paolo Professor of International Journalism Emeritus</p>\\n\\t\\t\\t\\n\\t\\t</div>\\n\\t</li>\\n\\n\\n\\n\\t\\n\\t\\n\\t<li>\\n\\t\\t<a href=\"/profile/560-yogi-trivedi/10\"><img alt=\"Yogi_trivedi\" border=\"1\" height=\"90\" src=\"/system/photos/4167/default/Yogi_Trivedi.jpg?1425308161\" width=\"110\" /></a>\\n\\t\\t\\n\\t\\t<div class=\"content\">\\n\\t\\t\\t<h4><a href=\"/profile/560-yogi-trivedi/10\">Trivedi, Yogi </a></h4>\\n\\t\\t\\t<p class=\"description\">Adjunct Professor</p>\\n\\t\\t\\t\\n\\t\\t</div>\\n\\t</li>\\n\\n\\n\\n\\t\\n\\t\\n\\t<li>\\n\\t\\t<a href=\"/profile/210-dody-tsiantar/10\"><img alt=\"Dody\" border=\"1\" height=\"90\" src=\"/system/photos/3057/default/Dody.jpg?1368463129\" width=\"110\" /></a>\\n\\t\\t\\n\\t\\t<div class=\"content\">\\n\\t\\t\\t<h4><a href=\"/profile/210-dody-tsiantar/10\">Tsiantar, Dody </a></h4>\\n\\t\\t\\t<p class=\"description\">Adjunct Faculty</p>\\n\\t\\t\\t\\n\\t\\t</div>\\n\\t</li>\\n\\n\\n\\n\\t\\n\\t\\n\\t<li>\\n\\t\\t<a href=\"/profile/71-duy-linh-tu/10\"><img alt=\"Duy_headshot-2web\" border=\"1\" height=\"90\" src=\"/system/photos/91/default/Duy_headshot-2web.jpg?1423507352\" width=\"110\" /></a>\\n\\t\\t\\n\\t\\t<div class=\"content\">\\n\\t\\t\\t<h4><a href=\"/profile/71-duy-linh-tu/10\">Tu, Duy Linh</a></h4>\\n\\t\\t\\t<p class=\"description\">Associate Professor of Professional Practice & Director, Digital Media Program </p>\\n\\t\\t\\t<p class=\"expertise\">Expertise: DIGITAL MEDIA, TRENDS IN JOURNALISM</p>\\n\\t\\t</div>\\n\\t</li>\\n\\n\\n\\n\\t\\n\\t\\n\\t<li>\\n\\t\\t<a href=\"/profile/72-andie-tucher/10\"><img alt=\"Andie_tucher2\" border=\"1\" height=\"90\" src=\"/system/photos/125/default/Andie_Tucher2.jpg?1275665800\" width=\"110\" /></a>\\n\\t\\t\\n\\t\\t<div class=\"content\">\\n\\t\\t\\t<h4><a href=\"/profile/72-andie-tucher/10\">Tucher, Andie </a></h4>\\n\\t\\t\\t<p class=\"description\">Associate Professor; Director, Ph.D. Program</p>\\n\\t\\t\\t<p class=\"expertise\">Expertise: HISTORY OF COMMUNICATIONS</p>\\n\\t\\t</div>\\n\\t</li>\\n\\n\\n\\n\\t\\n\\t\\n\\t<li>\\n\\t\\t<a href=\"/profile/486-michael-ventura/10\"><img alt=\"Mike-ventura\" border=\"1\" height=\"90\" src=\"/system/photos/3188/default/Mike-Ventura.gif?1374078031\" width=\"110\" /></a>\\n\\t\\t\\n\\t\\t<div class=\"content\">\\n\\t\\t\\t<h4><a href=\"/profile/486-michael-ventura/10\">Ventura, Michael</a></h4>\\n\\t\\t\\t<p class=\"description\">Adjunct Faculty</p>\\n\\t\\t\\t\\n\\t\\t</div>\\n\\t</li>\\n\\n\\n\\n\\t\\n\\t\\n\\t<li>\\n\\t\\t<a href=\"/profile/168-jonathan-wald/10\"><img alt=\"Wald_-jonathan\" border=\"1\" height=\"90\" src=\"/system/photos/3007/default/Wald_-Jonathan.gif?1365706666\" width=\"110\" /></a>\\n\\t\\t\\n\\t\\t<div class=\"content\">\\n\\t\\t\\t<h4><a href=\"/profile/168-jonathan-wald/10\">Wald, Jonathan</a></h4>\\n\\t\\t\\t<p class=\"description\">Adjunt Faculty</p>\\n\\t\\t\\t\\n\\t\\t</div>\\n\\t</li>\\n\\n\\n\\n\\t\\n\\t\\n\\t<li>\\n\\t\\t<a href=\"/profile/73-richard-wald/10\"><img alt=\"Richard_wald2\" border=\"1\" height=\"90\" src=\"/system/photos/126/default/Richard_Wald2.jpg?1275665983\" width=\"110\" /></a>\\n\\t\\t\\n\\t\\t<div class=\"content\">\\n\\t\\t\\t<h4><a href=\"/profile/73-richard-wald/10\">Wald, Richard</a></h4>\\n\\t\\t\\t<p class=\"description\">Fred W. Friendly Professor of Professional Practice in Media Society Emeritus</p>\\n\\t\\t\\t<p class=\"expertise\">Expertise: ETHICS, BROADCAST</p>\\n\\t\\t</div>\\n\\t</li>\\n\\n\\n\\n\\t\\n\\t\\n\\t<li>\\n\\t\\t<a href=\"/profile/305-leslie-wayne/10\"><img alt=\"Wayne\" border=\"1\" height=\"90\" src=\"/system/photos/1261/default/wayne.jpg?1392672262\" width=\"110\" /></a>\\n\\t\\t\\n\\t\\t<div class=\"content\">\\n\\t\\t\\t<h4><a href=\"/profile/305-leslie-wayne/10\">Wayne, Leslie</a></h4>\\n\\t\\t\\t<p class=\"description\">Adjunct Faculty</p>\\n\\t\\t\\t\\n\\t\\t</div>\\n\\t</li>\\n\\n\\n\\n\\t\\n\\t\\n\\t<li>\\n\\t\\t<a href=\"/profile/75-jonathan-weiner/10\"><img alt=\"Jweiner\" border=\"1\" height=\"90\" src=\"/system/photos/127/default/JWeiner.jpg?1291237982\" width=\"110\" /></a>\\n\\t\\t\\n\\t\\t<div class=\"content\">\\n\\t\\t\\t<h4><a href=\"/profile/75-jonathan-weiner/10\">Weiner, Jonathan </a></h4>\\n\\t\\t\\t<p class=\"description\">Maxwell M. Geffen Professor of Medical and Scientific Journalism </p>\\n\\t\\t\\t<p class=\"expertise\">Expertise: SCIENCE/ENVIRONMENT</p>\\n\\t\\t</div>\\n\\t</li>\\n\\n\\n\\n\\t\\n\\n\\t\\n\\n\\t\\n\\t\\n\\t<li>\\n\\t\\t<a href=\"/profile/76-betsy-west/10\"><img alt=\"Betsy_west2\" border=\"1\" height=\"90\" src=\"/system/photos/128/default/Betsy_West2.jpg?1275668385\" width=\"110\" /></a>\\n\\t\\t\\n\\t\\t<div class=\"content\">\\n\\t\\t\\t<h4><a href=\"/profile/76-betsy-west/10\">West, Betsy </a></h4>\\n\\t\\t\\t<p class=\"description\">Fred W. Friendly Professor of Professional Practice in Media and Society</p>\\n\\t\\t\\t<p class=\"expertise\">Expertise: BROADCAST</p>\\n\\t\\t</div>\\n\\t</li>\\n\\n\\n\\n\\t\\n\\t\\n\\t<li>\\n\\t\\t<a href=\"/profile/167-william-wheatley-jr/10\"><img alt=\"Wheatley_-bill\" border=\"1\" height=\"90\" src=\"/system/photos/3008/default/Wheatley_-Bill.gif?1365706683\" width=\"110\" /></a>\\n\\t\\t\\n\\t\\t<div class=\"content\">\\n\\t\\t\\t<h4><a href=\"/profile/167-william-wheatley-jr/10\">Wheatley, Jr., William</a></h4>\\n\\t\\t\\t<p class=\"description\">Adjunct Faculty</p>\\n\\t\\t\\t\\n\\t\\t</div>\\n\\t</li>\\n\\n\\n\\n\\t\\n\\t\\n\\t<li>\\n\\t\\t<a href=\"/profile/513-chris-wiggins/10\"><img alt=\"Chris-wiggins\" border=\"1\" height=\"90\" src=\"/system/photos/3665/default/chris-wiggins.jpg?1399473834\" width=\"110\" /></a>\\n\\t\\t\\n\\t\\t<div class=\"content\">\\n\\t\\t\\t<h4><a href=\"/profile/513-chris-wiggins/10\">Wiggins, Chris</a></h4>\\n\\t\\t\\t<p class=\"description\">Instructor, The Lede Program</p>\\n\\t\\t\\t\\n\\t\\t</div>\\n\\t</li>\\n\\n\\n\\n\\t\\n\\n\\t\\n\\t\\n\\t<li>\\n\\t\\t\\n\\t\\t\\n\\t\\t<div class=\"content\">\\n\\t\\t\\t<h4><a href=\"/profile/395-duff-wilson/10\">Wilson, Duff</a></h4>\\n\\t\\t\\t<p class=\"description\">Adjunct Faculty</p>\\n\\t\\t\\t\\n\\t\\t</div>\\n\\t</li>\\n\\n\\n\\n\\t\\n\\n\\t\\n\\t\\n\\t<li>\\n\\t\\t<a href=\"/profile/199-tali-woodward/10\"><img alt=\"Tali_web\" border=\"1\" height=\"90\" src=\"/system/photos/2604/default/Tali_Web.jpg?1339446488\" width=\"110\" /></a>\\n\\t\\t\\n\\t\\t<div class=\"content\">\\n\\t\\t\\t<h4><a href=\"/profile/199-tali-woodward/10\">Woodward, Tali </a></h4>\\n\\t\\t\\t<p class=\"description\">Director, M.A. Program</p>\\n\\t\\t\\t\\n\\t\\t</div>\\n\\t</li>\\n\\n\\n\\n\\t\\n\\t\\n\\t<li>\\n\\t\\t<a href=\"/profile/549-tim-wu/10\"><img alt=\"Wu_faculty\" border=\"1\" height=\"90\" src=\"/system/photos/3983/default/wu_faculty.jpg?1415814909\" width=\"110\" /></a>\\n\\t\\t\\n\\t\\t<div class=\"content\">\\n\\t\\t\\t<h4><a href=\"/profile/549-tim-wu/10\">Wu, Tim</a></h4>\\n\\t\\t\\t<p class=\"description\">Director of the Saul and Janice Poliak Center for the Study of First Amendment Issues</p>\\n\\t\\t\\t\\n\\t\\t</div>\\n\\t</li>\\n\\n\\n\\n\\t\\n\\t\\n\\t<li>\\n\\t\\t\\n\\t\\t\\n\\t\\t<div class=\"content\">\\n\\t\\t\\t<h4><a href=\"/profile/359-frederick-t-c-yu/10\">Yu, Frederick T C.</a></h4>\\n\\t\\t\\t<p class=\"description\">CBS Professor Emeritus International Journalism</p>\\n\\t\\t\\t\\n\\t\\t</div>\\n\\t</li>\\n\\n\\n\\n\\t\\n\\t\\n\\t<li>\\n\\t\\t\\n\\t\\t\\n\\t\\t<div class=\"content\">\\n\\t\\t\\t<h4><a href=\"/profile/111-john-zucker/10\">Zucker, John</a></h4>\\n\\t\\t\\t<p class=\"description\">Adjunct Faculty</p>\\n\\t\\t\\t\\n\\t\\t</div>\\n\\t</li>\\n\\n\\n\\n\\t\\n\\t\\n\\t<li>\\n\\t\\t<a href=\"/profile/211-jocelyn-craugh-zuckerman/10\"><img alt=\"Zuckerman\" border=\"1\" height=\"90\" src=\"/system/photos/3058/default/zuckerman.jpg?1392672295\" width=\"110\" /></a>\\n\\t\\t\\n\\t\\t<div class=\"content\">\\n\\t\\t\\t<h4><a href=\"/profile/211-jocelyn-craugh-zuckerman/10\">Zuckerman, Jocelyn Craugh </a></h4>\\n\\t\\t\\t<p class=\"description\">Adjunct Faculty</p>\\n\\t\\t\\t\\n\\t\\t</div>\\n\\t</li>\\n\\n\\n\\n</ul>\\n\\n\\t\\t\\t\\t\\t\\t\\n\\t\\t\\t\\t\\t\\t<div id=\"page-bottom-bar\">\\n\\t\\t\\t\\t\\t\\t\\t\\t\\n\\t\\t\\t\\t\\t\\t\\t\\t<h4>Connect</h4>\\n\\t\\t\\t\\t\\t\\t\\t\\t<div class=\"share\">\\n\\t\\t\\t\\t\\t\\t\\t\\t\\t<!-- AddThis Button BEGIN -->\\n\\t\\t\\t\\t\\t\\t\\t\\t\\t<div class=\"addthis_toolbox addthis_default_style\">\\n\\t\\t\\t\\t\\t\\t\\t\\t\\t\\t<a class=\"addthis_button_print\">Print</a>\\n\\t\\t\\t\\t\\t\\t\\t\\t\\t\\t<a class=\"addthis_button_compact\">Share</a>\\n\\t\\t\\t\\t\\t\\t\\t\\t\\t</div>\\n\\t\\t\\t\\t\\t\\t\\t\\t\\t<script type=\"text/javascript\" src=\"http://s7.addthis.com/js/300/addthis_widget.js#pubid=ra-4ecbcfc32957d28f\"></script>\\n\\t\\t\\t\\t\\t\\t\\t\\t\\t<!-- AddThis Button END -->\\t\\t\\n\\t\\t\\t\\t\\t\\t\\t\\t</div>\\n\\t\\t\\t\\t\\t\\t</div>\\n\\t\\t\\t\\t\\t\\n\\t\\t\\t\\t\\t</div>\\t\\t\\t\\t\\n\\t\\t\\t\\t\\t\\n\\t\\t\\t\\t</div>\\n\\t\\t\\t\\t\\n\\n\\t\\t\\t\\t\\n\\t\\t\\t</div>\\n\\n\\n\\n\\t\\t\\t\\t\\t\\t<footer id=\"footer\">\\n\\t\\t\\t\\t<nav id=\"footer-menu\">\\n\\t\\t\\t\\t\\t<ul>\\n\\t\\t\\t\\t\\t\\t\\n\\t\\n\\t\\t\\n\\t\\n\\t\\t\\n\\t\\t\\n\\t\\t\\t<li><a href=\"http://columbia.edu\" title=\"\">Columbia University</a></li>\\n\\t\\t\\t\\n\\t\\t\\n\\t\\t\\t<li><a href=\"/site_map\" title=\"\">Site Map</a></li>\\n\\t\\t\\t\\n\\t\\t\\n\\t\\t\\t<li><a href=\"/page/1147-equal-opportunity-and-affirmative-action-notice-of-non-discrimination/994\" title=\"Notice of Non-Discrimination\">Non-Discrimination Notice</a></li>\\n\\t\\t\\t\\n\\t\\t\\n\\t\\t\\t<li><a href=\"/page/15-administrative-affairs/\" title=\"Faculty &amp; Staff Resources\">Faculty Resources</a></li>\\n\\t\\t\\t\\n\\t\\t\\n\\t\\t\\t<li><a href=\"/page/1171-privacy-policy/1021\" title=\"Privacy Policy\">Privacy Policy</a></li>\\n\\t\\t\\t\\n\\t\\t\\n\\t\\t\\n\\t\\n\\t\\t\\n\\t\\n\\t\\t\\n\\t\\n\\n\\t\\t\\t\\t\\t</ul>\\n\\t\\t\\t\\t</nav>\\n\\t\\t\\t\\t<p id=\"footer-copyright\">&copy; 2016 Columbia University</p>\\n\\t\\t\\t</footer>\\n\\t\\t\\t\\n\\n\\n\\t\\t</div>\\t\\t\\n\\t</div>\\n\\n    \\n\\t\\n\\n\\t\\n\\n\\t\\n\\n\\t\\n\\n\\t\\t<div id=\"apply-box\">\\n\\t\\t\\t<div id=\"apply-box-content\">\\n\\t\\t\\t\\t<h5>Select the academic degree that interests you:</h5>\\n\\t\\t\\t\\t<ul>\\r\\n\\t\\t\\t<li>\\r\\n\\t\\t\\t\\t<h6>Master of Science in Journalism</h6>\\r\\n\\t\\t\\t\\t<p>Study the skills and principles of journalism using words, data, images and sound. Full or part-time.</p>\\r\\n\\t\\t\\t\\t<p class=\"buttons\"><a href=\"http://www.journalism.columbia.edu/page/85-master-of-science-degree/85\" class=\"more\">More Info &raquo;</a><a href=\"http://www.journalism.columbia.edu/apply\" class=\"apply\">Apply &raquo;</a></p>\\r\\n\\t\\t\\t</li>\\r\\n                        <li>\\r\\n\\t\\t\\t\\t<h6>Master of Arts in Journalism</h6>\\r\\n\\t\\t\\t\\t<p>Go deeper: Arts & Culture, Science, Politics or Business training for experienced journalists.</p>\\r\\n\\t\\t\\t\\t<p class=\"buttons\"><a href=\"http://www.journalism.columbia.edu/page/199-master-of-arts-in-journalism/200\" class=\"more\">More Info &raquo;</a><a href=\"http://www.journalism.columbia.edu/apply\" class=\"apply\">Apply &raquo;</a></p>\\r\\n\\t\\t\\t</li>\\r\\n\\t\\t\\t<li>\\r\\n\\t\\t\\t\\t<h6>Ph.D. in Communications</h6>\\r\\n                                <p>Take the lead with a multi-disciplinary approach to Communications.</p>\\r\\n\\t\\t\\t\\t<p class=\"buttons\"><a href=\"http://www.journalism.columbia.edu/page/203-doctor-of-philosophy-in-communications/204\" class=\"more\">More Info &raquo;</a><a href=\"http://www.journalism.columbia.edu/apply\" class=\"apply\">Apply &raquo;</a></p>\\r\\n\\t\\t\\t</li>\\r\\n\\t\\t\\t<li>\\r\\n\\t\\t\\t\\t<h6>Dual Degree: Journalism &amp; Computer Science</h6>\\r\\n\\t\\t\\t\\t<p>Apply computer science, engineering and related skills  in a digital news environment.</p>\\r\\n\\t\\t\\t\\t<p class=\"buttons\"><a href=\"http://www.journalism.columbia.edu/page/276-dualdegree-journalism-computer-science/279\" class=\"more\">More Info &raquo;</a><a href=\"http://www.journalism.columbia.edu/apply\" class=\"apply\">Apply &raquo;</a></p>\\r\\n\\t\\t\\t</li>\\r\\n            \\r\\n            <li>\\r\\n\\t\\t\\t\\t<h6>Lede Program</h6>\\r\\n\\t\\t\\t\\t<p>Intensive, post-bac certification program turning data into narrative.</p>\\r\\n\\t\\t\\t\\t<p class=\"buttons\"><a href=\"http://www.journalism.columbia.edu/page/1058-the-lede-program-an-introduction-to-data-practices/906\" class=\"more\">More Info &raquo;</a><a href=\"http://www.journalism.columbia.edu/page/1059-the-lede-program-application/907\" class=\"apply\">Apply &raquo;</a></p>\\r\\n\\t\\t\\t</li>\\r\\n\\t\\t\\t\\t\\t\\t\\t\\t\\t\\t\\t\\t\\t\\t\\t\\r\\n\\t\\t</ul>\\n\\t\\t\\t</div>\\n\\t\\t\\t<a href=\"#\" id=\"apply-box-button\">Apply</a>\\n\\t\\t</div>\\n\\t\\n\\n\\t<script>\\n  (function(i,s,o,g,r,a,m){i[\\'GoogleAnalyticsObject\\']=r;i[r]=i[r]||function(){\\n  (i[r].q=i[r].q||[]).push(arguments)},i[r].l=1*new Date();a=s.createElement(o),\\n  m=s.getElementsByTagName(o)[0];a.async=1;a.src=g;m.parentNode.insertBefore(a,m)\\n  })(window,document,\\'script\\',\\'//www.google-analytics.com/analytics.js\\',\\'ga\\');\\n\\n  ga(\\'create\\', \\'UA-2152699-1\\', \\'auto\\');\\n  ga(\\'send\\', \\'pageview\\');\\n\\n</script>\\n\\n<script async=\"async\" src=\"https://apply.jrn.columbia.edu/ping\">/**/</script>\\n</body>\\t\\t\\t\\n\\n\\n\\n\\n\\n\\n\\n\\n</html>'\n"
     ]
    }
   ],
   "source": [
    "print(faculty_html)"
   ]
  },
  {
   "cell_type": "code",
   "execution_count": 336,
   "metadata": {
    "collapsed": true
   },
   "outputs": [],
   "source": [
    "document = BeautifulSoup(faculty_html, \"html.parser\")"
   ]
  },
  {
   "cell_type": "code",
   "execution_count": 337,
   "metadata": {
    "collapsed": false
   },
   "outputs": [
    {
     "data": {
      "text/plain": [
       "bs4.BeautifulSoup"
      ]
     },
     "execution_count": 337,
     "metadata": {},
     "output_type": "execute_result"
    }
   ],
   "source": [
    "type(document)"
   ]
  },
  {
   "cell_type": "code",
   "execution_count": 338,
   "metadata": {
    "collapsed": false
   },
   "outputs": [
    {
     "data": {
      "text/plain": [
       "' Full-Time, Adjunct & Visiting Faculty'"
      ]
     },
     "execution_count": 338,
     "metadata": {},
     "output_type": "execute_result"
    }
   ],
   "source": [
    "document.find('h2').string #we are just checking to look for the most obvious thing in the website.."
   ]
  },
  {
   "cell_type": "code",
   "execution_count": 339,
   "metadata": {
    "collapsed": false
   },
   "outputs": [
    {
     "data": {
      "text/plain": [
       "' Full-Time, Adjunct & Visiting Faculty'"
      ]
     },
     "execution_count": 339,
     "metadata": {},
     "output_type": "execute_result"
    }
   ],
   "source": [
    "h2_tag = document.find('h2')\n",
    "h2_tag.string\n"
   ]
  },
  {
   "cell_type": "code",
   "execution_count": 340,
   "metadata": {
    "collapsed": true
   },
   "outputs": [],
   "source": [
    "#now lets print out the names of all faculty members"
   ]
  },
  {
   "cell_type": "code",
   "execution_count": 341,
   "metadata": {
    "collapsed": false
   },
   "outputs": [
    {
     "name": "stdout",
     "output_type": "stream",
     "text": [
      "<li><a href=\"/page/1-about-the-school/1\">About the School</a> </li>\n"
     ]
    },
    {
     "ename": "AttributeError",
     "evalue": "'NoneType' object has no attribute 'find'",
     "output_type": "error",
     "traceback": [
      "\u001b[0;31m---------------------------------------------------------------------------\u001b[0m",
      "\u001b[0;31mAttributeError\u001b[0m                            Traceback (most recent call last)",
      "\u001b[0;32m<ipython-input-341-8a89cd9d0a11>\u001b[0m in \u001b[0;36m<module>\u001b[0;34m()\u001b[0m\n\u001b[1;32m      3\u001b[0m     \u001b[0mprint\u001b[0m\u001b[0;34m(\u001b[0m\u001b[0mitem\u001b[0m\u001b[0;34m)\u001b[0m \u001b[0;31m#aqui vemos que sale about the school so we know is not what we were looking for\u001b[0m\u001b[0;34m\u001b[0m\u001b[0m\n\u001b[1;32m      4\u001b[0m     \u001b[0mh4_tag\u001b[0m \u001b[0;34m=\u001b[0m \u001b[0mitem\u001b[0m\u001b[0;34m.\u001b[0m\u001b[0mfind\u001b[0m\u001b[0;34m(\u001b[0m\u001b[0;34m'h4'\u001b[0m\u001b[0;34m)\u001b[0m\u001b[0;34m\u001b[0m\u001b[0m\n\u001b[0;32m----> 5\u001b[0;31m     \u001b[0ma_tag\u001b[0m \u001b[0;34m=\u001b[0m \u001b[0mh4_tag\u001b[0m\u001b[0;34m.\u001b[0m\u001b[0mfind\u001b[0m\u001b[0;34m(\u001b[0m\u001b[0;34m'a'\u001b[0m\u001b[0;34m)\u001b[0m\u001b[0;34m\u001b[0m\u001b[0m\n\u001b[0m\u001b[1;32m      6\u001b[0m     \u001b[0mprint\u001b[0m\u001b[0;34m(\u001b[0m\u001b[0ma_tag\u001b[0m\u001b[0;34m.\u001b[0m\u001b[0mstring\u001b[0m\u001b[0;34m)\u001b[0m\u001b[0;34m\u001b[0m\u001b[0m\n\u001b[1;32m      7\u001b[0m \u001b[0;34m\u001b[0m\u001b[0m\n",
      "\u001b[0;31mAttributeError\u001b[0m: 'NoneType' object has no attribute 'find'"
     ]
    }
   ],
   "source": [
    "li_tags = document.find_all('li')\n",
    "for item in li_tags:\n",
    "    print(item) #aqui vemos que sale about the school so we know is not what we were looking for\n",
    "    h4_tag = item.find('h4')\n",
    "    a_tag = h4_tag.find('a')\n",
    "    print(a_tag.string)\n",
    "\n",
    "    #no va a servir... a_tag = h4_tag.find('a') no pudo encontrar nada porque h4_tag es none. Nosotros pensabamos que todos los \n",
    "    #li tenian un h4 pero parece que no."
   ]
  },
  {
   "cell_type": "code",
   "execution_count": null,
   "metadata": {
    "collapsed": false
   },
   "outputs": [],
   "source": [
    "x = None\n",
    "print(x)\n",
    "\n",
    "#none es nada"
   ]
  },
  {
   "cell_type": "code",
   "execution_count": null,
   "metadata": {
    "collapsed": true
   },
   "outputs": [],
   "source": [
    "#descubrimos que todos los li que estamos buscando\n",
    "#are children of <ul class = experts-list> tag"
   ]
  },
  {
   "cell_type": "code",
   "execution_count": null,
   "metadata": {
    "collapsed": false
   },
   "outputs": [],
   "source": [
    "\n",
    "ul_tag = document.find('ul', {'class': 'experts-list'})\n",
    "li_tags = ul_tag.find_all(\"li\") #esto tampoco funciona SOLO pq dentro de ul hay un li que no es lo q buscamos so we need\n",
    "#a for loop\n",
    "for item in li_tags:\n",
    "    h4_tag = item.find('h4')\n",
    "    #only proceed if we actually found an h4 inside the li \n",
    "    if h4_tag:\n",
    "        a_tag = h4_tag.find('a')\n",
    "        \n",
    "        p_tag = item.find('p', {'class': 'description'})\n",
    "        print(a_tag.string, p_tag.string)"
   ]
  },
  {
   "cell_type": "code",
   "execution_count": 342,
   "metadata": {
    "collapsed": true
   },
   "outputs": [],
   "source": [
    "#now we want to make a list of dict of faculty member along with their titles."
   ]
  },
  {
   "cell_type": "code",
   "execution_count": 343,
   "metadata": {
    "collapsed": false
   },
   "outputs": [],
   "source": [
    "#[{'name': \"Mercy\", \"title\": 'Adjunct assistant'},\n",
    "#{'name': \"Mercy2\", \"title\": 'Adjunct assistant'},\n",
    "#{'name': \"Mercy3\", \"title\": 'Adjunct assistant'},]"
   ]
  },
  {
   "cell_type": "code",
   "execution_count": 344,
   "metadata": {
    "collapsed": false
   },
   "outputs": [
    {
     "data": {
      "text/plain": [
       "[{'name': 'Adkison, Abbey ',\n",
       "  'title': 'Assistant Director, Multi-Media Journalism'},\n",
       " {'name': 'Alarcón, Daniel',\n",
       "  'title': 'Assistant Professor of Broadcast Journalism'},\n",
       " {'name': 'Barclay, Dolores ', 'title': 'Adjunct Faculty'},\n",
       " {'name': 'Baum, Geraldine', 'title': 'Adjunct Faculty'},\n",
       " {'name': 'Bell, Emily',\n",
       "  'title': 'Professor of Professional Practice & Director, Tow Center for Digital Journalism'},\n",
       " {'name': 'Benedict, Helen ', 'title': 'Professor'},\n",
       " {'name': 'Bennet, John ', 'title': 'Adjunct Faculty'},\n",
       " {'name': 'Bennett, Rob', 'title': 'Adjunct Faculty'},\n",
       " {'name': 'Berman, Nina', 'title': 'Associate Professor'},\n",
       " {'name': 'Blair, Gwenda ', 'title': 'Adjunct Faculty'},\n",
       " {'name': 'Blum, David ', 'title': 'Adjunct Faculty'},\n",
       " {'name': 'Bockelman, Matt', 'title': None},\n",
       " {'name': 'Bodarky, George', 'title': 'Adjunct Assistant Professor '},\n",
       " {'name': 'Bogdanich, Walt ', 'title': 'Adjunct Faculty'},\n",
       " {'name': 'Bourin, Lennart', 'title': 'Adjunct Faculty'},\n",
       " {'name': 'Bradley, Theresa', 'title': 'Adjunct Faculty'},\n",
       " {'name': 'Brainard, Curtis ', 'title': 'Staff Writer'},\n",
       " {'name': 'Bruder, Jessica', 'title': 'Adjunct Faculty'},\n",
       " {'name': 'Burford, Melanie ', 'title': 'Adjunct Faculty'},\n",
       " {'name': 'Burleigh, Nina ', 'title': 'Adjunct Faculty'},\n",
       " {'name': 'Cabot, Heather', 'title': 'Adjunct Professor'},\n",
       " {'name': 'Cabral, Elena ',\n",
       "  'title': 'Adjunct Faculty & Assistant Director, Student Services'},\n",
       " {'name': 'Canipe, Chris', 'title': None},\n",
       " {'name': 'Casciato, Tom', 'title': 'Adjunct Faculty'},\n",
       " {'name': 'Cohen, Julie', 'title': 'Adjunct Faculty'},\n",
       " {'name': 'Cohen, Lisa R.',\n",
       "  'title': 'Director, duPont/Professional Prizes; Adjunct Associate Professor'},\n",
       " {'name': 'Cohen, Sarah', 'title': 'Adjunct Faculty'},\n",
       " {'name': 'Coll, Steve',\n",
       "  'title': 'Dean & Henry R. Luce Professor of Journalism'},\n",
       " {'name': 'Cooper, Ann',\n",
       "  'title': 'CBS Professor of Professional Practice in International Journalism'},\n",
       " {'name': 'Coronel, Sheila ',\n",
       "  'title': 'Toni Stabile Professor of Professional Practice in Investigative Journalism; Director, Toni Stabile Center for Investigative Journalism, and Dean of Academic Affairs'},\n",
       " {'name': 'Coyne , Kevin ', 'title': 'Adjunct Faculty'},\n",
       " {'name': 'Cross, June ', 'title': 'Professor '},\n",
       " {'name': 'Cunningham, Brent ', 'title': 'Deputy Editor'},\n",
       " {'name': 'DePalma, Anthony', 'title': 'Adjunct Faculty'},\n",
       " {'name': 'Deitsch, Richard', 'title': 'Adjunct Faculty'},\n",
       " {'name': 'Diamond, Becky', 'title': None},\n",
       " {'name': 'Dinges, John', 'title': 'Godfrey Lowell Cabot Professor Emeritus'},\n",
       " {'name': 'Donahue, Kerry ',\n",
       "  'title': 'Adjunct Faculty & Director, Radio Program'},\n",
       " {'name': 'Drew, Christopher ', 'title': 'Adjunct Faculty'},\n",
       " {'name': 'Edsall, Thomas B. ', 'title': None},\n",
       " {'name': 'Einhorn, Cheryl', 'title': 'Adjunct Faculty'},\n",
       " {'name': 'Elliott, Justin ', 'title': 'Adjunct Assistant Professor'},\n",
       " {'name': 'Epstein, Randi Hutter ', 'title': 'Adjunct Faculty '},\n",
       " {'name': 'Evans, Farrell ', 'title': 'Adjunct Faculty'},\n",
       " {'name': 'Ford, Constance Mitchell ', 'title': 'Adjunct Faculty'},\n",
       " {'name': 'Freedman, Samuel ', 'title': 'Professor'},\n",
       " {'name': 'Freeman, George ', 'title': 'Adjunct Faculty'},\n",
       " {'name': 'French, Howard ', 'title': 'Associate Professor'},\n",
       " {'name': 'Fried, Stephen ', 'title': 'Adjunct Faculty'},\n",
       " {'name': 'Garcia, Mario',\n",
       "  'title': 'Senior Adviser on News Design/Adjunct Professor'},\n",
       " {'name': 'Gezari, Vanessa', 'title': None},\n",
       " {'name': 'Gilderman, Greg', 'title': 'Adjunct Faculty'},\n",
       " {'name': 'Gitlin, Todd', 'title': 'Professor & Chair, Ph.D. Program'},\n",
       " {'name': 'Giudice, Barbara ', 'title': 'Adjunct Faculty'},\n",
       " {'name': 'Goldensohn, Marty', 'title': 'Adjunct Faculty'},\n",
       " {'name': 'Goldman, Ari ', 'title': 'Professor'},\n",
       " {'name': 'Goldstein, Jacob', 'title': 'Adjunct Professor'},\n",
       " {'name': 'Grueskin, Bill', 'title': 'Professor of Professional Practice '},\n",
       " {'name': 'Haburchak, Alan', 'title': 'Adjunct Faculty'},\n",
       " {'name': 'Hajdu, David ', 'title': 'Associate Professor '},\n",
       " {'name': 'Hancock, LynNell',\n",
       "  'title': 'H. Gordon Garbedian Professor of Journalism & Director, Spencer Fellowship Program'},\n",
       " {'name': 'Hansen, Mark',\n",
       "  'title': 'Director, David and Helen Gurley Brown Institute for Media Innovation & Professor of Journalism '},\n",
       " {'name': 'Harris, Mark', 'title': 'Adjunct Faculty'},\n",
       " {'name': 'Hartenstein, Julie', 'title': 'Associate Dean'},\n",
       " {'name': 'Heinzerling, Larry', 'title': 'Adjunct Faculty'},\n",
       " {'name': 'Herman, Tom ', 'title': 'Adjunct Faculty'},\n",
       " {'name': 'Hickey, Neil ', 'title': 'Adjunct Faculty'},\n",
       " {'name': 'Hoel, Lars ', 'title': None},\n",
       " {'name': 'Hogan, Pamela', 'title': 'Adjunct Faculty'},\n",
       " {'name': 'Holloway, Marguerite ',\n",
       "  'title': 'Associate Professor of Professional Practice and Director, Science & Environmental Journalism'},\n",
       " {'name': 'Hoyt, Michael ', 'title': 'Adjunct Faculty'},\n",
       " {'name': 'Isabel, Lonnie', 'title': 'Senior Lecturer in Discipline'},\n",
       " {'name': 'Jennings, Tom', 'title': 'Adjunct Faculty'},\n",
       " {'name': 'John, Richard R. ',\n",
       "  'title': 'Professor of History and Communications'},\n",
       " {'name': 'Jones, Matthew L. ', 'title': 'Instructor, The Lede Program'},\n",
       " {'name': 'Kann, Peter R. ', 'title': 'Adjunct Faculty'},\n",
       " {'name': 'Kantrowitz, Barbara ', 'title': 'Adjunct Professor'},\n",
       " {'name': 'Karle, Stuart',\n",
       "  'title': 'Adjunct Faculty; William J. Brennan Jr. Visiting Professor of First Amendment Issues'},\n",
       " {'name': 'Karr, Rick', 'title': 'Adjunct Faculty'},\n",
       " {'name': 'Kellogg, David', 'title': 'Adjunct Faculty'},\n",
       " {'name': 'Kennedy, Lucy', 'title': 'Adjunct Faculty'},\n",
       " {'name': 'Kent, Thomas ', 'title': 'Adjunct Faculty'},\n",
       " {'name': 'Klatell, David',\n",
       "  'title': 'Professor of Professional Practice & Chair, International Studies'},\n",
       " {'name': 'Klein, Adam', 'title': 'Adjunct Professor'},\n",
       " {'name': 'Kleman, Kim ', 'title': 'Adjunct Faculty'},\n",
       " {'name': 'Knee, Jonathan', 'title': 'Adjunct Professor'},\n",
       " {'name': 'Konner, Joan', 'title': 'Dean Emerita'},\n",
       " {'name': 'Kozar, Matt', 'title': 'Adjunct Faculty'},\n",
       " {'name': 'Lehmann-Haupt, Christopher ', 'title': 'Adjunct Faculty'},\n",
       " {'name': 'Lemann, Nicholas',\n",
       "  'title': 'Joseph Pulitzer II and Edith Pulitzer Moore Professor of Journalism; Dean Emeritus'},\n",
       " {'name': 'Levenson, Jacob ', 'title': 'Adjunct Faculty'},\n",
       " {'name': 'Lipsky, Seth ', 'title': 'Adjunct Faculty'},\n",
       " {'name': 'Lombardi, Kristen', 'title': 'Adjunct Faculty'},\n",
       " {'name': 'Luhby, Tami', 'title': 'Adjunct Faculty'},\n",
       " {'name': 'Maciulis, Tony', 'title': 'Adjunct Faculty'},\n",
       " {'name': 'Maharidge, Dale ', 'title': 'Professor '},\n",
       " {'name': 'Mason, Tom', 'title': None},\n",
       " {'name': 'Matloff, Judith ', 'title': 'Adjunct faculty'},\n",
       " {'name': 'Maytal, Itai', 'title': 'Adjunct Faculty'},\n",
       " {'name': 'McCormick, David ', 'title': 'Adjunct Faculty'},\n",
       " {'name': 'McCray, Melvin', 'title': 'Adjunct Faculty'},\n",
       " {'name': 'McDonald, Erica', 'title': None},\n",
       " {'name': 'McGregor, Susan E.',\n",
       "  'title': 'Assistant Professor & Assistant Director, Tow Center for Digital Journalism'},\n",
       " {'name': 'Mencher, Melvin', 'title': 'Professor Emeritus'},\n",
       " {'name': 'Merchant, Preston', 'title': None},\n",
       " {'name': 'Mintz, James', 'title': 'Adjunct Faculty'},\n",
       " {'name': 'Morais, Betsy', 'title': 'Adjunct Faculty'},\n",
       " {'name': 'Nasar, Sylvia ',\n",
       "  'title': 'John S. and James L. Knight Professor of Business Journalism'},\n",
       " {'name': 'Navasky, Victor',\n",
       "  'title': 'George T. Delacorte Professor in Magazine Journalism Emeritus'},\n",
       " {'name': 'Newman, Maria', 'title': 'Adjunct Faculty'},\n",
       " {'name': 'Nisenholtz, Martin', 'title': 'Adjunct Professor '},\n",
       " {'name': 'Norton, Rob', 'title': 'Adjunct Faculty'},\n",
       " {'name': 'Nosheen, Habiba', 'title': 'Adjunct Professor'},\n",
       " {'name': 'Ornstein, Charles', 'title': 'Adjunct Faculty'},\n",
       " {'name': 'Padawer , Ruth', 'title': 'Adjunct Professor'},\n",
       " {'name': 'Parker, Diantha', 'title': 'Adjunct Faculty'},\n",
       " {'name': 'Parrish, Allison ', 'title': 'Instructor, The Lede Program'},\n",
       " {'name': 'Patel, Samir S.', 'title': 'Adjunct Faculty'},\n",
       " {'name': 'Paunescu, Delia ', 'title': None},\n",
       " {'name': 'Perlman, Merrill', 'title': 'Adjunct Faculty'},\n",
       " {'name': 'Pollak, Lisa', 'title': 'Adjunct Faculty'},\n",
       " {'name': 'Pool-Eckert, Marquita', 'title': 'Adjunct Faculty'},\n",
       " {'name': 'Richardson, Lynda ', 'title': 'Adjunct Faculty'},\n",
       " {'name': 'Richardson, Whitney ', 'title': 'Adjunct Professor'},\n",
       " {'name': 'Richman, Joe', 'title': 'Adjunct Faculty'},\n",
       " {'name': 'Robbins, Ed', 'title': 'Adjunct Faculty'},\n",
       " {'name': 'Roberts, Fletcher', 'title': 'Adjunct Faculty'},\n",
       " {'name': 'Sacha, Bob ', 'title': 'Adjunct Faculty'},\n",
       " {'name': 'Sataline, Suzanne', 'title': 'Adjunct Faculty'},\n",
       " {'name': 'Schapiro, Rich', 'title': 'Adjunct Faculty'},\n",
       " {'name': 'Schatz, Robin', 'title': 'Adjunct Faculty'},\n",
       " {'name': 'Schecter, B.J.', 'title': 'Adjunct Faculty'},\n",
       " {'name': 'Schellmann, Hilke', 'title': 'Adjunct Faculty'},\n",
       " {'name': 'Schoen, John', 'title': 'Adjunct Faculty'},\n",
       " {'name': 'Schoonmaker, Mary Ellen', 'title': 'Adjunct Faculty'},\n",
       " {'name': 'Schudson, Michael ', 'title': 'Professor '},\n",
       " {'name': 'Schumacher-Matos, Ed ', 'title': 'Adjunct Faculty'},\n",
       " {'name': 'Schwartz, Jack ', 'title': None},\n",
       " {'name': 'Seave, Ava ', 'title': 'Adjunct Faculty'},\n",
       " {'name': 'Segnini, Giannina ',\n",
       "  'title': 'Director of the Data Concentration Program'},\n",
       " {'name': 'Shanor, Donald', 'title': 'G. L. Cabot Professor Emeritus '},\n",
       " {'name': 'Shapiro, Bruce',\n",
       "  'title': 'Executive Director, Dart Center for Journalism and Trauma and Senior Advisor for Academic Affairs'},\n",
       " {'name': 'Shapiro, Michael ', 'title': 'Professor '},\n",
       " {'name': 'Shihab-Eldin, Ahmed ', 'title': 'Adjunct Assistant Professor '},\n",
       " {'name': 'Sicha, Choire', 'title': 'Adjunct Professor'},\n",
       " {'name': 'Siegel, Lloyd', 'title': 'Adjunct Faculty'},\n",
       " {'name': 'Singer, Amy ', 'title': 'Adjunct Faculty'},\n",
       " {'name': 'Sliwa, Maria', 'title': 'Adjunct Faculty'},\n",
       " {'name': 'Solomon, Alisa',\n",
       "  'title': 'Professor & Director, Arts Concentration, M.A. Program'},\n",
       " {'name': 'Soma, Jonathan', 'title': 'Director, The Lede Program'},\n",
       " {'name': 'Sotomayor, Ernest',\n",
       "  'title': 'Dean of Student Affairs & Director, Latin American Initiatives'},\n",
       " {'name': 'Span, Paula ', 'title': 'Adjunct Professor'},\n",
       " {'name': 'Spanninger, Martha', 'title': 'Adjunct Faculty'},\n",
       " {'name': 'Stabiner, Karen', 'title': 'Adjunct Faculty'},\n",
       " {'name': 'Stewart, James',\n",
       "  'title': 'Bloomberg Professor of Business Journalism'},\n",
       " {'name': 'Stille, Alexander',\n",
       "  'title': 'San Paolo Professor of International Journalism'},\n",
       " {'name': 'Subramanian, Sushma', 'title': 'Adjunct Faculty'},\n",
       " {'name': 'Surowicz, Simon', 'title': None},\n",
       " {'name': 'Templin, Jacob', 'title': None},\n",
       " {'name': 'Tenen, Dennis', 'title': 'Instructor, The Lede Program'},\n",
       " {'name': 'Topping, Seymour  ',\n",
       "  'title': 'San Paolo Professor of International Journalism Emeritus'},\n",
       " {'name': 'Trivedi, Yogi ', 'title': 'Adjunct Professor'},\n",
       " {'name': 'Tsiantar, Dody ', 'title': 'Adjunct Faculty'},\n",
       " {'name': 'Tu, Duy Linh',\n",
       "  'title': 'Associate Professor of Professional Practice & Director, Digital Media Program '},\n",
       " {'name': 'Tucher, Andie ',\n",
       "  'title': 'Associate Professor; Director, Ph.D. Program'},\n",
       " {'name': 'Ventura, Michael', 'title': 'Adjunct Faculty'},\n",
       " {'name': 'Wald, Jonathan', 'title': 'Adjunt Faculty'},\n",
       " {'name': 'Wald, Richard',\n",
       "  'title': 'Fred W. Friendly Professor of Professional Practice in Media Society Emeritus'},\n",
       " {'name': 'Wayne, Leslie', 'title': 'Adjunct Faculty'},\n",
       " {'name': 'Weiner, Jonathan ',\n",
       "  'title': 'Maxwell M. Geffen Professor of Medical and Scientific Journalism '},\n",
       " {'name': 'West, Betsy ',\n",
       "  'title': 'Fred W. Friendly Professor of Professional Practice in Media and Society'},\n",
       " {'name': 'Wheatley, Jr., William', 'title': 'Adjunct Faculty'},\n",
       " {'name': 'Wiggins, Chris', 'title': 'Instructor, The Lede Program'},\n",
       " {'name': 'Wilson, Duff', 'title': 'Adjunct Faculty'},\n",
       " {'name': 'Woodward, Tali ', 'title': 'Director, M.A. Program'},\n",
       " {'name': 'Wu, Tim',\n",
       "  'title': 'Director of the Saul and Janice Poliak Center for the Study of First Amendment Issues'},\n",
       " {'name': 'Yu, Frederick T C.',\n",
       "  'title': 'CBS Professor Emeritus International Journalism'},\n",
       " {'name': 'Zucker, John', 'title': 'Adjunct Faculty'},\n",
       " {'name': 'Zuckerman, Jocelyn Craugh ', 'title': 'Adjunct Faculty'}]"
      ]
     },
     "execution_count": 344,
     "metadata": {},
     "output_type": "execute_result"
    }
   ],
   "source": [
    "profs = []\n",
    "\n",
    "ul_tag = document.find('ul', {'class': 'experts-list'})\n",
    "li_tags = ul_tag.find_all(\"li\") \n",
    "\n",
    "for item in li_tags:\n",
    "    h4_tag = item.find('h4')\n",
    "    if h4_tag:\n",
    "        a_tag = h4_tag.find('a')\n",
    "        p_tag = item.find('p', {'class': 'description'})\n",
    "        profs_map = {'name': a_tag.string, 'title': p_tag.string}\n",
    "        profs.append(profs_map)\n",
    "        #print(a_tag.string, p_tag.string)\n",
    "profs"
   ]
  },
  {
   "cell_type": "code",
   "execution_count": 345,
   "metadata": {
    "collapsed": true
   },
   "outputs": [],
   "source": [
    "# now lets print their names"
   ]
  },
  {
   "cell_type": "code",
   "execution_count": 346,
   "metadata": {
    "collapsed": false
   },
   "outputs": [
    {
     "name": "stdout",
     "output_type": "stream",
     "text": [
      "Adkison, Abbey \n",
      "Alarcón, Daniel\n",
      "Barclay, Dolores \n",
      "Baum, Geraldine\n",
      "Bell, Emily\n",
      "Benedict, Helen \n",
      "Bennet, John \n",
      "Bennett, Rob\n",
      "Berman, Nina\n",
      "Blair, Gwenda \n",
      "Blum, David \n",
      "Bockelman, Matt\n",
      "Bodarky, George\n",
      "Bogdanich, Walt \n",
      "Bourin, Lennart\n",
      "Bradley, Theresa\n",
      "Brainard, Curtis \n",
      "Bruder, Jessica\n",
      "Burford, Melanie \n",
      "Burleigh, Nina \n",
      "Cabot, Heather\n",
      "Cabral, Elena \n",
      "Canipe, Chris\n",
      "Casciato, Tom\n",
      "Cohen, Julie\n",
      "Cohen, Lisa R.\n",
      "Cohen, Sarah\n",
      "Coll, Steve\n",
      "Cooper, Ann\n",
      "Coronel, Sheila \n",
      "Coyne , Kevin \n",
      "Cross, June \n",
      "Cunningham, Brent \n",
      "DePalma, Anthony\n",
      "Deitsch, Richard\n",
      "Diamond, Becky\n",
      "Dinges, John\n",
      "Donahue, Kerry \n",
      "Drew, Christopher \n",
      "Edsall, Thomas B. \n",
      "Einhorn, Cheryl\n",
      "Elliott, Justin \n",
      "Epstein, Randi Hutter \n",
      "Evans, Farrell \n",
      "Ford, Constance Mitchell \n",
      "Freedman, Samuel \n",
      "Freeman, George \n",
      "French, Howard \n",
      "Fried, Stephen \n",
      "Garcia, Mario\n",
      "Gezari, Vanessa\n",
      "Gilderman, Greg\n",
      "Gitlin, Todd\n",
      "Giudice, Barbara \n",
      "Goldensohn, Marty\n",
      "Goldman, Ari \n",
      "Goldstein, Jacob\n",
      "Grueskin, Bill\n",
      "Haburchak, Alan\n",
      "Hajdu, David \n",
      "Hancock, LynNell\n",
      "Hansen, Mark\n",
      "Harris, Mark\n",
      "Hartenstein, Julie\n",
      "Heinzerling, Larry\n",
      "Herman, Tom \n",
      "Hickey, Neil \n",
      "Hoel, Lars \n",
      "Hogan, Pamela\n",
      "Holloway, Marguerite \n",
      "Hoyt, Michael \n",
      "Isabel, Lonnie\n",
      "Jennings, Tom\n",
      "John, Richard R. \n",
      "Jones, Matthew L. \n",
      "Kann, Peter R. \n",
      "Kantrowitz, Barbara \n",
      "Karle, Stuart\n",
      "Karr, Rick\n",
      "Kellogg, David\n",
      "Kennedy, Lucy\n",
      "Kent, Thomas \n",
      "Klatell, David\n",
      "Klein, Adam\n",
      "Kleman, Kim \n",
      "Knee, Jonathan\n",
      "Konner, Joan\n",
      "Kozar, Matt\n",
      "Lehmann-Haupt, Christopher \n",
      "Lemann, Nicholas\n",
      "Levenson, Jacob \n",
      "Lipsky, Seth \n",
      "Lombardi, Kristen\n",
      "Luhby, Tami\n",
      "Maciulis, Tony\n",
      "Maharidge, Dale \n",
      "Mason, Tom\n",
      "Matloff, Judith \n",
      "Maytal, Itai\n",
      "McCormick, David \n",
      "McCray, Melvin\n",
      "McDonald, Erica\n",
      "McGregor, Susan E.\n",
      "Mencher, Melvin\n",
      "Merchant, Preston\n",
      "Mintz, James\n",
      "Morais, Betsy\n",
      "Nasar, Sylvia \n",
      "Navasky, Victor\n",
      "Newman, Maria\n",
      "Nisenholtz, Martin\n",
      "Norton, Rob\n",
      "Nosheen, Habiba\n",
      "Ornstein, Charles\n",
      "Padawer , Ruth\n",
      "Parker, Diantha\n",
      "Parrish, Allison \n",
      "Patel, Samir S.\n",
      "Paunescu, Delia \n",
      "Perlman, Merrill\n",
      "Pollak, Lisa\n",
      "Pool-Eckert, Marquita\n",
      "Richardson, Lynda \n",
      "Richardson, Whitney \n",
      "Richman, Joe\n",
      "Robbins, Ed\n",
      "Roberts, Fletcher\n",
      "Sacha, Bob \n",
      "Sataline, Suzanne\n",
      "Schapiro, Rich\n",
      "Schatz, Robin\n",
      "Schecter, B.J.\n",
      "Schellmann, Hilke\n",
      "Schoen, John\n",
      "Schoonmaker, Mary Ellen\n",
      "Schudson, Michael \n",
      "Schumacher-Matos, Ed \n",
      "Schwartz, Jack \n",
      "Seave, Ava \n",
      "Segnini, Giannina \n",
      "Shanor, Donald\n",
      "Shapiro, Bruce\n",
      "Shapiro, Michael \n",
      "Shihab-Eldin, Ahmed \n",
      "Sicha, Choire\n",
      "Siegel, Lloyd\n",
      "Singer, Amy \n",
      "Sliwa, Maria\n",
      "Solomon, Alisa\n",
      "Soma, Jonathan\n",
      "Sotomayor, Ernest\n",
      "Span, Paula \n",
      "Spanninger, Martha\n",
      "Stabiner, Karen\n",
      "Stewart, James\n",
      "Stille, Alexander\n",
      "Subramanian, Sushma\n",
      "Surowicz, Simon\n",
      "Templin, Jacob\n",
      "Tenen, Dennis\n",
      "Topping, Seymour  \n",
      "Trivedi, Yogi \n",
      "Tsiantar, Dody \n",
      "Tu, Duy Linh\n",
      "Tucher, Andie \n",
      "Ventura, Michael\n",
      "Wald, Jonathan\n",
      "Wald, Richard\n",
      "Wayne, Leslie\n",
      "Weiner, Jonathan \n",
      "West, Betsy \n",
      "Wheatley, Jr., William\n",
      "Wiggins, Chris\n",
      "Wilson, Duff\n",
      "Woodward, Tali \n",
      "Wu, Tim\n",
      "Yu, Frederick T C.\n",
      "Zucker, John\n",
      "Zuckerman, Jocelyn Craugh \n"
     ]
    }
   ],
   "source": [
    "for item in profs:\n",
    "    print(item['name'])"
   ]
  },
  {
   "cell_type": "code",
   "execution_count": 373,
   "metadata": {
    "collapsed": false
   },
   "outputs": [
    {
     "data": {
      "text/plain": [
       "89"
      ]
     },
     "execution_count": 373,
     "metadata": {},
     "output_type": "execute_result"
    }
   ],
   "source": [
    "adjunct_profs = []\n",
    "for item in profs:\n",
    "    if item['title'] == 'Adjunct Faculty' or \\\n",
    "        item['title'] == 'Adjunct Assistant Professor':\n",
    "        adjunct_profs.append(item)\n",
    "len(adjunct_profs) / len(profs)\n",
    "len(adjunct_profs)"
   ]
  },
  {
   "cell_type": "code",
   "execution_count": 377,
   "metadata": {
    "collapsed": false
   },
   "outputs": [
    {
     "data": {
      "text/plain": [
       "110"
      ]
     },
     "execution_count": 377,
     "metadata": {},
     "output_type": "execute_result"
    }
   ],
   "source": [
    "adjunct_profs = []\n",
    "for item in profs:\n",
    "    if (item['title']) is not None and 'Adjunct' in item['title']:\n",
    "        adjunct_profs.append(item)\n",
    "len(adjunct_profs) / len(profs)\n",
    "len(adjunct_profs)"
   ]
  },
  {
   "cell_type": "markdown",
   "metadata": {},
   "source": [
    "# string indexing"
   ]
  },
  {
   "cell_type": "code",
   "execution_count": 348,
   "metadata": {
    "collapsed": true
   },
   "outputs": [],
   "source": [
    "message = 'bungalow'"
   ]
  },
  {
   "cell_type": "code",
   "execution_count": 349,
   "metadata": {
    "collapsed": false
   },
   "outputs": [
    {
     "data": {
      "text/plain": [
       "'b'"
      ]
     },
     "execution_count": 349,
     "metadata": {},
     "output_type": "execute_result"
    }
   ],
   "source": [
    "message[0]"
   ]
  },
  {
   "cell_type": "code",
   "execution_count": 350,
   "metadata": {
    "collapsed": false
   },
   "outputs": [
    {
     "data": {
      "text/plain": [
       "'u'"
      ]
     },
     "execution_count": 350,
     "metadata": {},
     "output_type": "execute_result"
    }
   ],
   "source": [
    "message[1]"
   ]
  },
  {
   "cell_type": "code",
   "execution_count": 351,
   "metadata": {
    "collapsed": false
   },
   "outputs": [
    {
     "data": {
      "text/plain": [
       "'ngal'"
      ]
     },
     "execution_count": 351,
     "metadata": {},
     "output_type": "execute_result"
    }
   ],
   "source": [
    "message[2:6] "
   ]
  },
  {
   "cell_type": "code",
   "execution_count": 352,
   "metadata": {
    "collapsed": false
   },
   "outputs": [
    {
     "data": {
      "text/plain": [
       "'w'"
      ]
     },
     "execution_count": 352,
     "metadata": {},
     "output_type": "execute_result"
    }
   ],
   "source": [
    "message[-1]"
   ]
  },
  {
   "cell_type": "code",
   "execution_count": 353,
   "metadata": {
    "collapsed": false
   },
   "outputs": [
    {
     "data": {
      "text/plain": [
       "'bun'"
      ]
     },
     "execution_count": 353,
     "metadata": {},
     "output_type": "execute_result"
    }
   ],
   "source": [
    "message[:3]"
   ]
  },
  {
   "cell_type": "code",
   "execution_count": 354,
   "metadata": {
    "collapsed": false
   },
   "outputs": [
    {
     "data": {
      "text/plain": [
       "'alow'"
      ]
     },
     "execution_count": 354,
     "metadata": {},
     "output_type": "execute_result"
    }
   ],
   "source": [
    "message[4:]"
   ]
  },
  {
   "cell_type": "code",
   "execution_count": 355,
   "metadata": {
    "collapsed": false
   },
   "outputs": [
    {
     "name": "stdout",
     "output_type": "stream",
     "text": [
      "Maciulis, Tony\n",
      "Maharidge, Dale \n",
      "Mason, Tom\n",
      "Matloff, Judith \n",
      "Maytal, Itai\n",
      "McCormick, David \n",
      "McCray, Melvin\n",
      "McDonald, Erica\n",
      "McGregor, Susan E.\n",
      "Mencher, Melvin\n",
      "Merchant, Preston\n",
      "Mintz, James\n",
      "Morais, Betsy\n"
     ]
    }
   ],
   "source": [
    "for item in profs:\n",
    "    prof_name = item['name']\n",
    "    if prof_name[0] == 'M':\n",
    "        print(item['name'])"
   ]
  },
  {
   "cell_type": "code",
   "execution_count": 366,
   "metadata": {
    "collapsed": false
   },
   "outputs": [
    {
     "name": "stdout",
     "output_type": "stream",
     "text": [
      "13\n"
     ]
    }
   ],
   "source": [
    "mcount = 0\n",
    "for item in profs:\n",
    "    prof_name = item['name']\n",
    "    if prof_name[0] == 'M':\n",
    "       #print(item['name'])\n",
    "        mcount += 1 #es lo mismo que mcount = mcount +1\n",
    "print(mcount)"
   ]
  },
  {
   "cell_type": "code",
   "execution_count": 357,
   "metadata": {
    "collapsed": false
   },
   "outputs": [
    {
     "name": "stdout",
     "output_type": "stream",
     "text": [
      "13\n"
     ]
    }
   ],
   "source": [
    "m_profs = []\n",
    "for item in profs:\n",
    "    prof_name = item['name']\n",
    "    if prof_name[0] == 'M':\n",
    "        m_profs.append(item)\n",
    "print(len(m_profs))"
   ]
  },
  {
   "cell_type": "markdown",
   "metadata": {},
   "source": [
    "# note"
   ]
  },
  {
   "cell_type": "code",
   "execution_count": 358,
   "metadata": {
    "collapsed": false
   },
   "outputs": [
    {
     "data": {
      "text/plain": [
       "9"
      ]
     },
     "execution_count": 358,
     "metadata": {},
     "output_type": "execute_result"
    }
   ],
   "source": [
    "x = 5\n",
    "x + 4"
   ]
  },
  {
   "cell_type": "code",
   "execution_count": 359,
   "metadata": {
    "collapsed": true
   },
   "outputs": [],
   "source": [
    "x = 6"
   ]
  },
  {
   "cell_type": "code",
   "execution_count": 360,
   "metadata": {
    "collapsed": false
   },
   "outputs": [
    {
     "data": {
      "text/plain": [
       "6"
      ]
     },
     "execution_count": 360,
     "metadata": {},
     "output_type": "execute_result"
    }
   ],
   "source": [
    "x"
   ]
  },
  {
   "cell_type": "code",
   "execution_count": 361,
   "metadata": {
    "collapsed": true
   },
   "outputs": [],
   "source": [
    "x = x+4"
   ]
  },
  {
   "cell_type": "code",
   "execution_count": 362,
   "metadata": {
    "collapsed": false
   },
   "outputs": [
    {
     "data": {
      "text/plain": [
       "10"
      ]
     },
     "execution_count": 362,
     "metadata": {},
     "output_type": "execute_result"
    }
   ],
   "source": [
    "x"
   ]
  },
  {
   "cell_type": "code",
   "execution_count": 363,
   "metadata": {
    "collapsed": false
   },
   "outputs": [
    {
     "data": {
      "text/plain": [
       "14"
      ]
     },
     "execution_count": 363,
     "metadata": {},
     "output_type": "execute_result"
    }
   ],
   "source": [
    "#or\n",
    "\n",
    "x += 4\n",
    "\n",
    "x\n",
    "\n"
   ]
  },
  {
   "cell_type": "code",
   "execution_count": 364,
   "metadata": {
    "collapsed": true
   },
   "outputs": [],
   "source": [
    "x = x - 1"
   ]
  },
  {
   "cell_type": "code",
   "execution_count": 365,
   "metadata": {
    "collapsed": false
   },
   "outputs": [
    {
     "data": {
      "text/plain": [
       "13"
      ]
     },
     "execution_count": 365,
     "metadata": {},
     "output_type": "execute_result"
    }
   ],
   "source": [
    "x"
   ]
  },
  {
   "cell_type": "code",
   "execution_count": null,
   "metadata": {
    "collapsed": true
   },
   "outputs": [],
   "source": []
  }
 ],
 "metadata": {
  "kernelspec": {
   "display_name": "Python 3",
   "language": "python",
   "name": "python3"
  },
  "language_info": {
   "codemirror_mode": {
    "name": "ipython",
    "version": 3
   },
   "file_extension": ".py",
   "mimetype": "text/x-python",
   "name": "python",
   "nbconvert_exporter": "python",
   "pygments_lexer": "ipython3",
   "version": "3.5.1"
  }
 },
 "nbformat": 4,
 "nbformat_minor": 0
}
