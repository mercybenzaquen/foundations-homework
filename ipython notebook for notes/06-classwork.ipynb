{
 "cells": [
  {
   "cell_type": "code",
   "execution_count": 5,
   "metadata": {
    "collapsed": true
   },
   "outputs": [],
   "source": [
    "import requests"
   ]
  },
  {
   "cell_type": "markdown",
   "metadata": {},
   "source": [
    "1) With \"Lil Wayne\" and \"Lil Kim\" there are a lot of \"Lil\" musicians. Do a search and print a list of 50 that are playable in the USA (or the country of your choice), along with their popularity score.\n"
   ]
  },
  {
   "cell_type": "code",
   "execution_count": 6,
   "metadata": {
    "collapsed": false
   },
   "outputs": [],
   "source": [
    "response = requests.get(\"https://api.spotify.com/v1/search?q=lil&type=artist&limit=50&market=US\")\n",
    "data = response.json()"
   ]
  },
  {
   "cell_type": "code",
   "execution_count": 7,
   "metadata": {
    "collapsed": false
   },
   "outputs": [
    {
     "data": {
      "text/plain": [
       "dict"
      ]
     },
     "execution_count": 7,
     "metadata": {},
     "output_type": "execute_result"
    }
   ],
   "source": [
    "type(data)"
   ]
  },
  {
   "cell_type": "code",
   "execution_count": 8,
   "metadata": {
    "collapsed": false
   },
   "outputs": [
    {
     "data": {
      "text/plain": [
       "dict_keys(['artists'])"
      ]
     },
     "execution_count": 8,
     "metadata": {},
     "output_type": "execute_result"
    }
   ],
   "source": [
    "data.keys()"
   ]
  },
  {
   "cell_type": "code",
   "execution_count": 9,
   "metadata": {
    "collapsed": false
   },
   "outputs": [
    {
     "data": {
      "text/plain": [
       "dict"
      ]
     },
     "execution_count": 9,
     "metadata": {},
     "output_type": "execute_result"
    }
   ],
   "source": [
    "type(data['artists'])"
   ]
  },
  {
   "cell_type": "code",
   "execution_count": 10,
   "metadata": {
    "collapsed": false
   },
   "outputs": [
    {
     "data": {
      "text/plain": [
       "dict_keys(['items', 'href', 'previous', 'offset', 'total', 'next', 'limit'])"
      ]
     },
     "execution_count": 10,
     "metadata": {},
     "output_type": "execute_result"
    }
   ],
   "source": [
    "data['artists'].keys()"
   ]
  },
  {
   "cell_type": "code",
   "execution_count": 11,
   "metadata": {
    "collapsed": false
   },
   "outputs": [
    {
     "name": "stdout",
     "output_type": "stream",
     "text": [
      "<class 'list'>\n"
     ]
    }
   ],
   "source": [
    "artists = data['artists']['items']\n",
    "#artists\n",
    "print(type(artists))"
   ]
  },
  {
   "cell_type": "code",
   "execution_count": 12,
   "metadata": {
    "collapsed": false
   },
   "outputs": [
    {
     "name": "stdout",
     "output_type": "stream",
     "text": [
      "Lil Wayne 86\n",
      "Lil Yachty 72\n",
      "Lil Uzi Vert 73\n",
      "Lil Dicky 68\n",
      "Boosie Badazz 67\n",
      "Lil Jon 72\n",
      "King Lil G 61\n",
      "Lil Durk 60\n",
      "Lil Jon & The East Side Boyz 60\n",
      "Lil Bibby 54\n",
      "G Herbo 53\n",
      "Lil Rob 50\n",
      "Lil Reese 50\n",
      "Lil Keke 48\n",
      "Bow Wow 57\n",
      "Lil Scrappy 48\n",
      "Lil Wyte 50\n",
      "Lil Blood 45\n",
      "Lil Snupe 45\n",
      "Lil Mama 45\n",
      "Lil B 44\n",
      "Lil' Kim 62\n",
      "Lil Cuete 40\n",
      "Lil Phat 39\n",
      "Lil Debbie 43\n",
      "Lil Twist 39\n",
      "Lil Trill 37\n",
      "Lil Boom 39\n",
      "Lil Twon 37\n",
      "Lil AJ 37\n",
      "Lil Lonnie 37\n",
      "Lil Goofy 35\n",
      "Lil Haiti 36\n",
      "Mr. Lil One 36\n",
      "Lil Cray 35\n",
      "Lil Flash 38\n",
      "Lil Silva 43\n",
      "Lil Kesh 39\n",
      "Lil Rue 34\n",
      "Lil Yase 34\n",
      "Lil Eddie 41\n",
      "Lil Wayne, DJ Drama 35\n",
      "Lil Suzy 34\n",
      "Lil Mouse 34\n",
      "Lil C 33\n",
      "Lil Rick 39\n",
      "Lil June 32\n",
      "Lil E 34\n",
      "Lil Fate 34\n",
      "Lil' Flip 49\n"
     ]
    }
   ],
   "source": [
    "for artist in artists:\n",
    "    print(artist['name'], artist['popularity'])"
   ]
  },
  {
   "cell_type": "code",
   "execution_count": null,
   "metadata": {
    "collapsed": true
   },
   "outputs": [],
   "source": []
  },
  {
   "cell_type": "markdown",
   "metadata": {},
   "source": [
    "2) What genres are most represented in the search results? Edit your previous printout to also display a list of their genres in the format \"GENRE_1, GENRE_2, GENRE_3\". If there are no genres, print \"No genres listed\".\n",
    "\n",
    "Tip: \"how to join a list Python\" might be a helpful search\n"
   ]
  },
  {
   "cell_type": "code",
   "execution_count": 13,
   "metadata": {
    "collapsed": false
   },
   "outputs": [
    {
     "name": "stdout",
     "output_type": "stream",
     "text": [
      "Lil Wayne 86\n",
      "Genre list:  dirty south rap, pop rap, southern hip hop, trap music\n",
      "Lil Yachty 72\n",
      "No genres listed\n",
      "Lil Uzi Vert 73\n",
      "No genres listed\n",
      "Lil Dicky 68\n",
      "No genres listed\n",
      "Boosie Badazz 67\n",
      "No genres listed\n",
      "Lil Jon 72\n",
      "Genre list:  crunk, dirty south rap, southern hip hop\n",
      "King Lil G 61\n",
      "No genres listed\n",
      "Lil Durk 60\n",
      "No genres listed\n",
      "Lil Jon & The East Side Boyz 60\n",
      "No genres listed\n",
      "Lil Bibby 54\n",
      "No genres listed\n",
      "G Herbo 53\n",
      "No genres listed\n",
      "Lil Rob 50\n",
      "Genre list:  chicano rap, latin hip hop\n",
      "Lil Reese 50\n",
      "No genres listed\n",
      "Lil Keke 48\n",
      "No genres listed\n",
      "Bow Wow 57\n",
      "Genre list:  hip pop, pop rap\n",
      "Lil Scrappy 48\n",
      "Genre list:  crunk, dirty south rap, southern hip hop, trap music\n",
      "Lil Wyte 50\n",
      "Genre list:  juggalo\n",
      "Lil Blood 45\n",
      "No genres listed\n",
      "Lil Snupe 45\n",
      "No genres listed\n",
      "Lil Mama 45\n",
      "Genre list:  hip pop\n",
      "Lil B 44\n",
      "No genres listed\n",
      "Lil' Kim 62\n",
      "Genre list:  hip pop\n",
      "Lil Cuete 40\n",
      "Genre list:  chicano rap\n",
      "Lil Phat 39\n",
      "No genres listed\n",
      "Lil Debbie 43\n",
      "No genres listed\n",
      "Lil Twist 39\n",
      "Genre list:  jerk\n",
      "Lil Trill 37\n",
      "Genre list:  deep trap\n",
      "Lil Boom 39\n",
      "No genres listed\n",
      "Lil Twon 37\n",
      "No genres listed\n",
      "Lil AJ 37\n",
      "No genres listed\n",
      "Lil Lonnie 37\n",
      "No genres listed\n",
      "Lil Goofy 35\n",
      "No genres listed\n",
      "Lil Haiti 36\n",
      "No genres listed\n",
      "Mr. Lil One 36\n",
      "Genre list:  chicano rap\n",
      "Lil Cray 35\n",
      "No genres listed\n",
      "Lil Flash 38\n",
      "No genres listed\n",
      "Lil Silva 43\n",
      "No genres listed\n",
      "Lil Kesh 39\n",
      "No genres listed\n",
      "Lil Rue 34\n",
      "No genres listed\n",
      "Lil Yase 34\n",
      "No genres listed\n",
      "Lil Eddie 41\n",
      "No genres listed\n",
      "Lil Wayne, DJ Drama 35\n",
      "No genres listed\n",
      "Lil Suzy 34\n",
      "Genre list:  freestyle\n",
      "Lil Mouse 34\n",
      "No genres listed\n",
      "Lil C 33\n",
      "No genres listed\n",
      "Lil Rick 39\n",
      "Genre list:  soca\n",
      "Lil June 32\n",
      "No genres listed\n",
      "Lil E 34\n",
      "No genres listed\n",
      "Lil Fate 34\n",
      "No genres listed\n",
      "Lil' Flip 49\n",
      "Genre list:  crunk, dirty south rap\n"
     ]
    }
   ],
   "source": [
    "for artist in artists:\n",
    "    print(artist['name'], artist['popularity'])\n",
    "    # YES dirty south rap, pop rap, southern hip hop, trap music\n",
    "    # NO ['dirty south rap', 'pop rap', 'southern hip hop', 'trap music']\n",
    "    if len(artist['genres']) == 0:\n",
    "        print(\"No genres listed\")\n",
    "    else:\n",
    "        genres = \", \".join(artist['genres'])\n",
    "        print(\"Genre list: \", genres)"
   ]
  },
  {
   "cell_type": "code",
   "execution_count": null,
   "metadata": {
    "collapsed": true
   },
   "outputs": [],
   "source": []
  },
  {
   "cell_type": "code",
   "execution_count": null,
   "metadata": {
    "collapsed": true
   },
   "outputs": [],
   "source": []
  },
  {
   "cell_type": "code",
   "execution_count": null,
   "metadata": {
    "collapsed": true
   },
   "outputs": [],
   "source": []
  },
  {
   "cell_type": "code",
   "execution_count": null,
   "metadata": {
    "collapsed": true
   },
   "outputs": [],
   "source": []
  },
  {
   "cell_type": "markdown",
   "metadata": {},
   "source": [
    "3) Use a for loop to determine who BESIDES Lil Wayne has the highest popularity rating. Is it the same artist who has the largest number of followers?"
   ]
  },
  {
   "cell_type": "code",
   "execution_count": 14,
   "metadata": {
    "collapsed": false,
    "scrolled": true
   },
   "outputs": [
    {
     "name": "stdout",
     "output_type": "stream",
     "text": [
      "Looking at Lil Wayne who has a popularity score of 86\n",
      "Comparing 86 to 0\n",
      "FOUND A NEW MOST POPULAR, checking to see if it's Lil Wayne trying to sneak through\n",
      "Nice try Lil Wayne, we don't care\n",
      "Looking at Lil Yachty who has a popularity score of 72\n",
      "Comparing 72 to 0\n",
      "FOUND A NEW MOST POPULAR, checking to see if it's Lil Wayne trying to sneak through\n",
      "Not Lil Wayne, updating our notebook\n",
      "Looking at Lil Uzi Vert who has a popularity score of 73\n",
      "Comparing 73 to 72\n",
      "FOUND A NEW MOST POPULAR, checking to see if it's Lil Wayne trying to sneak through\n",
      "Not Lil Wayne, updating our notebook\n",
      "Looking at Lil Dicky who has a popularity score of 68\n",
      "Comparing 68 to 73\n",
      "Looking at Boosie Badazz who has a popularity score of 67\n",
      "Comparing 67 to 73\n",
      "Looking at Lil Jon who has a popularity score of 72\n",
      "Comparing 72 to 73\n",
      "Looking at King Lil G who has a popularity score of 61\n",
      "Comparing 61 to 73\n",
      "Looking at Lil Durk who has a popularity score of 60\n",
      "Comparing 60 to 73\n",
      "Looking at Lil Jon & The East Side Boyz who has a popularity score of 60\n",
      "Comparing 60 to 73\n",
      "Looking at Lil Bibby who has a popularity score of 54\n",
      "Comparing 54 to 73\n",
      "Looking at G Herbo who has a popularity score of 53\n",
      "Comparing 53 to 73\n",
      "Looking at Lil Rob who has a popularity score of 50\n",
      "Comparing 50 to 73\n",
      "Looking at Lil Reese who has a popularity score of 50\n",
      "Comparing 50 to 73\n",
      "Looking at Lil Keke who has a popularity score of 48\n",
      "Comparing 48 to 73\n",
      "Looking at Bow Wow who has a popularity score of 57\n",
      "Comparing 57 to 73\n",
      "Looking at Lil Scrappy who has a popularity score of 48\n",
      "Comparing 48 to 73\n",
      "Looking at Lil Wyte who has a popularity score of 50\n",
      "Comparing 50 to 73\n",
      "Looking at Lil Blood who has a popularity score of 45\n",
      "Comparing 45 to 73\n",
      "Looking at Lil Snupe who has a popularity score of 45\n",
      "Comparing 45 to 73\n",
      "Looking at Lil Mama who has a popularity score of 45\n",
      "Comparing 45 to 73\n",
      "Looking at Lil B who has a popularity score of 44\n",
      "Comparing 44 to 73\n",
      "Looking at Lil' Kim who has a popularity score of 62\n",
      "Comparing 62 to 73\n",
      "Looking at Lil Cuete who has a popularity score of 40\n",
      "Comparing 40 to 73\n",
      "Looking at Lil Phat who has a popularity score of 39\n",
      "Comparing 39 to 73\n",
      "Looking at Lil Debbie who has a popularity score of 43\n",
      "Comparing 43 to 73\n",
      "Looking at Lil Twist who has a popularity score of 39\n",
      "Comparing 39 to 73\n",
      "Looking at Lil Trill who has a popularity score of 37\n",
      "Comparing 37 to 73\n",
      "Looking at Lil Boom who has a popularity score of 39\n",
      "Comparing 39 to 73\n",
      "Looking at Lil Twon who has a popularity score of 37\n",
      "Comparing 37 to 73\n",
      "Looking at Lil AJ who has a popularity score of 37\n",
      "Comparing 37 to 73\n",
      "Looking at Lil Lonnie who has a popularity score of 37\n",
      "Comparing 37 to 73\n",
      "Looking at Lil Goofy who has a popularity score of 35\n",
      "Comparing 35 to 73\n",
      "Looking at Lil Haiti who has a popularity score of 36\n",
      "Comparing 36 to 73\n",
      "Looking at Mr. Lil One who has a popularity score of 36\n",
      "Comparing 36 to 73\n",
      "Looking at Lil Cray who has a popularity score of 35\n",
      "Comparing 35 to 73\n",
      "Looking at Lil Flash who has a popularity score of 38\n",
      "Comparing 38 to 73\n",
      "Looking at Lil Silva who has a popularity score of 43\n",
      "Comparing 43 to 73\n",
      "Looking at Lil Kesh who has a popularity score of 39\n",
      "Comparing 39 to 73\n",
      "Looking at Lil Rue who has a popularity score of 34\n",
      "Comparing 34 to 73\n",
      "Looking at Lil Yase who has a popularity score of 34\n",
      "Comparing 34 to 73\n",
      "Looking at Lil Eddie who has a popularity score of 41\n",
      "Comparing 41 to 73\n",
      "Looking at Lil Wayne, DJ Drama who has a popularity score of 35\n",
      "Comparing 35 to 73\n",
      "Looking at Lil Suzy who has a popularity score of 34\n",
      "Comparing 34 to 73\n",
      "Looking at Lil Mouse who has a popularity score of 34\n",
      "Comparing 34 to 73\n",
      "Looking at Lil C who has a popularity score of 33\n",
      "Comparing 33 to 73\n",
      "Looking at Lil Rick who has a popularity score of 39\n",
      "Comparing 39 to 73\n",
      "Looking at Lil June who has a popularity score of 32\n",
      "Comparing 32 to 73\n",
      "Looking at Lil E who has a popularity score of 34\n",
      "Comparing 34 to 73\n",
      "Looking at Lil Fate who has a popularity score of 34\n",
      "Comparing 34 to 73\n",
      "Looking at Lil' Flip who has a popularity score of 49\n",
      "Comparing 49 to 73\n",
      "#########\n",
      "Lil Uzi Vert 73\n"
     ]
    }
   ],
   "source": [
    "most_popular_name = \"\"\n",
    "most_popular_score = 0\n",
    "for artist in artists:\n",
    "    print(\"Looking at\", artist['name'], \"who has a popularity score of\", artist['popularity'])\n",
    "    # THE CONDITIONAL\n",
    "    # a.k.a. what you are testing\n",
    "    print(\"Comparing\", artist['popularity'], \"to\", most_popular_score)\n",
    "    # Seeing if the artist is more popular that what we've saved\n",
    "    if artist['popularity'] > most_popular_score:\n",
    "        print(\"FOUND A NEW MOST POPULAR, checking to see if it's Lil Wayne trying to sneak through\")\n",
    "        # Seeing if it's actually Lil Wayne\n",
    "        if artist['name'] == \"Lil Wayne\":\n",
    "            print(\"Nice try Lil Wayne, we don't care\")\n",
    "        else:\n",
    "            # THE CHANGE\n",
    "            # a.k.a. what you're keeping track of\n",
    "            print(\"Not Lil Wayne, updating our notebook\")\n",
    "            most_popular_name = artist['name']\n",
    "            most_popular_score = artist['popularity']\n",
    "print(\"#########\")\n",
    "print(most_popular_name, most_popular_score)\n"
   ]
  },
  {
   "cell_type": "code",
   "execution_count": 15,
   "metadata": {
    "collapsed": false
   },
   "outputs": [
    {
     "name": "stdout",
     "output_type": "stream",
     "text": [
      "Notebook is []\n",
      "Looking at Lil Wayne who has a popularity of 86\n",
      "Notebook is []\n",
      "Looking at Lil Yachty who has a popularity of 72\n",
      "!!!!!!!! The artist's popularity is 72\n",
      "Notebook is ['Lil Yachty']\n",
      "Looking at Lil Uzi Vert who has a popularity of 73\n",
      "Notebook is ['Lil Yachty']\n",
      "Looking at Lil Dicky who has a popularity of 68\n",
      "Notebook is ['Lil Yachty']\n",
      "Looking at Boosie Badazz who has a popularity of 67\n",
      "Notebook is ['Lil Yachty']\n",
      "Looking at Lil Jon who has a popularity of 72\n",
      "!!!!!!!! The artist's popularity is 72\n",
      "Notebook is ['Lil Yachty', 'Lil Jon']\n",
      "Looking at King Lil G who has a popularity of 61\n",
      "Notebook is ['Lil Yachty', 'Lil Jon']\n",
      "Looking at Lil Durk who has a popularity of 60\n",
      "Notebook is ['Lil Yachty', 'Lil Jon']\n",
      "Looking at Lil Jon & The East Side Boyz who has a popularity of 60\n",
      "Notebook is ['Lil Yachty', 'Lil Jon']\n",
      "Looking at Lil Bibby who has a popularity of 54\n",
      "Notebook is ['Lil Yachty', 'Lil Jon']\n",
      "Looking at G Herbo who has a popularity of 53\n",
      "Notebook is ['Lil Yachty', 'Lil Jon']\n",
      "Looking at Lil Rob who has a popularity of 50\n",
      "Notebook is ['Lil Yachty', 'Lil Jon']\n",
      "Looking at Lil Reese who has a popularity of 50\n",
      "Notebook is ['Lil Yachty', 'Lil Jon']\n",
      "Looking at Lil Keke who has a popularity of 48\n",
      "Notebook is ['Lil Yachty', 'Lil Jon']\n",
      "Looking at Bow Wow who has a popularity of 57\n",
      "Notebook is ['Lil Yachty', 'Lil Jon']\n",
      "Looking at Lil Scrappy who has a popularity of 48\n",
      "Notebook is ['Lil Yachty', 'Lil Jon']\n",
      "Looking at Lil Wyte who has a popularity of 50\n",
      "Notebook is ['Lil Yachty', 'Lil Jon']\n",
      "Looking at Lil Blood who has a popularity of 45\n",
      "Notebook is ['Lil Yachty', 'Lil Jon']\n",
      "Looking at Lil Snupe who has a popularity of 45\n",
      "Notebook is ['Lil Yachty', 'Lil Jon']\n",
      "Looking at Lil Mama who has a popularity of 45\n",
      "Notebook is ['Lil Yachty', 'Lil Jon']\n",
      "Looking at Lil B who has a popularity of 44\n",
      "Notebook is ['Lil Yachty', 'Lil Jon']\n",
      "Looking at Lil' Kim who has a popularity of 62\n",
      "Notebook is ['Lil Yachty', 'Lil Jon']\n",
      "Looking at Lil Cuete who has a popularity of 40\n",
      "Notebook is ['Lil Yachty', 'Lil Jon']\n",
      "Looking at Lil Phat who has a popularity of 39\n",
      "Notebook is ['Lil Yachty', 'Lil Jon']\n",
      "Looking at Lil Debbie who has a popularity of 43\n",
      "Notebook is ['Lil Yachty', 'Lil Jon']\n",
      "Looking at Lil Twist who has a popularity of 39\n",
      "Notebook is ['Lil Yachty', 'Lil Jon']\n",
      "Looking at Lil Trill who has a popularity of 37\n",
      "Notebook is ['Lil Yachty', 'Lil Jon']\n",
      "Looking at Lil Boom who has a popularity of 39\n",
      "Notebook is ['Lil Yachty', 'Lil Jon']\n",
      "Looking at Lil Twon who has a popularity of 37\n",
      "Notebook is ['Lil Yachty', 'Lil Jon']\n",
      "Looking at Lil AJ who has a popularity of 37\n",
      "Notebook is ['Lil Yachty', 'Lil Jon']\n",
      "Looking at Lil Lonnie who has a popularity of 37\n",
      "Notebook is ['Lil Yachty', 'Lil Jon']\n",
      "Looking at Lil Goofy who has a popularity of 35\n",
      "Notebook is ['Lil Yachty', 'Lil Jon']\n",
      "Looking at Lil Haiti who has a popularity of 36\n",
      "Notebook is ['Lil Yachty', 'Lil Jon']\n",
      "Looking at Mr. Lil One who has a popularity of 36\n",
      "Notebook is ['Lil Yachty', 'Lil Jon']\n",
      "Looking at Lil Cray who has a popularity of 35\n",
      "Notebook is ['Lil Yachty', 'Lil Jon']\n",
      "Looking at Lil Flash who has a popularity of 38\n",
      "Notebook is ['Lil Yachty', 'Lil Jon']\n",
      "Looking at Lil Silva who has a popularity of 43\n",
      "Notebook is ['Lil Yachty', 'Lil Jon']\n",
      "Looking at Lil Kesh who has a popularity of 39\n",
      "Notebook is ['Lil Yachty', 'Lil Jon']\n",
      "Looking at Lil Rue who has a popularity of 34\n",
      "Notebook is ['Lil Yachty', 'Lil Jon']\n",
      "Looking at Lil Yase who has a popularity of 34\n",
      "Notebook is ['Lil Yachty', 'Lil Jon']\n",
      "Looking at Lil Eddie who has a popularity of 41\n",
      "Notebook is ['Lil Yachty', 'Lil Jon']\n",
      "Looking at Lil Wayne, DJ Drama who has a popularity of 35\n",
      "Notebook is ['Lil Yachty', 'Lil Jon']\n",
      "Looking at Lil Suzy who has a popularity of 34\n",
      "Notebook is ['Lil Yachty', 'Lil Jon']\n",
      "Looking at Lil Mouse who has a popularity of 34\n",
      "Notebook is ['Lil Yachty', 'Lil Jon']\n",
      "Looking at Lil C who has a popularity of 33\n",
      "Notebook is ['Lil Yachty', 'Lil Jon']\n",
      "Looking at Lil Rick who has a popularity of 39\n",
      "Notebook is ['Lil Yachty', 'Lil Jon']\n",
      "Looking at Lil June who has a popularity of 32\n",
      "Notebook is ['Lil Yachty', 'Lil Jon']\n",
      "Looking at Lil E who has a popularity of 34\n",
      "Notebook is ['Lil Yachty', 'Lil Jon']\n",
      "Looking at Lil Fate who has a popularity of 34\n",
      "Notebook is ['Lil Yachty', 'Lil Jon']\n",
      "Looking at Lil' Flip who has a popularity of 49\n",
      "OUR SECOND BEST ARTISTS ARE:\n",
      "Lil Yachty\n",
      "Lil Jon\n"
     ]
    }
   ],
   "source": [
    "name = \"Lil Soma\"\n",
    "\n",
    "target_score = 72\n",
    "# 1: INITIAL CONDITION\n",
    "# We have no one who is in our list yet\n",
    "second_best_artists = []\n",
    "\n",
    "# AGGREGATION PROBLEM\n",
    "# When you're looping through a series of serious objects\n",
    "# and sometimes you want to add one of those objects\n",
    "# to a DIFFERENT list\n",
    "for artist in artists:\n",
    "    # Let's print out what's on our notebook\n",
    "    print(\"Notebook is\", second_best_artists)\n",
    "    print(\"Looking at\", artist['name'], \"who has a popularity of\", artist['popularity'])\n",
    "    # 2: CONDITIONAL\n",
    "    # when we want to add someone to our list\n",
    "    if artist['popularity'] == 72:\n",
    "        print(\"!!!!!!!! The artist's popularity is 72\")\n",
    "        # 3: THE CHANGE\n",
    "        # Add that artist to our list\n",
    "        # .append(newthing) is how we do that in Python\n",
    "        second_best_artists.append(artist['name'])\n",
    "\n",
    "print(\"OUR SECOND BEST ARTISTS ARE:\")\n",
    "for artist in second_best_artists:\n",
    "    print(artist)"
   ]
  },
  {
   "cell_type": "code",
   "execution_count": null,
   "metadata": {
    "collapsed": true
   },
   "outputs": [],
   "source": []
  },
  {
   "cell_type": "code",
   "execution_count": null,
   "metadata": {
    "collapsed": true
   },
   "outputs": [],
   "source": []
  },
  {
   "cell_type": "code",
   "execution_count": null,
   "metadata": {
    "collapsed": true
   },
   "outputs": [],
   "source": []
  },
  {
   "cell_type": "markdown",
   "metadata": {},
   "source": [
    "4) Print a list of Lil's that are more popular than Lil' Kim."
   ]
  },
  {
   "cell_type": "code",
   "execution_count": 16,
   "metadata": {
    "collapsed": false
   },
   "outputs": [
    {
     "name": "stdout",
     "output_type": "stream",
     "text": [
      "Found Lil Kim\n",
      "62\n"
     ]
    }
   ],
   "source": [
    "for artist in artists:\n",
    "    #print(\"Looking at\", artist['name'])\n",
    "    if artist['name'] == \"Lil' Kim\":\n",
    "        print(\"Found Lil Kim\")\n",
    "        print(artist['popularity'])\n",
    "    else:\n",
    "        pass\n",
    "        #print(\"Not Lil Kim\")"
   ]
  },
  {
   "cell_type": "code",
   "execution_count": 17,
   "metadata": {
    "collapsed": false
   },
   "outputs": [
    {
     "name": "stdout",
     "output_type": "stream",
     "text": [
      "Lil Wayne is MORE POPULAR with a score of 86\n",
      "Lil Yachty is MORE POPULAR with a score of 72\n",
      "Lil Uzi Vert is MORE POPULAR with a score of 73\n",
      "Lil Dicky is MORE POPULAR with a score of 68\n",
      "Boosie Badazz is MORE POPULAR with a score of 67\n",
      "Lil Jon is MORE POPULAR with a score of 72\n",
      "King Lil G is less popular with a score of 61\n",
      "Lil Durk is less popular with a score of 60\n",
      "Lil Jon & The East Side Boyz is less popular with a score of 60\n",
      "Lil Bibby is less popular with a score of 54\n",
      "G Herbo is less popular with a score of 53\n",
      "Lil Rob is less popular with a score of 50\n",
      "Lil Reese is less popular with a score of 50\n",
      "Lil Keke is less popular with a score of 48\n",
      "Bow Wow is less popular with a score of 57\n",
      "Lil Scrappy is less popular with a score of 48\n",
      "Lil Wyte is less popular with a score of 50\n",
      "Lil Blood is less popular with a score of 45\n",
      "Lil Snupe is less popular with a score of 45\n",
      "Lil Mama is less popular with a score of 45\n",
      "Lil B is less popular with a score of 44\n",
      "Lil' Kim is less popular with a score of 62\n",
      "Lil Cuete is less popular with a score of 40\n",
      "Lil Phat is less popular with a score of 39\n",
      "Lil Debbie is less popular with a score of 43\n",
      "Lil Twist is less popular with a score of 39\n",
      "Lil Trill is less popular with a score of 37\n",
      "Lil Boom is less popular with a score of 39\n",
      "Lil Twon is less popular with a score of 37\n",
      "Lil AJ is less popular with a score of 37\n",
      "Lil Lonnie is less popular with a score of 37\n",
      "Lil Goofy is less popular with a score of 35\n",
      "Lil Haiti is less popular with a score of 36\n",
      "Mr. Lil One is less popular with a score of 36\n",
      "Lil Cray is less popular with a score of 35\n",
      "Lil Flash is less popular with a score of 38\n",
      "Lil Silva is less popular with a score of 43\n",
      "Lil Kesh is less popular with a score of 39\n",
      "Lil Rue is less popular with a score of 34\n",
      "Lil Yase is less popular with a score of 34\n",
      "Lil Eddie is less popular with a score of 41\n",
      "Lil Wayne, DJ Drama is less popular with a score of 35\n",
      "Lil Suzy is less popular with a score of 34\n",
      "Lil Mouse is less popular with a score of 34\n",
      "Lil C is less popular with a score of 33\n",
      "Lil Rick is less popular with a score of 39\n",
      "Lil June is less popular with a score of 32\n",
      "Lil E is less popular with a score of 34\n",
      "Lil Fate is less popular with a score of 34\n",
      "Lil' Flip is less popular with a score of 49\n",
      "###### MORE POPULAR THAN LIL KIM #####\n",
      "Lil Wayne\n",
      "Lil Yachty\n",
      "Lil Uzi Vert\n",
      "Lil Dicky\n",
      "Boosie Badazz\n",
      "Lil Jon\n"
     ]
    }
   ],
   "source": [
    "lil_kim_popularity = 62\n",
    "\n",
    "# AGGREGATION PROBLEM\n",
    "more_popular_than_lil_kim = []\n",
    "\n",
    "# THE LOOP\n",
    "for artist in artists:\n",
    "    # THE CONDITIONAL! is the artist more popular than lil kim?\n",
    "    if artist['popularity'] > lil_kim_popularity:\n",
    "        # IF yes, let's add them to our list\n",
    "        print(artist['name'], \"is MORE POPULAR with a score of\", artist['popularity'])\n",
    "        more_popular_than_lil_kim.append(artist['name'])\n",
    "    else:\n",
    "        print(artist['name'], \"is less popular with a score of\", artist['popularity'])\n",
    "print(\"###### MORE POPULAR THAN LIL KIM #####\")\n",
    "for artist_name in more_popular_than_lil_kim:\n",
    "    print(artist_name)"
   ]
  },
  {
   "cell_type": "code",
   "execution_count": 18,
   "metadata": {
    "collapsed": false
   },
   "outputs": [
    {
     "name": "stdout",
     "output_type": "stream",
     "text": [
      "Lil Wayne\n",
      "Lil Yachty\n",
      "Lil Uzi Vert\n",
      "Lil Dicky\n",
      "Boosie Badazz\n",
      "Lil Jon\n",
      "Artists more popular than Lil' Kim are: Lil Wayne, Lil Yachty, Lil Uzi Vert, Lil Dicky, Boosie Badazz, Lil Jon\n"
     ]
    }
   ],
   "source": [
    "for artist_name in more_popular_than_lil_kim:\n",
    "    print(artist_name)\n",
    "\n",
    "more_popular_string = \", \".join(more_popular_than_lil_kim)\n",
    "print(\"Artists more popular than Lil' Kim are:\", more_popular_string)"
   ]
  },
  {
   "cell_type": "markdown",
   "metadata": {},
   "source": [
    "5) Pick two of your favorite Lils to fight it out, and use their IDs to print out their top tracks.\n",
    "Tip: You're going to be making two separate requests, be sure you DO NOT save them into the same variable."
   ]
  },
  {
   "cell_type": "code",
   "execution_count": null,
   "metadata": {
    "collapsed": true
   },
   "outputs": [],
   "source": []
  },
  {
   "cell_type": "code",
   "execution_count": null,
   "metadata": {
    "collapsed": true
   },
   "outputs": [],
   "source": []
  },
  {
   "cell_type": "code",
   "execution_count": null,
   "metadata": {
    "collapsed": true
   },
   "outputs": [],
   "source": []
  },
  {
   "cell_type": "markdown",
   "metadata": {},
   "source": [
    "## How to count the genres "
   ]
  },
  {
   "cell_type": "code",
   "execution_count": 19,
   "metadata": {
    "collapsed": false
   },
   "outputs": [
    {
     "name": "stdout",
     "output_type": "stream",
     "text": [
      "ALL GENRES WE'VE HEARD OF: []\n",
      "Current artist has: ['dirty south rap', 'pop rap', 'southern hip hop', 'trap music']\n",
      "ALL GENRES WE'VE HEARD OF: ['dirty south rap', 'pop rap', 'southern hip hop', 'trap music']\n",
      "Current artist has: []\n",
      "ALL GENRES WE'VE HEARD OF: ['dirty south rap', 'pop rap', 'southern hip hop', 'trap music']\n",
      "Current artist has: []\n",
      "ALL GENRES WE'VE HEARD OF: ['dirty south rap', 'pop rap', 'southern hip hop', 'trap music']\n",
      "Current artist has: []\n",
      "ALL GENRES WE'VE HEARD OF: ['dirty south rap', 'pop rap', 'southern hip hop', 'trap music']\n",
      "Current artist has: []\n",
      "ALL GENRES WE'VE HEARD OF: ['dirty south rap', 'pop rap', 'southern hip hop', 'trap music']\n",
      "Current artist has: ['crunk', 'dirty south rap', 'southern hip hop']\n",
      "ALL GENRES WE'VE HEARD OF: ['dirty south rap', 'pop rap', 'southern hip hop', 'trap music', 'crunk', 'dirty south rap', 'southern hip hop']\n",
      "Current artist has: []\n",
      "ALL GENRES WE'VE HEARD OF: ['dirty south rap', 'pop rap', 'southern hip hop', 'trap music', 'crunk', 'dirty south rap', 'southern hip hop']\n",
      "Current artist has: []\n",
      "ALL GENRES WE'VE HEARD OF: ['dirty south rap', 'pop rap', 'southern hip hop', 'trap music', 'crunk', 'dirty south rap', 'southern hip hop']\n",
      "Current artist has: []\n",
      "ALL GENRES WE'VE HEARD OF: ['dirty south rap', 'pop rap', 'southern hip hop', 'trap music', 'crunk', 'dirty south rap', 'southern hip hop']\n",
      "Current artist has: []\n",
      "ALL GENRES WE'VE HEARD OF: ['dirty south rap', 'pop rap', 'southern hip hop', 'trap music', 'crunk', 'dirty south rap', 'southern hip hop']\n",
      "Current artist has: []\n",
      "ALL GENRES WE'VE HEARD OF: ['dirty south rap', 'pop rap', 'southern hip hop', 'trap music', 'crunk', 'dirty south rap', 'southern hip hop']\n",
      "Current artist has: ['chicano rap', 'latin hip hop']\n",
      "ALL GENRES WE'VE HEARD OF: ['dirty south rap', 'pop rap', 'southern hip hop', 'trap music', 'crunk', 'dirty south rap', 'southern hip hop', 'chicano rap', 'latin hip hop']\n",
      "Current artist has: []\n",
      "ALL GENRES WE'VE HEARD OF: ['dirty south rap', 'pop rap', 'southern hip hop', 'trap music', 'crunk', 'dirty south rap', 'southern hip hop', 'chicano rap', 'latin hip hop']\n",
      "Current artist has: []\n",
      "ALL GENRES WE'VE HEARD OF: ['dirty south rap', 'pop rap', 'southern hip hop', 'trap music', 'crunk', 'dirty south rap', 'southern hip hop', 'chicano rap', 'latin hip hop']\n",
      "Current artist has: ['hip pop', 'pop rap']\n",
      "ALL GENRES WE'VE HEARD OF: ['dirty south rap', 'pop rap', 'southern hip hop', 'trap music', 'crunk', 'dirty south rap', 'southern hip hop', 'chicano rap', 'latin hip hop', 'hip pop', 'pop rap']\n",
      "Current artist has: ['crunk', 'dirty south rap', 'southern hip hop', 'trap music']\n",
      "ALL GENRES WE'VE HEARD OF: ['dirty south rap', 'pop rap', 'southern hip hop', 'trap music', 'crunk', 'dirty south rap', 'southern hip hop', 'chicano rap', 'latin hip hop', 'hip pop', 'pop rap', 'crunk', 'dirty south rap', 'southern hip hop', 'trap music']\n",
      "Current artist has: ['juggalo']\n",
      "ALL GENRES WE'VE HEARD OF: ['dirty south rap', 'pop rap', 'southern hip hop', 'trap music', 'crunk', 'dirty south rap', 'southern hip hop', 'chicano rap', 'latin hip hop', 'hip pop', 'pop rap', 'crunk', 'dirty south rap', 'southern hip hop', 'trap music', 'juggalo']\n",
      "Current artist has: []\n",
      "ALL GENRES WE'VE HEARD OF: ['dirty south rap', 'pop rap', 'southern hip hop', 'trap music', 'crunk', 'dirty south rap', 'southern hip hop', 'chicano rap', 'latin hip hop', 'hip pop', 'pop rap', 'crunk', 'dirty south rap', 'southern hip hop', 'trap music', 'juggalo']\n",
      "Current artist has: []\n",
      "ALL GENRES WE'VE HEARD OF: ['dirty south rap', 'pop rap', 'southern hip hop', 'trap music', 'crunk', 'dirty south rap', 'southern hip hop', 'chicano rap', 'latin hip hop', 'hip pop', 'pop rap', 'crunk', 'dirty south rap', 'southern hip hop', 'trap music', 'juggalo']\n",
      "Current artist has: ['hip pop']\n",
      "ALL GENRES WE'VE HEARD OF: ['dirty south rap', 'pop rap', 'southern hip hop', 'trap music', 'crunk', 'dirty south rap', 'southern hip hop', 'chicano rap', 'latin hip hop', 'hip pop', 'pop rap', 'crunk', 'dirty south rap', 'southern hip hop', 'trap music', 'juggalo', 'hip pop']\n",
      "Current artist has: []\n",
      "ALL GENRES WE'VE HEARD OF: ['dirty south rap', 'pop rap', 'southern hip hop', 'trap music', 'crunk', 'dirty south rap', 'southern hip hop', 'chicano rap', 'latin hip hop', 'hip pop', 'pop rap', 'crunk', 'dirty south rap', 'southern hip hop', 'trap music', 'juggalo', 'hip pop']\n",
      "Current artist has: ['hip pop']\n",
      "ALL GENRES WE'VE HEARD OF: ['dirty south rap', 'pop rap', 'southern hip hop', 'trap music', 'crunk', 'dirty south rap', 'southern hip hop', 'chicano rap', 'latin hip hop', 'hip pop', 'pop rap', 'crunk', 'dirty south rap', 'southern hip hop', 'trap music', 'juggalo', 'hip pop', 'hip pop']\n",
      "Current artist has: ['chicano rap']\n",
      "ALL GENRES WE'VE HEARD OF: ['dirty south rap', 'pop rap', 'southern hip hop', 'trap music', 'crunk', 'dirty south rap', 'southern hip hop', 'chicano rap', 'latin hip hop', 'hip pop', 'pop rap', 'crunk', 'dirty south rap', 'southern hip hop', 'trap music', 'juggalo', 'hip pop', 'hip pop', 'chicano rap']\n",
      "Current artist has: []\n",
      "ALL GENRES WE'VE HEARD OF: ['dirty south rap', 'pop rap', 'southern hip hop', 'trap music', 'crunk', 'dirty south rap', 'southern hip hop', 'chicano rap', 'latin hip hop', 'hip pop', 'pop rap', 'crunk', 'dirty south rap', 'southern hip hop', 'trap music', 'juggalo', 'hip pop', 'hip pop', 'chicano rap']\n",
      "Current artist has: []\n",
      "ALL GENRES WE'VE HEARD OF: ['dirty south rap', 'pop rap', 'southern hip hop', 'trap music', 'crunk', 'dirty south rap', 'southern hip hop', 'chicano rap', 'latin hip hop', 'hip pop', 'pop rap', 'crunk', 'dirty south rap', 'southern hip hop', 'trap music', 'juggalo', 'hip pop', 'hip pop', 'chicano rap']\n",
      "Current artist has: ['jerk']\n",
      "ALL GENRES WE'VE HEARD OF: ['dirty south rap', 'pop rap', 'southern hip hop', 'trap music', 'crunk', 'dirty south rap', 'southern hip hop', 'chicano rap', 'latin hip hop', 'hip pop', 'pop rap', 'crunk', 'dirty south rap', 'southern hip hop', 'trap music', 'juggalo', 'hip pop', 'hip pop', 'chicano rap', 'jerk']\n",
      "Current artist has: ['deep trap']\n",
      "ALL GENRES WE'VE HEARD OF: ['dirty south rap', 'pop rap', 'southern hip hop', 'trap music', 'crunk', 'dirty south rap', 'southern hip hop', 'chicano rap', 'latin hip hop', 'hip pop', 'pop rap', 'crunk', 'dirty south rap', 'southern hip hop', 'trap music', 'juggalo', 'hip pop', 'hip pop', 'chicano rap', 'jerk', 'deep trap']\n",
      "Current artist has: []\n",
      "ALL GENRES WE'VE HEARD OF: ['dirty south rap', 'pop rap', 'southern hip hop', 'trap music', 'crunk', 'dirty south rap', 'southern hip hop', 'chicano rap', 'latin hip hop', 'hip pop', 'pop rap', 'crunk', 'dirty south rap', 'southern hip hop', 'trap music', 'juggalo', 'hip pop', 'hip pop', 'chicano rap', 'jerk', 'deep trap']\n",
      "Current artist has: []\n",
      "ALL GENRES WE'VE HEARD OF: ['dirty south rap', 'pop rap', 'southern hip hop', 'trap music', 'crunk', 'dirty south rap', 'southern hip hop', 'chicano rap', 'latin hip hop', 'hip pop', 'pop rap', 'crunk', 'dirty south rap', 'southern hip hop', 'trap music', 'juggalo', 'hip pop', 'hip pop', 'chicano rap', 'jerk', 'deep trap']\n",
      "Current artist has: []\n",
      "ALL GENRES WE'VE HEARD OF: ['dirty south rap', 'pop rap', 'southern hip hop', 'trap music', 'crunk', 'dirty south rap', 'southern hip hop', 'chicano rap', 'latin hip hop', 'hip pop', 'pop rap', 'crunk', 'dirty south rap', 'southern hip hop', 'trap music', 'juggalo', 'hip pop', 'hip pop', 'chicano rap', 'jerk', 'deep trap']\n",
      "Current artist has: []\n",
      "ALL GENRES WE'VE HEARD OF: ['dirty south rap', 'pop rap', 'southern hip hop', 'trap music', 'crunk', 'dirty south rap', 'southern hip hop', 'chicano rap', 'latin hip hop', 'hip pop', 'pop rap', 'crunk', 'dirty south rap', 'southern hip hop', 'trap music', 'juggalo', 'hip pop', 'hip pop', 'chicano rap', 'jerk', 'deep trap']\n",
      "Current artist has: []\n",
      "ALL GENRES WE'VE HEARD OF: ['dirty south rap', 'pop rap', 'southern hip hop', 'trap music', 'crunk', 'dirty south rap', 'southern hip hop', 'chicano rap', 'latin hip hop', 'hip pop', 'pop rap', 'crunk', 'dirty south rap', 'southern hip hop', 'trap music', 'juggalo', 'hip pop', 'hip pop', 'chicano rap', 'jerk', 'deep trap']\n",
      "Current artist has: []\n",
      "ALL GENRES WE'VE HEARD OF: ['dirty south rap', 'pop rap', 'southern hip hop', 'trap music', 'crunk', 'dirty south rap', 'southern hip hop', 'chicano rap', 'latin hip hop', 'hip pop', 'pop rap', 'crunk', 'dirty south rap', 'southern hip hop', 'trap music', 'juggalo', 'hip pop', 'hip pop', 'chicano rap', 'jerk', 'deep trap']\n",
      "Current artist has: ['chicano rap']\n",
      "ALL GENRES WE'VE HEARD OF: ['dirty south rap', 'pop rap', 'southern hip hop', 'trap music', 'crunk', 'dirty south rap', 'southern hip hop', 'chicano rap', 'latin hip hop', 'hip pop', 'pop rap', 'crunk', 'dirty south rap', 'southern hip hop', 'trap music', 'juggalo', 'hip pop', 'hip pop', 'chicano rap', 'jerk', 'deep trap', 'chicano rap']\n",
      "Current artist has: []\n",
      "ALL GENRES WE'VE HEARD OF: ['dirty south rap', 'pop rap', 'southern hip hop', 'trap music', 'crunk', 'dirty south rap', 'southern hip hop', 'chicano rap', 'latin hip hop', 'hip pop', 'pop rap', 'crunk', 'dirty south rap', 'southern hip hop', 'trap music', 'juggalo', 'hip pop', 'hip pop', 'chicano rap', 'jerk', 'deep trap', 'chicano rap']\n",
      "Current artist has: []\n",
      "ALL GENRES WE'VE HEARD OF: ['dirty south rap', 'pop rap', 'southern hip hop', 'trap music', 'crunk', 'dirty south rap', 'southern hip hop', 'chicano rap', 'latin hip hop', 'hip pop', 'pop rap', 'crunk', 'dirty south rap', 'southern hip hop', 'trap music', 'juggalo', 'hip pop', 'hip pop', 'chicano rap', 'jerk', 'deep trap', 'chicano rap']\n",
      "Current artist has: []\n",
      "ALL GENRES WE'VE HEARD OF: ['dirty south rap', 'pop rap', 'southern hip hop', 'trap music', 'crunk', 'dirty south rap', 'southern hip hop', 'chicano rap', 'latin hip hop', 'hip pop', 'pop rap', 'crunk', 'dirty south rap', 'southern hip hop', 'trap music', 'juggalo', 'hip pop', 'hip pop', 'chicano rap', 'jerk', 'deep trap', 'chicano rap']\n",
      "Current artist has: []\n",
      "ALL GENRES WE'VE HEARD OF: ['dirty south rap', 'pop rap', 'southern hip hop', 'trap music', 'crunk', 'dirty south rap', 'southern hip hop', 'chicano rap', 'latin hip hop', 'hip pop', 'pop rap', 'crunk', 'dirty south rap', 'southern hip hop', 'trap music', 'juggalo', 'hip pop', 'hip pop', 'chicano rap', 'jerk', 'deep trap', 'chicano rap']\n",
      "Current artist has: []\n",
      "ALL GENRES WE'VE HEARD OF: ['dirty south rap', 'pop rap', 'southern hip hop', 'trap music', 'crunk', 'dirty south rap', 'southern hip hop', 'chicano rap', 'latin hip hop', 'hip pop', 'pop rap', 'crunk', 'dirty south rap', 'southern hip hop', 'trap music', 'juggalo', 'hip pop', 'hip pop', 'chicano rap', 'jerk', 'deep trap', 'chicano rap']\n",
      "Current artist has: []\n",
      "ALL GENRES WE'VE HEARD OF: ['dirty south rap', 'pop rap', 'southern hip hop', 'trap music', 'crunk', 'dirty south rap', 'southern hip hop', 'chicano rap', 'latin hip hop', 'hip pop', 'pop rap', 'crunk', 'dirty south rap', 'southern hip hop', 'trap music', 'juggalo', 'hip pop', 'hip pop', 'chicano rap', 'jerk', 'deep trap', 'chicano rap']\n",
      "Current artist has: []\n",
      "ALL GENRES WE'VE HEARD OF: ['dirty south rap', 'pop rap', 'southern hip hop', 'trap music', 'crunk', 'dirty south rap', 'southern hip hop', 'chicano rap', 'latin hip hop', 'hip pop', 'pop rap', 'crunk', 'dirty south rap', 'southern hip hop', 'trap music', 'juggalo', 'hip pop', 'hip pop', 'chicano rap', 'jerk', 'deep trap', 'chicano rap']\n",
      "Current artist has: []\n",
      "ALL GENRES WE'VE HEARD OF: ['dirty south rap', 'pop rap', 'southern hip hop', 'trap music', 'crunk', 'dirty south rap', 'southern hip hop', 'chicano rap', 'latin hip hop', 'hip pop', 'pop rap', 'crunk', 'dirty south rap', 'southern hip hop', 'trap music', 'juggalo', 'hip pop', 'hip pop', 'chicano rap', 'jerk', 'deep trap', 'chicano rap']\n",
      "Current artist has: ['freestyle']\n",
      "ALL GENRES WE'VE HEARD OF: ['dirty south rap', 'pop rap', 'southern hip hop', 'trap music', 'crunk', 'dirty south rap', 'southern hip hop', 'chicano rap', 'latin hip hop', 'hip pop', 'pop rap', 'crunk', 'dirty south rap', 'southern hip hop', 'trap music', 'juggalo', 'hip pop', 'hip pop', 'chicano rap', 'jerk', 'deep trap', 'chicano rap', 'freestyle']\n",
      "Current artist has: []\n",
      "ALL GENRES WE'VE HEARD OF: ['dirty south rap', 'pop rap', 'southern hip hop', 'trap music', 'crunk', 'dirty south rap', 'southern hip hop', 'chicano rap', 'latin hip hop', 'hip pop', 'pop rap', 'crunk', 'dirty south rap', 'southern hip hop', 'trap music', 'juggalo', 'hip pop', 'hip pop', 'chicano rap', 'jerk', 'deep trap', 'chicano rap', 'freestyle']\n",
      "Current artist has: []\n",
      "ALL GENRES WE'VE HEARD OF: ['dirty south rap', 'pop rap', 'southern hip hop', 'trap music', 'crunk', 'dirty south rap', 'southern hip hop', 'chicano rap', 'latin hip hop', 'hip pop', 'pop rap', 'crunk', 'dirty south rap', 'southern hip hop', 'trap music', 'juggalo', 'hip pop', 'hip pop', 'chicano rap', 'jerk', 'deep trap', 'chicano rap', 'freestyle']\n",
      "Current artist has: ['soca']\n",
      "ALL GENRES WE'VE HEARD OF: ['dirty south rap', 'pop rap', 'southern hip hop', 'trap music', 'crunk', 'dirty south rap', 'southern hip hop', 'chicano rap', 'latin hip hop', 'hip pop', 'pop rap', 'crunk', 'dirty south rap', 'southern hip hop', 'trap music', 'juggalo', 'hip pop', 'hip pop', 'chicano rap', 'jerk', 'deep trap', 'chicano rap', 'freestyle', 'soca']\n",
      "Current artist has: []\n",
      "ALL GENRES WE'VE HEARD OF: ['dirty south rap', 'pop rap', 'southern hip hop', 'trap music', 'crunk', 'dirty south rap', 'southern hip hop', 'chicano rap', 'latin hip hop', 'hip pop', 'pop rap', 'crunk', 'dirty south rap', 'southern hip hop', 'trap music', 'juggalo', 'hip pop', 'hip pop', 'chicano rap', 'jerk', 'deep trap', 'chicano rap', 'freestyle', 'soca']\n",
      "Current artist has: []\n",
      "ALL GENRES WE'VE HEARD OF: ['dirty south rap', 'pop rap', 'southern hip hop', 'trap music', 'crunk', 'dirty south rap', 'southern hip hop', 'chicano rap', 'latin hip hop', 'hip pop', 'pop rap', 'crunk', 'dirty south rap', 'southern hip hop', 'trap music', 'juggalo', 'hip pop', 'hip pop', 'chicano rap', 'jerk', 'deep trap', 'chicano rap', 'freestyle', 'soca']\n",
      "Current artist has: []\n",
      "ALL GENRES WE'VE HEARD OF: ['dirty south rap', 'pop rap', 'southern hip hop', 'trap music', 'crunk', 'dirty south rap', 'southern hip hop', 'chicano rap', 'latin hip hop', 'hip pop', 'pop rap', 'crunk', 'dirty south rap', 'southern hip hop', 'trap music', 'juggalo', 'hip pop', 'hip pop', 'chicano rap', 'jerk', 'deep trap', 'chicano rap', 'freestyle', 'soca']\n",
      "Current artist has: ['crunk', 'dirty south rap']\n",
      "########\n",
      "ALL THE GENRES WE'VE HEARD OF, FINALLY, AT THE END:\n",
      "['dirty south rap', 'pop rap', 'southern hip hop', 'trap music', 'crunk', 'dirty south rap', 'southern hip hop', 'chicano rap', 'latin hip hop', 'hip pop', 'pop rap', 'crunk', 'dirty south rap', 'southern hip hop', 'trap music', 'juggalo', 'hip pop', 'hip pop', 'chicano rap', 'jerk', 'deep trap', 'chicano rap', 'freestyle', 'soca', 'crunk', 'dirty south rap']\n"
     ]
    }
   ],
   "source": [
    "# AGGREGATION PROBLEM\n",
    "all_genres = []\n",
    "\n",
    "# THE LOOP\n",
    "for artist in artists:\n",
    "    print(\"ALL GENRES WE'VE HEARD OF:\", all_genres)\n",
    "    # THE CONDITIONAL: none\n",
    "    print(\"Current artist has:\", artist['genres'])\n",
    "    all_genres = all_genres + artist['genres']\n",
    "\n",
    "# \"Hello\" + \"world\" => \"Helloworld\"   \n",
    "# [1, 2, 3] + [4, 5, 6] => [1, 2, 3, 4, 5, 6]\n",
    "# [1, 2, 3] + 4 => DOES NOT WORK\n",
    "# [1, 2, 3].append(4) => [1, 2, 3, 4]\n",
    "\n",
    "print(\"########\")\n",
    "print(\"ALL THE GENRES WE'VE HEARD OF, FINALLY, AT THE END:\")\n",
    "# Has repeats\n",
    "print(all_genres)\n",
    "\n",
    "# your_list = ['a', 'b', 'c', 'd', 'c', 'b', 'c']\n",
    "# your_list.count('c') => 3\n",
    "# your_list.count('a') => 1\n",
    "# your_list.count('d') => 1"
   ]
  },
  {
   "cell_type": "code",
   "execution_count": 20,
   "metadata": {
    "collapsed": false
   },
   "outputs": [
    {
     "data": {
      "text/plain": [
       "4"
      ]
     },
     "execution_count": 20,
     "metadata": {},
     "output_type": "execute_result"
    }
   ],
   "source": [
    "all_genres.count('dirty south rap')"
   ]
  },
  {
   "cell_type": "code",
   "execution_count": 21,
   "metadata": {
    "collapsed": false
   },
   "outputs": [
    {
     "data": {
      "text/plain": [
       "3"
      ]
     },
     "execution_count": 21,
     "metadata": {},
     "output_type": "execute_result"
    }
   ],
   "source": [
    "all_genres.count('crunk')"
   ]
  },
  {
   "cell_type": "code",
   "execution_count": 22,
   "metadata": {
    "collapsed": false
   },
   "outputs": [
    {
     "name": "stdout",
     "output_type": "stream",
     "text": [
      "dirty south rap shows up 4 times\n",
      "pop rap shows up 2 times\n",
      "southern hip hop shows up 3 times\n",
      "trap music shows up 2 times\n",
      "crunk shows up 3 times\n",
      "dirty south rap shows up 4 times\n",
      "southern hip hop shows up 3 times\n",
      "chicano rap shows up 3 times\n",
      "latin hip hop shows up 1 times\n",
      "hip pop shows up 3 times\n",
      "pop rap shows up 2 times\n",
      "crunk shows up 3 times\n",
      "dirty south rap shows up 4 times\n",
      "southern hip hop shows up 3 times\n",
      "trap music shows up 2 times\n",
      "juggalo shows up 1 times\n",
      "hip pop shows up 3 times\n",
      "hip pop shows up 3 times\n",
      "chicano rap shows up 3 times\n",
      "jerk shows up 1 times\n",
      "deep trap shows up 1 times\n",
      "chicano rap shows up 3 times\n",
      "freestyle shows up 1 times\n",
      "soca shows up 1 times\n",
      "crunk shows up 3 times\n",
      "dirty south rap shows up 4 times\n"
     ]
    }
   ],
   "source": [
    "# This is bad because of the duplicates in all_genres\n",
    "# It keeps repeating \"dirty south rap shows up 4 times\"\n",
    "for genre in all_genres:\n",
    "    genre_count = all_genres.count(genre)\n",
    "    print(genre, \"shows up\", genre_count, \"times\")"
   ]
  },
  {
   "cell_type": "code",
   "execution_count": 23,
   "metadata": {
    "collapsed": false
   },
   "outputs": [
    {
     "name": "stdout",
     "output_type": "stream",
     "text": [
      "trap music shows up 2 times\n",
      "pop rap shows up 2 times\n",
      "soca shows up 1 times\n",
      "latin hip hop shows up 1 times\n",
      "chicano rap shows up 3 times\n",
      "hip pop shows up 3 times\n",
      "juggalo shows up 1 times\n",
      "southern hip hop shows up 3 times\n",
      "crunk shows up 3 times\n",
      "freestyle shows up 1 times\n",
      "deep trap shows up 1 times\n",
      "jerk shows up 1 times\n",
      "dirty south rap shows up 4 times\n"
     ]
    }
   ],
   "source": [
    "# We need a UNIQUE list of all_genres, a.k.a. a list\n",
    "# with all duplicates removed\n",
    "# unique_list = set(list_with_duplicates)\n",
    "unique_genres = set(all_genres)\n",
    "for genre in unique_genres:\n",
    "    genre_count = all_genres.count(genre)\n",
    "    print(genre, \"shows up\", genre_count, \"times\")"
   ]
  },
  {
   "cell_type": "code",
   "execution_count": 24,
   "metadata": {
    "collapsed": false
   },
   "outputs": [
    {
     "name": "stdout",
     "output_type": "stream",
     "text": [
      "crunk shows up 3 times\n",
      "dirty south rap shows up 4 times\n"
     ]
    },
    {
     "data": {
      "text/plain": [
       "[('dirty south rap', 4),\n",
       " ('chicano rap', 3),\n",
       " ('hip pop', 3),\n",
       " ('southern hip hop', 3)]"
      ]
     },
     "execution_count": 24,
     "metadata": {},
     "output_type": "execute_result"
    }
   ],
   "source": [
    "# There is a library that comes with Python called COLLECTIONS!!!\n",
    "# Inside of it is a magic thing called Counter.\n",
    "\n",
    "#import collections\n",
    "from collections import Counter\n",
    "\n",
    "# all_genres = [ 'southern hip hop', 'southern hip hop', 'crunk', ]\n",
    "# a list of strings of genres, with duplicates\n",
    "#counts = collections.Counter(all_genres)\n",
    "counts = Counter(all_genres)\n",
    "print('crunk shows up', counts['crunk'], 'times')\n",
    "print('dirty south rap shows up', counts['dirty south rap'], 'times')\n",
    "counts.most_common(4)"
   ]
  },
  {
   "cell_type": "code",
   "execution_count": null,
   "metadata": {
    "collapsed": true
   },
   "outputs": [],
   "source": []
  },
  {
   "cell_type": "markdown",
   "metadata": {},
   "source": [
    "## How to automate getting all of the results"
   ]
  },
  {
   "cell_type": "code",
   "execution_count": 25,
   "metadata": {
    "collapsed": false
   },
   "outputs": [
    {
     "name": "stdout",
     "output_type": "stream",
     "text": [
      "50\n",
      "4510\n"
     ]
    }
   ],
   "source": [
    "data['artists']\n",
    "print(len(data['artists']['items'])) # We only get 10 artists\n",
    "print(data['artists']['total'])\n"
   ]
  },
  {
   "cell_type": "code",
   "execution_count": 26,
   "metadata": {
    "collapsed": false
   },
   "outputs": [
    {
     "data": {
      "text/plain": [
       "91"
      ]
     },
     "execution_count": 26,
     "metadata": {},
     "output_type": "execute_result"
    }
   ],
   "source": [
    "import math\n",
    "\n",
    "#response = requests.get(\"https://api.spotify.com/v1/search?q=lil&type=artist&limit=50&market=US\")\n",
    "#data = response.json()\n",
    "# math.ceil rounds up\n",
    "page_count = math.ceil(4502 / 50)\n",
    "page_count"
   ]
  },
  {
   "cell_type": "code",
   "execution_count": 27,
   "metadata": {
    "collapsed": false
   },
   "outputs": [
    {
     "data": {
      "text/plain": [
       "range(0, 91)"
      ]
     },
     "execution_count": 27,
     "metadata": {},
     "output_type": "execute_result"
    }
   ],
   "source": [
    "range(91) # gives us a list of 0 through 90\n",
    "#list(range(91))"
   ]
  },
  {
   "cell_type": "code",
   "execution_count": 28,
   "metadata": {
    "collapsed": false
   },
   "outputs": [
    {
     "name": "stdout",
     "output_type": "stream",
     "text": [
      "We are on page 0 with an offset of 0\n",
      "Requesting https://api.spotify.com/v1/search?q=lil&type=artist&limit=50&offset=0\n",
      "Found 50 new artists\n",
      "Total count of artists: 50\n",
      "We are on page 1 with an offset of 50\n",
      "Requesting https://api.spotify.com/v1/search?q=lil&type=artist&limit=50&offset=50\n",
      "Found 50 new artists\n",
      "Total count of artists: 100\n",
      "We are on page 2 with an offset of 100\n",
      "Requesting https://api.spotify.com/v1/search?q=lil&type=artist&limit=50&offset=100\n",
      "Found 50 new artists\n",
      "Total count of artists: 150\n",
      "We are on page 3 with an offset of 150\n",
      "Requesting https://api.spotify.com/v1/search?q=lil&type=artist&limit=50&offset=150\n",
      "Found 50 new artists\n",
      "Total count of artists: 200\n",
      "We are on page 4 with an offset of 200\n",
      "Requesting https://api.spotify.com/v1/search?q=lil&type=artist&limit=50&offset=200\n",
      "Found 50 new artists\n",
      "Total count of artists: 250\n",
      "We are on page 5 with an offset of 250\n",
      "Requesting https://api.spotify.com/v1/search?q=lil&type=artist&limit=50&offset=250\n",
      "Found 50 new artists\n",
      "Total count of artists: 300\n",
      "We are on page 6 with an offset of 300\n",
      "Requesting https://api.spotify.com/v1/search?q=lil&type=artist&limit=50&offset=300\n",
      "Found 50 new artists\n",
      "Total count of artists: 350\n",
      "We are on page 7 with an offset of 350\n",
      "Requesting https://api.spotify.com/v1/search?q=lil&type=artist&limit=50&offset=350\n",
      "Found 50 new artists\n",
      "Total count of artists: 400\n",
      "We are on page 8 with an offset of 400\n",
      "Requesting https://api.spotify.com/v1/search?q=lil&type=artist&limit=50&offset=400\n",
      "Found 50 new artists\n",
      "Total count of artists: 450\n",
      "We are on page 9 with an offset of 450\n",
      "Requesting https://api.spotify.com/v1/search?q=lil&type=artist&limit=50&offset=450\n",
      "Found 50 new artists\n",
      "Total count of artists: 500\n",
      "We are on page 10 with an offset of 500\n",
      "Requesting https://api.spotify.com/v1/search?q=lil&type=artist&limit=50&offset=500\n",
      "Found 50 new artists\n",
      "Total count of artists: 550\n",
      "We are on page 11 with an offset of 550\n",
      "Requesting https://api.spotify.com/v1/search?q=lil&type=artist&limit=50&offset=550\n",
      "Found 50 new artists\n",
      "Total count of artists: 600\n",
      "We are on page 12 with an offset of 600\n",
      "Requesting https://api.spotify.com/v1/search?q=lil&type=artist&limit=50&offset=600\n",
      "Found 50 new artists\n",
      "Total count of artists: 650\n",
      "We are on page 13 with an offset of 650\n",
      "Requesting https://api.spotify.com/v1/search?q=lil&type=artist&limit=50&offset=650\n",
      "Found 50 new artists\n",
      "Total count of artists: 700\n",
      "We are on page 14 with an offset of 700\n",
      "Requesting https://api.spotify.com/v1/search?q=lil&type=artist&limit=50&offset=700\n",
      "Found 50 new artists\n",
      "Total count of artists: 750\n",
      "We are on page 15 with an offset of 750\n",
      "Requesting https://api.spotify.com/v1/search?q=lil&type=artist&limit=50&offset=750\n",
      "Found 50 new artists\n",
      "Total count of artists: 800\n",
      "We are on page 16 with an offset of 800\n",
      "Requesting https://api.spotify.com/v1/search?q=lil&type=artist&limit=50&offset=800\n",
      "Found 50 new artists\n",
      "Total count of artists: 850\n",
      "We are on page 17 with an offset of 850\n",
      "Requesting https://api.spotify.com/v1/search?q=lil&type=artist&limit=50&offset=850\n",
      "Found 50 new artists\n",
      "Total count of artists: 900\n",
      "We are on page 18 with an offset of 900\n",
      "Requesting https://api.spotify.com/v1/search?q=lil&type=artist&limit=50&offset=900\n",
      "Found 50 new artists\n",
      "Total count of artists: 950\n",
      "We are on page 19 with an offset of 950\n",
      "Requesting https://api.spotify.com/v1/search?q=lil&type=artist&limit=50&offset=950\n",
      "Found 50 new artists\n",
      "Total count of artists: 1000\n",
      "We are on page 20 with an offset of 1000\n",
      "Requesting https://api.spotify.com/v1/search?q=lil&type=artist&limit=50&offset=1000\n",
      "Found 50 new artists\n",
      "Total count of artists: 1050\n",
      "We are on page 21 with an offset of 1050\n",
      "Requesting https://api.spotify.com/v1/search?q=lil&type=artist&limit=50&offset=1050\n",
      "Found 50 new artists\n",
      "Total count of artists: 1100\n",
      "We are on page 22 with an offset of 1100\n",
      "Requesting https://api.spotify.com/v1/search?q=lil&type=artist&limit=50&offset=1100\n",
      "Found 50 new artists\n",
      "Total count of artists: 1150\n",
      "We are on page 23 with an offset of 1150\n",
      "Requesting https://api.spotify.com/v1/search?q=lil&type=artist&limit=50&offset=1150\n",
      "Found 50 new artists\n",
      "Total count of artists: 1200\n",
      "We are on page 24 with an offset of 1200\n",
      "Requesting https://api.spotify.com/v1/search?q=lil&type=artist&limit=50&offset=1200\n",
      "Found 50 new artists\n",
      "Total count of artists: 1250\n",
      "We are on page 25 with an offset of 1250\n",
      "Requesting https://api.spotify.com/v1/search?q=lil&type=artist&limit=50&offset=1250\n",
      "Found 50 new artists\n",
      "Total count of artists: 1300\n",
      "We are on page 26 with an offset of 1300\n",
      "Requesting https://api.spotify.com/v1/search?q=lil&type=artist&limit=50&offset=1300\n",
      "Found 50 new artists\n",
      "Total count of artists: 1350\n",
      "We are on page 27 with an offset of 1350\n",
      "Requesting https://api.spotify.com/v1/search?q=lil&type=artist&limit=50&offset=1350\n",
      "Found 50 new artists\n",
      "Total count of artists: 1400\n",
      "We are on page 28 with an offset of 1400\n",
      "Requesting https://api.spotify.com/v1/search?q=lil&type=artist&limit=50&offset=1400\n",
      "Found 50 new artists\n",
      "Total count of artists: 1450\n",
      "We are on page 29 with an offset of 1450\n",
      "Requesting https://api.spotify.com/v1/search?q=lil&type=artist&limit=50&offset=1450\n",
      "Found 50 new artists\n",
      "Total count of artists: 1500\n",
      "We are on page 30 with an offset of 1500\n",
      "Requesting https://api.spotify.com/v1/search?q=lil&type=artist&limit=50&offset=1500\n",
      "Found 50 new artists\n",
      "Total count of artists: 1550\n",
      "We are on page 31 with an offset of 1550\n",
      "Requesting https://api.spotify.com/v1/search?q=lil&type=artist&limit=50&offset=1550\n",
      "Found 50 new artists\n",
      "Total count of artists: 1600\n",
      "We are on page 32 with an offset of 1600\n",
      "Requesting https://api.spotify.com/v1/search?q=lil&type=artist&limit=50&offset=1600\n",
      "Found 50 new artists\n",
      "Total count of artists: 1650\n",
      "We are on page 33 with an offset of 1650\n",
      "Requesting https://api.spotify.com/v1/search?q=lil&type=artist&limit=50&offset=1650\n",
      "Found 50 new artists\n",
      "Total count of artists: 1700\n",
      "We are on page 34 with an offset of 1700\n",
      "Requesting https://api.spotify.com/v1/search?q=lil&type=artist&limit=50&offset=1700\n",
      "Found 50 new artists\n",
      "Total count of artists: 1750\n",
      "We are on page 35 with an offset of 1750\n",
      "Requesting https://api.spotify.com/v1/search?q=lil&type=artist&limit=50&offset=1750\n",
      "Found 50 new artists\n",
      "Total count of artists: 1800\n",
      "We are on page 36 with an offset of 1800\n",
      "Requesting https://api.spotify.com/v1/search?q=lil&type=artist&limit=50&offset=1800\n",
      "Found 50 new artists\n",
      "Total count of artists: 1850\n",
      "We are on page 37 with an offset of 1850\n",
      "Requesting https://api.spotify.com/v1/search?q=lil&type=artist&limit=50&offset=1850\n",
      "Found 50 new artists\n",
      "Total count of artists: 1900\n",
      "We are on page 38 with an offset of 1900\n",
      "Requesting https://api.spotify.com/v1/search?q=lil&type=artist&limit=50&offset=1900\n",
      "Found 50 new artists\n",
      "Total count of artists: 1950\n",
      "We are on page 39 with an offset of 1950\n",
      "Requesting https://api.spotify.com/v1/search?q=lil&type=artist&limit=50&offset=1950\n",
      "Found 50 new artists\n",
      "Total count of artists: 2000\n",
      "We are on page 40 with an offset of 2000\n",
      "Requesting https://api.spotify.com/v1/search?q=lil&type=artist&limit=50&offset=2000\n",
      "Found 50 new artists\n",
      "Total count of artists: 2050\n",
      "We are on page 41 with an offset of 2050\n",
      "Requesting https://api.spotify.com/v1/search?q=lil&type=artist&limit=50&offset=2050\n",
      "Found 50 new artists\n",
      "Total count of artists: 2100\n",
      "We are on page 42 with an offset of 2100\n",
      "Requesting https://api.spotify.com/v1/search?q=lil&type=artist&limit=50&offset=2100\n",
      "Found 50 new artists\n",
      "Total count of artists: 2150\n",
      "We are on page 43 with an offset of 2150\n",
      "Requesting https://api.spotify.com/v1/search?q=lil&type=artist&limit=50&offset=2150\n",
      "Found 50 new artists\n",
      "Total count of artists: 2200\n",
      "We are on page 44 with an offset of 2200\n",
      "Requesting https://api.spotify.com/v1/search?q=lil&type=artist&limit=50&offset=2200\n",
      "Found 50 new artists\n",
      "Total count of artists: 2250\n",
      "We are on page 45 with an offset of 2250\n",
      "Requesting https://api.spotify.com/v1/search?q=lil&type=artist&limit=50&offset=2250\n",
      "Found 50 new artists\n",
      "Total count of artists: 2300\n",
      "We are on page 46 with an offset of 2300\n",
      "Requesting https://api.spotify.com/v1/search?q=lil&type=artist&limit=50&offset=2300\n",
      "Found 50 new artists\n",
      "Total count of artists: 2350\n",
      "We are on page 47 with an offset of 2350\n",
      "Requesting https://api.spotify.com/v1/search?q=lil&type=artist&limit=50&offset=2350\n",
      "Found 50 new artists\n",
      "Total count of artists: 2400\n",
      "We are on page 48 with an offset of 2400\n",
      "Requesting https://api.spotify.com/v1/search?q=lil&type=artist&limit=50&offset=2400\n",
      "Found 50 new artists\n",
      "Total count of artists: 2450\n",
      "We are on page 49 with an offset of 2450\n",
      "Requesting https://api.spotify.com/v1/search?q=lil&type=artist&limit=50&offset=2450\n",
      "Found 50 new artists\n",
      "Total count of artists: 2500\n",
      "We are on page 50 with an offset of 2500\n",
      "Requesting https://api.spotify.com/v1/search?q=lil&type=artist&limit=50&offset=2500\n",
      "Found 50 new artists\n",
      "Total count of artists: 2550\n",
      "We are on page 51 with an offset of 2550\n",
      "Requesting https://api.spotify.com/v1/search?q=lil&type=artist&limit=50&offset=2550\n",
      "Found 50 new artists\n",
      "Total count of artists: 2600\n",
      "We are on page 52 with an offset of 2600\n",
      "Requesting https://api.spotify.com/v1/search?q=lil&type=artist&limit=50&offset=2600\n",
      "Found 50 new artists\n",
      "Total count of artists: 2650\n",
      "We are on page 53 with an offset of 2650\n",
      "Requesting https://api.spotify.com/v1/search?q=lil&type=artist&limit=50&offset=2650\n",
      "Found 50 new artists\n",
      "Total count of artists: 2700\n",
      "We are on page 54 with an offset of 2700\n",
      "Requesting https://api.spotify.com/v1/search?q=lil&type=artist&limit=50&offset=2700\n",
      "Found 50 new artists\n",
      "Total count of artists: 2750\n",
      "We are on page 55 with an offset of 2750\n",
      "Requesting https://api.spotify.com/v1/search?q=lil&type=artist&limit=50&offset=2750\n",
      "Found 50 new artists\n",
      "Total count of artists: 2800\n",
      "We are on page 56 with an offset of 2800\n",
      "Requesting https://api.spotify.com/v1/search?q=lil&type=artist&limit=50&offset=2800\n",
      "Found 50 new artists\n",
      "Total count of artists: 2850\n",
      "We are on page 57 with an offset of 2850\n",
      "Requesting https://api.spotify.com/v1/search?q=lil&type=artist&limit=50&offset=2850\n",
      "Found 50 new artists\n",
      "Total count of artists: 2900\n",
      "We are on page 58 with an offset of 2900\n",
      "Requesting https://api.spotify.com/v1/search?q=lil&type=artist&limit=50&offset=2900\n",
      "Found 50 new artists\n",
      "Total count of artists: 2950\n",
      "We are on page 59 with an offset of 2950\n",
      "Requesting https://api.spotify.com/v1/search?q=lil&type=artist&limit=50&offset=2950\n",
      "Found 50 new artists\n",
      "Total count of artists: 3000\n",
      "We are on page 60 with an offset of 3000\n",
      "Requesting https://api.spotify.com/v1/search?q=lil&type=artist&limit=50&offset=3000\n",
      "Found 50 new artists\n",
      "Total count of artists: 3050\n",
      "We are on page 61 with an offset of 3050\n",
      "Requesting https://api.spotify.com/v1/search?q=lil&type=artist&limit=50&offset=3050\n",
      "Found 50 new artists\n",
      "Total count of artists: 3100\n",
      "We are on page 62 with an offset of 3100\n",
      "Requesting https://api.spotify.com/v1/search?q=lil&type=artist&limit=50&offset=3100\n",
      "Found 50 new artists\n",
      "Total count of artists: 3150\n",
      "We are on page 63 with an offset of 3150\n",
      "Requesting https://api.spotify.com/v1/search?q=lil&type=artist&limit=50&offset=3150\n",
      "Found 50 new artists\n",
      "Total count of artists: 3200\n",
      "We are on page 64 with an offset of 3200\n",
      "Requesting https://api.spotify.com/v1/search?q=lil&type=artist&limit=50&offset=3200\n",
      "Found 50 new artists\n",
      "Total count of artists: 3250\n",
      "We are on page 65 with an offset of 3250\n",
      "Requesting https://api.spotify.com/v1/search?q=lil&type=artist&limit=50&offset=3250\n",
      "Found 50 new artists\n",
      "Total count of artists: 3300\n",
      "We are on page 66 with an offset of 3300\n",
      "Requesting https://api.spotify.com/v1/search?q=lil&type=artist&limit=50&offset=3300\n",
      "Found 50 new artists\n",
      "Total count of artists: 3350\n",
      "We are on page 67 with an offset of 3350\n",
      "Requesting https://api.spotify.com/v1/search?q=lil&type=artist&limit=50&offset=3350\n",
      "Found 50 new artists\n",
      "Total count of artists: 3400\n",
      "We are on page 68 with an offset of 3400\n",
      "Requesting https://api.spotify.com/v1/search?q=lil&type=artist&limit=50&offset=3400\n",
      "Found 50 new artists\n",
      "Total count of artists: 3450\n",
      "We are on page 69 with an offset of 3450\n",
      "Requesting https://api.spotify.com/v1/search?q=lil&type=artist&limit=50&offset=3450\n",
      "Found 50 new artists\n",
      "Total count of artists: 3500\n",
      "We are on page 70 with an offset of 3500\n",
      "Requesting https://api.spotify.com/v1/search?q=lil&type=artist&limit=50&offset=3500\n",
      "Found 50 new artists\n",
      "Total count of artists: 3550\n",
      "We are on page 71 with an offset of 3550\n",
      "Requesting https://api.spotify.com/v1/search?q=lil&type=artist&limit=50&offset=3550\n",
      "Found 50 new artists\n",
      "Total count of artists: 3600\n",
      "We are on page 72 with an offset of 3600\n",
      "Requesting https://api.spotify.com/v1/search?q=lil&type=artist&limit=50&offset=3600\n",
      "Found 50 new artists\n",
      "Total count of artists: 3650\n",
      "We are on page 73 with an offset of 3650\n",
      "Requesting https://api.spotify.com/v1/search?q=lil&type=artist&limit=50&offset=3650\n",
      "Found 50 new artists\n",
      "Total count of artists: 3700\n",
      "We are on page 74 with an offset of 3700\n",
      "Requesting https://api.spotify.com/v1/search?q=lil&type=artist&limit=50&offset=3700\n",
      "Found 50 new artists\n",
      "Total count of artists: 3750\n",
      "We are on page 75 with an offset of 3750\n",
      "Requesting https://api.spotify.com/v1/search?q=lil&type=artist&limit=50&offset=3750\n",
      "Found 50 new artists\n",
      "Total count of artists: 3800\n",
      "We are on page 76 with an offset of 3800\n",
      "Requesting https://api.spotify.com/v1/search?q=lil&type=artist&limit=50&offset=3800\n",
      "Found 50 new artists\n",
      "Total count of artists: 3850\n",
      "We are on page 77 with an offset of 3850\n",
      "Requesting https://api.spotify.com/v1/search?q=lil&type=artist&limit=50&offset=3850\n",
      "Found 50 new artists\n",
      "Total count of artists: 3900\n",
      "We are on page 78 with an offset of 3900\n",
      "Requesting https://api.spotify.com/v1/search?q=lil&type=artist&limit=50&offset=3900\n",
      "Found 50 new artists\n",
      "Total count of artists: 3950\n",
      "We are on page 79 with an offset of 3950\n",
      "Requesting https://api.spotify.com/v1/search?q=lil&type=artist&limit=50&offset=3950\n",
      "Found 50 new artists\n",
      "Total count of artists: 4000\n",
      "We are on page 80 with an offset of 4000\n",
      "Requesting https://api.spotify.com/v1/search?q=lil&type=artist&limit=50&offset=4000\n",
      "Found 50 new artists\n",
      "Total count of artists: 4050\n",
      "We are on page 81 with an offset of 4050\n",
      "Requesting https://api.spotify.com/v1/search?q=lil&type=artist&limit=50&offset=4050\n",
      "Found 50 new artists\n",
      "Total count of artists: 4100\n",
      "We are on page 82 with an offset of 4100\n",
      "Requesting https://api.spotify.com/v1/search?q=lil&type=artist&limit=50&offset=4100\n",
      "Found 50 new artists\n",
      "Total count of artists: 4150\n",
      "We are on page 83 with an offset of 4150\n",
      "Requesting https://api.spotify.com/v1/search?q=lil&type=artist&limit=50&offset=4150\n",
      "Found 50 new artists\n",
      "Total count of artists: 4200\n",
      "We are on page 84 with an offset of 4200\n",
      "Requesting https://api.spotify.com/v1/search?q=lil&type=artist&limit=50&offset=4200\n",
      "Found 50 new artists\n",
      "Total count of artists: 4250\n",
      "We are on page 85 with an offset of 4250\n",
      "Requesting https://api.spotify.com/v1/search?q=lil&type=artist&limit=50&offset=4250\n",
      "Found 50 new artists\n",
      "Total count of artists: 4300\n",
      "We are on page 86 with an offset of 4300\n",
      "Requesting https://api.spotify.com/v1/search?q=lil&type=artist&limit=50&offset=4300\n",
      "Found 50 new artists\n",
      "Total count of artists: 4350\n",
      "We are on page 87 with an offset of 4350\n",
      "Requesting https://api.spotify.com/v1/search?q=lil&type=artist&limit=50&offset=4350\n",
      "Found 50 new artists\n",
      "Total count of artists: 4400\n",
      "We are on page 88 with an offset of 4400\n",
      "Requesting https://api.spotify.com/v1/search?q=lil&type=artist&limit=50&offset=4400\n",
      "Found 50 new artists\n",
      "Total count of artists: 4450\n",
      "We are on page 89 with an offset of 4450\n",
      "Requesting https://api.spotify.com/v1/search?q=lil&type=artist&limit=50&offset=4450\n",
      "Found 50 new artists\n",
      "Total count of artists: 4500\n",
      "We are on page 90 with an offset of 4500\n",
      "Requesting https://api.spotify.com/v1/search?q=lil&type=artist&limit=50&offset=4500\n",
      "Found 10 new artists\n",
      "Total count of artists: 4510\n",
      "Successfully retrieved 4510 artists\n"
     ]
    }
   ],
   "source": [
    "# FIRST PAGE: artists 1-50, offset of 0\n",
    "# https://api.spotify.com/v1/search?q=lil&type=artist&limit=50\n",
    "# SECOND PAGE: artists 51-100, offset of 50\n",
    "# https://api.spotify.com/v1/search?q=lil&type=artist&limit=50&offset=50\n",
    "# THIRD PAGE: artists 101-150, offset of 100\n",
    "# https://api.spotify.com/v1/search?q=lil&type=artist&limit=50&offset=100\n",
    "# FOURTH PAGE: artists 151-200, offset of 150\n",
    "# https://api.spotify.com/v1/search?q=lil&type=artist&limit=50&offset=100\n",
    "# AGGREGATE\n",
    "all_artists = []\n",
    "for page in range(91):\n",
    "    offset = page * 50\n",
    "    print(\"We are on page\", page, \"with an offset of\", offset)\n",
    "    \n",
    "    # Make the request with a changed offset ?offset={offset}\n",
    "    url = \"https://api.spotify.com/v1/search?q=lil&type=artist&limit=50&offset=\" + str(offset)\n",
    "    print(\"Requesting\", url)\n",
    "    response = requests.get(url)\n",
    "    data = response.json()\n",
    "    # add our new artists to our list of existing artists\n",
    "    print(\"Found\", len(data['artists']['items']), \"new artists\")\n",
    "    all_artists = all_artists + data['artists']['items']\n",
    "    print(\"Total count of artists:\", len(all_artists))\n",
    "    \n",
    "print(\"Successfully retrieved\", len(all_artists), \"artists\")"
   ]
  },
  {
   "cell_type": "code",
   "execution_count": 29,
   "metadata": {
    "collapsed": false
   },
   "outputs": [
    {
     "data": {
      "text/plain": [
       "4510"
      ]
     },
     "execution_count": 29,
     "metadata": {},
     "output_type": "execute_result"
    }
   ],
   "source": [
    "len(all_artists)"
   ]
  },
  {
   "cell_type": "code",
   "execution_count": 30,
   "metadata": {
    "collapsed": false
   },
   "outputs": [
    {
     "data": {
      "text/plain": [
       "{'external_urls': {'spotify': 'https://open.spotify.com/artist/3Ksa6zUZSKL6InflXhMXOj'},\n",
       " 'followers': {'href': None, 'total': 4},\n",
       " 'genres': [],\n",
       " 'href': 'https://api.spotify.com/v1/artists/3Ksa6zUZSKL6InflXhMXOj',\n",
       " 'id': '3Ksa6zUZSKL6InflXhMXOj',\n",
       " 'images': [],\n",
       " 'name': \"Big Pokey featuring Lil' O\",\n",
       " 'popularity': 0,\n",
       " 'type': 'artist',\n",
       " 'uri': 'spotify:artist:3Ksa6zUZSKL6InflXhMXOj'}"
      ]
     },
     "execution_count": 30,
     "metadata": {},
     "output_type": "execute_result"
    }
   ],
   "source": [
    "all_artists[4200]"
   ]
  },
  {
   "cell_type": "code",
   "execution_count": null,
   "metadata": {
    "collapsed": true
   },
   "outputs": [],
   "source": []
  },
  {
   "cell_type": "code",
   "execution_count": null,
   "metadata": {
    "collapsed": true
   },
   "outputs": [],
   "source": []
  },
  {
   "cell_type": "code",
   "execution_count": null,
   "metadata": {
    "collapsed": true
   },
   "outputs": [],
   "source": []
  },
  {
   "cell_type": "code",
   "execution_count": null,
   "metadata": {
    "collapsed": true
   },
   "outputs": [],
   "source": []
  },
  {
   "cell_type": "code",
   "execution_count": null,
   "metadata": {
    "collapsed": true
   },
   "outputs": [],
   "source": []
  },
  {
   "cell_type": "code",
   "execution_count": 31,
   "metadata": {
    "collapsed": true
   },
   "outputs": [],
   "source": [
    "response = requests.get(\"http://earthquake.usgs.gov/earthquakes/feed/v1.0/summary/all_day.geojson\")\n",
    "data = response.json()"
   ]
  },
  {
   "cell_type": "code",
   "execution_count": 32,
   "metadata": {
    "collapsed": false
   },
   "outputs": [
    {
     "data": {
      "text/plain": [
       "dict"
      ]
     },
     "execution_count": 32,
     "metadata": {},
     "output_type": "execute_result"
    }
   ],
   "source": [
    "type(data)"
   ]
  },
  {
   "cell_type": "code",
   "execution_count": 33,
   "metadata": {
    "collapsed": false
   },
   "outputs": [
    {
     "data": {
      "text/plain": [
       "dict_keys(['metadata', 'features', 'type', 'bbox'])"
      ]
     },
     "execution_count": 33,
     "metadata": {},
     "output_type": "execute_result"
    }
   ],
   "source": [
    "data.keys()"
   ]
  },
  {
   "cell_type": "code",
   "execution_count": 34,
   "metadata": {
    "collapsed": false
   },
   "outputs": [
    {
     "data": {
      "text/plain": [
       "list"
      ]
     },
     "execution_count": 34,
     "metadata": {},
     "output_type": "execute_result"
    }
   ],
   "source": [
    "type(data['features'])"
   ]
  },
  {
   "cell_type": "code",
   "execution_count": 35,
   "metadata": {
    "collapsed": false
   },
   "outputs": [
    {
     "data": {
      "text/plain": [
       "220"
      ]
     },
     "execution_count": 35,
     "metadata": {},
     "output_type": "execute_result"
    }
   ],
   "source": [
    "# How many earthquakes in the past day?\n",
    "len(data['features'])"
   ]
  },
  {
   "cell_type": "code",
   "execution_count": 36,
   "metadata": {
    "collapsed": false
   },
   "outputs": [
    {
     "data": {
      "text/plain": [
       "{'geometry': {'coordinates': [-151.1098, 61.0462, 59.3], 'type': 'Point'},\n",
       " 'id': 'ak13637633',\n",
       " 'properties': {'alert': None,\n",
       "  'cdi': None,\n",
       "  'code': '13637633',\n",
       "  'detail': 'http://earthquake.usgs.gov/earthquakes/feed/v1.0/detail/ak13637633.geojson',\n",
       "  'dmin': None,\n",
       "  'felt': None,\n",
       "  'gap': None,\n",
       "  'ids': ',ak13637633,',\n",
       "  'mag': 1.6,\n",
       "  'magType': 'ml',\n",
       "  'mmi': None,\n",
       "  'net': 'ak',\n",
       "  'nst': None,\n",
       "  'place': '40km NNE of Nikiski, Alaska',\n",
       "  'rms': 0.67,\n",
       "  'sig': 39,\n",
       "  'sources': ',ak,',\n",
       "  'status': 'automatic',\n",
       "  'time': 1465497545000,\n",
       "  'title': 'M 1.6 - 40km NNE of Nikiski, Alaska',\n",
       "  'tsunami': 0,\n",
       "  'type': 'earthquake',\n",
       "  'types': ',general-link,geoserve,nearby-cities,origin,tectonic-summary,',\n",
       "  'tz': -480,\n",
       "  'updated': 1465498065240,\n",
       "  'url': 'http://earthquake.usgs.gov/earthquakes/eventpage/ak13637633'},\n",
       " 'type': 'Feature'}"
      ]
     },
     "execution_count": 36,
     "metadata": {},
     "output_type": "execute_result"
    }
   ],
   "source": [
    "# Taking a look at the first one\n",
    "data['features'][0]"
   ]
  },
  {
   "cell_type": "code",
   "execution_count": 37,
   "metadata": {
    "collapsed": false
   },
   "outputs": [
    {
     "data": {
      "text/plain": [
       "dict_keys(['properties', 'type', 'id', 'geometry'])"
      ]
     },
     "execution_count": 37,
     "metadata": {},
     "output_type": "execute_result"
    }
   ],
   "source": [
    "data['features'][0].keys()"
   ]
  },
  {
   "cell_type": "code",
   "execution_count": 38,
   "metadata": {
    "collapsed": false
   },
   "outputs": [
    {
     "data": {
      "text/plain": [
       "dict_keys(['rms', 'mmi', 'net', 'title', 'tz', 'detail', 'cdi', 'type', 'updated', 'url', 'gap', 'types', 'mag', 'alert', 'dmin', 'time', 'sig', 'nst', 'magType', 'place', 'status', 'tsunami', 'sources', 'ids', 'code', 'felt'])"
      ]
     },
     "execution_count": 38,
     "metadata": {},
     "output_type": "execute_result"
    }
   ],
   "source": [
    "data['features'][0]['properties'].keys()"
   ]
  },
  {
   "cell_type": "code",
   "execution_count": 39,
   "metadata": {
    "collapsed": false
   },
   "outputs": [
    {
     "data": {
      "text/plain": [
       "'40km NNE of Nikiski, Alaska'"
      ]
     },
     "execution_count": 39,
     "metadata": {},
     "output_type": "execute_result"
    }
   ],
   "source": [
    "data['features'][0]['properties']['place']"
   ]
  },
  {
   "cell_type": "code",
   "execution_count": 40,
   "metadata": {
    "collapsed": false
   },
   "outputs": [
    {
     "name": "stdout",
     "output_type": "stream",
     "text": [
      "40km NNE of Nikiski, Alaska\n",
      "3km W of Cobb, California\n",
      "8km ESE of Valle Vista, CA\n",
      "43km NE of Ensenada, B.C., MX\n",
      "68km ESE of Lakeview, Oregon\n",
      "9km WNW of Cobb, California\n",
      "9km W of Cobb, California\n",
      "8km S of Soldotna, Alaska\n",
      "9km NW of The Geysers, California\n",
      "12km S of Anza, CA\n",
      "18km ESE of Anza, CA\n",
      "56km SW of Redoubt Volcano, Alaska\n",
      "9km NW of The Geysers, California\n",
      "6km W of Middletown, California\n",
      "52km WNW of Willow, Alaska\n",
      "6km ENE of Pahala, Hawaii\n",
      "72km W of Willow, Alaska\n",
      "48km SSW of Manley Hot Springs, Alaska\n",
      "6km WSW of Anza, CA\n",
      "4km WNW of Cobb, California\n",
      "43km ENE of Talkeetna, Alaska\n",
      "43km ENE of Talkeetna, Alaska\n",
      "69km WSW of Anchor Point, Alaska\n",
      "141km W of Cantwell, Alaska\n",
      "56km ENE of Cantwell, Alaska\n",
      "18km ESE of Anza, CA\n",
      "10km ESE of Mammoth Lakes, California\n",
      "107km S of Tok, Alaska\n",
      "97km NNE of Chignik Lake, Alaska\n",
      "59km SW of Salcha, Alaska\n",
      "61km NW of Cape Yakataga, Alaska\n",
      "48km ENE of Cantwell, Alaska\n",
      "32km WNW of Olancha, CA\n",
      "12km SW of Alamo, Nevada\n",
      "21km SSE of Three Rivers, CA\n",
      "95km NNE of Chignik Lake, Alaska\n",
      "218km ENE of Neiafu, Tonga\n",
      "14km SSW of Tehachapi, CA\n",
      "5km W of Cobb, California\n",
      "37km NW of Valdez, Alaska\n",
      "10km ENE of Mammoth Lakes, California\n",
      "52km N of Valdez, Alaska\n",
      "6km W of Cobb, California\n",
      "21km NNW of North Nenana, Alaska\n",
      "10km ENE of Mammoth Lakes, California\n",
      "70km W of Anchor Point, Alaska\n",
      "1km NNW of The Geysers, California\n",
      "6km WSW of Alamo, Nevada\n",
      "27km SSE of Volcano, Hawaii\n",
      "10km SW of Morongo Valley, CA\n",
      "16km WNW of Johannesburg, CA\n",
      "48km NNE of Luquillo, Puerto Rico\n",
      "13km NNE of Truckee, California\n",
      "10km W of Alamo, Nevada\n",
      "6km NW of The Geysers, California\n",
      "17km ENE of Kalaoa, Hawaii\n",
      "1km NNW of Universal City, CA\n",
      "6km SE of Yorba Linda, CA\n",
      "48km ENE of Y, Alaska\n",
      "36km E of Deltana, Alaska\n",
      "7km SSE of Anchor Point, Alaska\n",
      "26km SSE of Medford, Oklahoma\n",
      "44km W of Anchor Point, Alaska\n",
      "18km SSE of Arvin, CA\n",
      "72km N of Larsen Bay, Alaska\n",
      "4km WNW of The Geysers, California\n",
      "102km W of Willow, Alaska\n",
      "6km ENE of Hennessey, Oklahoma\n",
      "35km ENE of Currant, Nevada\n",
      "30km E of Coso Junction, CA\n",
      "23km SSE of Hawthorne, Nevada\n",
      "3km NE of Ridgely, Tennessee\n",
      "65km ESE of Lakeview, Oregon\n",
      "97km WSW of Cantwell, Alaska\n",
      "64km WSW of Cantwell, Alaska\n",
      "14km WNW of Stagecoach, Nevada\n",
      "23km SSE of Hawthorne, Nevada\n",
      "6km WSW of Alamo, Nevada\n",
      "4km WSW of Volcano, Hawaii\n",
      "30km SE of Redoubt Volcano, Alaska\n",
      "123km SE of Old Iliamna, Alaska\n",
      "67km WNW of Valdez, Alaska\n",
      "3km WSW of Tahoe Vista, California\n",
      "12km NW of Alamo, Nevada\n",
      "12km NE of Little Lake, CA\n",
      "12km NNW of Virginia City, Nevada\n",
      "29km ESE of Redoubt Volcano, Alaska\n",
      "35km WSW of Kiska Volcano, Alaska\n",
      "3km WSW of Cobb, California\n",
      "14km NE of Coachella, CA\n",
      "6km ESE of Cabazon, CA\n",
      "3km SW of Anza, CA\n",
      "61km W of Anchor Point, Alaska\n",
      "14km WNW of Anza, CA\n",
      "32km NW of Fairview, Oklahoma\n",
      "53km W of West Yellowstone, Montana\n",
      "37km NNE of Amboy, Washington\n",
      "29km E of King City, California\n",
      "3km WSW of San Bernardino, CA\n",
      "17km NNE of Anchorage, Alaska\n",
      "98km SSW of Bogorawatu, Indonesia\n",
      "8km NW of The Geysers, California\n",
      "6km NW of The Geysers, California\n",
      "52km W of West Yellowstone, Montana\n",
      "6km W of Cobb, California\n",
      "99km SSW of Bogorawatu, Indonesia\n",
      "10km E of Mammoth Lakes, California\n",
      "66km E of Old Iliamna, Alaska\n",
      "9km ESE of Mammoth Lakes, California\n",
      "5km WNW of Desert Hot Springs, CA\n",
      "9km ESE of Mammoth Lakes, California\n",
      "13km NE of Coso Junction, CA\n",
      "6km WNW of The Geysers, California\n",
      "6km WNW of The Geysers, California\n",
      "9km NW of The Geysers, California\n",
      "11km WSW of Garnet, CA\n",
      "52km NNE of Road Town, British Virgin Islands\n",
      "8km SSW of Morongo Valley, CA\n",
      "34km N of Pahrump, Nevada\n",
      "63km E of Cape Yakataga, Alaska\n",
      "10km WSW of Bridgeport, Washington\n",
      "206km ESE of Hachijo-jima, Japan\n",
      "3km S of Cobb, California\n",
      "10km ESE of Cloverdale, California\n",
      "80km WSW of Anchor Point, Alaska\n",
      "37km N of Sutton-Alpine, Alaska\n",
      "73km SW of Anchor Point, Alaska\n",
      "81km SE of New Allakaket, Alaska\n",
      "33km SSW of Caliente, Nevada\n",
      "43km ENE of Y, Alaska\n",
      "South of the Fiji Islands\n",
      "7km E of Alum Rock, California\n",
      "120km W of Cantwell, Alaska\n",
      "16km N of Borrego Springs, CA\n",
      "24km E of Pine Valley, CA\n",
      "133km SE of Akutan, Alaska\n",
      "53km W of West Yellowstone, Montana\n",
      "284km S of Kute, Indonesia\n",
      "26km SSW of Ocotillo Wells, CA\n",
      "12km SSE of Manila, Arkansas\n",
      "67km SSW of Homer, Alaska\n",
      "22km WNW of Inyokern, CA\n",
      "76km S of Tok, Alaska\n",
      "52km W of West Yellowstone, Montana\n",
      "57km W of West Yellowstone, Montana\n",
      "52km W of West Yellowstone, Montana\n",
      "3km W of Cobb, California\n",
      "0km NNE of The Geysers, California\n",
      "9km WNW of The Geysers, California\n",
      "7km WNW of Cobb, California\n",
      "98km NE of Manley Hot Springs, Alaska\n",
      "78km SW of Homer, Alaska\n",
      "56km SSW of Tawun, Indonesia\n",
      "12km ENE of Cloverdale, California\n",
      "38km W of Willow, Alaska\n",
      "22km WNW of Inyokern, CA\n",
      "4km S of Turija, Serbia\n",
      "59km ENE of Cape Yakataga, Alaska\n",
      "59km ENE of Cape Yakataga, Alaska\n",
      "96km NNE of Chignik Lake, Alaska\n",
      "11km NNW of Anza, CA\n",
      "13km SSW of Fairbanks, Alaska\n",
      "30km WSW of Four Corners, Montana\n",
      "25km SSE of Mammoth Lakes, California\n",
      "6km NW of The Geysers, California\n",
      "10km E of Borrego Springs, CA\n",
      "3km SW of Volcano, Hawaii\n",
      "48km ESE of Whittier, Alaska\n",
      "16km N of Borrego Springs, CA\n",
      "8km SW of Idyllwild, CA\n",
      "86km SSE of King Salmon, Alaska\n",
      "1km NNE of Loma Linda, CA\n",
      "11km ESE of Anza, CA\n",
      "5km SSW of Gilroy, California\n",
      "8km NNW of Arecibo, Puerto Rico\n",
      "23km SSE of Mammoth Lakes, California\n",
      "13km NE of Cantwell, Alaska\n",
      "47km NE of Holtville, CA\n",
      "109km NE of Chignik Lake, Alaska\n",
      "59km ENE of Cape Yakataga, Alaska\n",
      "20km NE of Fairbanks, Alaska\n",
      "9km SW of Alamo, Nevada\n",
      "62km ENE of Cape Yakataga, Alaska\n",
      "8km SW of Y, Alaska\n",
      "7km WSW of Paso Robles, California\n",
      "91km SE of Old Iliamna, Alaska\n",
      "15km SE of Mammoth Lakes, California\n",
      "16km W of Ocotillo, CA\n",
      "23km W of Volcano, Hawaii\n",
      "30km WNW of Nikiski, Alaska\n",
      "5km SSW of Gilroy, California\n",
      "6km SSW of Princeton, Canada\n",
      "11km E of Quarry near Portola Valley, CA\n",
      "109km NW of Talkeetna, Alaska\n",
      "10km SSW of New Madrid, Missouri\n",
      "17km WNW of Alamo, Nevada\n",
      "10km WSW of Smith Valley, Nevada\n",
      "63km ENE of Cape Yakataga, Alaska\n",
      "4km NW of The Geysers, California\n",
      "22km SSE of Manley Hot Springs, Alaska\n",
      "5km SE of The Geysers, California\n",
      "92km WSW of Healy, Alaska\n",
      "65km NNW of Barranca, Peru\n",
      "4km NW of Greenville, California\n",
      "8km N of Haiku-Pauwela, Hawaii\n",
      "5km NW of The Geysers, California\n",
      "7km N of Levittown, Puerto Rico\n",
      "17km NE of Borrego Springs, CA\n",
      "111km NW of Talkeetna, Alaska\n",
      "13km N of Dillon, Montana\n",
      "23km NW of Virginia City, Montana\n",
      "16km ESE of Enumclaw, Washington\n",
      "3km SE of Ainaloa, Hawaii\n",
      "7km SSE of Home Gardens, CA\n",
      "108km NW of Talkeetna, Alaska\n",
      "20km SE of Mammoth Lakes, California\n",
      "17km SE of Bodfish, CA\n",
      "16km ESE of Anza, CA\n",
      "70km W of Coquimbo, Chile\n",
      "35km ESE of Sutton-Alpine, Alaska\n"
     ]
    }
   ],
   "source": [
    "for earthquake in data['features']:\n",
    "    print(earthquake['properties']['place'])"
   ]
  },
  {
   "cell_type": "code",
   "execution_count": 41,
   "metadata": {
    "collapsed": false
   },
   "outputs": [
    {
     "data": {
      "text/plain": [
       "[('California', 90), ('Alaska', 71), ('Nevada', 15)]"
      ]
     },
     "execution_count": 41,
     "metadata": {},
     "output_type": "execute_result"
    }
   ],
   "source": [
    "states = []\n",
    "for earthquake in data['features']:\n",
    "    place = earthquake['properties']['place']\n",
    "    # Split on comma space, otherwise we have\n",
    "    # extra whitespace (a.k.a. spaces)\n",
    "    edited_place = place.replace(\" CA\", \" California\")\n",
    "    results = edited_place.split(\", \")\n",
    "    #print(results)\n",
    "    # Make sure it has two segments\n",
    "    if len(results) > 1:\n",
    "        state_name = results[1]\n",
    "        #if state_name == \"CA\":\n",
    "        #    states.append(\"California\")\n",
    "        #else:\n",
    "        #    states.append(state_name)\n",
    "        states.append(state_name)\n",
    "        #print(results[1])\n",
    "#    states.append(place)\n",
    "    #print(earthquake['properties']['place'])\n",
    "states\n",
    "from collections import Counter\n",
    "counts = Counter(states)\n",
    "counts.most_common(3)"
   ]
  },
  {
   "cell_type": "code",
   "execution_count": null,
   "metadata": {
    "collapsed": false
   },
   "outputs": [],
   "source": []
  },
  {
   "cell_type": "code",
   "execution_count": null,
   "metadata": {
    "collapsed": true
   },
   "outputs": [],
   "source": []
  }
 ],
 "metadata": {
  "kernelspec": {
   "display_name": "Python 3",
   "language": "python",
   "name": "python3"
  },
  "language_info": {
   "codemirror_mode": {
    "name": "ipython",
    "version": 3
   },
   "file_extension": ".py",
   "mimetype": "text/x-python",
   "name": "python",
   "nbconvert_exporter": "python",
   "pygments_lexer": "ipython3",
   "version": "3.5.1"
  }
 },
 "nbformat": 4,
 "nbformat_minor": 0
}
