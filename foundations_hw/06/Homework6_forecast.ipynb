{
 "cells": [
  {
   "cell_type": "markdown",
   "metadata": {},
   "source": [
    "# 1) Make a request from the Forecast.io API for where you were born (or lived, or want to visit!).\n",
    "\n",
    "Tip: Once you've imported the JSON into a variable, check the timezone's name to make sure it seems like it got the right part of the world!\n",
    "Tip 2: How is north vs. south and east vs. west latitude/longitude represented? Is it the normal North/South/East/West?"
   ]
  },
  {
   "cell_type": "code",
   "execution_count": 7,
   "metadata": {
    "collapsed": false
   },
   "outputs": [
    {
     "ename": "SyntaxError",
     "evalue": "invalid syntax (<ipython-input-7-f3a60b769640>, line 3)",
     "output_type": "error",
     "traceback": [
      "\u001b[0;36m  File \u001b[0;32m\"<ipython-input-7-f3a60b769640>\"\u001b[0;36m, line \u001b[0;32m3\u001b[0m\n\u001b[0;31m    https://api.forecast.io/forecast/c9d64e80aa02ca113562a075e57256d7/10.4806,66.9036\u001b[0m\n\u001b[0m         ^\u001b[0m\n\u001b[0;31mSyntaxError\u001b[0m\u001b[0;31m:\u001b[0m invalid syntax\n"
     ]
    }
   ],
   "source": [
    "#api KEY =  c9d64e80aa02ca113562a075e57256d7\n",
    "\n",
    "https://api.forecast.io/forecast/c9d64e80aa02ca113562a075e57256d7/10.4806,66.9036"
   ]
  },
  {
   "cell_type": "code",
   "execution_count": 8,
   "metadata": {
    "collapsed": false
   },
   "outputs": [
    {
     "name": "stdout",
     "output_type": "stream",
     "text": [
      "dict_keys(['hourly', 'currently', 'timezone', 'offset', 'daily', 'longitude', 'flags', 'latitude'])\n"
     ]
    }
   ],
   "source": [
    "import requests\n",
    "response = requests.get(\"https://api.forecast.io/forecast/c9d64e80aa02ca113562a075e57256d7/10.4806,66.9036\")\n",
    "forecast = response.json()\n",
    "print(forecast.keys())"
   ]
  },
  {
   "cell_type": "code",
   "execution_count": 9,
   "metadata": {
    "collapsed": false
   },
   "outputs": [
    {
     "name": "stdout",
     "output_type": "stream",
     "text": [
      "Etc/GMT-4\n"
     ]
    }
   ],
   "source": [
    "print(forecast['timezone']) #yeap, this is my country's timezone"
   ]
  },
  {
   "cell_type": "code",
   "execution_count": 10,
   "metadata": {
    "collapsed": false
   },
   "outputs": [
    {
     "name": "stdout",
     "output_type": "stream",
     "text": [
      "10.4806 66.9036\n"
     ]
    }
   ],
   "source": [
    "print(forecast['latitude'],forecast['longitude'] ) #nothing different with the latitude and longitude"
   ]
  },
  {
   "cell_type": "markdown",
   "metadata": {},
   "source": [
    "# 2) What's the current wind speed? How much warmer does it feel than it actually is?\n"
   ]
  },
  {
   "cell_type": "code",
   "execution_count": 11,
   "metadata": {
    "collapsed": false
   },
   "outputs": [
    {
     "name": "stdout",
     "output_type": "stream",
     "text": [
      "{'icon': 'partly-cloudy-night', 'temperature': 84.14, 'pressure': 1010.95, 'cloudCover': 0.49, 'precipProbability': 0.04, 'apparentTemperature': 93.22, 'dewPoint': 76.13, 'windBearing': 264, 'time': 1465675341, 'precipType': 'rain', 'humidity': 0.77, 'precipIntensity': 0.0017, 'summary': 'Partly Cloudy', 'windSpeed': 17.15, 'ozone': 268.97}\n"
     ]
    }
   ],
   "source": [
    "print(forecast['currently'])"
   ]
  },
  {
   "cell_type": "code",
   "execution_count": 12,
   "metadata": {
    "collapsed": false
   },
   "outputs": [
    {
     "name": "stdout",
     "output_type": "stream",
     "text": [
      "The actual current wind speed is 17.15 miles per hour\n"
     ]
    }
   ],
   "source": [
    "print(\"The actual current wind speed is\", forecast['currently']['windSpeed'], \"miles per hour\")"
   ]
  },
  {
   "cell_type": "code",
   "execution_count": 13,
   "metadata": {
    "collapsed": false
   },
   "outputs": [
    {
     "name": "stdout",
     "output_type": "stream",
     "text": [
      "Right know in Caracas the temperature feels like 93.22\n"
     ]
    }
   ],
   "source": [
    "print(\"Right know in Caracas the temperature feels like\",forecast['currently']['apparentTemperature'])"
   ]
  },
  {
   "cell_type": "code",
   "execution_count": 14,
   "metadata": {
    "collapsed": false
   },
   "outputs": [
    {
     "name": "stdout",
     "output_type": "stream",
     "text": [
      "Right know in Caracas the temperature is 84.14\n"
     ]
    }
   ],
   "source": [
    "print(\"Right know in Caracas the temperature is\",forecast['currently']['temperature'])"
   ]
  },
  {
   "cell_type": "code",
   "execution_count": 15,
   "metadata": {
    "collapsed": false
   },
   "outputs": [
    {
     "name": "stdout",
     "output_type": "stream",
     "text": [
      "It feels 9.079999999999998 degrees warmer than the actual temperature\n"
     ]
    }
   ],
   "source": [
    "print(\"It feels\", forecast['currently']['apparentTemperature']-forecast['currently']['temperature'], \"degrees warmer than the actual temperature\")"
   ]
  },
  {
   "cell_type": "markdown",
   "metadata": {},
   "source": [
    "# 3) The first daily forecast is the forecast for today. For the place you decided on up above, how much of the moon is currently visible?"
   ]
  },
  {
   "cell_type": "code",
   "execution_count": 16,
   "metadata": {
    "collapsed": false
   },
   "outputs": [
    {
     "name": "stdout",
     "output_type": "stream",
     "text": [
      "dict_keys(['summary', 'data', 'icon'])\n"
     ]
    }
   ],
   "source": [
    "print(forecast['daily'].keys())"
   ]
  },
  {
   "cell_type": "code",
   "execution_count": 17,
   "metadata": {
    "collapsed": false
   },
   "outputs": [
    {
     "data": {
      "text/plain": [
       "[{'apparentTemperatureMax': 103.01,\n",
       "  'apparentTemperatureMaxTime': 1465740000,\n",
       "  'apparentTemperatureMin': 92.96,\n",
       "  'apparentTemperatureMinTime': 1465686000,\n",
       "  'cloudCover': 0.44,\n",
       "  'dewPoint': 77.05,\n",
       "  'humidity': 0.77,\n",
       "  'icon': 'partly-cloudy-day',\n",
       "  'moonPhase': 0.25,\n",
       "  'ozone': 266.57,\n",
       "  'precipIntensity': 0.0016,\n",
       "  'precipIntensityMax': 0.0021,\n",
       "  'precipIntensityMaxTime': 1465700400,\n",
       "  'precipProbability': 0.05,\n",
       "  'precipType': 'rain',\n",
       "  'pressure': 1011.26,\n",
       "  'summary': 'Partly cloudy throughout the day.',\n",
       "  'sunriseTime': 1465693907,\n",
       "  'sunsetTime': 1465739730,\n",
       "  'temperatureMax': 87.49,\n",
       "  'temperatureMaxTime': 1465740000,\n",
       "  'temperatureMin': 84.03,\n",
       "  'temperatureMinTime': 1465686000,\n",
       "  'time': 1465675200,\n",
       "  'windBearing': 262,\n",
       "  'windSpeed': 17.27},\n",
       " {'apparentTemperatureMax': 106.37,\n",
       "  'apparentTemperatureMaxTime': 1465812000,\n",
       "  'apparentTemperatureMin': 90.74,\n",
       "  'apparentTemperatureMinTime': 1465776000,\n",
       "  'cloudCover': 0.77,\n",
       "  'dewPoint': 77.33,\n",
       "  'humidity': 0.76,\n",
       "  'icon': 'partly-cloudy-day',\n",
       "  'moonPhase': 0.28,\n",
       "  'ozone': 261.54,\n",
       "  'precipIntensity': 0.0015,\n",
       "  'precipIntensityMax': 0.0041,\n",
       "  'precipIntensityMaxTime': 1465786800,\n",
       "  'precipProbability': 0.15,\n",
       "  'precipType': 'rain',\n",
       "  'pressure': 1011.56,\n",
       "  'summary': 'Mostly cloudy throughout the day.',\n",
       "  'sunriseTime': 1465780316,\n",
       "  'sunsetTime': 1465826145,\n",
       "  'temperatureMax': 88.87,\n",
       "  'temperatureMaxTime': 1465812000,\n",
       "  'temperatureMin': 83.2,\n",
       "  'temperatureMinTime': 1465776000,\n",
       "  'time': 1465761600,\n",
       "  'windBearing': 258,\n",
       "  'windSpeed': 18.31},\n",
       " {'apparentTemperatureMax': 104.49,\n",
       "  'apparentTemperatureMaxTime': 1465905600,\n",
       "  'apparentTemperatureMin': 92.08,\n",
       "  'apparentTemperatureMinTime': 1465930800,\n",
       "  'cloudCover': 0.93,\n",
       "  'dewPoint': 76.67,\n",
       "  'humidity': 0.75,\n",
       "  'icon': 'rain',\n",
       "  'moonPhase': 0.31,\n",
       "  'ozone': 261.63,\n",
       "  'precipIntensity': 0.0017,\n",
       "  'precipIntensityMax': 0.0048,\n",
       "  'precipIntensityMaxTime': 1465930800,\n",
       "  'precipProbability': 0.19,\n",
       "  'precipType': 'rain',\n",
       "  'pressure': 1011.21,\n",
       "  'summary': 'Light rain overnight.',\n",
       "  'sunriseTime': 1465866725,\n",
       "  'sunsetTime': 1465912560,\n",
       "  'temperatureMax': 88.48,\n",
       "  'temperatureMaxTime': 1465905600,\n",
       "  'temperatureMin': 83.7,\n",
       "  'temperatureMinTime': 1465930800,\n",
       "  'time': 1465848000,\n",
       "  'windBearing': 259,\n",
       "  'windSpeed': 19.59},\n",
       " {'apparentTemperatureMax': 99.58,\n",
       "  'apparentTemperatureMaxTime': 1465952400,\n",
       "  'apparentTemperatureMin': 90.07,\n",
       "  'apparentTemperatureMinTime': 1465938000,\n",
       "  'cloudCover': 0.98,\n",
       "  'dewPoint': 76.07,\n",
       "  'humidity': 0.76,\n",
       "  'icon': 'rain',\n",
       "  'moonPhase': 0.34,\n",
       "  'ozone': 260.58,\n",
       "  'precipIntensity': 0.0043,\n",
       "  'precipIntensityMax': 0.0099,\n",
       "  'precipIntensityMaxTime': 1465941600,\n",
       "  'precipProbability': 0.46,\n",
       "  'precipType': 'rain',\n",
       "  'pressure': 1010.03,\n",
       "  'summary': 'Drizzle in the morning.',\n",
       "  'sunriseTime': 1465953134,\n",
       "  'sunsetTime': 1465998974,\n",
       "  'temperatureMax': 86.78,\n",
       "  'temperatureMaxTime': 1465952400,\n",
       "  'temperatureMin': 82.91,\n",
       "  'temperatureMinTime': 1465938000,\n",
       "  'time': 1465934400,\n",
       "  'windBearing': 259,\n",
       "  'windSpeed': 21.51},\n",
       " {'apparentTemperatureMax': 96.8,\n",
       "  'apparentTemperatureMaxTime': 1466078400,\n",
       "  'apparentTemperatureMin': 90.43,\n",
       "  'apparentTemperatureMinTime': 1466024400,\n",
       "  'cloudCover': 0.9,\n",
       "  'dewPoint': 75.91,\n",
       "  'humidity': 0.76,\n",
       "  'icon': 'rain',\n",
       "  'moonPhase': 0.37,\n",
       "  'ozone': 262.38,\n",
       "  'precipIntensity': 0.0106,\n",
       "  'precipIntensityMax': 0.0284,\n",
       "  'precipIntensityMaxTime': 1466100000,\n",
       "  'precipProbability': 0.58,\n",
       "  'precipType': 'rain',\n",
       "  'pressure': 1008.08,\n",
       "  'summary': 'Light rain in the morning and afternoon.',\n",
       "  'sunriseTime': 1466039544,\n",
       "  'sunsetTime': 1466085388,\n",
       "  'temperatureMax': 85.61,\n",
       "  'temperatureMaxTime': 1466078400,\n",
       "  'temperatureMin': 83.07,\n",
       "  'temperatureMinTime': 1466024400,\n",
       "  'time': 1466020800,\n",
       "  'windBearing': 260,\n",
       "  'windSpeed': 21.98},\n",
       " {'apparentTemperatureMax': 94.73,\n",
       "  'apparentTemperatureMaxTime': 1466143200,\n",
       "  'apparentTemperatureMin': 89.72,\n",
       "  'apparentTemperatureMinTime': 1466164800,\n",
       "  'cloudCover': 0.93,\n",
       "  'dewPoint': 74.92,\n",
       "  'humidity': 0.75,\n",
       "  'icon': 'rain',\n",
       "  'moonPhase': 0.4,\n",
       "  'ozone': 262.3,\n",
       "  'precipIntensity': 0.0265,\n",
       "  'precipIntensityMax': 0.0553,\n",
       "  'precipIntensityMaxTime': 1466168400,\n",
       "  'precipProbability': 0.65,\n",
       "  'precipType': 'rain',\n",
       "  'pressure': 1007.66,\n",
       "  'summary': 'Rain throughout the day.',\n",
       "  'sunriseTime': 1466125955,\n",
       "  'sunsetTime': 1466171802,\n",
       "  'temperatureMax': 84.84,\n",
       "  'temperatureMaxTime': 1466143200,\n",
       "  'temperatureMin': 82.84,\n",
       "  'temperatureMinTime': 1466161200,\n",
       "  'time': 1466107200,\n",
       "  'windBearing': 268,\n",
       "  'windSpeed': 22.74},\n",
       " {'apparentTemperatureMax': 93.41,\n",
       "  'apparentTemperatureMaxTime': 1466254800,\n",
       "  'apparentTemperatureMin': 88.67,\n",
       "  'apparentTemperatureMinTime': 1466197200,\n",
       "  'cloudCover': 0.9,\n",
       "  'dewPoint': 74.64,\n",
       "  'humidity': 0.75,\n",
       "  'icon': 'rain',\n",
       "  'moonPhase': 0.43,\n",
       "  'ozone': 256.41,\n",
       "  'precipIntensity': 0.0347,\n",
       "  'precipIntensityMax': 0.0675,\n",
       "  'precipIntensityMaxTime': 1466197200,\n",
       "  'precipProbability': 0.68,\n",
       "  'precipType': 'rain',\n",
       "  'pressure': 1008.53,\n",
       "  'summary': 'Light rain throughout the day.',\n",
       "  'sunriseTime': 1466212366,\n",
       "  'sunsetTime': 1466258216,\n",
       "  'temperatureMax': 84.28,\n",
       "  'temperatureMaxTime': 1466254800,\n",
       "  'temperatureMin': 82.53,\n",
       "  'temperatureMinTime': 1466240400,\n",
       "  'time': 1466193600,\n",
       "  'windBearing': 262,\n",
       "  'windSpeed': 23.48},\n",
       " {'apparentTemperatureMax': 92.85,\n",
       "  'apparentTemperatureMaxTime': 1466337600,\n",
       "  'apparentTemperatureMin': 86.76,\n",
       "  'apparentTemperatureMinTime': 1466362800,\n",
       "  'cloudCover': 0.98,\n",
       "  'dewPoint': 74.94,\n",
       "  'humidity': 0.77,\n",
       "  'icon': 'rain',\n",
       "  'moonPhase': 0.46,\n",
       "  'ozone': 257.16,\n",
       "  'precipIntensity': 0.0318,\n",
       "  'precipIntensityMax': 0.0471,\n",
       "  'precipIntensityMaxTime': 1466319600,\n",
       "  'precipProbability': 0.64,\n",
       "  'precipType': 'rain',\n",
       "  'pressure': 1007.96,\n",
       "  'summary': 'Rain throughout the day.',\n",
       "  'sunriseTime': 1466298777,\n",
       "  'sunsetTime': 1466344629,\n",
       "  'temperatureMax': 84.01,\n",
       "  'temperatureMaxTime': 1466337600,\n",
       "  'temperatureMin': 81.49,\n",
       "  'temperatureMinTime': 1466362800,\n",
       "  'time': 1466280000,\n",
       "  'windBearing': 258,\n",
       "  'windSpeed': 24.6}]"
      ]
     },
     "execution_count": 17,
     "metadata": {},
     "output_type": "execute_result"
    }
   ],
   "source": [
    "forecast['daily']['data']"
   ]
  },
  {
   "cell_type": "code",
   "execution_count": 18,
   "metadata": {
    "collapsed": false
   },
   "outputs": [
    {
     "name": "stdout",
     "output_type": "stream",
     "text": [
      "<class 'list'>\n",
      "{'icon': 'partly-cloudy-day', 'dewPoint': 77.05, 'apparentTemperatureMaxTime': 1465740000, 'cloudCover': 0.44, 'apparentTemperatureMax': 103.01, 'windBearing': 262, 'ozone': 266.57, 'temperatureMin': 84.03, 'precipIntensityMax': 0.0021, 'precipIntensity': 0.0016, 'summary': 'Partly cloudy throughout the day.', 'sunsetTime': 1465739730, 'windSpeed': 17.27, 'temperatureMinTime': 1465686000, 'apparentTemperatureMin': 92.96, 'pressure': 1011.26, 'apparentTemperatureMinTime': 1465686000, 'temperatureMax': 87.49, 'precipProbability': 0.05, 'time': 1465675200, 'precipType': 'rain', 'temperatureMaxTime': 1465740000, 'sunriseTime': 1465693907, 'humidity': 0.77, 'moonPhase': 0.25, 'precipIntensityMaxTime': 1465700400}\n"
     ]
    }
   ],
   "source": [
    "print(type(forecast['daily']['data']))\n",
    "print(forecast['daily']['data'][0])\n"
   ]
  },
  {
   "cell_type": "code",
   "execution_count": 19,
   "metadata": {
    "collapsed": false
   },
   "outputs": [],
   "source": [
    "first_daily_forecast = forecast['daily']['data']"
   ]
  },
  {
   "cell_type": "code",
   "execution_count": 26,
   "metadata": {
    "collapsed": false
   },
   "outputs": [
    {
     "name": "stdout",
     "output_type": "stream",
     "text": [
      "In the first daily forecast 0.25 of the moon is currently visible\n"
     ]
    }
   ],
   "source": [
    "for item in first_daily_forecast[:1]: \n",
    "    print(\"In the first daily forecast\", item['moonPhase'], \"of the moon is currently visible\")"
   ]
  },
  {
   "cell_type": "markdown",
   "metadata": {},
   "source": [
    "# 4) What's the difference between the high and low temperatures for today?"
   ]
  },
  {
   "cell_type": "code",
   "execution_count": 21,
   "metadata": {
    "collapsed": false
   },
   "outputs": [
    {
     "name": "stdout",
     "output_type": "stream",
     "text": [
      "The min temperature for the day is: 84.03 degrees Fahrenheit\n",
      "The max temperature for the day is: 87.49 degrees Fahrenheit\n",
      "The difference between min and max temperatures is of 3.4599999999999937 degrees Fahrenheit\n"
     ]
    }
   ],
   "source": [
    "for item in first_daily_forecast[:1]:\n",
    "    print(\"The min temperature for the day is:\", item['temperatureMin'], \"degrees Fahrenheit\")\n",
    "    print(\"The max temperature for the day is:\", item['temperatureMax'], \"degrees Fahrenheit\")\n",
    "    print(\"The difference between min and max temperatures is of\", item['temperatureMax']-item['temperatureMin'],\"degrees Fahrenheit\" )"
   ]
  },
  {
   "cell_type": "markdown",
   "metadata": {},
   "source": [
    "# 5) Loop through the daily forecast, printing out the next week's worth of predictions. I'd like to know the high temperature for each day, and whether it's hot, warm, or cold, based on what temperatures you think are hot, warm or cold.\n"
   ]
  },
  {
   "cell_type": "code",
   "execution_count": 22,
   "metadata": {
    "collapsed": false
   },
   "outputs": [
    {
     "name": "stdout",
     "output_type": "stream",
     "text": [
      "The high temperature for today is 87.49 degrees Farenheit\n",
      "It is going to be HOT!\n",
      "The high temperature for today is 88.87 degrees Farenheit\n",
      "It is going to be HOT!\n",
      "The high temperature for today is 88.48 degrees Farenheit\n",
      "It is going to be HOT!\n",
      "The high temperature for today is 86.78 degrees Farenheit\n",
      "It is going to be HOT!\n",
      "The high temperature for today is 85.61 degrees Farenheit\n",
      "It is going to be HOT!\n",
      "The high temperature for today is 84.84 degrees Farenheit\n",
      "It is going to be HOT!\n",
      "The high temperature for today is 84.28 degrees Farenheit\n",
      "It is going to be HOT!\n",
      "The high temperature for today is 84.01 degrees Farenheit\n",
      "It is going to be HOT!\n"
     ]
    }
   ],
   "source": [
    "for item in first_daily_forecast:\n",
    "    if item['temperatureMax'] > 80:\n",
    "        print(\"The high temperature for today is\", item['temperatureMax'],\"degrees Farenheit\" )\n",
    "        print(\"It is going to be HOT!\")\n",
    "    else:\n",
    "        print(\"The high temperature for today is\", item['temperatureMax'],\"degrees Farenheit\" )\n",
    "        print(\"It will not be as hot as it usually is!\")\n",
    "            "
   ]
  },
  {
   "cell_type": "markdown",
   "metadata": {},
   "source": [
    "# 6) What's the weather looking like for the rest of today in Miami, Florida? I'd like to know the temperature for every hour, and if it's going to have cloud cover of more than 0.5 say \"{temperature} and cloudy\" instead of just the temperature."
   ]
  },
  {
   "cell_type": "code",
   "execution_count": 23,
   "metadata": {
    "collapsed": false
   },
   "outputs": [
    {
     "name": "stdout",
     "output_type": "stream",
     "text": [
      "dict_keys(['minutely', 'currently', 'timezone', 'offset', 'daily', 'longitude', 'flags', 'latitude', 'hourly'])\n"
     ]
    }
   ],
   "source": [
    "import requests\n",
    "response = requests.get(\"https://api.forecast.io/forecast/c9d64e80aa02ca113562a075e57256d7/25.7742700,-80.1936600\")\n",
    "forecast_miami = response.json()\n",
    "print(forecast_miami.keys())"
   ]
  },
  {
   "cell_type": "code",
   "execution_count": 24,
   "metadata": {
    "collapsed": false
   },
   "outputs": [
    {
     "name": "stdout",
     "output_type": "stream",
     "text": [
      "<class 'dict'>\n",
      "dict_keys(['summary', 'data', 'icon'])\n",
      "{'icon': 'rain', 'temperature': 84.45, 'pressure': 1018.58, 'cloudCover': 0.6, 'precipProbability': 0.67, 'apparentTemperature': 92.4, 'dewPoint': 74.68, 'windBearing': 126, 'time': 1465675200, 'precipType': 'rain', 'humidity': 0.73, 'precipIntensity': 0.1642, 'summary': 'Rain', 'windSpeed': 2.17, 'ozone': 273.16, 'visibility': 9}\n"
     ]
    }
   ],
   "source": [
    "print(type(forecast_miami['hourly']))\n",
    "print(forecast_miami['hourly'].keys())\n",
    "print(forecast_miami['hourly']['data'][0])\n",
    "\n",
    "forecast_miami_today = forecast_miami['hourly']['data']\n"
   ]
  },
  {
   "cell_type": "code",
   "execution_count": 25,
   "metadata": {
    "collapsed": false
   },
   "outputs": [
    {
     "name": "stdout",
     "output_type": "stream",
     "text": [
      "This is how the weather in Miami will look in the next hours\n",
      "It will be 84.45 degrees Farenheit and cloudy!\n",
      "It will be 84.02 degrees Farenheit and cloudy!\n",
      "It will be 83.47 degrees Farenheit and cloudy!\n",
      "It will be 82.8 degrees Farenheit and cloudy!\n",
      "It will be 81.73 degrees Farenheit and cloudy!\n",
      "It will be 80.84 degrees Farenheit and cloudy!\n",
      "It will be 80.65 degrees Farenheit and cloudy!\n",
      "It will be 80.31 degrees Farenheit and cloudy!\n",
      "It will be 79.54 degrees Farenheit and cloudy!\n",
      "It will be 79.01 degrees Farenheit and cloudy!\n",
      "It will be 78.34 degrees Farenheit and cloudy!\n",
      "It will be 77.8 degrees Farenheit and cloudy!\n",
      "It will be 77.26 degrees Farenheit and cloudy!\n",
      "It will be 76.95 degrees Farenheit and cloudy!\n",
      "It will be 76.44 degrees Farenheit and cloudy!\n",
      "It will be 77.54 degrees Farenheit and cloudy!\n",
      "It will be 79.65 degrees Farenheit and cloudy!\n",
      "It will be 81.56 degrees Farenheit and cloudy!\n",
      "It will be 83.01 degrees Farenheit and cloudy!\n",
      "It will be 84.38 degrees Farenheit and cloudy!\n",
      "It will be 85.86 degrees Farenheit and cloudy!\n",
      "It will be 87.33 degrees Farenheit and cloudy!\n",
      "It will be 86.57 degrees Farenheit and cloudy!\n",
      "It will be 86.02 degrees Farenheit and cloudy!\n",
      "It will be 85.06 degrees Farenheit and cloudy!\n",
      "It will be 84 degrees Farenheit and cloudy!\n",
      "It will be 83.14 degrees Farenheit and cloudy!\n",
      "It will be 82.45 degrees Farenheit and cloudy!\n",
      "It will be 81.88 degrees Farenheit and cloudy!\n",
      "It will be 81.36 degrees Farenheit and cloudy!\n",
      "It will be 80.85 degrees Farenheit and cloudy!\n",
      "It will be 80.33 degrees Farenheit and cloudy!\n",
      "It will be 79.8 degrees Farenheit and cloudy!\n",
      "It will be 79.23 degrees Farenheit and cloudy!\n",
      "It will be 78.58 degrees Farenheit\n",
      "It will be 77.88 degrees Farenheit\n",
      "It will be 77.24 degrees Farenheit\n",
      "It will be 76.84 degrees Farenheit\n",
      "It will be 77.49 degrees Farenheit\n",
      "It will be 78.43 degrees Farenheit\n",
      "It will be 79.55 degrees Farenheit\n",
      "It will be 81.05 degrees Farenheit\n",
      "It will be 82.97 degrees Farenheit\n",
      "It will be 84.64 degrees Farenheit\n",
      "It will be 86.08 degrees Farenheit\n",
      "It will be 87.44 degrees Farenheit and cloudy!\n",
      "It will be 88.31 degrees Farenheit and cloudy!\n",
      "It will be 87.58 degrees Farenheit and cloudy!\n",
      "It will be 86.32 degrees Farenheit and cloudy!\n"
     ]
    }
   ],
   "source": [
    "print(\"This is how the weather in Miami will look in the next hours\")\n",
    "for item in forecast_miami_today:\n",
    "    if item['cloudCover'] > 0.5:\n",
    "        print(\"It will be\", item['temperature'],\"degrees Farenheit and cloudy!\")\n",
    "    else:\n",
    "        print(\"It will be\", item['temperature'], \"degrees Farenheit\")\n",
    "    "
   ]
  },
  {
   "cell_type": "markdown",
   "metadata": {},
   "source": [
    "# 7) What was the temperature in Central Park on Christmas Day, 1980? How about 1990? 2000?"
   ]
  },
  {
   "cell_type": "code",
   "execution_count": null,
   "metadata": {
    "collapsed": false
   },
   "outputs": [],
   "source": [
    "#UNIX TIME 1980 : 346550400\n",
    "#1990: 662083200\n",
    "#2000:977702400\n",
    "\n"
   ]
  },
  {
   "cell_type": "code",
   "execution_count": null,
   "metadata": {
    "collapsed": false
   },
   "outputs": [],
   "source": [
    "import requests\n",
    "response = requests.get(\"https://api.forecast.io/forecast/c9d64e80aa02ca113562a075e57256d7/40.7829,73.9654,346550400\")\n",
    "forecast_1980 = response.json()\n",
    "print(forecast_1980.keys())"
   ]
  },
  {
   "cell_type": "code",
   "execution_count": null,
   "metadata": {
    "collapsed": false
   },
   "outputs": [],
   "source": [
    "print(forecast_1980['daily'].keys())"
   ]
  },
  {
   "cell_type": "code",
   "execution_count": null,
   "metadata": {
    "collapsed": false
   },
   "outputs": [],
   "source": [
    "print(forecast_1980['daily']['data'])"
   ]
  },
  {
   "cell_type": "code",
   "execution_count": null,
   "metadata": {
    "collapsed": false
   },
   "outputs": [],
   "source": [
    "christmas_temp_1980 = forecast_1980['daily']['data']\n",
    "for item in christmas_temp_1980:\n",
    "    print(\"On Christmas Day, 1980, temperatures ranged between\", item['temperatureMax'], \"and\", item['temperatureMin'], \"degrees Farenheit at Central Park\")"
   ]
  },
  {
   "cell_type": "code",
   "execution_count": null,
   "metadata": {
    "collapsed": false
   },
   "outputs": [],
   "source": [
    "import requests\n",
    "response = requests.get(\"https://api.forecast.io/forecast/c9d64e80aa02ca113562a075e57256d7/40.7829,73.9654,662083200\")\n",
    "forecast_1990 = response.json()\n",
    "print(forecast_1990.keys())"
   ]
  },
  {
   "cell_type": "code",
   "execution_count": null,
   "metadata": {
    "collapsed": false
   },
   "outputs": [],
   "source": [
    "christmas_temp_1990 = forecast_1990['daily']['data']\n",
    "for item in christmas_temp_1990:\n",
    "    print(\"On Christmas Day, 1990, temperatures ranged between\", item['temperatureMax'], \"and\", item['temperatureMin'], \"degrees Farenheit at Central Park\")"
   ]
  },
  {
   "cell_type": "code",
   "execution_count": null,
   "metadata": {
    "collapsed": false
   },
   "outputs": [],
   "source": [
    "import requests\n",
    "response = requests.get(\"https://api.forecast.io/forecast/c9d64e80aa02ca113562a075e57256d7/40.7829,73.9654,977702400\")\n",
    "forecast_2000 = response.json()\n",
    "print(forecast_2000.keys())"
   ]
  },
  {
   "cell_type": "code",
   "execution_count": null,
   "metadata": {
    "collapsed": false
   },
   "outputs": [],
   "source": [
    "christmas_temp_2000 = forecast_2000['daily']['data']\n",
    "for item in christmas_temp_2000:\n",
    "    print(\"On Christmas Day, 2000, temperatures ranged between\", item['temperatureMax'], \"and\", item['temperatureMin'], \"degrees Farenheit at Central Park\")"
   ]
  },
  {
   "cell_type": "code",
   "execution_count": null,
   "metadata": {
    "collapsed": true
   },
   "outputs": [],
   "source": []
  },
  {
   "cell_type": "code",
   "execution_count": null,
   "metadata": {
    "collapsed": true
   },
   "outputs": [],
   "source": []
  }
 ],
 "metadata": {
  "kernelspec": {
   "display_name": "Python 3",
   "language": "python",
   "name": "python3"
  },
  "language_info": {
   "codemirror_mode": {
    "name": "ipython",
    "version": 3
   },
   "file_extension": ".py",
   "mimetype": "text/x-python",
   "name": "python",
   "nbconvert_exporter": "python",
   "pygments_lexer": "ipython3",
   "version": "3.5.1"
  }
 },
 "nbformat": 4,
 "nbformat_minor": 0
}
