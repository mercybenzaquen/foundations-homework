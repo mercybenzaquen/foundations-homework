{
 "cells": [
  {
   "cell_type": "markdown",
   "metadata": {},
   "source": [
    "# 1) Make a request from the Forecast.io API for where you were born (or lived, or want to visit!).\n",
    "\n",
    "Tip: Once you've imported the JSON into a variable, check the timezone's name to make sure it seems like it got the right part of the world!\n",
    "Tip 2: How is north vs. south and east vs. west latitude/longitude represented? Is it the normal North/South/East/West?"
   ]
  },
  {
   "cell_type": "code",
   "execution_count": 1,
   "metadata": {
    "collapsed": true
   },
   "outputs": [],
   "source": [
    "#api KEY =  c9d64e80aa02ca113562a075e57256d7\n",
    "\n",
    "https://api.forecast.io/forecast/c9d64e80aa02ca113562a075e57256d7/10.4806,66.9036"
   ]
  },
  {
   "cell_type": "code",
   "execution_count": 2,
   "metadata": {
    "collapsed": false
   },
   "outputs": [
    {
     "name": "stdout",
     "output_type": "stream",
     "text": [
      "dict_keys(['offset', 'daily', 'hourly', 'timezone', 'flags', 'latitude', 'currently', 'longitude'])\n"
     ]
    }
   ],
   "source": [
    "import requests\n",
    "response = requests.get(\"https://api.forecast.io/forecast/c9d64e80aa02ca113562a075e57256d7/10.4806,66.9036\")\n",
    "forecast = response.json()\n",
    "print(forecast.keys())"
   ]
  },
  {
   "cell_type": "code",
   "execution_count": 4,
   "metadata": {
    "collapsed": false
   },
   "outputs": [
    {
     "name": "stdout",
     "output_type": "stream",
     "text": [
      "Etc/GMT-4\n"
     ]
    }
   ],
   "source": [
    "print(forecast['timezone']) #yeap, this is my country's timezone"
   ]
  },
  {
   "cell_type": "code",
   "execution_count": 8,
   "metadata": {
    "collapsed": false
   },
   "outputs": [
    {
     "name": "stdout",
     "output_type": "stream",
     "text": [
      "10.4806 66.9036\n"
     ]
    }
   ],
   "source": [
    "print(forecast['latitude'],forecast['longitude'] ) #nothing different with the latitude and longitude"
   ]
  },
  {
   "cell_type": "markdown",
   "metadata": {},
   "source": [
    "# 2) What's the current wind speed? How much warmer does it feel than it actually is?\n"
   ]
  },
  {
   "cell_type": "code",
   "execution_count": 9,
   "metadata": {
    "collapsed": false
   },
   "outputs": [
    {
     "name": "stdout",
     "output_type": "stream",
     "text": [
      "{'cloudCover': 0.64, 'time': 1465651892, 'precipType': 'rain', 'humidity': 0.77, 'summary': 'Mostly Cloudy', 'pressure': 1010.76, 'temperature': 85.2, 'ozone': 269.14, 'icon': 'partly-cloudy-day', 'dewPoint': 77.11, 'precipIntensity': 0.0016, 'precipProbability': 0.03, 'apparentTemperature': 96.01, 'windBearing': 263, 'windSpeed': 17.37}\n"
     ]
    }
   ],
   "source": [
    "print(forecast['currently'])"
   ]
  },
  {
   "cell_type": "code",
   "execution_count": 21,
   "metadata": {
    "collapsed": false
   },
   "outputs": [
    {
     "name": "stdout",
     "output_type": "stream",
     "text": [
      "The actual current wind speed is 17.37 miles per hour\n"
     ]
    }
   ],
   "source": [
    "print(\"The actual current wind speed is\", forecast['currently']['windSpeed'], \"miles per hour\")"
   ]
  },
  {
   "cell_type": "code",
   "execution_count": 13,
   "metadata": {
    "collapsed": false
   },
   "outputs": [
    {
     "name": "stdout",
     "output_type": "stream",
     "text": [
      "Right know in Caracas the temperature feels like 96.01\n"
     ]
    }
   ],
   "source": [
    "print(\"Right know in Caracas the temperature feels like\",forecast['currently']['apparentTemperature'])"
   ]
  },
  {
   "cell_type": "code",
   "execution_count": 15,
   "metadata": {
    "collapsed": false
   },
   "outputs": [
    {
     "name": "stdout",
     "output_type": "stream",
     "text": [
      "Right know in Caracas the temperature is 85.2\n"
     ]
    }
   ],
   "source": [
    "print(\"Right know in Caracas the temperature is\",forecast['currently']['temperature'])"
   ]
  },
  {
   "cell_type": "code",
   "execution_count": 18,
   "metadata": {
    "collapsed": false
   },
   "outputs": [
    {
     "name": "stdout",
     "output_type": "stream",
     "text": [
      "It feels 10.810000000000002 degrees warmer than the actual temperature\n"
     ]
    }
   ],
   "source": [
    "print(\"It feels\", forecast['currently']['apparentTemperature']-forecast['currently']['temperature'], \"degrees warmer than the actual temperature\")"
   ]
  },
  {
   "cell_type": "markdown",
   "metadata": {},
   "source": [
    "# 3) The first daily forecast is the forecast for today. For the place you decided on up above, how much of the moon is currently visible?"
   ]
  },
  {
   "cell_type": "code",
   "execution_count": 23,
   "metadata": {
    "collapsed": false
   },
   "outputs": [
    {
     "name": "stdout",
     "output_type": "stream",
     "text": [
      "dict_keys(['summary', 'data', 'icon'])\n"
     ]
    }
   ],
   "source": [
    "print(forecast['daily'].keys())"
   ]
  },
  {
   "cell_type": "code",
   "execution_count": 24,
   "metadata": {
    "collapsed": false
   },
   "outputs": [
    {
     "data": {
      "text/plain": [
       "[{'apparentTemperatureMax': 97.54,\n",
       "  'apparentTemperatureMaxTime': 1465657200,\n",
       "  'apparentTemperatureMin': 92.92,\n",
       "  'apparentTemperatureMinTime': 1465588800,\n",
       "  'cloudCover': 0.6,\n",
       "  'dewPoint': 76.54,\n",
       "  'humidity': 0.77,\n",
       "  'icon': 'partly-cloudy-day',\n",
       "  'moonPhase': 0.22,\n",
       "  'ozone': 269.67,\n",
       "  'precipIntensity': 0.0033,\n",
       "  'precipIntensityMax': 0.0111,\n",
       "  'precipIntensityMaxTime': 1465603200,\n",
       "  'precipProbability': 0.47,\n",
       "  'precipType': 'rain',\n",
       "  'pressure': 1011.33,\n",
       "  'summary': 'Partly cloudy throughout the day.',\n",
       "  'sunriseTime': 1465607499,\n",
       "  'sunsetTime': 1465653315,\n",
       "  'temperatureMax': 85.76,\n",
       "  'temperatureMaxTime': 1465657200,\n",
       "  'temperatureMin': 83.98,\n",
       "  'temperatureMinTime': 1465621200,\n",
       "  'time': 1465588800,\n",
       "  'windBearing': 266,\n",
       "  'windSpeed': 18.98},\n",
       " {'apparentTemperatureMax': 106.98,\n",
       "  'apparentTemperatureMaxTime': 1465740000,\n",
       "  'apparentTemperatureMin': 90.97,\n",
       "  'apparentTemperatureMinTime': 1465696800,\n",
       "  'cloudCover': 0.47,\n",
       "  'dewPoint': 77.21,\n",
       "  'humidity': 0.77,\n",
       "  'icon': 'partly-cloudy-night',\n",
       "  'moonPhase': 0.25,\n",
       "  'ozone': 265.54,\n",
       "  'precipIntensity': 0.0013,\n",
       "  'precipIntensityMax': 0.0022,\n",
       "  'precipIntensityMaxTime': 1465707600,\n",
       "  'precipProbability': 0.06,\n",
       "  'precipType': 'rain',\n",
       "  'pressure': 1011.28,\n",
       "  'summary': 'Mostly cloudy throughout the day.',\n",
       "  'sunriseTime': 1465693907,\n",
       "  'sunsetTime': 1465739730,\n",
       "  'temperatureMax': 88.87,\n",
       "  'temperatureMaxTime': 1465740000,\n",
       "  'temperatureMin': 83.22,\n",
       "  'temperatureMinTime': 1465696800,\n",
       "  'time': 1465675200,\n",
       "  'windBearing': 260,\n",
       "  'windSpeed': 17.64},\n",
       " {'apparentTemperatureMax': 105.78,\n",
       "  'apparentTemperatureMaxTime': 1465822800,\n",
       "  'apparentTemperatureMin': 92.57,\n",
       "  'apparentTemperatureMinTime': 1465776000,\n",
       "  'cloudCover': 0.76,\n",
       "  'dewPoint': 77.13,\n",
       "  'humidity': 0.76,\n",
       "  'icon': 'partly-cloudy-day',\n",
       "  'moonPhase': 0.28,\n",
       "  'ozone': 260.78,\n",
       "  'precipIntensity': 0.0019,\n",
       "  'precipIntensityMax': 0.0045,\n",
       "  'precipIntensityMaxTime': 1465786800,\n",
       "  'precipProbability': 0.17,\n",
       "  'precipType': 'rain',\n",
       "  'pressure': 1011.7,\n",
       "  'summary': 'Mostly cloudy throughout the day.',\n",
       "  'sunriseTime': 1465780316,\n",
       "  'sunsetTime': 1465826145,\n",
       "  'temperatureMax': 88.63,\n",
       "  'temperatureMaxTime': 1465822800,\n",
       "  'temperatureMin': 83.83,\n",
       "  'temperatureMinTime': 1465776000,\n",
       "  'time': 1465761600,\n",
       "  'windBearing': 259,\n",
       "  'windSpeed': 18.37},\n",
       " {'apparentTemperatureMax': 104.05,\n",
       "  'apparentTemperatureMaxTime': 1465905600,\n",
       "  'apparentTemperatureMin': 91.71,\n",
       "  'apparentTemperatureMinTime': 1465887600,\n",
       "  'cloudCover': 0.83,\n",
       "  'dewPoint': 76.53,\n",
       "  'humidity': 0.75,\n",
       "  'icon': 'rain',\n",
       "  'moonPhase': 0.31,\n",
       "  'ozone': 260.01,\n",
       "  'precipIntensity': 0.0025,\n",
       "  'precipIntensityMax': 0.005,\n",
       "  'precipIntensityMaxTime': 1465930800,\n",
       "  'precipProbability': 0.2,\n",
       "  'precipType': 'rain',\n",
       "  'pressure': 1011.22,\n",
       "  'summary': 'Drizzle overnight.',\n",
       "  'sunriseTime': 1465866725,\n",
       "  'sunsetTime': 1465912560,\n",
       "  'temperatureMax': 88.19,\n",
       "  'temperatureMaxTime': 1465905600,\n",
       "  'temperatureMin': 83.84,\n",
       "  'temperatureMinTime': 1465887600,\n",
       "  'time': 1465848000,\n",
       "  'windBearing': 259,\n",
       "  'windSpeed': 19.53},\n",
       " {'apparentTemperatureMax': 97.5,\n",
       "  'apparentTemperatureMaxTime': 1465977600,\n",
       "  'apparentTemperatureMin': 92.12,\n",
       "  'apparentTemperatureMinTime': 1466017200,\n",
       "  'cloudCover': 0.97,\n",
       "  'dewPoint': 76.43,\n",
       "  'humidity': 0.76,\n",
       "  'icon': 'rain',\n",
       "  'moonPhase': 0.34,\n",
       "  'ozone': 260.31,\n",
       "  'precipIntensity': 0.0047,\n",
       "  'precipIntensityMax': 0.0088,\n",
       "  'precipIntensityMaxTime': 1465941600,\n",
       "  'precipProbability': 0.43,\n",
       "  'precipType': 'rain',\n",
       "  'pressure': 1009.87,\n",
       "  'summary': 'Drizzle in the morning and evening.',\n",
       "  'sunriseTime': 1465953134,\n",
       "  'sunsetTime': 1465998974,\n",
       "  'temperatureMax': 85.87,\n",
       "  'temperatureMaxTime': 1465977600,\n",
       "  'temperatureMin': 83.79,\n",
       "  'temperatureMinTime': 1466017200,\n",
       "  'time': 1465934400,\n",
       "  'windBearing': 257,\n",
       "  'windSpeed': 21.28},\n",
       " {'apparentTemperatureMax': 95.68,\n",
       "  'apparentTemperatureMaxTime': 1466096400,\n",
       "  'apparentTemperatureMin': 90.7,\n",
       "  'apparentTemperatureMinTime': 1466028000,\n",
       "  'cloudCover': 0.95,\n",
       "  'dewPoint': 75.81,\n",
       "  'humidity': 0.76,\n",
       "  'icon': 'rain',\n",
       "  'moonPhase': 0.37,\n",
       "  'ozone': 264.23,\n",
       "  'precipIntensity': 0.0059,\n",
       "  'precipIntensityMax': 0.0096,\n",
       "  'precipIntensityMaxTime': 1466092800,\n",
       "  'precipProbability': 0.46,\n",
       "  'precipType': 'rain',\n",
       "  'pressure': 1008.2,\n",
       "  'summary': 'Light rain in the morning and evening.',\n",
       "  'sunriseTime': 1466039544,\n",
       "  'sunsetTime': 1466085388,\n",
       "  'temperatureMax': 85.2,\n",
       "  'temperatureMaxTime': 1466096400,\n",
       "  'temperatureMin': 83.13,\n",
       "  'temperatureMinTime': 1466028000,\n",
       "  'time': 1466020800,\n",
       "  'windBearing': 260,\n",
       "  'windSpeed': 21.93},\n",
       " {'apparentTemperatureMax': 95.39,\n",
       "  'apparentTemperatureMaxTime': 1466150400,\n",
       "  'apparentTemperatureMin': 87.37,\n",
       "  'apparentTemperatureMinTime': 1466175600,\n",
       "  'cloudCover': 0.93,\n",
       "  'dewPoint': 75.2,\n",
       "  'humidity': 0.76,\n",
       "  'icon': 'rain',\n",
       "  'moonPhase': 0.4,\n",
       "  'ozone': 262.55,\n",
       "  'precipIntensity': 0.0368,\n",
       "  'precipIntensityMax': 0.1017,\n",
       "  'precipIntensityMaxTime': 1466175600,\n",
       "  'precipProbability': 0.72,\n",
       "  'precipType': 'rain',\n",
       "  'pressure': 1007.79,\n",
       "  'summary': 'Rain throughout the day.',\n",
       "  'sunriseTime': 1466125955,\n",
       "  'sunsetTime': 1466171802,\n",
       "  'temperatureMax': 84.97,\n",
       "  'temperatureMaxTime': 1466150400,\n",
       "  'temperatureMin': 81.83,\n",
       "  'temperatureMinTime': 1466172000,\n",
       "  'time': 1466107200,\n",
       "  'windBearing': 269,\n",
       "  'windSpeed': 22.17},\n",
       " {'apparentTemperatureMax': 92.4,\n",
       "  'apparentTemperatureMaxTime': 1466222400,\n",
       "  'apparentTemperatureMin': 87.6,\n",
       "  'apparentTemperatureMinTime': 1466204400,\n",
       "  'cloudCover': 0.91,\n",
       "  'dewPoint': 74.24,\n",
       "  'humidity': 0.74,\n",
       "  'icon': 'rain',\n",
       "  'moonPhase': 0.43,\n",
       "  'ozone': 254.58,\n",
       "  'precipIntensity': 0.0298,\n",
       "  'precipIntensityMax': 0.0702,\n",
       "  'precipIntensityMaxTime': 1466208000,\n",
       "  'precipProbability': 0.68,\n",
       "  'precipType': 'rain',\n",
       "  'pressure': 1008.74,\n",
       "  'summary': 'Rain throughout the day.',\n",
       "  'sunriseTime': 1466212366,\n",
       "  'sunsetTime': 1466258216,\n",
       "  'temperatureMax': 84.26,\n",
       "  'temperatureMaxTime': 1466222400,\n",
       "  'temperatureMin': 82.17,\n",
       "  'temperatureMinTime': 1466204400,\n",
       "  'time': 1466193600,\n",
       "  'windBearing': 260,\n",
       "  'windSpeed': 23.63}]"
      ]
     },
     "execution_count": 24,
     "metadata": {},
     "output_type": "execute_result"
    }
   ],
   "source": [
    "forecast['daily']['data']"
   ]
  },
  {
   "cell_type": "code",
   "execution_count": 44,
   "metadata": {
    "collapsed": false
   },
   "outputs": [
    {
     "name": "stdout",
     "output_type": "stream",
     "text": [
      "<class 'list'>\n",
      "{'cloudCover': 0.6, 'sunriseTime': 1465607499, 'apparentTemperatureMax': 97.54, 'moonPhase': 0.22, 'temperatureMin': 83.98, 'dewPoint': 76.54, 'precipIntensity': 0.0033, 'precipProbability': 0.47, 'windBearing': 266, 'precipIntensityMaxTime': 1465603200, 'precipIntensityMax': 0.0111, 'temperatureMinTime': 1465621200, 'time': 1465588800, 'precipType': 'rain', 'humidity': 0.77, 'summary': 'Partly cloudy throughout the day.', 'temperatureMax': 85.76, 'pressure': 1011.33, 'apparentTemperatureMaxTime': 1465657200, 'apparentTemperatureMinTime': 1465588800, 'ozone': 269.67, 'apparentTemperatureMin': 92.92, 'icon': 'partly-cloudy-day', 'windSpeed': 18.98, 'sunsetTime': 1465653315, 'temperatureMaxTime': 1465657200}\n"
     ]
    }
   ],
   "source": [
    "print(type(forecast['daily']['data']))\n",
    "print(forecast['daily']['data'][0])\n"
   ]
  },
  {
   "cell_type": "code",
   "execution_count": 33,
   "metadata": {
    "collapsed": true
   },
   "outputs": [],
   "source": [
    "first_daily_forecast = forecast['daily']['data']"
   ]
  },
  {
   "cell_type": "code",
   "execution_count": 54,
   "metadata": {
    "collapsed": false
   },
   "outputs": [
    {
     "name": "stdout",
     "output_type": "stream",
     "text": [
      "In the first daily forecast 0.22 of the moon is currently visible\n"
     ]
    }
   ],
   "source": [
    "for item in first_daily_forecast[:1]: #for some reason 0 is not the first element?\n",
    "    print(\"In the first daily forecast\", item['moonPhase'], \"of the moon is currently visible\")"
   ]
  },
  {
   "cell_type": "markdown",
   "metadata": {},
   "source": [
    "# 4) What's the difference between the high and low temperatures for today?"
   ]
  },
  {
   "cell_type": "code",
   "execution_count": 59,
   "metadata": {
    "collapsed": false
   },
   "outputs": [
    {
     "name": "stdout",
     "output_type": "stream",
     "text": [
      "The min temperature for the day is: 83.98 degrees Fahrenheit\n",
      "The max temperature for the day is: 85.76 degrees Fahrenheit\n",
      "The difference between min and max temperatures is of 1.7800000000000011 degrees Fahrenheit\n"
     ]
    }
   ],
   "source": [
    "for item in first_daily_forecast[:1]:\n",
    "    print(\"The min temperature for the day is:\", item['temperatureMin'], \"degrees Fahrenheit\")\n",
    "    print(\"The max temperature for the day is:\", item['temperatureMax'], \"degrees Fahrenheit\")\n",
    "    print(\"The difference between min and max temperatures is of\", item['temperatureMax']-item['temperatureMin'],\"degrees Fahrenheit\" )"
   ]
  },
  {
   "cell_type": "markdown",
   "metadata": {},
   "source": [
    "# 5) Loop through the daily forecast, printing out the next week's worth of predictions. I'd like to know the high temperature for each day, and whether it's hot, warm, or cold, based on what temperatures you think are hot, warm or cold.\n"
   ]
  },
  {
   "cell_type": "code",
   "execution_count": 67,
   "metadata": {
    "collapsed": false
   },
   "outputs": [
    {
     "name": "stdout",
     "output_type": "stream",
     "text": [
      "The high temperature for today is 85.76 degrees Farenheit\n",
      "It is going to be HOT!\n",
      "The high temperature for today is 88.87 degrees Farenheit\n",
      "It is going to be HOT!\n",
      "The high temperature for today is 88.63 degrees Farenheit\n",
      "It is going to be HOT!\n",
      "The high temperature for today is 88.19 degrees Farenheit\n",
      "It is going to be HOT!\n",
      "The high temperature for today is 85.87 degrees Farenheit\n",
      "It is going to be HOT!\n",
      "The high temperature for today is 85.2 degrees Farenheit\n",
      "It is going to be HOT!\n",
      "The high temperature for today is 84.97 degrees Farenheit\n",
      "It is going to be HOT!\n",
      "The high temperature for today is 84.26 degrees Farenheit\n",
      "It is going to be HOT!\n"
     ]
    }
   ],
   "source": [
    "for item in first_daily_forecast:\n",
    "    if item['temperatureMax'] > 80:\n",
    "        print(\"The high temperature for today is\", item['temperatureMax'],\"degrees Farenheit\" )\n",
    "        print(\"It is going to be HOT!\")\n",
    "    else:\n",
    "        print(\"The high temperature for today is\", item['temperatureMax'],\"degrees Farenheit\" )\n",
    "        print(\"It will not be as hot as it usually is!\")\n",
    "            "
   ]
  },
  {
   "cell_type": "markdown",
   "metadata": {},
   "source": [
    "# 6) What's the weather looking like for the rest of today in Miami, Florida? I'd like to know the temperature for every hour, and if it's going to have cloud cover of more than 0.5 say \"{temperature} and cloudy\" instead of just the temperature."
   ]
  },
  {
   "cell_type": "code",
   "execution_count": 68,
   "metadata": {
    "collapsed": false
   },
   "outputs": [
    {
     "name": "stdout",
     "output_type": "stream",
     "text": [
      "dict_keys(['offset', 'daily', 'hourly', 'timezone', 'minutely', 'latitude', 'flags', 'currently', 'longitude'])\n"
     ]
    }
   ],
   "source": [
    "import requests\n",
    "response = requests.get(\"https://api.forecast.io/forecast/c9d64e80aa02ca113562a075e57256d7/25.7742700,-80.1936600\")\n",
    "forecast_miami = response.json()\n",
    "print(forecast_miami.keys())"
   ]
  },
  {
   "cell_type": "code",
   "execution_count": 77,
   "metadata": {
    "collapsed": false
   },
   "outputs": [
    {
     "name": "stdout",
     "output_type": "stream",
     "text": [
      "<class 'dict'>\n",
      "dict_keys(['summary', 'data', 'icon'])\n",
      "{'cloudCover': 0.16, 'time': 1465653600, 'precipType': 'rain', 'humidity': 0.77, 'summary': 'Clear', 'pressure': 1018.6, 'temperature': 84.07, 'ozone': 275.67, 'icon': 'clear-day', 'dewPoint': 75.91, 'precipIntensity': 0.0026, 'precipProbability': 0.08, 'apparentTemperature': 92.9, 'windBearing': 272, 'visibility': 10, 'windSpeed': 2.45}\n"
     ]
    }
   ],
   "source": [
    "print(type(forecast_miami['hourly']))\n",
    "print(forecast_miami['hourly'].keys())\n",
    "print(forecast_miami['hourly']['data'][0])\n",
    "\n",
    "forecast_miami_today = forecast_miami['hourly']['data']\n"
   ]
  },
  {
   "cell_type": "code",
   "execution_count": 80,
   "metadata": {
    "collapsed": false
   },
   "outputs": [
    {
     "name": "stdout",
     "output_type": "stream",
     "text": [
      "This is how the weather in Miami will look in the next hours\n",
      "It will be 84.07 degrees Farenheit\n",
      "It will be 83.55 degrees Farenheit\n",
      "It will be 84.37 degrees Farenheit and cloudy!\n",
      "It will be 85.28 degrees Farenheit and cloudy!\n",
      "It will be 85.22 degrees Farenheit and cloudy!\n",
      "It will be 84.66 degrees Farenheit and cloudy!\n",
      "It will be 83.67 degrees Farenheit and cloudy!\n",
      "It will be 82.98 degrees Farenheit and cloudy!\n",
      "It will be 82.24 degrees Farenheit and cloudy!\n",
      "It will be 81.36 degrees Farenheit and cloudy!\n",
      "It will be 80.86 degrees Farenheit and cloudy!\n",
      "It will be 80.52 degrees Farenheit and cloudy!\n",
      "It will be 79.81 degrees Farenheit and cloudy!\n",
      "It will be 79.62 degrees Farenheit and cloudy!\n",
      "It will be 79.11 degrees Farenheit and cloudy!\n",
      "It will be 78.61 degrees Farenheit and cloudy!\n",
      "It will be 77.69 degrees Farenheit and cloudy!\n",
      "It will be 77.14 degrees Farenheit and cloudy!\n",
      "It will be 76.43 degrees Farenheit and cloudy!\n",
      "It will be 75.97 degrees Farenheit and cloudy!\n",
      "It will be 75.67 degrees Farenheit and cloudy!\n",
      "It will be 76.65 degrees Farenheit and cloudy!\n",
      "It will be 78.82 degrees Farenheit and cloudy!\n",
      "It will be 81.5 degrees Farenheit\n",
      "It will be 83.2 degrees Farenheit\n",
      "It will be 84.39 degrees Farenheit\n",
      "It will be 85.22 degrees Farenheit\n",
      "It will be 86.36 degrees Farenheit\n",
      "It will be 87.38 degrees Farenheit\n",
      "It will be 86.94 degrees Farenheit\n",
      "It will be 86.04 degrees Farenheit\n",
      "It will be 84.85 degrees Farenheit and cloudy!\n",
      "It will be 83.56 degrees Farenheit and cloudy!\n",
      "It will be 82.39 degrees Farenheit and cloudy!\n",
      "It will be 81.42 degrees Farenheit and cloudy!\n",
      "It will be 80.83 degrees Farenheit and cloudy!\n",
      "It will be 80.45 degrees Farenheit and cloudy!\n",
      "It will be 79.98 degrees Farenheit and cloudy!\n",
      "It will be 79.27 degrees Farenheit and cloudy!\n",
      "It will be 78.42 degrees Farenheit and cloudy!\n",
      "It will be 77.53 degrees Farenheit\n",
      "It will be 76.79 degrees Farenheit\n",
      "It will be 76.32 degrees Farenheit\n",
      "It will be 76.94 degrees Farenheit\n",
      "It will be 77.8 degrees Farenheit\n",
      "It will be 78.69 degrees Farenheit\n",
      "It will be 79.51 degrees Farenheit\n",
      "It will be 80.66 degrees Farenheit\n",
      "It will be 82.13 degrees Farenheit\n"
     ]
    }
   ],
   "source": [
    "print(\"This is how the weather in Miami will look in the next hours\")\n",
    "for item in forecast_miami_today:\n",
    "    if item['cloudCover'] > 0.5:\n",
    "        print(\"It will be\", item['temperature'],\"degrees Farenheit and cloudy!\")\n",
    "    else:\n",
    "        print(\"It will be\", item['temperature'], \"degrees Farenheit\")\n",
    "    "
   ]
  },
  {
   "cell_type": "markdown",
   "metadata": {},
   "source": [
    "# 7) What was the temperature in Central Park on Christmas Day, 1980? How about 1990? 2000?"
   ]
  },
  {
   "cell_type": "code",
   "execution_count": 89,
   "metadata": {
    "collapsed": false
   },
   "outputs": [],
   "source": [
    "#UNIX TIME 1980 : 346550400\n",
    "#1990: 662083200\n",
    "#2000:977702400\n",
    "\n"
   ]
  },
  {
   "cell_type": "code",
   "execution_count": 100,
   "metadata": {
    "collapsed": false
   },
   "outputs": [
    {
     "name": "stdout",
     "output_type": "stream",
     "text": [
      "dict_keys(['offset', 'daily', 'hourly', 'timezone', 'flags', 'latitude', 'currently', 'longitude'])\n"
     ]
    }
   ],
   "source": [
    "import requests\n",
    "response = requests.get(\"https://api.forecast.io/forecast/c9d64e80aa02ca113562a075e57256d7/40.7829,73.9654,346550400\")\n",
    "forecast_1980 = response.json()\n",
    "print(forecast_1980.keys())"
   ]
  },
  {
   "cell_type": "code",
   "execution_count": 101,
   "metadata": {
    "collapsed": false
   },
   "outputs": [
    {
     "name": "stdout",
     "output_type": "stream",
     "text": [
      "dict_keys(['data'])\n"
     ]
    }
   ],
   "source": [
    "print(forecast_1980['daily'].keys())"
   ]
  },
  {
   "cell_type": "code",
   "execution_count": 102,
   "metadata": {
    "collapsed": false
   },
   "outputs": [
    {
     "name": "stdout",
     "output_type": "stream",
     "text": [
      "[{'temperatureMinTime': 346557600, 'cloudCover': 0.36, 'time': 346528800, 'windBearing': 88, 'precipType': 'snow', 'humidity': 0.71, 'summary': 'Partly cloudy starting in the afternoon.', 'visibility': 7.91, 'temperatureMax': 41.58, 'moonPhase': 0.62, 'temperatureMin': 20.58, 'apparentTemperatureMaxTime': 346590000, 'apparentTemperatureMinTime': 346561200, 'apparentTemperatureMin': 14.98, 'icon': 'partly-cloudy-night', 'dewPoint': 20.64, 'apparentTemperatureMax': 41.58, 'windSpeed': 0.51, 'sunsetTime': 346592593, 'sunriseTime': 346559286, 'temperatureMaxTime': 346590000}]\n"
     ]
    }
   ],
   "source": [
    "print(forecast_1980['daily']['data'])"
   ]
  },
  {
   "cell_type": "code",
   "execution_count": 111,
   "metadata": {
    "collapsed": false
   },
   "outputs": [
    {
     "name": "stdout",
     "output_type": "stream",
     "text": [
      "On Christmas Day, 1980, temperatures ranged between 41.58 and 20.58 degrees Farenheit in Central Park\n"
     ]
    }
   ],
   "source": [
    "christmas_temp_1980 = forecast_1980['daily']['data']\n",
    "for item in christmas_temp_1980:\n",
    "    print(\"On Christmas Day, 1980, temperatures ranged between\", item['temperatureMax'], \"and\", item['temperatureMin'], \"degrees Farenheit at Central Park\")"
   ]
  },
  {
   "cell_type": "code",
   "execution_count": 106,
   "metadata": {
    "collapsed": false
   },
   "outputs": [
    {
     "name": "stdout",
     "output_type": "stream",
     "text": [
      "dict_keys(['offset', 'daily', 'hourly', 'timezone', 'flags', 'latitude', 'currently', 'longitude'])\n"
     ]
    }
   ],
   "source": [
    "import requests\n",
    "response = requests.get(\"https://api.forecast.io/forecast/c9d64e80aa02ca113562a075e57256d7/40.7829,73.9654,662083200\")\n",
    "forecast_1990 = response.json()\n",
    "print(forecast_1990.keys())"
   ]
  },
  {
   "cell_type": "code",
   "execution_count": 108,
   "metadata": {
    "collapsed": false
   },
   "outputs": [
    {
     "name": "stdout",
     "output_type": "stream",
     "text": [
      "On Christmas Day, 1990, temperatures range between 32.27 and 22.41 degrees Farenheit in Central Park\n"
     ]
    }
   ],
   "source": [
    "christmas_temp_1990 = forecast_1990['daily']['data']\n",
    "for item in christmas_temp_1990:\n",
    "    print(\"On Christmas Day, 1990, temperatures ranged between\", item['temperatureMax'], \"and\", item['temperatureMin'], \"degrees Farenheit at Central Park\")"
   ]
  },
  {
   "cell_type": "code",
   "execution_count": 109,
   "metadata": {
    "collapsed": false
   },
   "outputs": [
    {
     "name": "stdout",
     "output_type": "stream",
     "text": [
      "dict_keys(['offset', 'daily', 'hourly', 'timezone', 'flags', 'latitude', 'currently', 'longitude'])\n"
     ]
    }
   ],
   "source": [
    "import requests\n",
    "response = requests.get(\"https://api.forecast.io/forecast/c9d64e80aa02ca113562a075e57256d7/40.7829,73.9654,977702400\")\n",
    "forecast_2000 = response.json()\n",
    "print(forecast_2000.keys())"
   ]
  },
  {
   "cell_type": "code",
   "execution_count": 112,
   "metadata": {
    "collapsed": false
   },
   "outputs": [
    {
     "name": "stdout",
     "output_type": "stream",
     "text": [
      "On Christmas Day, 2000, temperatures ranged between 42.25 and 25.05 degrees Farenheit at Central Park\n"
     ]
    }
   ],
   "source": [
    "christmas_temp_2000 = forecast_2000['daily']['data']\n",
    "for item in christmas_temp_2000:\n",
    "    print(\"On Christmas Day, 2000, temperatures ranged between\", item['temperatureMax'], \"and\", item['temperatureMin'], \"degrees Farenheit at Central Park\")"
   ]
  },
  {
   "cell_type": "code",
   "execution_count": null,
   "metadata": {
    "collapsed": true
   },
   "outputs": [],
   "source": []
  },
  {
   "cell_type": "code",
   "execution_count": null,
   "metadata": {
    "collapsed": true
   },
   "outputs": [],
   "source": []
  }
 ],
 "metadata": {
  "kernelspec": {
   "display_name": "Python 3",
   "language": "python",
   "name": "python3"
  },
  "language_info": {
   "codemirror_mode": {
    "name": "ipython",
    "version": 3
   },
   "file_extension": ".py",
   "mimetype": "text/x-python",
   "name": "python",
   "nbconvert_exporter": "python",
   "pygments_lexer": "ipython3",
   "version": "3.5.1"
  }
 },
 "nbformat": 4,
 "nbformat_minor": 0
}
