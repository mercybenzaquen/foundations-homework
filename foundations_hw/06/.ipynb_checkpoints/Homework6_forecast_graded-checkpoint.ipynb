{
 "cells": [
  {
   "cell_type": "markdown",
   "metadata": {},
   "source": [
    "# 1) Make a request from the Forecast.io API for where you were born (or lived, or want to visit!).\n",
    "\n",
    "Tip: Once you've imported the JSON into a variable, check the timezone's name to make sure it seems like it got the right part of the world!\n",
    "Tip 2: How is north vs. south and east vs. west latitude/longitude represented? Is it the normal North/South/East/West?"
   ]
  },
  {
   "cell_type": "markdown",
   "metadata": {},
   "source": [
    "Graded = 6/7"
   ]
  },
  {
   "cell_type": "code",
   "execution_count": 1,
   "metadata": {
    "collapsed": false
   },
   "outputs": [
    {
     "ename": "SyntaxError",
     "evalue": "invalid syntax (<ipython-input-1-f3a60b769640>, line 3)",
     "output_type": "error",
     "traceback": [
      "\u001b[0;36m  File \u001b[0;32m\"<ipython-input-1-f3a60b769640>\"\u001b[0;36m, line \u001b[0;32m3\u001b[0m\n\u001b[0;31m    https://api.forecast.io/forecast/c9d64e80aa02ca113562a075e57256d7/10.4806,66.9036\u001b[0m\n\u001b[0m         ^\u001b[0m\n\u001b[0;31mSyntaxError\u001b[0m\u001b[0;31m:\u001b[0m invalid syntax\n"
     ]
    }
   ],
   "source": [
    "#api KEY =  c9d64e80aa02ca113562a075e57256d7\n",
    "\n",
    "https://api.forecast.io/forecast/c9d64e80aa02ca113562a075e57256d7/10.4806,66.9036"
   ]
  },
  {
   "cell_type": "code",
   "execution_count": 2,
   "metadata": {
    "collapsed": false
   },
   "outputs": [
    {
     "name": "stdout",
     "output_type": "stream",
     "text": [
      "dict_keys(['offset', 'flags', 'longitude', 'hourly', 'latitude', 'currently', 'timezone', 'daily'])\n"
     ]
    }
   ],
   "source": [
    "import requests\n",
    "response = requests.get(\"https://api.forecast.io/forecast/c9d64e80aa02ca113562a075e57256d7/10.4806,66.9036\")\n",
    "forecast = response.json()\n",
    "print(forecast.keys())"
   ]
  },
  {
   "cell_type": "code",
   "execution_count": 3,
   "metadata": {
    "collapsed": false
   },
   "outputs": [
    {
     "name": "stdout",
     "output_type": "stream",
     "text": [
      "Etc/GMT-4\n"
     ]
    }
   ],
   "source": [
    "print(forecast['timezone']) #yeap, this is my country's timezone"
   ]
  },
  {
   "cell_type": "code",
   "execution_count": 4,
   "metadata": {
    "collapsed": false
   },
   "outputs": [
    {
     "name": "stdout",
     "output_type": "stream",
     "text": [
      "10.4806 66.9036\n"
     ]
    }
   ],
   "source": [
    "print(forecast['latitude'],forecast['longitude'] ) #nothing different with the latitude and longitude"
   ]
  },
  {
   "cell_type": "markdown",
   "metadata": {},
   "source": [
    "# 2) What's the current wind speed? How much warmer does it feel than it actually is?\n"
   ]
  },
  {
   "cell_type": "code",
   "execution_count": 5,
   "metadata": {
    "collapsed": false
   },
   "outputs": [
    {
     "name": "stdout",
     "output_type": "stream",
     "text": [
      "{'precipIntensity': 0.0214, 'dewPoint': 76.03, 'windSpeed': 19.38, 'humidity': 0.77, 'apparentTemperature': 92.7, 'time': 1466217553, 'cloudCover': 0.95, 'windBearing': 271, 'ozone': 268.55, 'temperature': 83.88, 'summary': 'Light Rain', 'precipType': 'rain', 'pressure': 1010.35, 'icon': 'rain', 'precipProbability': 0.54}\n"
     ]
    }
   ],
   "source": [
    "print(forecast['currently'])"
   ]
  },
  {
   "cell_type": "code",
   "execution_count": 6,
   "metadata": {
    "collapsed": false
   },
   "outputs": [
    {
     "name": "stdout",
     "output_type": "stream",
     "text": [
      "The actual current wind speed is 19.38 miles per hour\n"
     ]
    }
   ],
   "source": [
    "print(\"The actual current wind speed is\", forecast['currently']['windSpeed'], \"miles per hour\")"
   ]
  },
  {
   "cell_type": "code",
   "execution_count": 7,
   "metadata": {
    "collapsed": false
   },
   "outputs": [
    {
     "name": "stdout",
     "output_type": "stream",
     "text": [
      "Right know in Caracas the temperature feels like 92.7\n"
     ]
    }
   ],
   "source": [
    "print(\"Right know in Caracas the temperature feels like\",forecast['currently']['apparentTemperature'])"
   ]
  },
  {
   "cell_type": "code",
   "execution_count": 8,
   "metadata": {
    "collapsed": false
   },
   "outputs": [
    {
     "name": "stdout",
     "output_type": "stream",
     "text": [
      "Right know in Caracas the temperature is 83.88\n"
     ]
    }
   ],
   "source": [
    "print(\"Right know in Caracas the temperature is\",forecast['currently']['temperature'])"
   ]
  },
  {
   "cell_type": "code",
   "execution_count": 9,
   "metadata": {
    "collapsed": false
   },
   "outputs": [
    {
     "name": "stdout",
     "output_type": "stream",
     "text": [
      "It feels 8.820000000000007 degrees warmer than the actual temperature\n"
     ]
    }
   ],
   "source": [
    "print(\"It feels\", forecast['currently']['apparentTemperature']-forecast['currently']['temperature'], \"degrees warmer than the actual temperature\")"
   ]
  },
  {
   "cell_type": "markdown",
   "metadata": {},
   "source": [
    "# 3) The first daily forecast is the forecast for today. For the place you decided on up above, how much of the moon is currently visible?"
   ]
  },
  {
   "cell_type": "code",
   "execution_count": 10,
   "metadata": {
    "collapsed": false
   },
   "outputs": [
    {
     "name": "stdout",
     "output_type": "stream",
     "text": [
      "dict_keys(['data', 'summary', 'icon'])\n"
     ]
    }
   ],
   "source": [
    "print(forecast['daily'].keys())"
   ]
  },
  {
   "cell_type": "code",
   "execution_count": 11,
   "metadata": {
    "collapsed": false
   },
   "outputs": [
    {
     "data": {
      "text/plain": [
       "[{'apparentTemperatureMax': 93.97,\n",
       "  'apparentTemperatureMaxTime': 1466244000,\n",
       "  'apparentTemperatureMin': 92.48,\n",
       "  'apparentTemperatureMinTime': 1466258400,\n",
       "  'cloudCover': 0.93,\n",
       "  'dewPoint': 76.35,\n",
       "  'humidity': 0.78,\n",
       "  'icon': 'rain',\n",
       "  'moonPhase': 0.43,\n",
       "  'ozone': 266.59,\n",
       "  'precipIntensity': 0.0087,\n",
       "  'precipIntensityMax': 0.0231,\n",
       "  'precipIntensityMaxTime': 1466218800,\n",
       "  'precipProbability': 0.55,\n",
       "  'precipType': 'rain',\n",
       "  'pressure': 1009.9,\n",
       "  'summary': 'Light rain throughout the day.',\n",
       "  'sunriseTime': 1466212366,\n",
       "  'sunsetTime': 1466258216,\n",
       "  'temperatureMax': 84.15,\n",
       "  'temperatureMaxTime': 1466244000,\n",
       "  'temperatureMin': 83.63,\n",
       "  'temperatureMinTime': 1466258400,\n",
       "  'time': 1466193600,\n",
       "  'windBearing': 273,\n",
       "  'windSpeed': 19},\n",
       " {'apparentTemperatureMax': 102.35,\n",
       "  'apparentTemperatureMaxTime': 1466316000,\n",
       "  'apparentTemperatureMin': 88.2,\n",
       "  'apparentTemperatureMinTime': 1466362800,\n",
       "  'cloudCover': 0.99,\n",
       "  'dewPoint': 76.33,\n",
       "  'humidity': 0.77,\n",
       "  'icon': 'rain',\n",
       "  'moonPhase': 0.46,\n",
       "  'ozone': 267.09,\n",
       "  'precipIntensity': 0.0106,\n",
       "  'precipIntensityMax': 0.0225,\n",
       "  'precipIntensityMaxTime': 1466348400,\n",
       "  'precipProbability': 0.54,\n",
       "  'precipType': 'rain',\n",
       "  'pressure': 1009.26,\n",
       "  'summary': 'Light rain throughout the day.',\n",
       "  'sunriseTime': 1466298777,\n",
       "  'sunsetTime': 1466344629,\n",
       "  'temperatureMax': 87.41,\n",
       "  'temperatureMaxTime': 1466316000,\n",
       "  'temperatureMin': 82.13,\n",
       "  'temperatureMinTime': 1466362800,\n",
       "  'time': 1466280000,\n",
       "  'windBearing': 274,\n",
       "  'windSpeed': 21.86},\n",
       " {'apparentTemperatureMax': 99.17,\n",
       "  'apparentTemperatureMaxTime': 1466449200,\n",
       "  'apparentTemperatureMin': 88.74,\n",
       "  'apparentTemperatureMinTime': 1466373600,\n",
       "  'cloudCover': 0.95,\n",
       "  'dewPoint': 75.63,\n",
       "  'humidity': 0.77,\n",
       "  'icon': 'rain',\n",
       "  'moonPhase': 0.48,\n",
       "  'ozone': 269.04,\n",
       "  'precipIntensity': 0.0136,\n",
       "  'precipIntensityMax': 0.0215,\n",
       "  'precipIntensityMaxTime': 1466370000,\n",
       "  'precipProbability': 0.54,\n",
       "  'precipType': 'rain',\n",
       "  'pressure': 1007.88,\n",
       "  'summary': 'Light rain throughout the day.',\n",
       "  'sunriseTime': 1466385189,\n",
       "  'sunsetTime': 1466431042,\n",
       "  'temperatureMax': 86.3,\n",
       "  'temperatureMaxTime': 1466449200,\n",
       "  'temperatureMin': 82.31,\n",
       "  'temperatureMinTime': 1466373600,\n",
       "  'time': 1466366400,\n",
       "  'windBearing': 271,\n",
       "  'windSpeed': 23.22},\n",
       " {'apparentTemperatureMax': 98.85,\n",
       "  'apparentTemperatureMaxTime': 1466510400,\n",
       "  'apparentTemperatureMin': 88.62,\n",
       "  'apparentTemperatureMinTime': 1466467200,\n",
       "  'cloudCover': 0.97,\n",
       "  'dewPoint': 76.11,\n",
       "  'humidity': 0.77,\n",
       "  'icon': 'rain',\n",
       "  'moonPhase': 0.53,\n",
       "  'ozone': 269.69,\n",
       "  'precipIntensity': 0.0252,\n",
       "  'precipIntensityMax': 0.0424,\n",
       "  'precipIntensityMaxTime': 1466467200,\n",
       "  'precipProbability': 0.61,\n",
       "  'precipType': 'rain',\n",
       "  'pressure': 1007.15,\n",
       "  'summary': 'Light rain throughout the day.',\n",
       "  'sunriseTime': 1466471601,\n",
       "  'sunsetTime': 1466517454,\n",
       "  'temperatureMax': 86.28,\n",
       "  'temperatureMaxTime': 1466510400,\n",
       "  'temperatureMin': 82.28,\n",
       "  'temperatureMinTime': 1466467200,\n",
       "  'time': 1466452800,\n",
       "  'windBearing': 260,\n",
       "  'windSpeed': 25.48},\n",
       " {'apparentTemperatureMax': 96.59,\n",
       "  'apparentTemperatureMaxTime': 1466600400,\n",
       "  'apparentTemperatureMin': 90.09,\n",
       "  'apparentTemperatureMinTime': 1466586000,\n",
       "  'cloudCover': 0.97,\n",
       "  'dewPoint': 75.63,\n",
       "  'humidity': 0.76,\n",
       "  'icon': 'rain',\n",
       "  'moonPhase': 0.56,\n",
       "  'ozone': 266.75,\n",
       "  'precipIntensity': 0.0473,\n",
       "  'precipIntensityMax': 0.0711,\n",
       "  'precipIntensityMaxTime': 1466604000,\n",
       "  'precipProbability': 0.67,\n",
       "  'precipType': 'rain',\n",
       "  'pressure': 1007.47,\n",
       "  'summary': 'Rain throughout the day.',\n",
       "  'sunriseTime': 1466558013,\n",
       "  'sunsetTime': 1466603866,\n",
       "  'temperatureMax': 85.54,\n",
       "  'temperatureMaxTime': 1466600400,\n",
       "  'temperatureMin': 82.96,\n",
       "  'temperatureMinTime': 1466586000,\n",
       "  'time': 1466539200,\n",
       "  'windBearing': 255,\n",
       "  'windSpeed': 28.43},\n",
       " {'apparentTemperatureMax': 95.26,\n",
       "  'apparentTemperatureMaxTime': 1466625600,\n",
       "  'apparentTemperatureMin': 89.34,\n",
       "  'apparentTemperatureMinTime': 1466647200,\n",
       "  'cloudCover': 0.94,\n",
       "  'dewPoint': 75.1,\n",
       "  'humidity': 0.75,\n",
       "  'icon': 'rain',\n",
       "  'moonPhase': 0.59,\n",
       "  'ozone': 262.97,\n",
       "  'precipIntensity': 0.0516,\n",
       "  'precipIntensityMax': 0.0757,\n",
       "  'precipIntensityMaxTime': 1466654400,\n",
       "  'precipProbability': 0.67,\n",
       "  'precipType': 'rain',\n",
       "  'pressure': 1007.63,\n",
       "  'summary': 'Rain throughout the day.',\n",
       "  'sunriseTime': 1466644426,\n",
       "  'sunsetTime': 1466690277,\n",
       "  'temperatureMax': 85.25,\n",
       "  'temperatureMaxTime': 1466625600,\n",
       "  'temperatureMin': 82.73,\n",
       "  'temperatureMinTime': 1466647200,\n",
       "  'time': 1466625600,\n",
       "  'windBearing': 256,\n",
       "  'windSpeed': 28.56},\n",
       " {'apparentTemperatureMax': 94.47,\n",
       "  'apparentTemperatureMaxTime': 1466712000,\n",
       "  'apparentTemperatureMin': 91.16,\n",
       "  'apparentTemperatureMinTime': 1466794800,\n",
       "  'cloudCover': 0.98,\n",
       "  'dewPoint': 75.54,\n",
       "  'humidity': 0.76,\n",
       "  'icon': 'rain',\n",
       "  'moonPhase': 0.63,\n",
       "  'ozone': 264.63,\n",
       "  'precipIntensity': 0.018,\n",
       "  'precipIntensityMax': 0.0466,\n",
       "  'precipIntensityMaxTime': 1466791200,\n",
       "  'precipProbability': 0.62,\n",
       "  'precipType': 'rain',\n",
       "  'pressure': 1007.43,\n",
       "  'summary': 'Light rain throughout the day.',\n",
       "  'sunriseTime': 1466730839,\n",
       "  'sunsetTime': 1466776688,\n",
       "  'temperatureMax': 84.99,\n",
       "  'temperatureMaxTime': 1466712000,\n",
       "  'temperatureMin': 83.51,\n",
       "  'temperatureMinTime': 1466794800,\n",
       "  'time': 1466712000,\n",
       "  'windBearing': 252,\n",
       "  'windSpeed': 28.61},\n",
       " {'apparentTemperatureMax': 93.14,\n",
       "  'apparentTemperatureMaxTime': 1466866800,\n",
       "  'apparentTemperatureMin': 90.34,\n",
       "  'apparentTemperatureMinTime': 1466812800,\n",
       "  'cloudCover': 0.96,\n",
       "  'dewPoint': 75.09,\n",
       "  'humidity': 0.75,\n",
       "  'icon': 'rain',\n",
       "  'moonPhase': 0.66,\n",
       "  'ozone': 264.64,\n",
       "  'precipIntensity': 0.014,\n",
       "  'precipIntensityMax': 0.0341,\n",
       "  'precipIntensityMaxTime': 1466798400,\n",
       "  'precipProbability': 0.59,\n",
       "  'precipType': 'rain',\n",
       "  'pressure': 1007.37,\n",
       "  'summary': 'Light rain throughout the day.',\n",
       "  'sunriseTime': 1466817252,\n",
       "  'sunsetTime': 1466863099,\n",
       "  'temperatureMax': 84.39,\n",
       "  'temperatureMaxTime': 1466866800,\n",
       "  'temperatureMin': 83.14,\n",
       "  'temperatureMinTime': 1466812800,\n",
       "  'time': 1466798400,\n",
       "  'windBearing': 256,\n",
       "  'windSpeed': 28.14}]"
      ]
     },
     "execution_count": 11,
     "metadata": {},
     "output_type": "execute_result"
    }
   ],
   "source": [
    "forecast['daily']['data']"
   ]
  },
  {
   "cell_type": "code",
   "execution_count": 12,
   "metadata": {
    "collapsed": false
   },
   "outputs": [
    {
     "name": "stdout",
     "output_type": "stream",
     "text": [
      "<class 'list'>\n",
      "{'precipIntensity': 0.0087, 'precipIntensityMaxTime': 1466218800, 'windSpeed': 19, 'precipType': 'rain', 'sunriseTime': 1466212366, 'ozone': 266.59, 'apparentTemperatureMaxTime': 1466244000, 'moonPhase': 0.43, 'temperatureMinTime': 1466258400, 'pressure': 1009.9, 'temperatureMaxTime': 1466244000, 'dewPoint': 76.35, 'sunsetTime': 1466258216, 'humidity': 0.78, 'precipIntensityMax': 0.0231, 'time': 1466193600, 'cloudCover': 0.93, 'windBearing': 273, 'temperatureMin': 83.63, 'apparentTemperatureMin': 92.48, 'temperatureMax': 84.15, 'precipProbability': 0.55, 'apparentTemperatureMax': 93.97, 'summary': 'Light rain throughout the day.', 'apparentTemperatureMinTime': 1466258400, 'icon': 'rain'}\n"
     ]
    }
   ],
   "source": [
    "print(type(forecast['daily']['data']))\n",
    "print(forecast['daily']['data'][0])\n"
   ]
  },
  {
   "cell_type": "code",
   "execution_count": 13,
   "metadata": {
    "collapsed": false
   },
   "outputs": [],
   "source": [
    "first_daily_forecast = forecast['daily']['data']"
   ]
  },
  {
   "cell_type": "code",
   "execution_count": 14,
   "metadata": {
    "collapsed": false
   },
   "outputs": [
    {
     "name": "stdout",
     "output_type": "stream",
     "text": [
      "In the first daily forecast 0.43 of the moon is currently visible\n"
     ]
    }
   ],
   "source": [
    "for item in first_daily_forecast[:1]: \n",
    "    print(\"In the first daily forecast\", item['moonPhase'], \"of the moon is currently visible\")"
   ]
  },
  {
   "cell_type": "markdown",
   "metadata": {},
   "source": [
    "# 4) What's the difference between the high and low temperatures for today?"
   ]
  },
  {
   "cell_type": "code",
   "execution_count": 15,
   "metadata": {
    "collapsed": false
   },
   "outputs": [
    {
     "name": "stdout",
     "output_type": "stream",
     "text": [
      "The min temperature for the day is: 83.63 degrees Fahrenheit\n",
      "The max temperature for the day is: 84.15 degrees Fahrenheit\n",
      "The difference between min and max temperatures is of 0.5200000000000102 degrees Fahrenheit\n"
     ]
    }
   ],
   "source": [
    "for item in first_daily_forecast[:1]:\n",
    "    print(\"The min temperature for the day is:\", item['temperatureMin'], \"degrees Fahrenheit\")\n",
    "    print(\"The max temperature for the day is:\", item['temperatureMax'], \"degrees Fahrenheit\")\n",
    "    print(\"The difference between min and max temperatures is of\", item['temperatureMax']-item['temperatureMin'],\"degrees Fahrenheit\" )"
   ]
  },
  {
   "cell_type": "markdown",
   "metadata": {},
   "source": [
    "# 5) Loop through the daily forecast, printing out the next week's worth of predictions. I'd like to know the high temperature for each day, and whether it's hot, warm, or cold, based on what temperatures you think are hot, warm or cold.\n"
   ]
  },
  {
   "cell_type": "code",
   "execution_count": 16,
   "metadata": {
    "collapsed": false
   },
   "outputs": [
    {
     "name": "stdout",
     "output_type": "stream",
     "text": [
      "The high temperature for today is 84.15 degrees Farenheit\n",
      "It is going to be HOT!\n",
      "The high temperature for today is 87.41 degrees Farenheit\n",
      "It is going to be HOT!\n",
      "The high temperature for today is 86.3 degrees Farenheit\n",
      "It is going to be HOT!\n",
      "The high temperature for today is 86.28 degrees Farenheit\n",
      "It is going to be HOT!\n",
      "The high temperature for today is 85.54 degrees Farenheit\n",
      "It is going to be HOT!\n",
      "The high temperature for today is 85.25 degrees Farenheit\n",
      "It is going to be HOT!\n",
      "The high temperature for today is 84.99 degrees Farenheit\n",
      "It is going to be HOT!\n",
      "The high temperature for today is 84.39 degrees Farenheit\n",
      "It is going to be HOT!\n"
     ]
    }
   ],
   "source": [
    "for item in first_daily_forecast:\n",
    "    if item['temperatureMax'] > 80:\n",
    "        print(\"The high temperature for today is\", item['temperatureMax'],\"degrees Farenheit\" )\n",
    "        print(\"It is going to be HOT!\")\n",
    "    else:\n",
    "        print(\"The high temperature for today is\", item['temperatureMax'],\"degrees Farenheit\" )\n",
    "        print(\"It will not be as hot as it usually is!\")\n",
    "            "
   ]
  },
  {
   "cell_type": "markdown",
   "metadata": {},
   "source": [
    "# 6) What's the weather looking like for the rest of today in Miami, Florida? I'd like to know the temperature for every hour, and if it's going to have cloud cover of more than 0.5 say \"{temperature} and cloudy\" instead of just the temperature."
   ]
  },
  {
   "cell_type": "code",
   "execution_count": 17,
   "metadata": {
    "collapsed": false
   },
   "outputs": [
    {
     "name": "stdout",
     "output_type": "stream",
     "text": [
      "dict_keys(['offset', 'flags', 'longitude', 'hourly', 'latitude', 'currently', 'timezone', 'daily', 'minutely'])\n"
     ]
    }
   ],
   "source": [
    "import requests\n",
    "response = requests.get(\"https://api.forecast.io/forecast/c9d64e80aa02ca113562a075e57256d7/25.7742700,-80.1936600\")\n",
    "forecast_miami = response.json()\n",
    "print(forecast_miami.keys())"
   ]
  },
  {
   "cell_type": "code",
   "execution_count": 18,
   "metadata": {
    "collapsed": false
   },
   "outputs": [
    {
     "name": "stdout",
     "output_type": "stream",
     "text": [
      "<class 'dict'>\n",
      "dict_keys(['data', 'summary', 'icon'])\n",
      "{'precipIntensity': 0, 'dewPoint': 70.18, 'windSpeed': 6.05, 'humidity': 0.78, 'apparentTemperature': 77.54, 'time': 1466215200, 'cloudCover': 0.09, 'windBearing': 238, 'ozone': 291.94, 'temperature': 77.54, 'summary': 'Clear', 'pressure': 1015.18, 'icon': 'clear-night', 'precipProbability': 0, 'visibility': 9.85}\n"
     ]
    }
   ],
   "source": [
    "print(type(forecast_miami['hourly']))\n",
    "print(forecast_miami['hourly'].keys())\n",
    "print(forecast_miami['hourly']['data'][0])\n",
    "\n",
    "forecast_miami_today = forecast_miami['hourly']['data']\n"
   ]
  },
  {
   "cell_type": "code",
   "execution_count": 19,
   "metadata": {
    "collapsed": false
   },
   "outputs": [
    {
     "name": "stdout",
     "output_type": "stream",
     "text": [
      "This is how the weather in Miami will look in the next hours\n",
      "It will be 77.54 degrees Farenheit\n",
      "It will be 78.63 degrees Farenheit\n",
      "It will be 78.68 degrees Farenheit\n",
      "It will be 78.49 degrees Farenheit\n",
      "It will be 77.48 degrees Farenheit\n",
      "It will be 75.98 degrees Farenheit\n",
      "It will be 76.61 degrees Farenheit\n",
      "It will be 77.29 degrees Farenheit\n",
      "It will be 77.96 degrees Farenheit and cloudy!\n",
      "It will be 78.47 degrees Farenheit and cloudy!\n",
      "It will be 80.01 degrees Farenheit and cloudy!\n",
      "It will be 81.94 degrees Farenheit and cloudy!\n",
      "It will be 84.54 degrees Farenheit and cloudy!\n",
      "It will be 87.41 degrees Farenheit and cloudy!\n",
      "It will be 89.79 degrees Farenheit and cloudy!\n",
      "It will be 91.71 degrees Farenheit and cloudy!\n",
      "It will be 92.86 degrees Farenheit and cloudy!\n",
      "It will be 92.01 degrees Farenheit and cloudy!\n",
      "It will be 91.46 degrees Farenheit and cloudy!\n",
      "It will be 90.29 degrees Farenheit and cloudy!\n",
      "It will be 89.46 degrees Farenheit and cloudy!\n",
      "It will be 87.99 degrees Farenheit and cloudy!\n",
      "It will be 86.52 degrees Farenheit and cloudy!\n",
      "It will be 85.25 degrees Farenheit and cloudy!\n",
      "It will be 85.58 degrees Farenheit and cloudy!\n",
      "It will be 84.64 degrees Farenheit and cloudy!\n",
      "It will be 83.5 degrees Farenheit and cloudy!\n",
      "It will be 82.34 degrees Farenheit and cloudy!\n",
      "It will be 81.47 degrees Farenheit and cloudy!\n",
      "It will be 80.97 degrees Farenheit\n",
      "It will be 80.76 degrees Farenheit\n",
      "It will be 80.84 degrees Farenheit\n",
      "It will be 81.04 degrees Farenheit\n",
      "It will be 81.5 degrees Farenheit and cloudy!\n",
      "It will be 82.41 degrees Farenheit and cloudy!\n",
      "It will be 84.14 degrees Farenheit and cloudy!\n",
      "It will be 86.29 degrees Farenheit\n",
      "It will be 88.01 degrees Farenheit\n",
      "It will be 89.01 degrees Farenheit\n",
      "It will be 89.62 degrees Farenheit and cloudy!\n",
      "It will be 89.89 degrees Farenheit and cloudy!\n",
      "It will be 89.01 degrees Farenheit and cloudy!\n",
      "It will be 87.6 degrees Farenheit and cloudy!\n",
      "It will be 86.14 degrees Farenheit and cloudy!\n",
      "It will be 84.73 degrees Farenheit and cloudy!\n",
      "It will be 83.29 degrees Farenheit and cloudy!\n",
      "It will be 81.99 degrees Farenheit and cloudy!\n",
      "It will be 80.69 degrees Farenheit and cloudy!\n",
      "It will be 79.23 degrees Farenheit and cloudy!\n"
     ]
    }
   ],
   "source": [
    "print(\"This is how the weather in Miami will look in the next hours\")\n",
    "for item in forecast_miami_today:\n",
    "    if item['cloudCover'] > 0.5:\n",
    "        print(\"It will be\", item['temperature'],\"degrees Farenheit and cloudy!\")\n",
    "    else:\n",
    "        print(\"It will be\", item['temperature'], \"degrees Farenheit\")\n",
    "    "
   ]
  },
  {
   "cell_type": "markdown",
   "metadata": {},
   "source": [
    "# 7) What was the temperature in Central Park on Christmas Day, 1980? How about 1990? 2000?"
   ]
  },
  {
   "cell_type": "code",
   "execution_count": 20,
   "metadata": {
    "collapsed": false
   },
   "outputs": [],
   "source": [
    "#UNIX TIME 1980 : 346550400\n",
    "#1990: 662083200\n",
    "#2000:977702400\n",
    "\n"
   ]
  },
  {
   "cell_type": "code",
   "execution_count": 21,
   "metadata": {
    "collapsed": false
   },
   "outputs": [
    {
     "name": "stdout",
     "output_type": "stream",
     "text": [
      "dict_keys(['offset', 'flags', 'longitude', 'hourly', 'latitude', 'currently', 'timezone', 'daily'])\n"
     ]
    }
   ],
   "source": [
    "import requests\n",
    "response = requests.get(\"https://api.forecast.io/forecast/c9d64e80aa02ca113562a075e57256d7/40.7829,73.9654,346550400\")\n",
    "forecast_1980 = response.json()\n",
    "print(forecast_1980.keys())"
   ]
  },
  {
   "cell_type": "code",
   "execution_count": 22,
   "metadata": {
    "collapsed": false
   },
   "outputs": [
    {
     "name": "stdout",
     "output_type": "stream",
     "text": [
      "dict_keys(['data'])\n"
     ]
    }
   ],
   "source": [
    "print(forecast_1980['daily'].keys())"
   ]
  },
  {
   "cell_type": "code",
   "execution_count": 23,
   "metadata": {
    "collapsed": false
   },
   "outputs": [
    {
     "name": "stdout",
     "output_type": "stream",
     "text": [
      "[{'dewPoint': 20.64, 'sunsetTime': 346592593, 'precipType': 'snow', 'humidity': 0.71, 'sunriseTime': 346559286, 'windSpeed': 0.51, 'apparentTemperatureMaxTime': 346590000, 'time': 346528800, 'cloudCover': 0.36, 'windBearing': 88, 'temperatureMinTime': 346557600, 'apparentTemperatureMin': 14.98, 'temperatureMax': 41.58, 'moonPhase': 0.62, 'temperatureMin': 20.58, 'apparentTemperatureMax': 41.58, 'summary': 'Partly cloudy starting in the afternoon.', 'apparentTemperatureMinTime': 346561200, 'icon': 'partly-cloudy-night', 'temperatureMaxTime': 346590000, 'visibility': 7.91}]\n"
     ]
    }
   ],
   "source": [
    "print(forecast_1980['daily']['data'])"
   ]
  },
  {
   "cell_type": "code",
   "execution_count": 24,
   "metadata": {
    "collapsed": false
   },
   "outputs": [
    {
     "name": "stdout",
     "output_type": "stream",
     "text": [
      "On Christmas Day, 1980, temperatures ranged between 41.58 and 20.58 degrees Farenheit at Central Park\n"
     ]
    }
   ],
   "source": [
    "christmas_temp_1980 = forecast_1980['daily']['data']\n",
    "for item in christmas_temp_1980:\n",
    "    print(\"On Christmas Day, 1980, temperatures ranged between\", item['temperatureMax'], \"and\", item['temperatureMin'], \"degrees Farenheit at Central Park\")"
   ]
  },
  {
   "cell_type": "markdown",
   "metadata": {},
   "source": [
    "TA-Stephan: Close, but these should all be 40.7829,-73.9654,662083200\n",
    "\n",
    "not \n",
    "\n",
    "40.7829,73.9654,662083200 (missed the negative)\n",
    "\n"
   ]
  },
  {
   "cell_type": "code",
   "execution_count": 25,
   "metadata": {
    "collapsed": false
   },
   "outputs": [
    {
     "name": "stdout",
     "output_type": "stream",
     "text": [
      "dict_keys(['offset', 'flags', 'longitude', 'hourly', 'latitude', 'currently', 'timezone', 'daily'])\n"
     ]
    }
   ],
   "source": [
    "import requests\n",
    "response = requests.get(\"https://api.forecast.io/forecast/c9d64e80aa02ca113562a075e57256d7/40.7829,73.9654,662083200\")\n",
    "forecast_1990 = response.json()\n",
    "print(forecast_1990.keys())"
   ]
  },
  {
   "cell_type": "code",
   "execution_count": 26,
   "metadata": {
    "collapsed": false
   },
   "outputs": [
    {
     "name": "stdout",
     "output_type": "stream",
     "text": [
      "On Christmas Day, 1990, temperatures ranged between 32.27 and 22.41 degrees Farenheit at Central Park\n"
     ]
    }
   ],
   "source": [
    "christmas_temp_1990 = forecast_1990['daily']['data']\n",
    "for item in christmas_temp_1990:\n",
    "    print(\"On Christmas Day, 1990, temperatures ranged between\", item['temperatureMax'], \"and\", item['temperatureMin'], \"degrees Farenheit at Central Park\")"
   ]
  },
  {
   "cell_type": "code",
   "execution_count": 31,
   "metadata": {
    "collapsed": false
   },
   "outputs": [
    {
     "name": "stdout",
     "output_type": "stream",
     "text": [
      "dict_keys(['offset', 'flags', 'longitude', 'hourly', 'latitude', 'currently', 'timezone', 'daily'])\n"
     ]
    }
   ],
   "source": [
    "import requests\n",
    "response = requests.get(\"https://api.forecast.io/forecast/c9d64e80aa02ca113562a075e57256d7/40.7829,73.9654,977702400\")\n",
    "forecast_2000 = response.json()\n",
    "print(forecast_2000.keys())"
   ]
  },
  {
   "cell_type": "code",
   "execution_count": 32,
   "metadata": {
    "collapsed": false
   },
   "outputs": [
    {
     "name": "stdout",
     "output_type": "stream",
     "text": [
      "On Christmas Day, 2000, temperatures ranged between 42.25 and 25.05 degrees Farenheit at Central Park\n"
     ]
    }
   ],
   "source": [
    "christmas_temp_2000 = forecast_2000['daily']['data']\n",
    "for item in christmas_temp_2000:\n",
    "    print(\"On Christmas Day, 2000, temperatures ranged between\", item['temperatureMax'], \"and\", item['temperatureMin'], \"degrees Farenheit at Central Park\")"
   ]
  },
  {
   "cell_type": "code",
   "execution_count": null,
   "metadata": {
    "collapsed": true
   },
   "outputs": [],
   "source": []
  },
  {
   "cell_type": "code",
   "execution_count": null,
   "metadata": {
    "collapsed": true
   },
   "outputs": [],
   "source": []
  }
 ],
 "metadata": {
  "kernelspec": {
   "display_name": "Python 3",
   "language": "python",
   "name": "python3"
  },
  "language_info": {
   "codemirror_mode": {
    "name": "ipython",
    "version": 3
   },
   "file_extension": ".py",
   "mimetype": "text/x-python",
   "name": "python",
   "nbconvert_exporter": "python",
   "pygments_lexer": "ipython3",
   "version": "3.5.1"
  }
 },
 "nbformat": 4,
 "nbformat_minor": 0
}
