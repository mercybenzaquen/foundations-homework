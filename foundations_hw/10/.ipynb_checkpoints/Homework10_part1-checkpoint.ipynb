{
 "cells": [
  {
   "cell_type": "code",
   "execution_count": 1,
   "metadata": {
    "collapsed": true
   },
   "outputs": [],
   "source": [
    "import requests"
   ]
  },
  {
   "cell_type": "code",
   "execution_count": 2,
   "metadata": {
    "collapsed": false
   },
   "outputs": [
    {
     "name": "stdout",
     "output_type": "stream",
     "text": [
      "dict_keys(['offset', 'timezone', 'currently', 'latitude', 'longitude', 'flags', 'daily', 'hourly'])\n"
     ]
    }
   ],
   "source": [
    "response = requests.get(\"https://api.forecast.io/forecast/c9d64e80aa02ca113562a075e57256d7/40.7128,74.0059\")\n",
    "forecast = response.json()\n",
    "print(forecast.keys())"
   ]
  },
  {
   "cell_type": "code",
   "execution_count": 3,
   "metadata": {
    "collapsed": false
   },
   "outputs": [
    {
     "data": {
      "text/plain": [
       "dict_keys(['summary', 'icon', 'data'])"
      ]
     },
     "execution_count": 3,
     "metadata": {},
     "output_type": "execute_result"
    }
   ],
   "source": [
    "forecast['daily'].keys()"
   ]
  },
  {
   "cell_type": "code",
   "execution_count": 4,
   "metadata": {
    "collapsed": false
   },
   "outputs": [
    {
     "data": {
      "text/plain": [
       "[{'apparentTemperatureMax': 57.32,\n",
       "  'apparentTemperatureMaxTime': 1467626400,\n",
       "  'apparentTemperatureMin': 44.22,\n",
       "  'apparentTemperatureMinTime': 1467590400,\n",
       "  'cloudCover': 0.29,\n",
       "  'dewPoint': 37.57,\n",
       "  'humidity': 0.6,\n",
       "  'icon': 'rain',\n",
       "  'moonPhase': 0.99,\n",
       "  'ozone': 291.67,\n",
       "  'precipIntensity': 0.0097,\n",
       "  'precipIntensityMax': 0.0226,\n",
       "  'precipIntensityMaxTime': 1467640800,\n",
       "  'precipProbability': 0.53,\n",
       "  'precipType': 'rain',\n",
       "  'pressure': 1007.21,\n",
       "  'summary': 'Light rain starting in the afternoon.',\n",
       "  'sunriseTime': 1467589158,\n",
       "  'sunsetTime': 1467643184,\n",
       "  'temperatureMax': 57.32,\n",
       "  'temperatureMaxTime': 1467626400,\n",
       "  'temperatureMin': 44.22,\n",
       "  'temperatureMinTime': 1467590400,\n",
       "  'time': 1467568800,\n",
       "  'windBearing': 266,\n",
       "  'windSpeed': 4.78},\n",
       " {'apparentTemperatureMax': 55.75,\n",
       "  'apparentTemperatureMaxTime': 1467705600,\n",
       "  'apparentTemperatureMin': 43.12,\n",
       "  'apparentTemperatureMinTime': 1467676800,\n",
       "  'cloudCover': 0.92,\n",
       "  'dewPoint': 40.44,\n",
       "  'humidity': 0.71,\n",
       "  'icon': 'rain',\n",
       "  'moonPhase': 0.03,\n",
       "  'ozone': 295.6,\n",
       "  'precipIntensity': 0.0148,\n",
       "  'precipIntensityMax': 0.019,\n",
       "  'precipIntensityMaxTime': 1467666000,\n",
       "  'precipProbability': 0.51,\n",
       "  'precipType': 'rain',\n",
       "  'pressure': 1008,\n",
       "  'summary': 'Light rain throughout the day.',\n",
       "  'sunriseTime': 1467675593,\n",
       "  'sunsetTime': 1467729569,\n",
       "  'temperatureMax': 55.75,\n",
       "  'temperatureMaxTime': 1467705600,\n",
       "  'temperatureMin': 43.12,\n",
       "  'temperatureMinTime': 1467676800,\n",
       "  'time': 1467655200,\n",
       "  'windBearing': 269,\n",
       "  'windSpeed': 4.25},\n",
       " {'apparentTemperatureMax': 61.15,\n",
       "  'apparentTemperatureMaxTime': 1467799200,\n",
       "  'apparentTemperatureMin': 42.3,\n",
       "  'apparentTemperatureMinTime': 1467763200,\n",
       "  'cloudCover': 0.81,\n",
       "  'dewPoint': 37.52,\n",
       "  'humidity': 0.61,\n",
       "  'icon': 'rain',\n",
       "  'moonPhase': 0.07,\n",
       "  'ozone': 306.71,\n",
       "  'precipIntensity': 0.003,\n",
       "  'precipIntensityMax': 0.0063,\n",
       "  'precipIntensityMaxTime': 1467824400,\n",
       "  'precipProbability': 0.27,\n",
       "  'precipType': 'rain',\n",
       "  'pressure': 1010.71,\n",
       "  'summary': 'Drizzle starting in the evening.',\n",
       "  'sunriseTime': 1467762029,\n",
       "  'sunsetTime': 1467815953,\n",
       "  'temperatureMax': 61.15,\n",
       "  'temperatureMaxTime': 1467799200,\n",
       "  'temperatureMin': 42.3,\n",
       "  'temperatureMinTime': 1467763200,\n",
       "  'time': 1467741600,\n",
       "  'windBearing': 280,\n",
       "  'windSpeed': 3.95},\n",
       " {'apparentTemperatureMax': 60.58,\n",
       "  'apparentTemperatureMaxTime': 1467885600,\n",
       "  'apparentTemperatureMin': 43.01,\n",
       "  'apparentTemperatureMinTime': 1467849600,\n",
       "  'cloudCover': 0.85,\n",
       "  'dewPoint': 35.65,\n",
       "  'humidity': 0.56,\n",
       "  'icon': 'partly-cloudy-day',\n",
       "  'moonPhase': 0.1,\n",
       "  'ozone': 308.33,\n",
       "  'precipIntensity': 0.0024,\n",
       "  'precipIntensityMax': 0.0076,\n",
       "  'precipIntensityMaxTime': 1467835200,\n",
       "  'precipProbability': 0.35,\n",
       "  'precipType': 'rain',\n",
       "  'pressure': 1013.32,\n",
       "  'summary': 'Mostly cloudy throughout the day.',\n",
       "  'sunriseTime': 1467848466,\n",
       "  'sunsetTime': 1467902334,\n",
       "  'temperatureMax': 60.58,\n",
       "  'temperatureMaxTime': 1467885600,\n",
       "  'temperatureMin': 43.01,\n",
       "  'temperatureMinTime': 1467849600,\n",
       "  'time': 1467828000,\n",
       "  'windBearing': 279,\n",
       "  'windSpeed': 3.53},\n",
       " {'apparentTemperatureMax': 62.81,\n",
       "  'apparentTemperatureMaxTime': 1467972000,\n",
       "  'apparentTemperatureMin': 37.93,\n",
       "  'apparentTemperatureMinTime': 1467936000,\n",
       "  'cloudCover': 0.06,\n",
       "  'dewPoint': 29.29,\n",
       "  'humidity': 0.44,\n",
       "  'icon': 'clear-day',\n",
       "  'moonPhase': 0.13,\n",
       "  'ozone': 305.16,\n",
       "  'precipIntensity': 0,\n",
       "  'precipIntensityMax': 0,\n",
       "  'precipProbability': 0,\n",
       "  'pressure': 1012.42,\n",
       "  'summary': 'Clear throughout the day.',\n",
       "  'sunriseTime': 1467934904,\n",
       "  'sunsetTime': 1467988714,\n",
       "  'temperatureMax': 62.81,\n",
       "  'temperatureMaxTime': 1467972000,\n",
       "  'temperatureMin': 40.86,\n",
       "  'temperatureMinTime': 1467936000,\n",
       "  'time': 1467914400,\n",
       "  'windBearing': 248,\n",
       "  'windSpeed': 1.09},\n",
       " {'apparentTemperatureMax': 63.31,\n",
       "  'apparentTemperatureMaxTime': 1468058400,\n",
       "  'apparentTemperatureMin': 42.11,\n",
       "  'apparentTemperatureMinTime': 1468018800,\n",
       "  'cloudCover': 0,\n",
       "  'dewPoint': 26.39,\n",
       "  'humidity': 0.36,\n",
       "  'icon': 'clear-day',\n",
       "  'moonPhase': 0.17,\n",
       "  'ozone': 294.11,\n",
       "  'precipIntensity': 0,\n",
       "  'precipIntensityMax': 0,\n",
       "  'precipProbability': 0,\n",
       "  'pressure': 1010.12,\n",
       "  'summary': 'Clear throughout the day.',\n",
       "  'sunriseTime': 1468021344,\n",
       "  'sunsetTime': 1468075091,\n",
       "  'temperatureMax': 63.31,\n",
       "  'temperatureMaxTime': 1468058400,\n",
       "  'temperatureMin': 42.11,\n",
       "  'temperatureMinTime': 1468018800,\n",
       "  'time': 1468000800,\n",
       "  'windBearing': 290,\n",
       "  'windSpeed': 1.76},\n",
       " {'apparentTemperatureMax': 63.84,\n",
       "  'apparentTemperatureMaxTime': 1468144800,\n",
       "  'apparentTemperatureMin': 44.13,\n",
       "  'apparentTemperatureMinTime': 1468108800,\n",
       "  'cloudCover': 0,\n",
       "  'dewPoint': 31.98,\n",
       "  'humidity': 0.44,\n",
       "  'icon': 'clear-day',\n",
       "  'moonPhase': 0.2,\n",
       "  'ozone': 292.32,\n",
       "  'precipIntensity': 0.0008,\n",
       "  'precipIntensityMax': 0.0015,\n",
       "  'precipIntensityMaxTime': 1468152000,\n",
       "  'precipProbability': 0.03,\n",
       "  'precipType': 'rain',\n",
       "  'pressure': 1010.23,\n",
       "  'summary': 'Clear throughout the day.',\n",
       "  'sunriseTime': 1468107785,\n",
       "  'sunsetTime': 1468161467,\n",
       "  'temperatureMax': 63.84,\n",
       "  'temperatureMaxTime': 1468144800,\n",
       "  'temperatureMin': 44.13,\n",
       "  'temperatureMinTime': 1468108800,\n",
       "  'time': 1468087200,\n",
       "  'windBearing': 292,\n",
       "  'windSpeed': 1.9},\n",
       " {'apparentTemperatureMax': 66.22,\n",
       "  'apparentTemperatureMaxTime': 1468231200,\n",
       "  'apparentTemperatureMin': 43.48,\n",
       "  'apparentTemperatureMinTime': 1468191600,\n",
       "  'cloudCover': 0,\n",
       "  'dewPoint': 30.81,\n",
       "  'humidity': 0.4,\n",
       "  'icon': 'clear-day',\n",
       "  'moonPhase': 0.23,\n",
       "  'ozone': 283.52,\n",
       "  'precipIntensity': 0.0004,\n",
       "  'precipIntensityMax': 0.0008,\n",
       "  'precipIntensityMaxTime': 1468238400,\n",
       "  'precipProbability': 0.01,\n",
       "  'precipType': 'rain',\n",
       "  'pressure': 1009.41,\n",
       "  'summary': 'Clear throughout the day.',\n",
       "  'sunriseTime': 1468194227,\n",
       "  'sunsetTime': 1468247841,\n",
       "  'temperatureMax': 66.22,\n",
       "  'temperatureMaxTime': 1468231200,\n",
       "  'temperatureMin': 44.48,\n",
       "  'temperatureMinTime': 1468195200,\n",
       "  'time': 1468173600,\n",
       "  'windBearing': 293,\n",
       "  'windSpeed': 1.48}]"
      ]
     },
     "execution_count": 4,
     "metadata": {},
     "output_type": "execute_result"
    }
   ],
   "source": [
    "forecast['daily']['data']"
   ]
  },
  {
   "cell_type": "code",
   "execution_count": 5,
   "metadata": {
    "collapsed": false
   },
   "outputs": [
    {
     "data": {
      "text/plain": [
       "dict_keys(['dewPoint', 'temperature', 'time', 'windBearing', 'icon', 'cloudCover', 'pressure', 'windSpeed', 'apparentTemperature', 'summary', 'precipIntensity', 'precipProbability', 'precipType', 'ozone', 'humidity'])"
      ]
     },
     "execution_count": 5,
     "metadata": {},
     "output_type": "execute_result"
    }
   ],
   "source": [
    "forecast['currently'].keys()"
   ]
  },
  {
   "cell_type": "code",
   "execution_count": 6,
   "metadata": {
    "collapsed": true
   },
   "outputs": [],
   "source": [
    "current_temperature = forecast['currently']['temperature']"
   ]
  },
  {
   "cell_type": "code",
   "execution_count": 7,
   "metadata": {
    "collapsed": false
   },
   "outputs": [
    {
     "name": "stdout",
     "output_type": "stream",
     "text": [
      "51.2\n"
     ]
    }
   ],
   "source": [
    "print(current_temperature)"
   ]
  },
  {
   "cell_type": "code",
   "execution_count": 8,
   "metadata": {
    "collapsed": true
   },
   "outputs": [],
   "source": [
    "current_summary = forecast['currently']['summary']"
   ]
  },
  {
   "cell_type": "code",
   "execution_count": 9,
   "metadata": {
    "collapsed": false
   },
   "outputs": [
    {
     "name": "stdout",
     "output_type": "stream",
     "text": [
      "Light Rain\n"
     ]
    }
   ],
   "source": [
    "print(current_summary)"
   ]
  },
  {
   "cell_type": "code",
   "execution_count": 10,
   "metadata": {
    "collapsed": false
   },
   "outputs": [
    {
     "name": "stdout",
     "output_type": "stream",
     "text": [
      "{'dewPoint': 37.57, 'time': 1467568800, 'windBearing': 266, 'cloudCover': 0.29, 'windSpeed': 4.78, 'precipType': 'rain', 'sunriseTime': 1467589158, 'precipIntensityMaxTime': 1467640800, 'precipIntensity': 0.0097, 'precipProbability': 0.53, 'sunsetTime': 1467643184, 'moonPhase': 0.99, 'temperatureMaxTime': 1467626400, 'precipIntensityMax': 0.0226, 'apparentTemperatureMaxTime': 1467626400, 'apparentTemperatureMin': 44.22, 'ozone': 291.67, 'icon': 'rain', 'pressure': 1007.21, 'temperatureMinTime': 1467590400, 'summary': 'Light rain starting in the afternoon.', 'temperatureMax': 57.32, 'temperatureMin': 44.22, 'apparentTemperatureMax': 57.32, 'humidity': 0.6, 'apparentTemperatureMinTime': 1467590400}\n"
     ]
    }
   ],
   "source": [
    "daily_forecast = forecast['daily']['data'][0]\n",
    "print(daily_forecast)"
   ]
  },
  {
   "cell_type": "raw",
   "metadata": {},
   "source": [
    "day_forecast = forecast['daily']['data'][0]['apparentTemperatureMax'] \n",
    "print(day_forecast)\n",
    "temp_feeling = \"\"\n",
    "if day_forecast <= 63:\n",
    "    temp_feeling = 'cold'\n",
    "if (day_forecast > 63) & (day_forecast<= 75):\n",
    "    temp_feeling = 'moderate'\n",
    "if (day_forecast> 75) & (day_forecast<= 86):\n",
    "    temp_feeling =  'hot'\n",
    "if (day_forecast > 86):\n",
    "    temp_feeling = 'extreamly hot'\n",
    "print(temp_feeling)\n"
   ]
  },
  {
   "cell_type": "code",
   "execution_count": 17,
   "metadata": {
    "collapsed": false
   },
   "outputs": [
    {
     "ename": "NameError",
     "evalue": "name 'high_feeling_day' is not defined",
     "output_type": "error",
     "traceback": [
      "\u001b[0;31m---------------------------------------------------------------------------\u001b[0m",
      "\u001b[0;31mNameError\u001b[0m                                 Traceback (most recent call last)",
      "\u001b[0;32m<ipython-input-17-251a8c906a59>\u001b[0m in \u001b[0;36m<module>\u001b[0;34m()\u001b[0m\n\u001b[1;32m      1\u001b[0m \u001b[0mhigh_temp_day_forecast\u001b[0m\u001b[0;34m=\u001b[0m \u001b[0mforecast\u001b[0m\u001b[0;34m[\u001b[0m\u001b[0;34m'daily'\u001b[0m\u001b[0;34m]\u001b[0m\u001b[0;34m[\u001b[0m\u001b[0;34m'data'\u001b[0m\u001b[0;34m]\u001b[0m\u001b[0;34m[\u001b[0m\u001b[0;36m0\u001b[0m\u001b[0;34m]\u001b[0m\u001b[0;34m[\u001b[0m\u001b[0;34m'temperatureMax'\u001b[0m\u001b[0;34m]\u001b[0m\u001b[0;34m\u001b[0m\u001b[0m\n\u001b[0;32m----> 2\u001b[0;31m \u001b[0mprint\u001b[0m\u001b[0;34m(\u001b[0m\u001b[0mhigh_feeling_day\u001b[0m\u001b[0;34m)\u001b[0m\u001b[0;34m\u001b[0m\u001b[0m\n\u001b[0m",
      "\u001b[0;31mNameError\u001b[0m: name 'high_feeling_day' is not defined"
     ]
    }
   ],
   "source": [
    "high_temp_day_forecast= forecast['daily']['data'][0]['temperatureMax'] \n",
    "print(high_feeling_day_forecast)"
   ]
  },
  {
   "cell_type": "code",
   "execution_count": 12,
   "metadata": {
    "collapsed": false
   },
   "outputs": [
    {
     "name": "stdout",
     "output_type": "stream",
     "text": [
      "44.22\n"
     ]
    }
   ],
   "source": [
    "low_temp_day_forecast= forecast['daily']['data'][0]['temperatureMin'] \n",
    "print(low_temp_day_forecast)"
   ]
  },
  {
   "cell_type": "code",
   "execution_count": 13,
   "metadata": {
    "collapsed": false
   },
   "outputs": [
    {
     "name": "stdout",
     "output_type": "stream",
     "text": [
      "Expect some rain! Bring your umbrella!\n"
     ]
    }
   ],
   "source": [
    "rain_forecast= forecast['daily']['data'][0]['precipIntensity']\n",
    "rain_warning = \"\"\n",
    "if rain_forecast <= 0:\n",
    "    rain_warning = ''\n",
    "if rain_forecast > 0:\n",
    "    rain_warning = 'Expect some rain! Bring your umbrella!'\n",
    "print(rain_warning)"
   ]
  },
  {
   "cell_type": "code",
   "execution_count": 14,
   "metadata": {
    "collapsed": false
   },
   "outputs": [
    {
     "ename": "NameError",
     "evalue": "name 'temp_feeling' is not defined",
     "output_type": "error",
     "traceback": [
      "\u001b[0;31m---------------------------------------------------------------------------\u001b[0m",
      "\u001b[0;31mNameError\u001b[0m                                 Traceback (most recent call last)",
      "\u001b[0;32m<ipython-input-14-deb5d0c2c0b8>\u001b[0m in \u001b[0;36m<module>\u001b[0;34m()\u001b[0m\n\u001b[0;32m----> 1\u001b[0;31m \u001b[0mdaily_mail\u001b[0m \u001b[0;34m=\u001b[0m \u001b[0;34m\"Right now it is\"\u001b[0m\u001b[0;34m,\u001b[0m \u001b[0mcurrent_temperature\u001b[0m\u001b[0;34m,\u001b[0m \u001b[0;34m\"degrees out and\"\u001b[0m\u001b[0;34m,\u001b[0m \u001b[0mcurrent_summary\u001b[0m\u001b[0;34m,\u001b[0m\u001b[0;34m\". Today will be\"\u001b[0m\u001b[0;34m,\u001b[0m \u001b[0mtemp_feeling\u001b[0m\u001b[0;34m,\u001b[0m \u001b[0;34m\"with a high of\"\u001b[0m\u001b[0;34m,\u001b[0m \u001b[0mhigh_temp_day_forecast\u001b[0m \u001b[0;34m,\u001b[0m \u001b[0;34m\"and a low of\"\u001b[0m\u001b[0;34m,\u001b[0m\u001b[0mlow_temp_day_forecast\u001b[0m\u001b[0;34m,\u001b[0m\u001b[0;34m\".\"\u001b[0m\u001b[0;34m,\u001b[0m \u001b[0mrain_warning\u001b[0m\u001b[0;34m\u001b[0m\u001b[0m\n\u001b[0m\u001b[1;32m      2\u001b[0m \u001b[0mprint\u001b[0m\u001b[0;34m(\u001b[0m\u001b[0;34m' '\u001b[0m\u001b[0;34m.\u001b[0m\u001b[0mjoin\u001b[0m\u001b[0;34m(\u001b[0m\u001b[0mdaily_mail\u001b[0m\u001b[0;34m)\u001b[0m\u001b[0;34m)\u001b[0m\u001b[0;34m\u001b[0m\u001b[0m\n",
      "\u001b[0;31mNameError\u001b[0m: name 'temp_feeling' is not defined"
     ]
    }
   ],
   "source": [
    "daily_mail = \"Right now it is\", current_temperature, \"degrees out and\", current_summary,\". Today will be\", temp_feeling, \"with a high of\", high_temp_day_forecast , \"and a low of\",low_temp_day_forecast,\".\", rain_warning\n",
    "print(' '.join(daily_mail))"
   ]
  },
  {
   "cell_type": "code",
   "execution_count": 15,
   "metadata": {
    "collapsed": false
   },
   "outputs": [
    {
     "ename": "NameError",
     "evalue": "name 'temp_feeling' is not defined",
     "output_type": "error",
     "traceback": [
      "\u001b[0;31m---------------------------------------------------------------------------\u001b[0m",
      "\u001b[0;31mNameError\u001b[0m                                 Traceback (most recent call last)",
      "\u001b[0;32m<ipython-input-15-b9d8f45e8b26>\u001b[0m in \u001b[0;36m<module>\u001b[0;34m()\u001b[0m\n\u001b[0;32m----> 1\u001b[0;31m \u001b[0mmail_text\u001b[0m \u001b[0;34m=\u001b[0m \u001b[0;34m\"Right now it is {} degrees out and {}. Today will be {} with a high of {} and a low of {}.{}\"\u001b[0m\u001b[0;34m.\u001b[0m\u001b[0mformat\u001b[0m\u001b[0;34m(\u001b[0m\u001b[0mcurrent_temperature\u001b[0m\u001b[0;34m,\u001b[0m \u001b[0mcurrent_summary\u001b[0m\u001b[0;34m,\u001b[0m \u001b[0mtemp_feeling\u001b[0m\u001b[0;34m,\u001b[0m \u001b[0mhigh_temp_day_forecast\u001b[0m\u001b[0;34m,\u001b[0m \u001b[0mlow_temp_day_forecast\u001b[0m\u001b[0;34m,\u001b[0m \u001b[0mrain_warning\u001b[0m\u001b[0;34m)\u001b[0m\u001b[0;34m\u001b[0m\u001b[0m\n\u001b[0m",
      "\u001b[0;31mNameError\u001b[0m: name 'temp_feeling' is not defined"
     ]
    }
   ],
   "source": [
    "mail_text = \"Right now it is {} degrees out and {}. Today will be {} with a high of {} and a low of {}.{}\".format(current_temperature, current_summary, temp_feeling, high_temp_day_forecast, low_temp_day_forecast, rain_warning)"
   ]
  },
  {
   "cell_type": "code",
   "execution_count": null,
   "metadata": {
    "collapsed": false
   },
   "outputs": [],
   "source": [
    "print(mail_text)"
   ]
  },
  {
   "cell_type": "code",
   "execution_count": null,
   "metadata": {
    "collapsed": true
   },
   "outputs": [],
   "source": [
    "import time"
   ]
  },
  {
   "cell_type": "code",
   "execution_count": null,
   "metadata": {
    "collapsed": false
   },
   "outputs": [],
   "source": [
    "time = time.strftime(\"%B,%d %Y\")"
   ]
  },
  {
   "cell_type": "code",
   "execution_count": null,
   "metadata": {
    "collapsed": false
   },
   "outputs": [],
   "source": [
    "time"
   ]
  },
  {
   "cell_type": "code",
   "execution_count": null,
   "metadata": {
    "collapsed": false
   },
   "outputs": [],
   "source": [
    "type(time)"
   ]
  },
  {
   "cell_type": "code",
   "execution_count": null,
   "metadata": {
    "collapsed": false
   },
   "outputs": [],
   "source": [
    "#requests.post(\n",
    "#        \"https://api.mailgun.net/v3/sandbox9fe7853d8f49467cb3233031623028cc.mailgun.org/messages\",\n",
    "#        auth=(\"api\", \"\"),\n",
    "#        data={\"from\": \"Mailgun Sandbox <postmaster@sandbox9fe7853d8f49467cb3233031623028cc.mailgun.org>\",\n",
    "#              \"to\": \"mercy benzaquen <mercybenzaquen@gmail.com>\",\n",
    "#              \"subject\": \"8AM Weather forecast:\" + time,\n",
    "#              \"text\": mail_text })\n"
   ]
  },
  {
   "cell_type": "code",
   "execution_count": null,
   "metadata": {
    "collapsed": true
   },
   "outputs": [],
   "source": []
  }
 ],
 "metadata": {
  "kernelspec": {
   "display_name": "Python 3",
   "language": "python",
   "name": "python3"
  },
  "language_info": {
   "codemirror_mode": {
    "name": "ipython",
    "version": 3
   },
   "file_extension": ".py",
   "mimetype": "text/x-python",
   "name": "python",
   "nbconvert_exporter": "python",
   "pygments_lexer": "ipython3",
   "version": "3.5.1"
  }
 },
 "nbformat": 4,
 "nbformat_minor": 0
}
