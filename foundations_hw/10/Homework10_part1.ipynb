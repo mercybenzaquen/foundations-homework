{
 "cells": [
  {
   "cell_type": "code",
   "execution_count": 1,
   "metadata": {
    "collapsed": true
   },
   "outputs": [],
   "source": [
    "import requests"
   ]
  },
  {
   "cell_type": "code",
   "execution_count": 2,
   "metadata": {
    "collapsed": false
   },
   "outputs": [
    {
     "name": "stdout",
     "output_type": "stream",
     "text": [
      "dict_keys(['latitude', 'timezone', 'flags', 'daily', 'hourly', 'offset', 'longitude', 'currently'])\n"
     ]
    }
   ],
   "source": [
    "response = requests.get(\"https://api.forecast.io/forecast/c9d64e80aa02ca113562a075e57256d7/40.7128,74.0059\")\n",
    "forecast = response.json()\n",
    "print(forecast.keys())"
   ]
  },
  {
   "cell_type": "code",
   "execution_count": 4,
   "metadata": {
    "collapsed": false
   },
   "outputs": [
    {
     "data": {
      "text/plain": [
       "dict_keys(['icon', 'summary', 'data'])"
      ]
     },
     "execution_count": 4,
     "metadata": {},
     "output_type": "execute_result"
    }
   ],
   "source": [
    "forecast['daily'].keys()"
   ]
  },
  {
   "cell_type": "code",
   "execution_count": 37,
   "metadata": {
    "collapsed": false
   },
   "outputs": [
    {
     "data": {
      "text/plain": [
       "[{'apparentTemperatureMax': 52.93,\n",
       "  'apparentTemperatureMaxTime': 1466679600,\n",
       "  'apparentTemperatureMin': 32.6,\n",
       "  'apparentTemperatureMinTime': 1466632800,\n",
       "  'cloudCover': 0.42,\n",
       "  'dewPoint': 30.85,\n",
       "  'humidity': 0.64,\n",
       "  'icon': 'partly-cloudy-night',\n",
       "  'moonPhase': 0.59,\n",
       "  'ozone': 316.35,\n",
       "  'precipIntensity': 0.003,\n",
       "  'precipIntensityMax': 0.0148,\n",
       "  'precipIntensityMaxTime': 1466618400,\n",
       "  'precipProbability': 0.49,\n",
       "  'precipType': 'rain',\n",
       "  'pressure': 1017.84,\n",
       "  'summary': 'Partly cloudy starting in the evening.',\n",
       "  'sunriseTime': 1466638482,\n",
       "  'sunsetTime': 1466692812,\n",
       "  'temperatureMax': 52.93,\n",
       "  'temperatureMaxTime': 1466679600,\n",
       "  'temperatureMin': 33.69,\n",
       "  'temperatureMinTime': 1466640000,\n",
       "  'time': 1466618400,\n",
       "  'windBearing': 260,\n",
       "  'windSpeed': 4.48},\n",
       " {'apparentTemperatureMax': 57.59,\n",
       "  'apparentTemperatureMaxTime': 1466762400,\n",
       "  'apparentTemperatureMin': 34.42,\n",
       "  'apparentTemperatureMinTime': 1466722800,\n",
       "  'cloudCover': 0.16,\n",
       "  'dewPoint': 29.06,\n",
       "  'humidity': 0.53,\n",
       "  'icon': 'partly-cloudy-night',\n",
       "  'moonPhase': 0.62,\n",
       "  'ozone': 314.39,\n",
       "  'precipIntensity': 0.0004,\n",
       "  'precipIntensityMax': 0.0008,\n",
       "  'precipIntensityMaxTime': 1466769600,\n",
       "  'precipProbability': 0.01,\n",
       "  'precipType': 'rain',\n",
       "  'pressure': 1016.41,\n",
       "  'summary': 'Partly cloudy in the morning.',\n",
       "  'sunriseTime': 1466724899,\n",
       "  'sunsetTime': 1466779219,\n",
       "  'temperatureMax': 57.59,\n",
       "  'temperatureMaxTime': 1466762400,\n",
       "  'temperatureMin': 34.42,\n",
       "  'temperatureMinTime': 1466722800,\n",
       "  'time': 1466704800,\n",
       "  'windBearing': 263,\n",
       "  'windSpeed': 3.43},\n",
       " {'apparentTemperatureMax': 65.75,\n",
       "  'apparentTemperatureMaxTime': 1466848800,\n",
       "  'apparentTemperatureMin': 33.52,\n",
       "  'apparentTemperatureMinTime': 1466809200,\n",
       "  'cloudCover': 0,\n",
       "  'dewPoint': 25.54,\n",
       "  'humidity': 0.38,\n",
       "  'icon': 'clear-day',\n",
       "  'moonPhase': 0.66,\n",
       "  'ozone': 304.4,\n",
       "  'precipIntensity': 0,\n",
       "  'precipIntensityMax': 0,\n",
       "  'precipProbability': 0,\n",
       "  'pressure': 1014.3,\n",
       "  'summary': 'Clear throughout the day.',\n",
       "  'sunriseTime': 1466811317,\n",
       "  'sunsetTime': 1466865624,\n",
       "  'temperatureMax': 65.75,\n",
       "  'temperatureMaxTime': 1466848800,\n",
       "  'temperatureMin': 37.05,\n",
       "  'temperatureMinTime': 1466809200,\n",
       "  'time': 1466791200,\n",
       "  'windBearing': 294,\n",
       "  'windSpeed': 0.61},\n",
       " {'apparentTemperatureMax': 68.6,\n",
       "  'apparentTemperatureMaxTime': 1466935200,\n",
       "  'apparentTemperatureMin': 40.75,\n",
       "  'apparentTemperatureMinTime': 1466895600,\n",
       "  'cloudCover': 0.11,\n",
       "  'dewPoint': 28.93,\n",
       "  'humidity': 0.38,\n",
       "  'icon': 'partly-cloudy-night',\n",
       "  'moonPhase': 0.7,\n",
       "  'ozone': 297.11,\n",
       "  'precipIntensity': 0,\n",
       "  'precipIntensityMax': 0,\n",
       "  'precipProbability': 0,\n",
       "  'pressure': 1012.15,\n",
       "  'summary': 'Mostly cloudy starting in the evening.',\n",
       "  'sunriseTime': 1466897738,\n",
       "  'sunsetTime': 1466952028,\n",
       "  'temperatureMax': 68.6,\n",
       "  'temperatureMaxTime': 1466935200,\n",
       "  'temperatureMin': 40.75,\n",
       "  'temperatureMinTime': 1466895600,\n",
       "  'time': 1466877600,\n",
       "  'windBearing': 315,\n",
       "  'windSpeed': 1.91},\n",
       " {'apparentTemperatureMax': 63.97,\n",
       "  'apparentTemperatureMaxTime': 1467018000,\n",
       "  'apparentTemperatureMin': 46.09,\n",
       "  'apparentTemperatureMinTime': 1466985600,\n",
       "  'cloudCover': 0.8,\n",
       "  'dewPoint': 34.42,\n",
       "  'humidity': 0.46,\n",
       "  'icon': 'partly-cloudy-day',\n",
       "  'moonPhase': 0.73,\n",
       "  'ozone': 286.67,\n",
       "  'precipIntensity': 0.0005,\n",
       "  'precipIntensityMax': 0.0017,\n",
       "  'precipIntensityMaxTime': 1467039600,\n",
       "  'precipProbability': 0.04,\n",
       "  'precipType': 'rain',\n",
       "  'pressure': 1009.29,\n",
       "  'summary': 'Mostly cloudy throughout the day.',\n",
       "  'sunriseTime': 1466984160,\n",
       "  'sunsetTime': 1467038429,\n",
       "  'temperatureMax': 63.97,\n",
       "  'temperatureMaxTime': 1467018000,\n",
       "  'temperatureMin': 46.09,\n",
       "  'temperatureMinTime': 1466985600,\n",
       "  'time': 1466964000,\n",
       "  'windBearing': 309,\n",
       "  'windSpeed': 3.23},\n",
       " {'apparentTemperatureMax': 59.93,\n",
       "  'apparentTemperatureMaxTime': 1467115200,\n",
       "  'apparentTemperatureMin': 39.88,\n",
       "  'apparentTemperatureMinTime': 1467072000,\n",
       "  'cloudCover': 0.6,\n",
       "  'dewPoint': 36.61,\n",
       "  'humidity': 0.64,\n",
       "  'icon': 'rain',\n",
       "  'moonPhase': 0.77,\n",
       "  'ozone': 288.73,\n",
       "  'precipIntensity': 0.01,\n",
       "  'precipIntensityMax': 0.0316,\n",
       "  'precipIntensityMaxTime': 1467090000,\n",
       "  'precipProbability': 0.57,\n",
       "  'precipType': 'rain',\n",
       "  'pressure': 1012.04,\n",
       "  'summary': 'Light rain until evening.',\n",
       "  'sunriseTime': 1467070583,\n",
       "  'sunsetTime': 1467124829,\n",
       "  'temperatureMax': 59.93,\n",
       "  'temperatureMaxTime': 1467115200,\n",
       "  'temperatureMin': 41.35,\n",
       "  'temperatureMinTime': 1467072000,\n",
       "  'time': 1467050400,\n",
       "  'windBearing': 333,\n",
       "  'windSpeed': 3.09},\n",
       " {'apparentTemperatureMax': 67.86,\n",
       "  'apparentTemperatureMaxTime': 1467194400,\n",
       "  'apparentTemperatureMin': 40.54,\n",
       "  'apparentTemperatureMinTime': 1467154800,\n",
       "  'cloudCover': 0,\n",
       "  'dewPoint': 31.35,\n",
       "  'humidity': 0.4,\n",
       "  'icon': 'clear-day',\n",
       "  'moonPhase': 0.81,\n",
       "  'ozone': 296.08,\n",
       "  'precipIntensity': 0.0003,\n",
       "  'precipIntensityMax': 0.0009,\n",
       "  'precipIntensityMaxTime': 1467136800,\n",
       "  'precipProbability': 0.01,\n",
       "  'precipType': 'rain',\n",
       "  'pressure': 1011.82,\n",
       "  'summary': 'Clear throughout the day.',\n",
       "  'sunriseTime': 1467157009,\n",
       "  'sunsetTime': 1467211226,\n",
       "  'temperatureMax': 67.86,\n",
       "  'temperatureMaxTime': 1467194400,\n",
       "  'temperatureMin': 43.33,\n",
       "  'temperatureMinTime': 1467154800,\n",
       "  'time': 1467136800,\n",
       "  'windBearing': 303,\n",
       "  'windSpeed': 0.54},\n",
       " {'apparentTemperatureMax': 66.42,\n",
       "  'apparentTemperatureMaxTime': 1467277200,\n",
       "  'apparentTemperatureMin': 45.2,\n",
       "  'apparentTemperatureMinTime': 1467241200,\n",
       "  'cloudCover': 0,\n",
       "  'dewPoint': 30.32,\n",
       "  'humidity': 0.38,\n",
       "  'icon': 'clear-day',\n",
       "  'moonPhase': 0.85,\n",
       "  'ozone': 288.74,\n",
       "  'precipIntensity': 0,\n",
       "  'precipIntensityMax': 0,\n",
       "  'precipProbability': 0,\n",
       "  'pressure': 1008.9,\n",
       "  'summary': 'Clear throughout the day.',\n",
       "  'sunriseTime': 1467243436,\n",
       "  'sunsetTime': 1467297622,\n",
       "  'temperatureMax': 66.42,\n",
       "  'temperatureMaxTime': 1467277200,\n",
       "  'temperatureMin': 45.2,\n",
       "  'temperatureMinTime': 1467241200,\n",
       "  'time': 1467223200,\n",
       "  'windBearing': 298,\n",
       "  'windSpeed': 2.6}]"
      ]
     },
     "execution_count": 37,
     "metadata": {},
     "output_type": "execute_result"
    }
   ],
   "source": [
    "forecast['daily']['data']"
   ]
  },
  {
   "cell_type": "code",
   "execution_count": 8,
   "metadata": {
    "collapsed": false
   },
   "outputs": [
    {
     "data": {
      "text/plain": [
       "dict_keys(['icon', 'windSpeed', 'ozone', 'apparentTemperature', 'precipType', 'summary', 'precipIntensity', 'precipProbability', 'temperature', 'cloudCover', 'pressure', 'dewPoint', 'windBearing', 'time', 'humidity'])"
      ]
     },
     "execution_count": 8,
     "metadata": {},
     "output_type": "execute_result"
    }
   ],
   "source": [
    "forecast['currently'].keys()"
   ]
  },
  {
   "cell_type": "code",
   "execution_count": 9,
   "metadata": {
    "collapsed": true
   },
   "outputs": [],
   "source": [
    "current_temperature = forecast['currently']['temperature']"
   ]
  },
  {
   "cell_type": "code",
   "execution_count": 10,
   "metadata": {
    "collapsed": false
   },
   "outputs": [
    {
     "name": "stdout",
     "output_type": "stream",
     "text": [
      "38.18\n"
     ]
    }
   ],
   "source": [
    "print(current_temperature)"
   ]
  },
  {
   "cell_type": "code",
   "execution_count": 11,
   "metadata": {
    "collapsed": true
   },
   "outputs": [],
   "source": [
    "current_summary = forecast['currently']['summary']"
   ]
  },
  {
   "cell_type": "code",
   "execution_count": 55,
   "metadata": {
    "collapsed": false
   },
   "outputs": [
    {
     "name": "stdout",
     "output_type": "stream",
     "text": [
      "Drizzle\n"
     ]
    }
   ],
   "source": [
    "print(current_summary)"
   ]
  },
  {
   "cell_type": "code",
   "execution_count": 92,
   "metadata": {
    "collapsed": false
   },
   "outputs": [
    {
     "name": "stdout",
     "output_type": "stream",
     "text": [
      "{'sunriseTime': 1466638482, 'temperatureMaxTime': 1466679600, 'precipIntensityMax': 0.0148, 'apparentTemperatureMaxTime': 1466679600, 'windSpeed': 4.48, 'sunsetTime': 1466692812, 'apparentTemperatureMax': 52.93, 'precipProbability': 0.49, 'moonPhase': 0.59, 'cloudCover': 0.42, 'dewPoint': 30.85, 'time': 1466618400, 'humidity': 0.64, 'icon': 'partly-cloudy-night', 'apparentTemperatureMinTime': 1466632800, 'ozone': 316.35, 'precipType': 'rain', 'summary': 'Partly cloudy starting in the evening.', 'precipIntensity': 0.003, 'temperatureMinTime': 1466640000, 'apparentTemperatureMin': 32.6, 'windBearing': 260, 'temperatureMax': 52.93, 'pressure': 1017.84, 'precipIntensityMaxTime': 1466618400, 'temperatureMin': 33.69}\n"
     ]
    }
   ],
   "source": [
    "daily_forecast = forecast['daily']['data'][0]\n",
    "print(daily_forecast)"
   ]
  },
  {
   "cell_type": "raw",
   "metadata": {},
   "source": [
    "day_forecast = forecast['daily']['data'][0]['apparentTemperatureMax'] \n",
    "print(day_forecast)\n",
    "temp_feeling = \"\"\n",
    "if day_forecast <= 63:\n",
    "    temp_feeling = 'cold'\n",
    "if (day_forecast > 63) & (day_forecast<= 75):\n",
    "    temp_feeling = 'moderate'\n",
    "if (day_forecast> 75) & (day_forecast<= 86):\n",
    "    temp_feeling =  'hot'\n",
    "if (day_forecast > 86):\n",
    "    temp_feeling = 'extreamly hot'\n",
    "print(temp_feeling)\n"
   ]
  },
  {
   "cell_type": "code",
   "execution_count": 104,
   "metadata": {
    "collapsed": false
   },
   "outputs": [
    {
     "name": "stdout",
     "output_type": "stream",
     "text": [
      "52.93\n"
     ]
    }
   ],
   "source": [
    "high_temp_day_forecast= forecast['daily']['data'][0]['temperatureMax'] \n",
    "print(high_feeling_day_forecast)"
   ]
  },
  {
   "cell_type": "code",
   "execution_count": 105,
   "metadata": {
    "collapsed": false
   },
   "outputs": [
    {
     "name": "stdout",
     "output_type": "stream",
     "text": [
      "33.69\n"
     ]
    }
   ],
   "source": [
    "low_temp_day_forecast= forecast['daily']['data'][0]['temperatureMin'] \n",
    "print(low_temp_day_forecast)"
   ]
  },
  {
   "cell_type": "code",
   "execution_count": 106,
   "metadata": {
    "collapsed": false
   },
   "outputs": [
    {
     "name": "stdout",
     "output_type": "stream",
     "text": [
      "Expect some rain! Bring your umbrella!\n"
     ]
    }
   ],
   "source": [
    "rain_forecast= forecast['daily']['data'][0]['precipIntensity']\n",
    "rain_warning = \"\"\n",
    "if rain_forecast <= 0:\n",
    "    rain_warning = ''\n",
    "if rain_forecast > 0:\n",
    "    rain_warning = 'Expect some rain! Bring your umbrella!'\n",
    "print(rain_warning)"
   ]
  },
  {
   "cell_type": "code",
   "execution_count": 120,
   "metadata": {
    "collapsed": false
   },
   "outputs": [
    {
     "ename": "TypeError",
     "evalue": "sequence item 1: expected str instance, float found",
     "output_type": "error",
     "traceback": [
      "\u001b[0;31m---------------------------------------------------------------------------\u001b[0m",
      "\u001b[0;31mTypeError\u001b[0m                                 Traceback (most recent call last)",
      "\u001b[0;32m<ipython-input-120-1c88e07ddd55>\u001b[0m in \u001b[0;36m<module>\u001b[0;34m()\u001b[0m\n\u001b[1;32m      1\u001b[0m \u001b[0mdaily_mail\u001b[0m \u001b[0;34m=\u001b[0m \u001b[0;34m[\u001b[0m\u001b[0;34m\"Right now it is\"\u001b[0m\u001b[0;34m,\u001b[0m \u001b[0mcurrent_temperature\u001b[0m\u001b[0;34m,\u001b[0m \u001b[0;34m\"degrees out and\"\u001b[0m\u001b[0;34m,\u001b[0m \u001b[0mcurrent_summary\u001b[0m\u001b[0;34m,\u001b[0m\u001b[0;34m\". Today will be\"\u001b[0m\u001b[0;34m,\u001b[0m \u001b[0mtemp_feeling\u001b[0m\u001b[0;34m,\u001b[0m \u001b[0;34m\"with a high of\"\u001b[0m\u001b[0;34m,\u001b[0m \u001b[0mhigh_temp_day_forecast\u001b[0m \u001b[0;34m,\u001b[0m \u001b[0;34m\"and a low of\"\u001b[0m\u001b[0;34m,\u001b[0m\u001b[0mlow_temp_day_forecast\u001b[0m\u001b[0;34m,\u001b[0m\u001b[0;34m\".\"\u001b[0m\u001b[0;34m,\u001b[0m \u001b[0mrain_warning\u001b[0m\u001b[0;34m]\u001b[0m\u001b[0;34m\u001b[0m\u001b[0m\n\u001b[0;32m----> 2\u001b[0;31m \u001b[0mprint\u001b[0m\u001b[0;34m(\u001b[0m\u001b[0;34m' '\u001b[0m\u001b[0;34m.\u001b[0m\u001b[0mjoin\u001b[0m\u001b[0;34m(\u001b[0m\u001b[0mdaily_mail\u001b[0m\u001b[0;34m)\u001b[0m\u001b[0;34m)\u001b[0m\u001b[0;34m\u001b[0m\u001b[0m\n\u001b[0m",
      "\u001b[0;31mTypeError\u001b[0m: sequence item 1: expected str instance, float found"
     ]
    }
   ],
   "source": [
    "daily_mail = \"Right now it is\", current_temperature, \"degrees out and\", current_summary,\". Today will be\", temp_feeling, \"with a high of\", high_temp_day_forecast , \"and a low of\",low_temp_day_forecast,\".\", rain_warning\n",
    "print(' '.join(daily_mail))"
   ]
  },
  {
   "cell_type": "code",
   "execution_count": 126,
   "metadata": {
    "collapsed": false
   },
   "outputs": [],
   "source": [
    "mail_text = \"Right now it is {} degrees out and {}. Today will be {} with a high of {} and a low of {}.{}\".format(current_temperature, current_summary, temp_feeling, high_temp_day_forecast, low_temp_day_forecast, rain_warning)"
   ]
  },
  {
   "cell_type": "code",
   "execution_count": 127,
   "metadata": {
    "collapsed": false
   },
   "outputs": [
    {
     "name": "stdout",
     "output_type": "stream",
     "text": [
      "Right now it is 38.18 degrees out and Drizzle. Today will be cold with a high of 52.93 and a low of 33.69.Expect some rain! Bring your umbrella!\n"
     ]
    }
   ],
   "source": [
    "print(mail_text)"
   ]
  },
  {
   "cell_type": "code",
   "execution_count": 129,
   "metadata": {
    "collapsed": true
   },
   "outputs": [],
   "source": [
    "import time"
   ]
  },
  {
   "cell_type": "code",
   "execution_count": 136,
   "metadata": {
    "collapsed": false
   },
   "outputs": [],
   "source": [
    "time = time.strftime(\"%B,%d %Y\")"
   ]
  },
  {
   "cell_type": "code",
   "execution_count": 139,
   "metadata": {
    "collapsed": false
   },
   "outputs": [
    {
     "data": {
      "text/plain": [
       "'June,22 2016'"
      ]
     },
     "execution_count": 139,
     "metadata": {},
     "output_type": "execute_result"
    }
   ],
   "source": [
    "time"
   ]
  },
  {
   "cell_type": "code",
   "execution_count": 137,
   "metadata": {
    "collapsed": false
   },
   "outputs": [
    {
     "data": {
      "text/plain": [
       "str"
      ]
     },
     "execution_count": 137,
     "metadata": {},
     "output_type": "execute_result"
    }
   ],
   "source": [
    "type(time)"
   ]
  },
  {
   "cell_type": "code",
   "execution_count": 138,
   "metadata": {
    "collapsed": false
   },
   "outputs": [
    {
     "data": {
      "text/plain": [
       "<Response [200]>"
      ]
     },
     "execution_count": 138,
     "metadata": {},
     "output_type": "execute_result"
    }
   ],
   "source": [
    "requests.post(\n",
    "        \"https://api.mailgun.net/v3/sandbox9fe7853d8f49467cb3233031623028cc.mailgun.org/messages\",\n",
    "        auth=(\"api\", \"\"),\n",
    "        data={\"from\": \"Mailgun Sandbox <postmaster@sandbox9fe7853d8f49467cb3233031623028cc.mailgun.org>\",\n",
    "              \"to\": \"mercy benzaquen <mercybenzaquen@gmail.com>\",\n",
    "              \"subject\": \"8AM Weather forecast:\" + time,\n",
    "              \"text\": mail_text })\n"
   ]
  },
  {
   "cell_type": "code",
   "execution_count": null,
   "metadata": {
    "collapsed": true
   },
   "outputs": [],
   "source": []
  }
 ],
 "metadata": {
  "kernelspec": {
   "display_name": "Python 3",
   "language": "python",
   "name": "python3"
  },
  "language_info": {
   "codemirror_mode": {
    "name": "ipython",
    "version": 3
   },
   "file_extension": ".py",
   "mimetype": "text/x-python",
   "name": "python",
   "nbconvert_exporter": "python",
   "pygments_lexer": "ipython3",
   "version": "3.5.1"
  }
 },
 "nbformat": 4,
 "nbformat_minor": 0
}
