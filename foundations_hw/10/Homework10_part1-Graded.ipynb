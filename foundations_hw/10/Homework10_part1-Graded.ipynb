{
 "cells": [
  {
   "cell_type": "markdown",
   "metadata": {},
   "source": [
    "Grade = 9.5/10\n",
    "Make sure to use .lower(). \n",
    "\"Right now it is 41.46 degrees out and Drizzle\" reads awkwardly. "
   ]
  },
  {
   "cell_type": "code",
   "execution_count": 1,
   "metadata": {
    "collapsed": true
   },
   "outputs": [],
   "source": [
    "import requests"
   ]
  },
  {
   "cell_type": "code",
   "execution_count": 2,
   "metadata": {
    "collapsed": false
   },
   "outputs": [
    {
     "name": "stdout",
     "output_type": "stream",
     "text": [
      "dict_keys(['currently', 'hourly', 'offset', 'longitude', 'daily', 'latitude', 'flags', 'timezone'])\n"
     ]
    }
   ],
   "source": [
    "response = requests.get(\"https://api.forecast.io/forecast/c9d64e80aa02ca113562a075e57256d7/40.7128,74.0059\")\n",
    "forecast = response.json()\n",
    "print(forecast.keys())"
   ]
  },
  {
   "cell_type": "code",
   "execution_count": 3,
   "metadata": {
    "collapsed": false
   },
   "outputs": [
    {
     "data": {
      "text/plain": [
       "dict_keys(['data', 'icon', 'summary'])"
      ]
     },
     "execution_count": 3,
     "metadata": {},
     "output_type": "execute_result"
    }
   ],
   "source": [
    "forecast['daily'].keys()"
   ]
  },
  {
   "cell_type": "code",
   "execution_count": 4,
   "metadata": {
    "collapsed": false
   },
   "outputs": [
    {
     "data": {
      "text/plain": [
       "[{'apparentTemperatureMax': 58.32,\n",
       "  'apparentTemperatureMaxTime': 1467799200,\n",
       "  'apparentTemperatureMin': 40.09,\n",
       "  'apparentTemperatureMinTime': 1467770400,\n",
       "  'cloudCover': 0.69,\n",
       "  'dewPoint': 34.94,\n",
       "  'humidity': 0.59,\n",
       "  'icon': 'rain',\n",
       "  'moonPhase': 0.07,\n",
       "  'ozone': 306.53,\n",
       "  'precipIntensity': 0.0048,\n",
       "  'precipIntensityMax': 0.0148,\n",
       "  'precipIntensityMaxTime': 1467741600,\n",
       "  'precipProbability': 0.49,\n",
       "  'precipType': 'rain',\n",
       "  'pressure': 1011.08,\n",
       "  'summary': 'Light rain until afternoon.',\n",
       "  'sunriseTime': 1467762029,\n",
       "  'sunsetTime': 1467815953,\n",
       "  'temperatureMax': 58.32,\n",
       "  'temperatureMaxTime': 1467799200,\n",
       "  'temperatureMin': 41.24,\n",
       "  'temperatureMinTime': 1467766800,\n",
       "  'time': 1467741600,\n",
       "  'windBearing': 260,\n",
       "  'windSpeed': 4.39},\n",
       " {'apparentTemperatureMax': 58.41,\n",
       "  'apparentTemperatureMaxTime': 1467885600,\n",
       "  'apparentTemperatureMin': 41.36,\n",
       "  'apparentTemperatureMinTime': 1467849600,\n",
       "  'cloudCover': 0.86,\n",
       "  'dewPoint': 35.07,\n",
       "  'humidity': 0.58,\n",
       "  'icon': 'rain',\n",
       "  'moonPhase': 0.1,\n",
       "  'ozone': 304.8,\n",
       "  'precipIntensity': 0.0058,\n",
       "  'precipIntensityMax': 0.0107,\n",
       "  'precipIntensityMaxTime': 1467882000,\n",
       "  'precipProbability': 0.45,\n",
       "  'precipType': 'rain',\n",
       "  'pressure': 1013.24,\n",
       "  'summary': 'Light rain throughout the day.',\n",
       "  'sunriseTime': 1467848466,\n",
       "  'sunsetTime': 1467902334,\n",
       "  'temperatureMax': 58.41,\n",
       "  'temperatureMaxTime': 1467885600,\n",
       "  'temperatureMin': 41.36,\n",
       "  'temperatureMinTime': 1467849600,\n",
       "  'time': 1467828000,\n",
       "  'windBearing': 260,\n",
       "  'windSpeed': 3.71},\n",
       " {'apparentTemperatureMax': 63.8,\n",
       "  'apparentTemperatureMaxTime': 1467975600,\n",
       "  'apparentTemperatureMin': 39.17,\n",
       "  'apparentTemperatureMinTime': 1467936000,\n",
       "  'cloudCover': 0.03,\n",
       "  'dewPoint': 30.54,\n",
       "  'humidity': 0.49,\n",
       "  'icon': 'clear-day',\n",
       "  'moonPhase': 0.13,\n",
       "  'ozone': 311.12,\n",
       "  'precipIntensity': 0.0005,\n",
       "  'precipIntensityMax': 0.004,\n",
       "  'precipIntensityMaxTime': 1467914400,\n",
       "  'precipProbability': 0.14,\n",
       "  'precipType': 'rain',\n",
       "  'pressure': 1012.83,\n",
       "  'summary': 'Clear throughout the day.',\n",
       "  'sunriseTime': 1467934904,\n",
       "  'sunsetTime': 1467988714,\n",
       "  'temperatureMax': 63.8,\n",
       "  'temperatureMaxTime': 1467975600,\n",
       "  'temperatureMin': 39.17,\n",
       "  'temperatureMinTime': 1467936000,\n",
       "  'time': 1467914400,\n",
       "  'windBearing': 258,\n",
       "  'windSpeed': 1.88},\n",
       " {'apparentTemperatureMax': 66.77,\n",
       "  'apparentTemperatureMaxTime': 1468058400,\n",
       "  'apparentTemperatureMin': 38.65,\n",
       "  'apparentTemperatureMinTime': 1468018800,\n",
       "  'cloudCover': 0,\n",
       "  'dewPoint': 26.26,\n",
       "  'humidity': 0.35,\n",
       "  'icon': 'clear-day',\n",
       "  'moonPhase': 0.17,\n",
       "  'ozone': 300.9,\n",
       "  'precipIntensity': 0,\n",
       "  'precipIntensityMax': 0,\n",
       "  'precipProbability': 0,\n",
       "  'pressure': 1010.33,\n",
       "  'summary': 'Clear throughout the day.',\n",
       "  'sunriseTime': 1468021344,\n",
       "  'sunsetTime': 1468075091,\n",
       "  'temperatureMax': 66.77,\n",
       "  'temperatureMaxTime': 1468058400,\n",
       "  'temperatureMin': 41.21,\n",
       "  'temperatureMinTime': 1468018800,\n",
       "  'time': 1468000800,\n",
       "  'windBearing': 287,\n",
       "  'windSpeed': 1.03},\n",
       " {'apparentTemperatureMax': 63.9,\n",
       "  'apparentTemperatureMaxTime': 1468148400,\n",
       "  'apparentTemperatureMin': 43.68,\n",
       "  'apparentTemperatureMinTime': 1468105200,\n",
       "  'cloudCover': 0,\n",
       "  'dewPoint': 31.89,\n",
       "  'humidity': 0.43,\n",
       "  'icon': 'clear-day',\n",
       "  'moonPhase': 0.2,\n",
       "  'ozone': 296.2,\n",
       "  'precipIntensity': 0,\n",
       "  'precipIntensityMax': 0,\n",
       "  'precipProbability': 0,\n",
       "  'pressure': 1010.55,\n",
       "  'summary': 'Clear throughout the day.',\n",
       "  'sunriseTime': 1468107785,\n",
       "  'sunsetTime': 1468161467,\n",
       "  'temperatureMax': 63.9,\n",
       "  'temperatureMaxTime': 1468148400,\n",
       "  'temperatureMin': 43.68,\n",
       "  'temperatureMinTime': 1468105200,\n",
       "  'time': 1468087200,\n",
       "  'windBearing': 286,\n",
       "  'windSpeed': 2.33},\n",
       " {'apparentTemperatureMax': 66.87,\n",
       "  'apparentTemperatureMaxTime': 1468231200,\n",
       "  'apparentTemperatureMin': 42.82,\n",
       "  'apparentTemperatureMinTime': 1468191600,\n",
       "  'cloudCover': 0,\n",
       "  'dewPoint': 31.04,\n",
       "  'humidity': 0.4,\n",
       "  'icon': 'clear-day',\n",
       "  'moonPhase': 0.23,\n",
       "  'ozone': 288.59,\n",
       "  'precipIntensity': 0,\n",
       "  'precipIntensityMax': 0,\n",
       "  'precipProbability': 0,\n",
       "  'pressure': 1010.22,\n",
       "  'summary': 'Clear throughout the day.',\n",
       "  'sunriseTime': 1468194227,\n",
       "  'sunsetTime': 1468247841,\n",
       "  'temperatureMax': 66.87,\n",
       "  'temperatureMaxTime': 1468231200,\n",
       "  'temperatureMin': 44.57,\n",
       "  'temperatureMinTime': 1468191600,\n",
       "  'time': 1468173600,\n",
       "  'windBearing': 289,\n",
       "  'windSpeed': 1.06},\n",
       " {'apparentTemperatureMax': 67.63,\n",
       "  'apparentTemperatureMaxTime': 1468317600,\n",
       "  'apparentTemperatureMin': 45.62,\n",
       "  'apparentTemperatureMinTime': 1468278000,\n",
       "  'cloudCover': 0,\n",
       "  'dewPoint': 30.73,\n",
       "  'humidity': 0.38,\n",
       "  'icon': 'clear-day',\n",
       "  'moonPhase': 0.26,\n",
       "  'ozone': 286.07,\n",
       "  'precipIntensity': 0,\n",
       "  'precipIntensityMax': 0,\n",
       "  'precipProbability': 0,\n",
       "  'pressure': 1009.37,\n",
       "  'summary': 'Clear throughout the day.',\n",
       "  'sunriseTime': 1468280671,\n",
       "  'sunsetTime': 1468334212,\n",
       "  'temperatureMax': 67.63,\n",
       "  'temperatureMaxTime': 1468317600,\n",
       "  'temperatureMin': 45.62,\n",
       "  'temperatureMinTime': 1468278000,\n",
       "  'time': 1468260000,\n",
       "  'windBearing': 280,\n",
       "  'windSpeed': 1.42},\n",
       " {'apparentTemperatureMax': 67.54,\n",
       "  'apparentTemperatureMaxTime': 1468404000,\n",
       "  'apparentTemperatureMin': 45.64,\n",
       "  'apparentTemperatureMinTime': 1468368000,\n",
       "  'cloudCover': 0,\n",
       "  'dewPoint': 30.44,\n",
       "  'humidity': 0.37,\n",
       "  'icon': 'clear-day',\n",
       "  'moonPhase': 0.29,\n",
       "  'ozone': 282.76,\n",
       "  'precipIntensity': 0,\n",
       "  'precipIntensityMax': 0,\n",
       "  'precipProbability': 0,\n",
       "  'pressure': 1009.28,\n",
       "  'summary': 'Clear throughout the day.',\n",
       "  'sunriseTime': 1468367115,\n",
       "  'sunsetTime': 1468420582,\n",
       "  'temperatureMax': 67.54,\n",
       "  'temperatureMaxTime': 1468404000,\n",
       "  'temperatureMin': 45.64,\n",
       "  'temperatureMinTime': 1468368000,\n",
       "  'time': 1468346400,\n",
       "  'windBearing': 257,\n",
       "  'windSpeed': 1.64}]"
      ]
     },
     "execution_count": 4,
     "metadata": {},
     "output_type": "execute_result"
    }
   ],
   "source": [
    "forecast['daily']['data']"
   ]
  },
  {
   "cell_type": "code",
   "execution_count": 5,
   "metadata": {
    "collapsed": false
   },
   "outputs": [
    {
     "data": {
      "text/plain": [
       "dict_keys(['windBearing', 'windSpeed', 'pressure', 'precipIntensity', 'cloudCover', 'humidity', 'summary', 'dewPoint', 'time', 'icon', 'precipProbability', 'temperature', 'ozone', 'precipType', 'apparentTemperature'])"
      ]
     },
     "execution_count": 5,
     "metadata": {},
     "output_type": "execute_result"
    }
   ],
   "source": [
    "forecast['currently'].keys()"
   ]
  },
  {
   "cell_type": "code",
   "execution_count": 6,
   "metadata": {
    "collapsed": true
   },
   "outputs": [],
   "source": [
    "current_temperature = forecast['currently']['temperature']"
   ]
  },
  {
   "cell_type": "code",
   "execution_count": 7,
   "metadata": {
    "collapsed": false
   },
   "outputs": [
    {
     "name": "stdout",
     "output_type": "stream",
     "text": [
      "41.46\n"
     ]
    }
   ],
   "source": [
    "print(current_temperature)"
   ]
  },
  {
   "cell_type": "code",
   "execution_count": 8,
   "metadata": {
    "collapsed": true
   },
   "outputs": [],
   "source": [
    "current_summary = forecast['currently']['summary']"
   ]
  },
  {
   "cell_type": "code",
   "execution_count": 9,
   "metadata": {
    "collapsed": false
   },
   "outputs": [
    {
     "name": "stdout",
     "output_type": "stream",
     "text": [
      "Drizzle\n"
     ]
    }
   ],
   "source": [
    "print(current_summary)"
   ]
  },
  {
   "cell_type": "code",
   "execution_count": 10,
   "metadata": {
    "collapsed": false
   },
   "outputs": [
    {
     "name": "stdout",
     "output_type": "stream",
     "text": [
      "{'apparentTemperatureMaxTime': 1467799200, 'cloudCover': 0.69, 'precipIntensityMaxTime': 1467741600, 'sunriseTime': 1467762029, 'time': 1467741600, 'pressure': 1011.08, 'dewPoint': 34.94, 'ozone': 306.53, 'sunsetTime': 1467815953, 'temperatureMax': 58.32, 'apparentTemperatureMinTime': 1467770400, 'apparentTemperatureMax': 58.32, 'moonPhase': 0.07, 'windSpeed': 4.39, 'precipIntensity': 0.0048, 'precipIntensityMax': 0.0148, 'temperatureMinTime': 1467766800, 'summary': 'Light rain until afternoon.', 'icon': 'rain', 'precipProbability': 0.49, 'apparentTemperatureMin': 40.09, 'humidity': 0.59, 'temperatureMaxTime': 1467799200, 'windBearing': 260, 'temperatureMin': 41.24, 'precipType': 'rain'}\n"
     ]
    }
   ],
   "source": [
    "daily_forecast = forecast['daily']['data'][0]\n",
    "print(daily_forecast)"
   ]
  },
  {
   "cell_type": "code",
   "execution_count": 15,
   "metadata": {
    "collapsed": false
   },
   "outputs": [
    {
     "name": "stdout",
     "output_type": "stream",
     "text": [
      "58.32\n",
      "cold\n"
     ]
    }
   ],
   "source": [
    "day_forecast = forecast['daily']['data'][0]['apparentTemperatureMax'] \n",
    "print(day_forecast)\n",
    "temp_feeling = \"\"\n",
    "if day_forecast <= 63:\n",
    "    temp_feeling = 'cold'\n",
    "if (day_forecast > 63) & (day_forecast<= 75):\n",
    "    temp_feeling = 'moderate'\n",
    "if (day_forecast> 75) & (day_forecast<= 86):\n",
    "    temp_feeling =  'hot'\n",
    "if (day_forecast > 86):\n",
    "    temp_feeling = 'extreamly hot'\n",
    "print(temp_feeling)\n"
   ]
  },
  {
   "cell_type": "code",
   "execution_count": 18,
   "metadata": {
    "collapsed": false
   },
   "outputs": [],
   "source": [
    "high_temp_day_forecast= forecast['daily']['data'][0]['temperatureMax'] \n",
    "#print(high_feeling_day_forecast)"
   ]
  },
  {
   "cell_type": "code",
   "execution_count": 12,
   "metadata": {
    "collapsed": false
   },
   "outputs": [
    {
     "name": "stdout",
     "output_type": "stream",
     "text": [
      "41.24\n"
     ]
    }
   ],
   "source": [
    "low_temp_day_forecast= forecast['daily']['data'][0]['temperatureMin'] \n",
    "print(low_temp_day_forecast)"
   ]
  },
  {
   "cell_type": "code",
   "execution_count": 13,
   "metadata": {
    "collapsed": false
   },
   "outputs": [
    {
     "name": "stdout",
     "output_type": "stream",
     "text": [
      "Expect some rain! Bring your umbrella!\n"
     ]
    }
   ],
   "source": [
    "rain_forecast= forecast['daily']['data'][0]['precipIntensity']\n",
    "rain_warning = \"\"\n",
    "if rain_forecast <= 0:\n",
    "    rain_warning = ''\n",
    "if rain_forecast > 0:\n",
    "    rain_warning = 'Expect some rain! Bring your umbrella!'\n",
    "print(rain_warning)"
   ]
  },
  {
   "cell_type": "code",
   "execution_count": 19,
   "metadata": {
    "collapsed": false
   },
   "outputs": [
    {
     "ename": "TypeError",
     "evalue": "sequence item 1: expected str instance, float found",
     "output_type": "error",
     "traceback": [
      "\u001b[0;31m---------------------------------------------------------------------------\u001b[0m",
      "\u001b[0;31mTypeError\u001b[0m                                 Traceback (most recent call last)",
      "\u001b[0;32m<ipython-input-19-deb5d0c2c0b8>\u001b[0m in \u001b[0;36m<module>\u001b[0;34m()\u001b[0m\n\u001b[1;32m      1\u001b[0m \u001b[0mdaily_mail\u001b[0m \u001b[0;34m=\u001b[0m \u001b[0;34m\"Right now it is\"\u001b[0m\u001b[0;34m,\u001b[0m \u001b[0mcurrent_temperature\u001b[0m\u001b[0;34m,\u001b[0m \u001b[0;34m\"degrees out and\"\u001b[0m\u001b[0;34m,\u001b[0m \u001b[0mcurrent_summary\u001b[0m\u001b[0;34m,\u001b[0m\u001b[0;34m\". Today will be\"\u001b[0m\u001b[0;34m,\u001b[0m \u001b[0mtemp_feeling\u001b[0m\u001b[0;34m,\u001b[0m \u001b[0;34m\"with a high of\"\u001b[0m\u001b[0;34m,\u001b[0m \u001b[0mhigh_temp_day_forecast\u001b[0m \u001b[0;34m,\u001b[0m \u001b[0;34m\"and a low of\"\u001b[0m\u001b[0;34m,\u001b[0m\u001b[0mlow_temp_day_forecast\u001b[0m\u001b[0;34m,\u001b[0m\u001b[0;34m\".\"\u001b[0m\u001b[0;34m,\u001b[0m \u001b[0mrain_warning\u001b[0m\u001b[0;34m\u001b[0m\u001b[0m\n\u001b[0;32m----> 2\u001b[0;31m \u001b[0mprint\u001b[0m\u001b[0;34m(\u001b[0m\u001b[0;34m' '\u001b[0m\u001b[0;34m.\u001b[0m\u001b[0mjoin\u001b[0m\u001b[0;34m(\u001b[0m\u001b[0mdaily_mail\u001b[0m\u001b[0;34m)\u001b[0m\u001b[0;34m)\u001b[0m\u001b[0;34m\u001b[0m\u001b[0m\n\u001b[0m",
      "\u001b[0;31mTypeError\u001b[0m: sequence item 1: expected str instance, float found"
     ]
    }
   ],
   "source": [
    "daily_mail = \"Right now it is\", current_temperature, \"degrees out and\", current_summary,\". Today will be\", temp_feeling, \"with a high of\", high_temp_day_forecast , \"and a low of\",low_temp_day_forecast,\".\", rain_warning\n",
    "print(' '.join(daily_mail))"
   ]
  },
  {
   "cell_type": "code",
   "execution_count": 20,
   "metadata": {
    "collapsed": false
   },
   "outputs": [],
   "source": [
    "mail_text = \"Right now it is {} degrees out and {}. Today will be {} with a high of {} and a low of {}.{}\".format(current_temperature, current_summary, temp_feeling, high_temp_day_forecast, low_temp_day_forecast, rain_warning)"
   ]
  },
  {
   "cell_type": "code",
   "execution_count": 21,
   "metadata": {
    "collapsed": false
   },
   "outputs": [
    {
     "name": "stdout",
     "output_type": "stream",
     "text": [
      "Right now it is 41.46 degrees out and Drizzle. Today will be cold with a high of 58.32 and a low of 41.24.Expect some rain! Bring your umbrella!\n"
     ]
    }
   ],
   "source": [
    "print(mail_text)"
   ]
  },
  {
   "cell_type": "code",
   "execution_count": null,
   "metadata": {
    "collapsed": true
   },
   "outputs": [],
   "source": [
    "import time"
   ]
  },
  {
   "cell_type": "code",
   "execution_count": null,
   "metadata": {
    "collapsed": false
   },
   "outputs": [],
   "source": [
    "time = time.strftime(\"%B,%d %Y\")"
   ]
  },
  {
   "cell_type": "code",
   "execution_count": null,
   "metadata": {
    "collapsed": false
   },
   "outputs": [],
   "source": [
    "time"
   ]
  },
  {
   "cell_type": "code",
   "execution_count": null,
   "metadata": {
    "collapsed": false
   },
   "outputs": [],
   "source": [
    "type(time)"
   ]
  },
  {
   "cell_type": "code",
   "execution_count": null,
   "metadata": {
    "collapsed": false
   },
   "outputs": [],
   "source": [
    "#requests.post(\n",
    "#        \"https://api.mailgun.net/v3/sandbox9fe7853d8f49467cb3233031623028cc.mailgun.org/messages\",\n",
    "#        auth=(\"api\", \"\"),\n",
    "#        data={\"from\": \"Mailgun Sandbox <postmaster@sandbox9fe7853d8f49467cb3233031623028cc.mailgun.org>\",\n",
    "#              \"to\": \"mercy benzaquen <mercybenzaquen@gmail.com>\",\n",
    "#              \"subject\": \"8AM Weather forecast:\" + time,\n",
    "#              \"text\": mail_text })\n"
   ]
  },
  {
   "cell_type": "code",
   "execution_count": null,
   "metadata": {
    "collapsed": true
   },
   "outputs": [],
   "source": []
  }
 ],
 "metadata": {
  "kernelspec": {
   "display_name": "Python 3",
   "language": "python",
   "name": "python3"
  },
  "language_info": {
   "codemirror_mode": {
    "name": "ipython",
    "version": 3
   },
   "file_extension": ".py",
   "mimetype": "text/x-python",
   "name": "python",
   "nbconvert_exporter": "python",
   "pygments_lexer": "ipython3",
   "version": "3.5.1"
  }
 },
 "nbformat": 4,
 "nbformat_minor": 0
}
