{
 "cells": [
  {
   "cell_type": "markdown",
   "metadata": {},
   "source": [
    "# Homework 6: Web Applications\n",
    "\n",
    "For this homework, you're going to write a web API for the lake data in the MONDIAL database. (Make sure you've imported the data as originally outlined in [our week 1 tutorial](https://github.com/ledeprogram/data-and-databases/blob/master/SQL_notes.md).)\n",
    "\n",
    "The API should perform the following tasks:\n",
    "\n",
    "* A request to `/lakes` should return a JSON list of dictionaries, with the information from the `name`, `elevation`, `area` and `type` fields from the `lake` table in MONDIAL.\n",
    "* The API should recognize the query string parameter `sort`. When left blank or set to `name`, the results should be sorted by the name of the lake (in alphabetical order). When set to `area` or `elevation`, the results should be sorted by the requested field, in *descending* order.\n",
    "* The API should recognize the query string parameter `type`. When specified, the results should *only* include rows that have the specified value in the `type` field.\n",
    "* You should be able to use *both* the `sort` and `type` parameters in any request.\n",
    "\n",
    "This notebook contains only *test requests to your API*. Write the API as a standalone Python program, start the program and then run the code in the cells below to ensure that your API produces the expected output. When you're done, paste the source code in the final cell (so we can check your work, if needed).\n",
    "\n",
    "Hints when writing your API code:\n",
    "\n",
    "* You'll need to construct the SQL query as a string, piece by piece. This will likely involve a somewhat messy tangle of `if` statements. Lean into the messy tangle.\n",
    "* Make sure to use parameter placeholders (%s) in the query.\n",
    "* If you're getting SQL errors, print out your SQL statement in the request handler function so you can debug it. (When you use `print()` in Flask, the results will display in your terminal window.)\n",
    "* When in doubt, return to the test code. Examine it carefully and make sure you know exactly what it's trying to do.\n",
    "\n",
    "## Problem set #1: A list of lakes\n",
    "\n",
    "Your API should return a JSON list of dictionaries (objects). Use the code below to determine what the keys of the dictionaries should be. (For brevity, this example only prints out the first ten records, but of course your API should return all of them.)\n",
    "\n",
    "Expected output:\n",
    "\n",
    "    143 lakes\n",
    "    Ammersee - elevation: 533 m / area: 46 km^2 / type: None\n",
    "    Arresoe - elevation: None m / area: 40 km^2 / type: None\n",
    "    Atlin Lake - elevation: 668 m / area: 798 km^2 / type: None\n",
    "    Balaton - elevation: 104 m / area: 594 km^2 / type: None\n",
    "    Barrage de Mbakaou - elevation: None m / area: None km^2 / type: dam\n",
    "    Bodensee - elevation: 395 m / area: 538 km^2 / type: None\n",
    "    Brienzersee - elevation: 564 m / area: 29 km^2 / type: None\n",
    "    Caspian Sea - elevation: -28 m / area: 386400 km^2 / type: salt\n",
    "    Chad Lake - elevation: 250 m / area: 23000 km^2 / type: salt\n",
    "    Chew Bahir - elevation: 520 m / area: 800 km^2 / type: salt"
   ]
  },
  {
   "cell_type": "code",
   "execution_count": 145,
   "metadata": {
    "collapsed": false
   },
   "outputs": [
    {
     "name": "stdout",
     "output_type": "stream",
     "text": [
      "143 lakes\n",
      "Ammersee - elevation: 533 m / area: 46 km^2 / type: None\n",
      "Arresoe - elevation: None m / area: 40 km^2 / type: None\n",
      "Atlin Lake - elevation: 668 m / area: 798 km^2 / type: None\n",
      "Balaton - elevation: 104 m / area: 594 km^2 / type: None\n",
      "Barrage de Mbakaou - elevation: None m / area: None km^2 / type: dam\n",
      "Bodensee - elevation: 395 m / area: 538 km^2 / type: None\n",
      "Brienzersee - elevation: 564 m / area: 29 km^2 / type: None\n",
      "Caspian Sea - elevation: -28 m / area: 386400 km^2 / type: salt\n",
      "Chad Lake - elevation: 250 m / area: 23000 km^2 / type: salt\n",
      "Chew Bahir - elevation: 520 m / area: 800 km^2 / type: salt\n"
     ]
    }
   ],
   "source": [
    "import requests\n",
    "data = requests.get('http://localhost:5000/lakes').json()\n",
    "print(len(data), \"lakes\")\n",
    "for item in data[:10]:\n",
    "    print(item['name'], \"- elevation:\", item['elevation'], \"m / area:\", item['area'], \"km^2 / type:\", item['type'])"
   ]
  },
  {
   "cell_type": "markdown",
   "metadata": {},
   "source": [
    "## Problem set #2: Lakes of a certain type\n",
    "\n",
    "The following code fetches all lakes of type `salt` and finds their average area and elevation.\n",
    "\n",
    "Expected output:\n",
    "\n",
    "    average area: 18880\n",
    "    average elevation: 970"
   ]
  },
  {
   "cell_type": "code",
   "execution_count": 146,
   "metadata": {
    "collapsed": false
   },
   "outputs": [
    {
     "name": "stdout",
     "output_type": "stream",
     "text": [
      "average area: 18880\n",
      "average elevation: 970\n"
     ]
    }
   ],
   "source": [
    "import requests\n",
    "data = requests.get('http://localhost:5000/lakes?type=salt').json()\n",
    "avg_area = sum([x['area'] for x in data if x['area'] is not None]) / len(data)\n",
    "avg_elev = sum([x['elevation'] for x in data if x['elevation'] is not None]) / len(data)\n",
    "print(\"average area:\", int(avg_area))\n",
    "print(\"average elevation:\", int(avg_elev))"
   ]
  },
  {
   "cell_type": "markdown",
   "metadata": {},
   "source": [
    "## Problem set #3: Lakes in order\n",
    "\n",
    "The following code fetches lakes in reverse order by their elevation and prints out the name of the first fifteen, excluding lakes with an empty elevation field.\n",
    "\n",
    "Expected output:\n",
    "\n",
    "    * Licancabur Crater Lake\n",
    "    * Nam Co\n",
    "    * Lago Junin\n",
    "    * Lake Titicaca\n",
    "    * Poopo\n",
    "    * Salar de Uyuni\n",
    "    * Koli Sarez\n",
    "    * Lake Irazu\n",
    "    * Qinghai Lake\n",
    "    * Segara Anak\n",
    "    * Lake Tahoe\n",
    "    * Crater Lake\n",
    "    * Lake Tana\n",
    "    * Lake Van\n",
    "    * Issyk-Kul"
   ]
  },
  {
   "cell_type": "code",
   "execution_count": 147,
   "metadata": {
    "collapsed": false
   },
   "outputs": [
    {
     "name": "stdout",
     "output_type": "stream",
     "text": [
      "* Licancabur Crater Lake\n",
      "* Nam Co\n",
      "* Lago Junin\n",
      "* Lake Titicaca\n",
      "* Poopo\n",
      "* Salar de Uyuni\n",
      "* Koli Sarez\n",
      "* Lake Irazu\n",
      "* Qinghai Lake\n",
      "* Segara Anak\n",
      "* Lake Tahoe\n",
      "* Crater Lake\n",
      "* Lake Tana\n",
      "* Lake Van\n",
      "* Issyk-Kul\n"
     ]
    }
   ],
   "source": [
    "import requests\n",
    "data = requests.get('http://localhost:5000/lakes?sort=elevation').json()\n",
    "for item in [x['name'] for x in data if x['elevation'] is not None][:15]:\n",
    "    print(\"*\", item)"
   ]
  },
  {
   "cell_type": "markdown",
   "metadata": {},
   "source": [
    "## Problem set #4: Order and type\n",
    "\n",
    "The following code prints the names of the largest caldera lakes, ordered in reverse order by area.\n",
    "\n",
    "Expected output:\n",
    "\n",
    "    * Lake Nyos\n",
    "    * Lake Toba\n",
    "    * Lago Trasimeno\n",
    "    * Lago di Bolsena\n",
    "    * Lago di Bracciano\n",
    "    * Crater Lake\n",
    "    * Segara Anak\n",
    "    * Laacher Maar"
   ]
  },
  {
   "cell_type": "code",
   "execution_count": 148,
   "metadata": {
    "collapsed": false
   },
   "outputs": [
    {
     "name": "stdout",
     "output_type": "stream",
     "text": [
      "* Lake Nyos\n",
      "* Lake Toba\n",
      "* Lago Trasimeno\n",
      "* Lago di Bolsena\n",
      "* Lago di Bracciano\n",
      "* Crater Lake\n",
      "* Segara Anak\n",
      "* Laacher Maar\n"
     ]
    }
   ],
   "source": [
    "import requests\n",
    "data = requests.get('http://localhost:5000/lakes?sort=area&type=caldera').json()\n",
    "for item in data:\n",
    "    print(\"*\", item['name'])"
   ]
  },
  {
   "cell_type": "markdown",
   "metadata": {},
   "source": [
    "## Problem set #5: Error handling\n",
    "\n",
    "Your API should work fine even when faced with potential error-causing inputs. For example, the expected output for this statement is an empty list (`[]`), *not* every row in the table."
   ]
  },
  {
   "cell_type": "code",
   "execution_count": 149,
   "metadata": {
    "collapsed": false
   },
   "outputs": [
    {
     "data": {
      "text/plain": [
       "[]"
      ]
     },
     "execution_count": 149,
     "metadata": {},
     "output_type": "execute_result"
    }
   ],
   "source": [
    "import requests\n",
    "data = requests.get('http://localhost:5000/lakes', params={'type': \"' OR true; --\"}).json()\n",
    "data"
   ]
  },
  {
   "cell_type": "markdown",
   "metadata": {},
   "source": [
    "Specifying a field other than `name`, `area` or `elevation` for the `sort` parameter should fail silently, defaulting to sorting alphabetically. Expected output: `['Ammersee', 'Arresoe', 'Atlin Lake', 'Balaton', 'Barrage de Mbakaou']\n",
    "`"
   ]
  },
  {
   "cell_type": "code",
   "execution_count": 150,
   "metadata": {
    "collapsed": false
   },
   "outputs": [
    {
     "data": {
      "text/plain": [
       "['Ammersee', 'Arresoe', 'Atlin Lake', 'Balaton', 'Barrage de Mbakaou']"
      ]
     },
     "execution_count": 150,
     "metadata": {},
     "output_type": "execute_result"
    }
   ],
   "source": [
    "import requests\n",
    "data = requests.get('http://localhost:5000/lakes', params={'sort': \"florb\"}).json()\n",
    "[x['name'] for x in data[:5]]"
   ]
  },
  {
   "cell_type": "markdown",
   "metadata": {},
   "source": [
    "## Paste your code\n",
    "\n",
    "Please paste the code for your entire Flask application in the cell below, in case we want to take a look when grading or debugging your assignment."
   ]
  },
  {
   "cell_type": "code",
   "execution_count": 151,
   "metadata": {
    "collapsed": false
   },
   "outputs": [
    {
     "ename": "OSError",
     "evalue": "[Errno 48] Address already in use",
     "output_type": "error",
     "traceback": [
      "\u001b[0;31m---------------------------------------------------------------------------\u001b[0m",
      "\u001b[0;31mOSError\u001b[0m                                   Traceback (most recent call last)",
      "\u001b[0;32m<ipython-input-151-ebd5304f0b24>\u001b[0m in \u001b[0;36m<module>\u001b[0;34m()\u001b[0m\n\u001b[1;32m     44\u001b[0m     \u001b[0;32mreturn\u001b[0m \u001b[0mjsonify\u001b[0m\u001b[0;34m(\u001b[0m\u001b[0meverything_dict\u001b[0m\u001b[0;34m)\u001b[0m\u001b[0;34m\u001b[0m\u001b[0m\n\u001b[1;32m     45\u001b[0m \u001b[0;34m\u001b[0m\u001b[0m\n\u001b[0;32m---> 46\u001b[0;31m \u001b[0mapp\u001b[0m\u001b[0;34m.\u001b[0m\u001b[0mrun\u001b[0m\u001b[0;34m(\u001b[0m\u001b[0mdebug\u001b[0m\u001b[0;34m=\u001b[0m\u001b[0;32mTrue\u001b[0m\u001b[0;34m)\u001b[0m\u001b[0;34m\u001b[0m\u001b[0m\n\u001b[0m",
      "\u001b[0;32m/Users/mercybenzaquen/.virtualenvs/Homework6db/lib/python3.5/site-packages/flask/app.py\u001b[0m in \u001b[0;36mrun\u001b[0;34m(self, host, port, debug, **options)\u001b[0m\n\u001b[1;32m    841\u001b[0m         \u001b[0moptions\u001b[0m\u001b[0;34m.\u001b[0m\u001b[0msetdefault\u001b[0m\u001b[0;34m(\u001b[0m\u001b[0;34m'passthrough_errors'\u001b[0m\u001b[0;34m,\u001b[0m \u001b[0;32mTrue\u001b[0m\u001b[0;34m)\u001b[0m\u001b[0;34m\u001b[0m\u001b[0m\n\u001b[1;32m    842\u001b[0m         \u001b[0;32mtry\u001b[0m\u001b[0;34m:\u001b[0m\u001b[0;34m\u001b[0m\u001b[0m\n\u001b[0;32m--> 843\u001b[0;31m             \u001b[0mrun_simple\u001b[0m\u001b[0;34m(\u001b[0m\u001b[0mhost\u001b[0m\u001b[0;34m,\u001b[0m \u001b[0mport\u001b[0m\u001b[0;34m,\u001b[0m \u001b[0mself\u001b[0m\u001b[0;34m,\u001b[0m \u001b[0;34m**\u001b[0m\u001b[0moptions\u001b[0m\u001b[0;34m)\u001b[0m\u001b[0;34m\u001b[0m\u001b[0m\n\u001b[0m\u001b[1;32m    844\u001b[0m         \u001b[0;32mfinally\u001b[0m\u001b[0;34m:\u001b[0m\u001b[0;34m\u001b[0m\u001b[0m\n\u001b[1;32m    845\u001b[0m             \u001b[0;31m# reset the first request information if the development server\u001b[0m\u001b[0;34m\u001b[0m\u001b[0;34m\u001b[0m\u001b[0m\n",
      "\u001b[0;32m/Users/mercybenzaquen/.virtualenvs/Homework6db/lib/python3.5/site-packages/werkzeug/serving.py\u001b[0m in \u001b[0;36mrun_simple\u001b[0;34m(hostname, port, application, use_reloader, use_debugger, use_evalex, extra_files, reloader_interval, reloader_type, threaded, processes, request_handler, static_files, passthrough_errors, ssl_context)\u001b[0m\n\u001b[1;32m    675\u001b[0m             \u001b[0ms\u001b[0m \u001b[0;34m=\u001b[0m \u001b[0msocket\u001b[0m\u001b[0;34m.\u001b[0m\u001b[0msocket\u001b[0m\u001b[0;34m(\u001b[0m\u001b[0maddress_family\u001b[0m\u001b[0;34m,\u001b[0m \u001b[0msocket\u001b[0m\u001b[0;34m.\u001b[0m\u001b[0mSOCK_STREAM\u001b[0m\u001b[0;34m)\u001b[0m\u001b[0;34m\u001b[0m\u001b[0m\n\u001b[1;32m    676\u001b[0m             \u001b[0ms\u001b[0m\u001b[0;34m.\u001b[0m\u001b[0msetsockopt\u001b[0m\u001b[0;34m(\u001b[0m\u001b[0msocket\u001b[0m\u001b[0;34m.\u001b[0m\u001b[0mSOL_SOCKET\u001b[0m\u001b[0;34m,\u001b[0m \u001b[0msocket\u001b[0m\u001b[0;34m.\u001b[0m\u001b[0mSO_REUSEADDR\u001b[0m\u001b[0;34m,\u001b[0m \u001b[0;36m1\u001b[0m\u001b[0;34m)\u001b[0m\u001b[0;34m\u001b[0m\u001b[0m\n\u001b[0;32m--> 677\u001b[0;31m             \u001b[0ms\u001b[0m\u001b[0;34m.\u001b[0m\u001b[0mbind\u001b[0m\u001b[0;34m(\u001b[0m\u001b[0;34m(\u001b[0m\u001b[0mhostname\u001b[0m\u001b[0;34m,\u001b[0m \u001b[0mport\u001b[0m\u001b[0;34m)\u001b[0m\u001b[0;34m)\u001b[0m\u001b[0;34m\u001b[0m\u001b[0m\n\u001b[0m\u001b[1;32m    678\u001b[0m             \u001b[0;32mif\u001b[0m \u001b[0mhasattr\u001b[0m\u001b[0;34m(\u001b[0m\u001b[0ms\u001b[0m\u001b[0;34m,\u001b[0m \u001b[0;34m'set_inheritable'\u001b[0m\u001b[0;34m)\u001b[0m\u001b[0;34m:\u001b[0m\u001b[0;34m\u001b[0m\u001b[0m\n\u001b[1;32m    679\u001b[0m                 \u001b[0ms\u001b[0m\u001b[0;34m.\u001b[0m\u001b[0mset_inheritable\u001b[0m\u001b[0;34m(\u001b[0m\u001b[0;32mTrue\u001b[0m\u001b[0;34m)\u001b[0m\u001b[0;34m\u001b[0m\u001b[0m\n",
      "\u001b[0;31mOSError\u001b[0m: [Errno 48] Address already in use"
     ]
    }
   ],
   "source": [
    "\n",
    "from flask import Flask, request, jsonify\n",
    "import pg8000\n",
    "import decimal\n",
    "\n",
    "app= Flask(__name__)\n",
    "\n",
    "\n",
    "@app.route(\"/lakes\")\n",
    "def get_lakes():\n",
    "    conn= pg8000.connect(database=\"mondial\", user=\"mercybenzaquen\")\n",
    "    cursor= conn.cursor()\n",
    "    type_lakes = request.args.get('type', '')\n",
    "    sort_lakes= request.args.get('sort', '')\n",
    "\n",
    "\n",
    "    if (type_lakes != '') and (sort_lakes != '') and (sort_lakes != 'name'):\n",
    "        cursor.execute(\"select name, elevation, area, type from lake where type = %s order by \" + sort_lakes + \" DESC\", [type_lakes])\n",
    "\n",
    "    elif type_lakes != '':\n",
    "        cursor.execute(\"select name, elevation, area, type from lake where type = %s order by name\", [type_lakes])\n",
    "\n",
    "    elif sort_lakes not in ['name', 'elevation', 'area']:\n",
    "        cursor.execute(\"select name, elevation, area, type from lake order by name\" )\n",
    "\n",
    "    elif sort_lakes != '':\n",
    "        cursor.execute(\"select name, elevation, area, type from lake order by \" + sort_lakes + \" DESC\")\n",
    "\n",
    "    else:\n",
    "        cursor.execute(\"select name, elevation, area, type from lake order by name\")\n",
    "\n",
    "\n",
    "\n",
    "\n",
    "    def decimal_to_int(x):\n",
    "        if isinstance(x, decimal.Decimal):\n",
    "            return int(x)\n",
    "        else:\n",
    "            return None\n",
    "\n",
    "    everything_dict = []\n",
    "    for item in cursor.fetchall():\n",
    "        everything_dict.append({'name': item[0], 'elevation': decimal_to_int(item[1]), 'area': decimal_to_int(item[2]), 'type': item[3]})\n",
    "    return jsonify(everything_dict)\n",
    "\n",
    "app.run(debug=True)\n"
   ]
  },
  {
   "cell_type": "code",
   "execution_count": null,
   "metadata": {
    "collapsed": true
   },
   "outputs": [],
   "source": []
  }
 ],
 "metadata": {
  "kernelspec": {
   "display_name": "Python 3",
   "language": "python",
   "name": "python3"
  },
  "language_info": {
   "codemirror_mode": {
    "name": "ipython",
    "version": 3
   },
   "file_extension": ".py",
   "mimetype": "text/x-python",
   "name": "python",
   "nbconvert_exporter": "python",
   "pygments_lexer": "ipython3",
   "version": "3.5.1"
  }
 },
 "nbformat": 4,
 "nbformat_minor": 0
}
